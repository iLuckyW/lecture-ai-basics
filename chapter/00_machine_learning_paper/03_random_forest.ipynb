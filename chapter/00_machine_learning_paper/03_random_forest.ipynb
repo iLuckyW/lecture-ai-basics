{
 "cells": [
  {
   "cell_type": "markdown",
   "id": "9e35da76",
   "metadata": {},
   "source": [
    "Data Preparation:\n",
    "- Datentypen konvertieren\n",
    "- Duplikate prüfen"
   ]
  },
  {
   "cell_type": "code",
   "execution_count": 1,
   "id": "3a350de7",
   "metadata": {},
   "outputs": [
    {
     "data": {
      "application/vnd.microsoft.datawrangler.viewer.v0+json": {
       "columns": [
        {
         "name": "index",
         "rawType": "int64",
         "type": "integer"
        },
        {
         "name": "patient_id",
         "rawType": "int64",
         "type": "integer"
        },
        {
         "name": "age",
         "rawType": "int64",
         "type": "integer"
        },
        {
         "name": "gender",
         "rawType": "category",
         "type": "unknown"
        },
        {
         "name": "pack_years",
         "rawType": "float64",
         "type": "float"
        },
        {
         "name": "radon_exposure",
         "rawType": "category",
         "type": "unknown"
        },
        {
         "name": "asbestos_exposure",
         "rawType": "bool",
         "type": "boolean"
        },
        {
         "name": "secondhand_smoke_exposure",
         "rawType": "bool",
         "type": "boolean"
        },
        {
         "name": "copd_diagnosis",
         "rawType": "bool",
         "type": "boolean"
        },
        {
         "name": "alcohol_consumption",
         "rawType": "category",
         "type": "unknown"
        },
        {
         "name": "family_history",
         "rawType": "bool",
         "type": "boolean"
        },
        {
         "name": "lung_cancer",
         "rawType": "bool",
         "type": "boolean"
        }
       ],
       "ref": "98dfc3a8-653f-41b7-92bd-34a32a1a756f",
       "rows": [
        [
         "0",
         "100000",
         "69",
         "Male",
         "66.02524418183087",
         "High",
         "False",
         "False",
         "True",
         "Moderate",
         "False",
         "False"
        ],
        [
         "1",
         "100001",
         "32",
         "Female",
         "12.78080001832259",
         "High",
         "False",
         "True",
         "True",
         "Moderate",
         "True",
         "True"
        ],
        [
         "2",
         "100002",
         "89",
         "Female",
         "0.4082780991943702",
         "Medium",
         "True",
         "True",
         "True",
         "None",
         "False",
         "True"
        ],
        [
         "3",
         "100003",
         "78",
         "Female",
         "44.06523180717622",
         "Low",
         "False",
         "True",
         "False",
         "Moderate",
         "False",
         "True"
        ],
        [
         "4",
         "100004",
         "38",
         "Female",
         "44.43244048453104",
         "Medium",
         "True",
         "False",
         "True",
         "None",
         "True",
         "True"
        ]
       ],
       "shape": {
        "columns": 11,
        "rows": 5
       }
      },
      "text/html": [
       "<div>\n",
       "<style scoped>\n",
       "    .dataframe tbody tr th:only-of-type {\n",
       "        vertical-align: middle;\n",
       "    }\n",
       "\n",
       "    .dataframe tbody tr th {\n",
       "        vertical-align: top;\n",
       "    }\n",
       "\n",
       "    .dataframe thead th {\n",
       "        text-align: right;\n",
       "    }\n",
       "</style>\n",
       "<table border=\"1\" class=\"dataframe\">\n",
       "  <thead>\n",
       "    <tr style=\"text-align: right;\">\n",
       "      <th></th>\n",
       "      <th>patient_id</th>\n",
       "      <th>age</th>\n",
       "      <th>gender</th>\n",
       "      <th>pack_years</th>\n",
       "      <th>radon_exposure</th>\n",
       "      <th>asbestos_exposure</th>\n",
       "      <th>secondhand_smoke_exposure</th>\n",
       "      <th>copd_diagnosis</th>\n",
       "      <th>alcohol_consumption</th>\n",
       "      <th>family_history</th>\n",
       "      <th>lung_cancer</th>\n",
       "    </tr>\n",
       "  </thead>\n",
       "  <tbody>\n",
       "    <tr>\n",
       "      <th>0</th>\n",
       "      <td>100000</td>\n",
       "      <td>69</td>\n",
       "      <td>Male</td>\n",
       "      <td>66.025244</td>\n",
       "      <td>High</td>\n",
       "      <td>False</td>\n",
       "      <td>False</td>\n",
       "      <td>True</td>\n",
       "      <td>Moderate</td>\n",
       "      <td>False</td>\n",
       "      <td>False</td>\n",
       "    </tr>\n",
       "    <tr>\n",
       "      <th>1</th>\n",
       "      <td>100001</td>\n",
       "      <td>32</td>\n",
       "      <td>Female</td>\n",
       "      <td>12.780800</td>\n",
       "      <td>High</td>\n",
       "      <td>False</td>\n",
       "      <td>True</td>\n",
       "      <td>True</td>\n",
       "      <td>Moderate</td>\n",
       "      <td>True</td>\n",
       "      <td>True</td>\n",
       "    </tr>\n",
       "    <tr>\n",
       "      <th>2</th>\n",
       "      <td>100002</td>\n",
       "      <td>89</td>\n",
       "      <td>Female</td>\n",
       "      <td>0.408278</td>\n",
       "      <td>Medium</td>\n",
       "      <td>True</td>\n",
       "      <td>True</td>\n",
       "      <td>True</td>\n",
       "      <td>None</td>\n",
       "      <td>False</td>\n",
       "      <td>True</td>\n",
       "    </tr>\n",
       "    <tr>\n",
       "      <th>3</th>\n",
       "      <td>100003</td>\n",
       "      <td>78</td>\n",
       "      <td>Female</td>\n",
       "      <td>44.065232</td>\n",
       "      <td>Low</td>\n",
       "      <td>False</td>\n",
       "      <td>True</td>\n",
       "      <td>False</td>\n",
       "      <td>Moderate</td>\n",
       "      <td>False</td>\n",
       "      <td>True</td>\n",
       "    </tr>\n",
       "    <tr>\n",
       "      <th>4</th>\n",
       "      <td>100004</td>\n",
       "      <td>38</td>\n",
       "      <td>Female</td>\n",
       "      <td>44.432440</td>\n",
       "      <td>Medium</td>\n",
       "      <td>True</td>\n",
       "      <td>False</td>\n",
       "      <td>True</td>\n",
       "      <td>None</td>\n",
       "      <td>True</td>\n",
       "      <td>True</td>\n",
       "    </tr>\n",
       "  </tbody>\n",
       "</table>\n",
       "</div>"
      ],
      "text/plain": [
       "   patient_id  age  gender  pack_years radon_exposure  asbestos_exposure  \\\n",
       "0      100000   69    Male   66.025244           High              False   \n",
       "1      100001   32  Female   12.780800           High              False   \n",
       "2      100002   89  Female    0.408278         Medium               True   \n",
       "3      100003   78  Female   44.065232            Low              False   \n",
       "4      100004   38  Female   44.432440         Medium               True   \n",
       "\n",
       "   secondhand_smoke_exposure  copd_diagnosis alcohol_consumption  \\\n",
       "0                      False            True            Moderate   \n",
       "1                       True            True            Moderate   \n",
       "2                       True            True                None   \n",
       "3                       True           False            Moderate   \n",
       "4                      False            True                None   \n",
       "\n",
       "   family_history  lung_cancer  \n",
       "0           False        False  \n",
       "1            True         True  \n",
       "2           False         True  \n",
       "3           False         True  \n",
       "4            True         True  "
      ]
     },
     "execution_count": 1,
     "metadata": {},
     "output_type": "execute_result"
    }
   ],
   "source": [
    "import pandas as pd\n",
    "\n",
    "dataset = pd.read_csv(\"lung_cancer_dataset.csv\")\n",
    "\n",
    "# Convert text to categorical data\n",
    "dataset['gender'] = dataset['gender'].astype('category')\n",
    "dataset['radon_exposure'] = dataset['radon_exposure'].astype('category')\n",
    "dataset['alcohol_consumption'] = dataset['alcohol_consumption'].fillna('None').astype('category')\n",
    "\n",
    "dataset['asbestos_exposure'] = dataset['asbestos_exposure'].map({'Yes': True, 'No': False})\n",
    "dataset['secondhand_smoke_exposure'] = dataset['secondhand_smoke_exposure'].map({'Yes': True, 'No': False})\n",
    "dataset['copd_diagnosis'] = dataset['copd_diagnosis'].map({'Yes': True, 'No': False})\n",
    "dataset['family_history'] = dataset['family_history'].map({'Yes': True, 'No': False})\n",
    "dataset['lung_cancer'] = dataset['lung_cancer'].map({'Yes': True, 'No': False})\n",
    "\n",
    "# no duplicate rows\n",
    "dataset.duplicated().sum()\n",
    "\n",
    "# show data\n",
    "dataset.head()"
   ]
  },
  {
   "cell_type": "markdown",
   "id": "343c616d",
   "metadata": {},
   "source": [
    "Test und Trainingsdatensatz erstellen"
   ]
  },
  {
   "cell_type": "code",
   "execution_count": 2,
   "id": "ab20af47",
   "metadata": {},
   "outputs": [],
   "source": [
    "from sklearn.model_selection import train_test_split\n",
    "\n",
    "# get the data and target from the data frame \n",
    "data = dataset.loc[:, 'age':'family_history']\n",
    "target = dataset['lung_cancer']\n",
    "\n",
    "train_data, test_data, train_label, test_label = train_test_split(data, target, test_size=0.3, random_state=0)\n"
   ]
  },
  {
   "cell_type": "markdown",
   "id": "adcc7d5d",
   "metadata": {},
   "source": [
    "Preparation Pipeline mit Standardisierung und One-Hot Encoding"
   ]
  },
  {
   "cell_type": "code",
   "execution_count": 3,
   "id": "b307d6f5",
   "metadata": {},
   "outputs": [
    {
     "data": {
      "application/vnd.microsoft.datawrangler.viewer.v0+json": {
       "columns": [
        {
         "name": "index",
         "rawType": "int64",
         "type": "integer"
        },
        {
         "name": "age",
         "rawType": "object",
         "type": "unknown"
        },
        {
         "name": "pack_years",
         "rawType": "object",
         "type": "unknown"
        },
        {
         "name": "asbestos_exposure",
         "rawType": "object",
         "type": "unknown"
        },
        {
         "name": "secondhand_smoke_exposure",
         "rawType": "object",
         "type": "unknown"
        },
        {
         "name": "copd_diagnosis",
         "rawType": "object",
         "type": "unknown"
        },
        {
         "name": "family_history",
         "rawType": "object",
         "type": "unknown"
        },
        {
         "name": "gender_Male",
         "rawType": "object",
         "type": "unknown"
        },
        {
         "name": "radon_exposure_Low",
         "rawType": "object",
         "type": "unknown"
        },
        {
         "name": "radon_exposure_Medium",
         "rawType": "object",
         "type": "unknown"
        },
        {
         "name": "alcohol_consumption_Moderate",
         "rawType": "object",
         "type": "unknown"
        },
        {
         "name": "alcohol_consumption_None",
         "rawType": "object",
         "type": "unknown"
        }
       ],
       "ref": "3c3274e3-57f0-4a97-b9bf-47c4ccc53663",
       "rows": [
        [
         "0",
         "83",
         "55.808493519992005",
         "True",
         "False",
         "False",
         "False",
         "0.0",
         "0.0",
         "1.0",
         "0.0",
         "0.0"
        ],
        [
         "1",
         "23",
         "57.37959769596961",
         "True",
         "True",
         "True",
         "False",
         "0.0",
         "1.0",
         "0.0",
         "0.0",
         "0.0"
        ],
        [
         "2",
         "18",
         "75.95474083951754",
         "False",
         "False",
         "True",
         "True",
         "0.0",
         "1.0",
         "0.0",
         "0.0",
         "1.0"
        ],
        [
         "3",
         "99",
         "7.654622464937488",
         "True",
         "False",
         "False",
         "False",
         "1.0",
         "1.0",
         "0.0",
         "1.0",
         "0.0"
        ],
        [
         "4",
         "47",
         "99.69738596402676",
         "True",
         "False",
         "False",
         "True",
         "1.0",
         "0.0",
         "0.0",
         "1.0",
         "0.0"
        ]
       ],
       "shape": {
        "columns": 11,
        "rows": 5
       }
      },
      "text/html": [
       "<div>\n",
       "<style scoped>\n",
       "    .dataframe tbody tr th:only-of-type {\n",
       "        vertical-align: middle;\n",
       "    }\n",
       "\n",
       "    .dataframe tbody tr th {\n",
       "        vertical-align: top;\n",
       "    }\n",
       "\n",
       "    .dataframe thead th {\n",
       "        text-align: right;\n",
       "    }\n",
       "</style>\n",
       "<table border=\"1\" class=\"dataframe\">\n",
       "  <thead>\n",
       "    <tr style=\"text-align: right;\">\n",
       "      <th></th>\n",
       "      <th>age</th>\n",
       "      <th>pack_years</th>\n",
       "      <th>asbestos_exposure</th>\n",
       "      <th>secondhand_smoke_exposure</th>\n",
       "      <th>copd_diagnosis</th>\n",
       "      <th>family_history</th>\n",
       "      <th>gender_Male</th>\n",
       "      <th>radon_exposure_Low</th>\n",
       "      <th>radon_exposure_Medium</th>\n",
       "      <th>alcohol_consumption_Moderate</th>\n",
       "      <th>alcohol_consumption_None</th>\n",
       "    </tr>\n",
       "  </thead>\n",
       "  <tbody>\n",
       "    <tr>\n",
       "      <th>0</th>\n",
       "      <td>83</td>\n",
       "      <td>55.808494</td>\n",
       "      <td>True</td>\n",
       "      <td>False</td>\n",
       "      <td>False</td>\n",
       "      <td>False</td>\n",
       "      <td>0.0</td>\n",
       "      <td>0.0</td>\n",
       "      <td>1.0</td>\n",
       "      <td>0.0</td>\n",
       "      <td>0.0</td>\n",
       "    </tr>\n",
       "    <tr>\n",
       "      <th>1</th>\n",
       "      <td>23</td>\n",
       "      <td>57.379598</td>\n",
       "      <td>True</td>\n",
       "      <td>True</td>\n",
       "      <td>True</td>\n",
       "      <td>False</td>\n",
       "      <td>0.0</td>\n",
       "      <td>1.0</td>\n",
       "      <td>0.0</td>\n",
       "      <td>0.0</td>\n",
       "      <td>0.0</td>\n",
       "    </tr>\n",
       "    <tr>\n",
       "      <th>2</th>\n",
       "      <td>18</td>\n",
       "      <td>75.954741</td>\n",
       "      <td>False</td>\n",
       "      <td>False</td>\n",
       "      <td>True</td>\n",
       "      <td>True</td>\n",
       "      <td>0.0</td>\n",
       "      <td>1.0</td>\n",
       "      <td>0.0</td>\n",
       "      <td>0.0</td>\n",
       "      <td>1.0</td>\n",
       "    </tr>\n",
       "    <tr>\n",
       "      <th>3</th>\n",
       "      <td>99</td>\n",
       "      <td>7.654622</td>\n",
       "      <td>True</td>\n",
       "      <td>False</td>\n",
       "      <td>False</td>\n",
       "      <td>False</td>\n",
       "      <td>1.0</td>\n",
       "      <td>1.0</td>\n",
       "      <td>0.0</td>\n",
       "      <td>1.0</td>\n",
       "      <td>0.0</td>\n",
       "    </tr>\n",
       "    <tr>\n",
       "      <th>4</th>\n",
       "      <td>47</td>\n",
       "      <td>99.697386</td>\n",
       "      <td>True</td>\n",
       "      <td>False</td>\n",
       "      <td>False</td>\n",
       "      <td>True</td>\n",
       "      <td>1.0</td>\n",
       "      <td>0.0</td>\n",
       "      <td>0.0</td>\n",
       "      <td>1.0</td>\n",
       "      <td>0.0</td>\n",
       "    </tr>\n",
       "  </tbody>\n",
       "</table>\n",
       "</div>"
      ],
      "text/plain": [
       "  age pack_years asbestos_exposure secondhand_smoke_exposure copd_diagnosis  \\\n",
       "0  83  55.808494              True                     False          False   \n",
       "1  23  57.379598              True                      True           True   \n",
       "2  18  75.954741             False                     False           True   \n",
       "3  99   7.654622              True                     False          False   \n",
       "4  47  99.697386              True                     False          False   \n",
       "\n",
       "  family_history gender_Male radon_exposure_Low radon_exposure_Medium  \\\n",
       "0          False         0.0                0.0                   1.0   \n",
       "1          False         0.0                1.0                   0.0   \n",
       "2           True         0.0                1.0                   0.0   \n",
       "3          False         1.0                1.0                   0.0   \n",
       "4           True         1.0                0.0                   0.0   \n",
       "\n",
       "  alcohol_consumption_Moderate alcohol_consumption_None  \n",
       "0                          0.0                      0.0  \n",
       "1                          0.0                      0.0  \n",
       "2                          0.0                      1.0  \n",
       "3                          1.0                      0.0  \n",
       "4                          1.0                      0.0  "
      ]
     },
     "execution_count": 3,
     "metadata": {},
     "output_type": "execute_result"
    }
   ],
   "source": [
    "from sklearn.compose import ColumnTransformer\n",
    "from sklearn.preprocessing import RobustScaler, OneHotEncoder\n",
    "from sklearn.ensemble import RandomForestClassifier\n",
    "from sklearn.model_selection import GridSearchCV\n",
    "from sklearn.pipeline import Pipeline\n",
    "\n",
    "# Spaltennamen nach Typ trennen\n",
    "categorical_cols = data.select_dtypes(include=['category']).columns.tolist()\n",
    "numeric_cols = data.select_dtypes(include=['number', 'bool']).columns.tolist()\n",
    "\n",
    "# Preprocessing-Transformer (numerisch: RobustScaler, kategorisch: OneHotEncoder)\n",
    "preprocessor = ColumnTransformer([\n",
    "    (\"num\", \"passthrough\", numeric_cols), # RobustScaler() hat keine/kaum Auswirkung\n",
    "    (\"cat\", OneHotEncoder(drop='first'), categorical_cols)\n",
    "])\n",
    "\n",
    "X_processed = preprocessor.fit_transform(train_data)\n",
    "\n",
    "# Get feature names from OneHotEncoder\n",
    "cat_feature_names = preprocessor.named_transformers_['cat'].get_feature_names_out(categorical_cols)\n",
    "all_feature_names = numeric_cols + list(cat_feature_names)\n",
    "\n",
    "# Create DataFrame\n",
    "X_processed_df = pd.DataFrame(X_processed, columns=all_feature_names)\n",
    "X_processed_df.head()"
   ]
  },
  {
   "cell_type": "markdown",
   "id": "8d37752e",
   "metadata": {},
   "source": [
    "Modell Initialisierung und Pipeline Definition, Hyperparameter-Tuning (GridSearchCV) und Training"
   ]
  },
  {
   "cell_type": "code",
   "execution_count": 4,
   "id": "5df0f280",
   "metadata": {},
   "outputs": [
    {
     "name": "stdout",
     "output_type": "stream",
     "text": [
      "Pipeline(steps=[('prep',\n",
      "                 ColumnTransformer(transformers=[('num', 'passthrough',\n",
      "                                                  ['age', 'pack_years',\n",
      "                                                   'asbestos_exposure',\n",
      "                                                   'secondhand_smoke_exposure',\n",
      "                                                   'copd_diagnosis',\n",
      "                                                   'family_history']),\n",
      "                                                 ('cat',\n",
      "                                                  OneHotEncoder(drop='first'),\n",
      "                                                  ['gender', 'radon_exposure',\n",
      "                                                   'alcohol_consumption'])])),\n",
      "                ('clf',\n",
      "                 RandomForestClassifier(criterion='entropy', max_depth=6,\n",
      "                                        max_samples=0.75, n_estimators=60,\n",
      "                                        random_state=0))])\n"
     ]
    }
   ],
   "source": [
    "\n",
    "# Pipeline mit Vorverarbeitung und RandomForestClassifier\n",
    "rf_pipeline = Pipeline([\n",
    "    (\"prep\", preprocessor),\n",
    "    (\"clf\", RandomForestClassifier(max_depth=6, max_samples=0.75, random_state=0))\n",
    "])\n",
    " \n",
    "# Parameterbereiche für GridSearchCV\n",
    "param_grid = {\n",
    "    \"clf__n_estimators\": [30, 40, 50, 60, 70, 80],\n",
    "    \"clf__criterion\": [\"gini\", \"entropy\"]\n",
    "}\n",
    " \n",
    "# GridSearchCV mit 5-facher Kreuzvalidierung\n",
    "grid_search = GridSearchCV(rf_pipeline, param_grid, cv=5, n_jobs=-1)\n",
    "grid_search.fit(train_data, train_label)\n",
    " \n",
    "# Beste Pipeline speichern und ausgeben\n",
    "trained_pipeline = grid_search.best_estimator_\n",
    "print(trained_pipeline)"
   ]
  },
  {
   "cell_type": "markdown",
   "id": "c3551950",
   "metadata": {},
   "source": [
    "# Evaluierung des Modells\n",
    "Accruracy"
   ]
  },
  {
   "cell_type": "code",
   "execution_count": 5,
   "id": "4986d2cd",
   "metadata": {},
   "outputs": [
    {
     "name": "stdout",
     "output_type": "stream",
     "text": [
      "Trainings-Accuracy: 0.739\n",
      "Test-Accuracy: 0.742\n"
     ]
    }
   ],
   "source": [
    "train_score = trained_pipeline.score(train_data, train_label)\n",
    "test_score = trained_pipeline.score(test_data, test_label)\n",
    "\n",
    "print(f\"Trainings-Accuracy: {train_score:.3f}\")\n",
    "print(f\"Test-Accuracy: {test_score:.3f}\")"
   ]
  },
  {
   "cell_type": "markdown",
   "id": "ecd93a56",
   "metadata": {},
   "source": [
    "Visualisierung mittels Confusion Matrix"
   ]
  },
  {
   "cell_type": "code",
   "execution_count": 6,
   "id": "de1f6dc8",
   "metadata": {},
   "outputs": [
    {
     "data": {
      "image/png": "[encoded data removed]",
      "text/plain": [
       "<Figure size 600x500 with 1 Axes>"
      ]
     },
     "metadata": {},
     "output_type": "display_data"
    }
   ],
   "source": [
    "from sklearn.metrics import confusion_matrix\n",
    "import matplotlib.pyplot as plt\n",
    "import seaborn as sns\n",
    "\n",
    "cm = confusion_matrix(test_label, trained_pipeline.predict(test_data))\n",
    "\n",
    "plt.figure(figsize=(6, 5))\n",
    "sns.heatmap(cm, annot=True, fmt='d', cmap='Blues',\n",
    "            xticklabels=['Pred: No Cancer', 'Pred: Cancer'],\n",
    "            yticklabels=['True: No Cancer', 'True: Cancer'],\n",
    "            cbar=False,  # remove colorbar for cleaner look\n",
    "            annot_kws={\"size\": 13, \"weight\": \"bold\"})  # makes numbers clearer\n",
    "\n",
    "plt.title(\"Confusion Matrix (Tuned Model)\", fontsize=14, fontweight='bold', pad=10)\n",
    "plt.xlabel(\"Predicted\", fontsize=12)\n",
    "plt.ylabel(\"Actual\", fontsize=12)\n",
    "plt.tight_layout()\n",
    "plt.show()\n"
   ]
  },
  {
   "cell_type": "markdown",
   "id": "4fb8ca85",
   "metadata": {},
   "source": [
    "Generierung und Ausgabe des Classification Report"
   ]
  },
  {
   "cell_type": "code",
   "execution_count": 7,
   "id": "f9e31549",
   "metadata": {},
   "outputs": [
    {
     "name": "stdout",
     "output_type": "stream",
     "text": [
      "\n",
      "Classification Report (Tuned Model):\n",
      "                   precision    recall  f1-score   support\n",
      "\n",
      "No Cancer (False)       0.69      0.31      0.43      4681\n",
      "    Cancer (True)       0.75      0.94      0.83     10319\n",
      "\n",
      "         accuracy                           0.74     15000\n",
      "        macro avg       0.72      0.62      0.63     15000\n",
      "     weighted avg       0.73      0.74      0.71     15000\n",
      "\n"
     ]
    }
   ],
   "source": [
    "from sklearn.metrics import classification_report\n",
    "\n",
    "# Vorhersagen mit deinem besten Modell\n",
    "y_pred = trained_pipeline.predict(test_data)\n",
    "\n",
    "# Bericht als Dictionary statt Text\n",
    "report = classification_report(test_label, y_pred, target_names=['No Cancer (False)', 'Cancer (True)'])\n",
    "print(\"\\nClassification Report (Tuned Model):\")\n",
    "print(report)"
   ]
  },
  {
   "cell_type": "markdown",
   "id": "3e008a07",
   "metadata": {},
   "source": [
    "Visualisierung mittels Validation Curve (Verhalten des F1-Scores bei steigender Anzahl an estimators)"
   ]
  },
  {
   "cell_type": "code",
   "execution_count": 8,
   "id": "03345984",
   "metadata": {},
   "outputs": [
    {
     "data": {
      "image/png": "[encoded data removed]",
      "text/plain": [
       "<Figure size 800x800 with 1 Axes>"
      ]
     },
     "metadata": {},
     "output_type": "display_data"
    }
   ],
   "source": [
    "from sklearn.metrics import f1_score, make_scorer\n",
    "from sklearn.model_selection import validation_curve\n",
    " \n",
    "n_estimators = [30, 40, 50, 60, 70, 80]\n",
    " \n",
    "train_scores, valid_scores = validation_curve(\n",
    "    rf_pipeline,\n",
    "    X=train_data,\n",
    "    y=train_label,\n",
    "    param_name=\"clf__n_estimators\",\n",
    "    param_range=n_estimators,\n",
    "    cv=5,\n",
    "    scoring=make_scorer(f1_score, average=\"weighted\"),\n",
    "    n_jobs=-1\n",
    ")\n",
    "\n",
    "# first, calculate the means and standard deviations\n",
    "train_scores_mean = train_scores.mean(axis=1)  # noqa: F821\n",
    "train_scores_std = train_scores.std(axis=1)  # noqa: F821\n",
    "valid_scores_mean = valid_scores.mean(axis=1)  # noqa: F821\n",
    "valid_scores_std = valid_scores.std(axis=1)  # noqa: F821\n",
    "\n",
    "# create the figure\n",
    "plt.figure(figsize=(8, 8))\n",
    "plt.title(\"Validation Curve of RandomForestClassifier with different n_estimators values\")\n",
    "plt.xlabel(\"n_estimators\")\n",
    "plt.ylabel(\"Score\")\n",
    "# plot the training score\n",
    "plt.plot(n_estimators, train_scores_mean, label=\"Training score\", color=\"darkorange\")  # noqa: F821\n",
    "plt.fill_between(\n",
    "    n_estimators,   # noqa: F821\n",
    "    train_scores_mean - train_scores_std, \n",
    "    train_scores_mean + train_scores_std, \n",
    "    color=\"darkorange\",\n",
    "    alpha=0.2\n",
    ")\n",
    "# plot the validation score\n",
    "plt.plot(n_estimators, valid_scores_mean, label=\"Cross-validation score\", color=\"navy\")  # noqa: F821\n",
    "plt.fill_between(\n",
    "    n_estimators,  # noqa: F821\n",
    "    valid_scores_mean - valid_scores_std,\n",
    "    valid_scores_mean + valid_scores_std,\n",
    "    color=\"navy\",\n",
    "    alpha=0.2\n",
    ")\n",
    "\n",
    "plt.legend(loc=\"best\")\n",
    "plt.show()"
   ]
  }
 ],
 "metadata": {
  "kernelspec": {
   "display_name": "ai-basics",
   "language": "python",
   "name": "python3"
  },
  "language_info": {
   "codemirror_mode": {
    "name": "ipython",
    "version": 3
   },
   "file_extension": ".py",
   "mimetype": "text/x-python",
   "name": "python",
   "nbconvert_exporter": "python",
   "pygments_lexer": "ipython3",
   "version": "3.12.12"
  }
 },
 "nbformat": 4,
 "nbformat_minor": 5
}
