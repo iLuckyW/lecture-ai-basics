{
 "cells": [
  {
   "cell_type": "code",
   "execution_count": null,
   "id": "c9a75dad",
   "metadata": {},
   "outputs": [],
   "source": [
    "# Daten auf 20% reduzieren mit stratified sampling\n",
    "dataset_reduced, _ = train_test_split(\n",
    "    dataset, \n",
    "    train_size=0.2, \n",
    "    random_state=42, \n",
    "    stratify=dataset['lung_cancer']\n",
    ")\n",
    "dataset = dataset_reduced.reset_index(drop=True)"
   ]
  },
  {
   "cell_type": "code",
   "execution_count": null,
   "id": "4bf2aeca",
   "metadata": {},
   "outputs": [],
   "source": [
    "from sklearn.model_selection import train_test_split\n",
    "X_reduced, _, y_reduced, _ = train_test_split(X, y, train_size=0.2, random_state=42, stratify=y)\n",
    "X_train, X_test, y_train, y_test = train_test_split(X_reduced, y_reduced, test_size=0.2, random_state=42)"
   ]
  }
 ],
 "metadata": {
  "language_info": {
   "name": "python"
  }
 },
 "nbformat": 4,
 "nbformat_minor": 5
}
