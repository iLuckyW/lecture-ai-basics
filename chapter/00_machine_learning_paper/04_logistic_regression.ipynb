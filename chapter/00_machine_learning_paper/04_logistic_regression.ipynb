{
 "cells": [
  {
   "cell_type": "code",
   "execution_count": 40,
   "id": "675a6748",
   "metadata": {},
   "outputs": [
    {
     "data": {
      "application/vnd.microsoft.datawrangler.viewer.v0+json": {
       "columns": [
        {
         "name": "index",
         "rawType": "int64",
         "type": "integer"
        },
        {
         "name": "patient_id",
         "rawType": "int64",
         "type": "integer"
        },
        {
         "name": "age",
         "rawType": "int64",
         "type": "integer"
        },
        {
         "name": "gender",
         "rawType": "category",
         "type": "unknown"
        },
        {
         "name": "pack_years",
         "rawType": "float64",
         "type": "float"
        },
        {
         "name": "radon_exposure",
         "rawType": "category",
         "type": "unknown"
        },
        {
         "name": "asbestos_exposure",
         "rawType": "bool",
         "type": "boolean"
        },
        {
         "name": "secondhand_smoke_exposure",
         "rawType": "bool",
         "type": "boolean"
        },
        {
         "name": "copd_diagnosis",
         "rawType": "bool",
         "type": "boolean"
        },
        {
         "name": "alcohol_consumption",
         "rawType": "category",
         "type": "unknown"
        },
        {
         "name": "family_history",
         "rawType": "bool",
         "type": "boolean"
        },
        {
         "name": "lung_cancer",
         "rawType": "bool",
         "type": "boolean"
        }
       ],
       "ref": "eb59f351-0ee6-4b76-afa8-55f5464b0ce4",
       "rows": [
        [
         "0",
         "100000",
         "69",
         "Male",
         "66.02524418183087",
         "High",
         "False",
         "False",
         "True",
         "Moderate",
         "False",
         "False"
        ],
        [
         "1",
         "100001",
         "32",
         "Female",
         "12.78080001832259",
         "High",
         "False",
         "True",
         "True",
         "Moderate",
         "True",
         "True"
        ],
        [
         "2",
         "100002",
         "89",
         "Female",
         "0.4082780991943702",
         "Medium",
         "True",
         "True",
         "True",
         "None",
         "False",
         "True"
        ],
        [
         "3",
         "100003",
         "78",
         "Female",
         "44.06523180717622",
         "Low",
         "False",
         "True",
         "False",
         "Moderate",
         "False",
         "True"
        ],
        [
         "4",
         "100004",
         "38",
         "Female",
         "44.43244048453104",
         "Medium",
         "True",
         "False",
         "True",
         "None",
         "True",
         "True"
        ]
       ],
       "shape": {
        "columns": 11,
        "rows": 5
       }
      },
      "text/html": [
       "<div>\n",
       "<style scoped>\n",
       "    .dataframe tbody tr th:only-of-type {\n",
       "        vertical-align: middle;\n",
       "    }\n",
       "\n",
       "    .dataframe tbody tr th {\n",
       "        vertical-align: top;\n",
       "    }\n",
       "\n",
       "    .dataframe thead th {\n",
       "        text-align: right;\n",
       "    }\n",
       "</style>\n",
       "<table border=\"1\" class=\"dataframe\">\n",
       "  <thead>\n",
       "    <tr style=\"text-align: right;\">\n",
       "      <th></th>\n",
       "      <th>patient_id</th>\n",
       "      <th>age</th>\n",
       "      <th>gender</th>\n",
       "      <th>pack_years</th>\n",
       "      <th>radon_exposure</th>\n",
       "      <th>asbestos_exposure</th>\n",
       "      <th>secondhand_smoke_exposure</th>\n",
       "      <th>copd_diagnosis</th>\n",
       "      <th>alcohol_consumption</th>\n",
       "      <th>family_history</th>\n",
       "      <th>lung_cancer</th>\n",
       "    </tr>\n",
       "  </thead>\n",
       "  <tbody>\n",
       "    <tr>\n",
       "      <th>0</th>\n",
       "      <td>100000</td>\n",
       "      <td>69</td>\n",
       "      <td>Male</td>\n",
       "      <td>66.025244</td>\n",
       "      <td>High</td>\n",
       "      <td>False</td>\n",
       "      <td>False</td>\n",
       "      <td>True</td>\n",
       "      <td>Moderate</td>\n",
       "      <td>False</td>\n",
       "      <td>False</td>\n",
       "    </tr>\n",
       "    <tr>\n",
       "      <th>1</th>\n",
       "      <td>100001</td>\n",
       "      <td>32</td>\n",
       "      <td>Female</td>\n",
       "      <td>12.780800</td>\n",
       "      <td>High</td>\n",
       "      <td>False</td>\n",
       "      <td>True</td>\n",
       "      <td>True</td>\n",
       "      <td>Moderate</td>\n",
       "      <td>True</td>\n",
       "      <td>True</td>\n",
       "    </tr>\n",
       "    <tr>\n",
       "      <th>2</th>\n",
       "      <td>100002</td>\n",
       "      <td>89</td>\n",
       "      <td>Female</td>\n",
       "      <td>0.408278</td>\n",
       "      <td>Medium</td>\n",
       "      <td>True</td>\n",
       "      <td>True</td>\n",
       "      <td>True</td>\n",
       "      <td>None</td>\n",
       "      <td>False</td>\n",
       "      <td>True</td>\n",
       "    </tr>\n",
       "    <tr>\n",
       "      <th>3</th>\n",
       "      <td>100003</td>\n",
       "      <td>78</td>\n",
       "      <td>Female</td>\n",
       "      <td>44.065232</td>\n",
       "      <td>Low</td>\n",
       "      <td>False</td>\n",
       "      <td>True</td>\n",
       "      <td>False</td>\n",
       "      <td>Moderate</td>\n",
       "      <td>False</td>\n",
       "      <td>True</td>\n",
       "    </tr>\n",
       "    <tr>\n",
       "      <th>4</th>\n",
       "      <td>100004</td>\n",
       "      <td>38</td>\n",
       "      <td>Female</td>\n",
       "      <td>44.432440</td>\n",
       "      <td>Medium</td>\n",
       "      <td>True</td>\n",
       "      <td>False</td>\n",
       "      <td>True</td>\n",
       "      <td>None</td>\n",
       "      <td>True</td>\n",
       "      <td>True</td>\n",
       "    </tr>\n",
       "  </tbody>\n",
       "</table>\n",
       "</div>"
      ],
      "text/plain": [
       "   patient_id  age  gender  pack_years radon_exposure  asbestos_exposure  \\\n",
       "0      100000   69    Male   66.025244           High              False   \n",
       "1      100001   32  Female   12.780800           High              False   \n",
       "2      100002   89  Female    0.408278         Medium               True   \n",
       "3      100003   78  Female   44.065232            Low              False   \n",
       "4      100004   38  Female   44.432440         Medium               True   \n",
       "\n",
       "   secondhand_smoke_exposure  copd_diagnosis alcohol_consumption  \\\n",
       "0                      False            True            Moderate   \n",
       "1                       True            True            Moderate   \n",
       "2                       True            True                None   \n",
       "3                       True           False            Moderate   \n",
       "4                      False            True                None   \n",
       "\n",
       "   family_history  lung_cancer  \n",
       "0           False        False  \n",
       "1            True         True  \n",
       "2           False         True  \n",
       "3           False         True  \n",
       "4            True         True  "
      ]
     },
     "execution_count": 40,
     "metadata": {},
     "output_type": "execute_result"
    }
   ],
   "source": [
    "import pandas as pd\n",
    "\n",
    "dataset = pd.read_csv(\"lung_cancer_dataset.csv\")\n",
    "\n",
    "# Convert text to categorical data\n",
    "dataset['gender'] = dataset['gender'].astype('category')\n",
    "dataset['radon_exposure'] = dataset['radon_exposure'].astype('category')\n",
    "dataset['alcohol_consumption'] = dataset['alcohol_consumption'].fillna('None').astype('category')\n",
    "\n",
    "dataset['asbestos_exposure'] = dataset['asbestos_exposure'].map({'Yes': True, 'No': False})\n",
    "dataset['secondhand_smoke_exposure'] = dataset['secondhand_smoke_exposure'].map({'Yes': True, 'No': False})\n",
    "dataset['copd_diagnosis'] = dataset['copd_diagnosis'].map({'Yes': True, 'No': False})\n",
    "dataset['family_history'] = dataset['family_history'].map({'Yes': True, 'No': False})\n",
    "dataset['lung_cancer'] = dataset['lung_cancer'].map({'Yes': True, 'No': False})\n",
    "\n",
    "# no duplicate rows\n",
    "dataset.duplicated().sum()\n",
    "\n",
    "# show data\n",
    "dataset.head()"
   ]
  },
  {
   "cell_type": "code",
   "execution_count": 41,
   "id": "8ebba527",
   "metadata": {},
   "outputs": [],
   "source": [
    "from sklearn.model_selection import train_test_split\n",
    "\n",
    "# Aufteilen in Trainings- und Testdaten\n",
    "data = dataset.loc[:, 'age':'family_history']\n",
    "target = dataset['lung_cancer']\n",
    "train_data, test_data, train_label, test_label = train_test_split(data, target, test_size=0.2, random_state=42)"
   ]
  },
  {
   "cell_type": "code",
   "execution_count": 42,
   "id": "5c15e0fb",
   "metadata": {},
   "outputs": [],
   "source": [
    "from sklearn.compose import ColumnTransformer\n",
    "from sklearn.preprocessing import OneHotEncoder\n",
    "\n",
    "# Spaltennamen nach Typ trennen\n",
    "categorical_cols = data.select_dtypes(include=['category']).columns.tolist()\n",
    "numeric_cols = data.select_dtypes(include=['number', 'bool']).columns.tolist()\n",
    "\n",
    "# Preprocessing-Transformer (numerisch: RobustScaler, kategorisch: OneHotEncoder)\n",
    "preprocessor = ColumnTransformer([\n",
    "    (\"numeric\", \"passthrough\", numeric_cols), # RobustScaler() hat keine/kaum Auswirkung\n",
    "    (\"categorical\", OneHotEncoder(drop='first'), categorical_cols)\n",
    "])"
   ]
  },
  {
   "cell_type": "code",
   "execution_count": 43,
   "id": "914e2808",
   "metadata": {},
   "outputs": [
    {
     "data": {
      "application/vnd.microsoft.datawrangler.viewer.v0+json": {
       "columns": [
        {
         "name": "index",
         "rawType": "int64",
         "type": "integer"
        },
        {
         "name": "age",
         "rawType": "object",
         "type": "unknown"
        },
        {
         "name": "pack_years",
         "rawType": "object",
         "type": "unknown"
        },
        {
         "name": "asbestos_exposure",
         "rawType": "object",
         "type": "unknown"
        },
        {
         "name": "secondhand_smoke_exposure",
         "rawType": "object",
         "type": "unknown"
        },
        {
         "name": "copd_diagnosis",
         "rawType": "object",
         "type": "unknown"
        },
        {
         "name": "family_history",
         "rawType": "object",
         "type": "unknown"
        },
        {
         "name": "gender_Male",
         "rawType": "object",
         "type": "unknown"
        },
        {
         "name": "radon_exposure_Low",
         "rawType": "object",
         "type": "unknown"
        },
        {
         "name": "radon_exposure_Medium",
         "rawType": "object",
         "type": "unknown"
        },
        {
         "name": "alcohol_consumption_Moderate",
         "rawType": "object",
         "type": "unknown"
        },
        {
         "name": "alcohol_consumption_None",
         "rawType": "object",
         "type": "unknown"
        }
       ],
       "ref": "16fe580c-440d-4ae1-8946-58f237034ba6",
       "rows": [
        [
         "0",
         "18",
         "88.0193824975977",
         "True",
         "False",
         "True",
         "False",
         "1.0",
         "0.0",
         "0.0",
         "0.0",
         "0.0"
        ],
        [
         "1",
         "84",
         "88.50659133453199",
         "True",
         "False",
         "False",
         "False",
         "0.0",
         "0.0",
         "0.0",
         "0.0",
         "0.0"
        ],
        [
         "2",
         "43",
         "12.587097850160267",
         "False",
         "True",
         "True",
         "False",
         "0.0",
         "0.0",
         "1.0",
         "0.0",
         "0.0"
        ],
        [
         "3",
         "48",
         "33.55699391464544",
         "False",
         "False",
         "False",
         "True",
         "0.0",
         "0.0",
         "1.0",
         "1.0",
         "0.0"
        ],
        [
         "4",
         "43",
         "30.717066208121132",
         "True",
         "True",
         "False",
         "False",
         "1.0",
         "0.0",
         "1.0",
         "0.0",
         "1.0"
        ]
       ],
       "shape": {
        "columns": 11,
        "rows": 5
       }
      },
      "text/html": [
       "<div>\n",
       "<style scoped>\n",
       "    .dataframe tbody tr th:only-of-type {\n",
       "        vertical-align: middle;\n",
       "    }\n",
       "\n",
       "    .dataframe tbody tr th {\n",
       "        vertical-align: top;\n",
       "    }\n",
       "\n",
       "    .dataframe thead th {\n",
       "        text-align: right;\n",
       "    }\n",
       "</style>\n",
       "<table border=\"1\" class=\"dataframe\">\n",
       "  <thead>\n",
       "    <tr style=\"text-align: right;\">\n",
       "      <th></th>\n",
       "      <th>age</th>\n",
       "      <th>pack_years</th>\n",
       "      <th>asbestos_exposure</th>\n",
       "      <th>secondhand_smoke_exposure</th>\n",
       "      <th>copd_diagnosis</th>\n",
       "      <th>family_history</th>\n",
       "      <th>gender_Male</th>\n",
       "      <th>radon_exposure_Low</th>\n",
       "      <th>radon_exposure_Medium</th>\n",
       "      <th>alcohol_consumption_Moderate</th>\n",
       "      <th>alcohol_consumption_None</th>\n",
       "    </tr>\n",
       "  </thead>\n",
       "  <tbody>\n",
       "    <tr>\n",
       "      <th>0</th>\n",
       "      <td>18</td>\n",
       "      <td>88.019382</td>\n",
       "      <td>True</td>\n",
       "      <td>False</td>\n",
       "      <td>True</td>\n",
       "      <td>False</td>\n",
       "      <td>1.0</td>\n",
       "      <td>0.0</td>\n",
       "      <td>0.0</td>\n",
       "      <td>0.0</td>\n",
       "      <td>0.0</td>\n",
       "    </tr>\n",
       "    <tr>\n",
       "      <th>1</th>\n",
       "      <td>84</td>\n",
       "      <td>88.506591</td>\n",
       "      <td>True</td>\n",
       "      <td>False</td>\n",
       "      <td>False</td>\n",
       "      <td>False</td>\n",
       "      <td>0.0</td>\n",
       "      <td>0.0</td>\n",
       "      <td>0.0</td>\n",
       "      <td>0.0</td>\n",
       "      <td>0.0</td>\n",
       "    </tr>\n",
       "    <tr>\n",
       "      <th>2</th>\n",
       "      <td>43</td>\n",
       "      <td>12.587098</td>\n",
       "      <td>False</td>\n",
       "      <td>True</td>\n",
       "      <td>True</td>\n",
       "      <td>False</td>\n",
       "      <td>0.0</td>\n",
       "      <td>0.0</td>\n",
       "      <td>1.0</td>\n",
       "      <td>0.0</td>\n",
       "      <td>0.0</td>\n",
       "    </tr>\n",
       "    <tr>\n",
       "      <th>3</th>\n",
       "      <td>48</td>\n",
       "      <td>33.556994</td>\n",
       "      <td>False</td>\n",
       "      <td>False</td>\n",
       "      <td>False</td>\n",
       "      <td>True</td>\n",
       "      <td>0.0</td>\n",
       "      <td>0.0</td>\n",
       "      <td>1.0</td>\n",
       "      <td>1.0</td>\n",
       "      <td>0.0</td>\n",
       "    </tr>\n",
       "    <tr>\n",
       "      <th>4</th>\n",
       "      <td>43</td>\n",
       "      <td>30.717066</td>\n",
       "      <td>True</td>\n",
       "      <td>True</td>\n",
       "      <td>False</td>\n",
       "      <td>False</td>\n",
       "      <td>1.0</td>\n",
       "      <td>0.0</td>\n",
       "      <td>1.0</td>\n",
       "      <td>0.0</td>\n",
       "      <td>1.0</td>\n",
       "    </tr>\n",
       "  </tbody>\n",
       "</table>\n",
       "</div>"
      ],
      "text/plain": [
       "  age pack_years asbestos_exposure secondhand_smoke_exposure copd_diagnosis  \\\n",
       "0  18  88.019382              True                     False           True   \n",
       "1  84  88.506591              True                     False          False   \n",
       "2  43  12.587098             False                      True           True   \n",
       "3  48  33.556994             False                     False          False   \n",
       "4  43  30.717066              True                      True          False   \n",
       "\n",
       "  family_history gender_Male radon_exposure_Low radon_exposure_Medium  \\\n",
       "0          False         1.0                0.0                   0.0   \n",
       "1          False         0.0                0.0                   0.0   \n",
       "2          False         0.0                0.0                   1.0   \n",
       "3           True         0.0                0.0                   1.0   \n",
       "4          False         1.0                0.0                   1.0   \n",
       "\n",
       "  alcohol_consumption_Moderate alcohol_consumption_None  \n",
       "0                          0.0                      0.0  \n",
       "1                          0.0                      0.0  \n",
       "2                          0.0                      0.0  \n",
       "3                          1.0                      0.0  \n",
       "4                          0.0                      1.0  "
      ]
     },
     "execution_count": 43,
     "metadata": {},
     "output_type": "execute_result"
    }
   ],
   "source": [
    "X_processed = preprocessor.fit_transform(train_data) # warum nicht fit_transform auf x_test???\n",
    "\n",
    "# Get feature names from OneHotEncoder\n",
    "cat_feature_names = preprocessor.named_transformers_['categorical'].get_feature_names_out(categorical_cols)\n",
    "all_feature_names = numeric_cols + list(cat_feature_names)\n",
    "\n",
    "# Create DataFrame\n",
    "X_processed_df = pd.DataFrame(X_processed, columns=all_feature_names)\n",
    "X_processed_df.head()"
   ]
  },
  {
   "cell_type": "code",
   "execution_count": 44,
   "id": "d6559257",
   "metadata": {},
   "outputs": [
    {
     "name": "stdout",
     "output_type": "stream",
     "text": [
      "Genauigkeit: 0.72\n"
     ]
    }
   ],
   "source": [
    "from sklearn.linear_model import LogisticRegression\n",
    "from sklearn.pipeline import Pipeline\n",
    "from sklearn.metrics import accuracy_score\n",
    "\n",
    "# Neue Pipeline mit Klassifikator\n",
    "logistic_pipeline = Pipeline(steps=[\n",
    "    ('preprocessor', preprocessor),\n",
    "    ('classifier', LogisticRegression(solver='liblinear')) # Hier kommt der Klassifikator\n",
    "])\n",
    "\n",
    "# Pipeline trainieren\n",
    "logistic_pipeline.fit(train_data, train_label)\n",
    "\n",
    "# Vorhersagen treffen\n",
    "y_pred = logistic_pipeline.predict(test_data)\n",
    "\n",
    "# Genauigkeit bewerten\n",
    "accuracy = accuracy_score(test_label, y_pred)\n",
    "print(f\"Genauigkeit: {accuracy:.2f}\")"
   ]
  },
  {
   "cell_type": "code",
   "execution_count": 45,
   "id": "03da7ed9",
   "metadata": {},
   "outputs": [
    {
     "name": "stdout",
     "output_type": "stream",
     "text": [
      "Confusion Matrix:\n",
      "[[1046 2072]\n",
      " [ 730 6152]]\n",
      "\n",
      "Klassifikationsbericht:\n",
      "              precision    recall  f1-score   support\n",
      "\n",
      "       False       0.59      0.34      0.43      3118\n",
      "        True       0.75      0.89      0.81      6882\n",
      "\n",
      "    accuracy                           0.72     10000\n",
      "   macro avg       0.67      0.61      0.62     10000\n",
      "weighted avg       0.70      0.72      0.69     10000\n",
      "\n"
     ]
    }
   ],
   "source": [
    "from sklearn.metrics import classification_report, confusion_matrix\n",
    "\n",
    "print(\"Confusion Matrix:\")\n",
    "print(confusion_matrix(test_label, y_pred))\n",
    "print(\"\\nKlassifikationsbericht:\")\n",
    "print(classification_report(test_label, y_pred))"
   ]
  },
  {
   "cell_type": "code",
   "execution_count": 46,
   "id": "08dc14f0",
   "metadata": {},
   "outputs": [
    {
     "data": {
      "image/png": "[encoded data removed]",
      "text/plain": [
       "<Figure size 1000x800 with 2 Axes>"
      ]
     },
     "metadata": {},
     "output_type": "display_data"
    }
   ],
   "source": [
    "from sklearn.metrics import ConfusionMatrixDisplay\n",
    "import matplotlib.pyplot as plt\n",
    "\n",
    "fig, ax = plt.subplots(1, figsize=(10, 8))\n",
    "_ = ConfusionMatrixDisplay.from_estimator(\n",
    "    logistic_pipeline, \n",
    "    test_data, \n",
    "    test_label, \n",
    "    display_labels=dataset['lung_cancer'].unique(),\n",
    "    cmap=plt.cm.Blues,\n",
    "    ax=ax\n",
    ")"
   ]
  },
  {
   "cell_type": "code",
   "execution_count": 47,
   "id": "f7f635ac",
   "metadata": {},
   "outputs": [
    {
     "data": {
      "image/png": "[encoded data removed]",
      "text/plain": [
       "<Figure size 640x480 with 1 Axes>"
      ]
     },
     "metadata": {},
     "output_type": "display_data"
    }
   ],
   "source": [
    "# Berechnung ROC-Kurve und AUC-Score\n",
    "from sklearn.metrics import roc_curve, roc_auc_score\n",
    "\n",
    "y_pred_proba = logistic_pipeline.predict_proba(test_data)[:, 1]\n",
    "fpr, tpr, _ = roc_curve(test_label, y_pred_proba)\n",
    "auc = roc_auc_score(test_label, y_pred_proba)\n",
    "\n",
    "plt.plot(fpr, tpr, label=f\"AUC = {auc:.2f}\")\n",
    "plt.plot([0, 1], [0, 1], linestyle='--')\n",
    "plt.xlabel('False Positive Rate')\n",
    "plt.ylabel('True Positive Rate')\n",
    "plt.title('ROC-Kurve')\n",
    "plt.legend()\n",
    "plt.show()"
   ]
  },
  {
   "cell_type": "code",
   "execution_count": 48,
   "id": "32335131",
   "metadata": {},
   "outputs": [
    {
     "name": "stdout",
     "output_type": "stream",
     "text": [
      "Mittlere Kreuzvalidierungsgenauigkeit: 0.72\n"
     ]
    }
   ],
   "source": [
    "# Kreuzvalidierung\n",
    "from sklearn.model_selection import cross_val_score\n",
    "\n",
    "cv_scores = cross_val_score(logistic_pipeline, data, target, cv=5, scoring='accuracy')\n",
    "print(f\"Mittlere Kreuzvalidierungsgenauigkeit: {cv_scores.mean():.2f}\")"
   ]
  },
  {
   "cell_type": "code",
   "execution_count": 49,
   "id": "901b867d",
   "metadata": {},
   "outputs": [
    {
     "name": "stdout",
     "output_type": "stream",
     "text": [
      "                                      Feature  Koeffizient\n",
      "2                  numeric__asbestos_exposure     0.796309\n",
      "4                     numeric__copd_diagnosis     0.767490\n",
      "5                     numeric__family_history     0.556126\n",
      "3          numeric__secondhand_smoke_exposure     0.474194\n",
      "1                         numeric__pack_years     0.018370\n",
      "0                                numeric__age     0.012630\n",
      "6                    categorical__gender_Male     0.009151\n",
      "9   categorical__alcohol_consumption_Moderate    -0.189338\n",
      "10      categorical__alcohol_consumption_None    -0.201150\n",
      "7             categorical__radon_exposure_Low    -0.748864\n",
      "8          categorical__radon_exposure_Medium    -0.767538\n"
     ]
    }
   ],
   "source": [
    "# Koeffizienten interpretieren\n",
    "model = logistic_pipeline.named_steps['classifier']\n",
    "\n",
    "encoded_feature_names = logistic_pipeline.named_steps['preprocessor'].get_feature_names_out()\n",
    "coefficients = model.coef_[0]\n",
    "\n",
    "coef_df = pd.DataFrame({\n",
    "    'Feature': encoded_feature_names,\n",
    "    'Koeffizient': coefficients\n",
    "}).sort_values(by='Koeffizient', ascending=False)\n",
    "\n",
    "print(coef_df)"
   ]
  },
  {
   "cell_type": "markdown",
   "id": "17296c64",
   "metadata": {},
   "source": [
    "Koeffezienten von logistischer Regression in Odds Ratios umrechnen (besseres Verständnis)\n",
    "- Odds Ratio > 1 -> erhöht das Lungenkrebsrisiko\n",
    "- Odds Ratio < 1 -> senkt das Lungenkrebsrisiko\n",
    "- Odds Ratio = 1 -> kein Einfluss auf Lungenkrebsrisiko"
   ]
  },
  {
   "cell_type": "code",
   "execution_count": 50,
   "id": "7fd92064",
   "metadata": {},
   "outputs": [
    {
     "name": "stdout",
     "output_type": "stream",
     "text": [
      "                                      Feature  Koeffizient  Odds Ratio\n",
      "2                  numeric__asbestos_exposure     0.796309    2.217342\n",
      "4                     numeric__copd_diagnosis     0.767490    2.154353\n",
      "5                     numeric__family_history     0.556126    1.743903\n",
      "3          numeric__secondhand_smoke_exposure     0.474194    1.606718\n",
      "1                         numeric__pack_years     0.018370    1.018539\n",
      "0                                numeric__age     0.012630    1.012710\n",
      "6                    categorical__gender_Male     0.009151    1.009193\n",
      "9   categorical__alcohol_consumption_Moderate    -0.189338    0.827507\n",
      "10      categorical__alcohol_consumption_None    -0.201150    0.817790\n",
      "7             categorical__radon_exposure_Low    -0.748864    0.472903\n",
      "8          categorical__radon_exposure_Medium    -0.767538    0.464154\n"
     ]
    }
   ],
   "source": [
    "import numpy as np\n",
    "\n",
    "odds_ratios = np.exp(coefficients)\n",
    "odds_df = pd.DataFrame({\n",
    "    'Feature': encoded_feature_names,\n",
    "    'Koeffizient': coefficients,\n",
    "    'Odds Ratio': odds_ratios\n",
    "}).sort_values(by='Odds Ratio', ascending=False)\n",
    "\n",
    "print(odds_df)"
   ]
  },
  {
   "cell_type": "code",
   "execution_count": 51,
   "id": "44150904",
   "metadata": {},
   "outputs": [
    {
     "data": {
      "image/png": "[encoded data removed]",
      "text/plain": [
       "<Figure size 1000x600 with 1 Axes>"
      ]
     },
     "metadata": {},
     "output_type": "display_data"
    }
   ],
   "source": [
    "# Visualisierung der Odds Ratios\n",
    "plt.figure(figsize=(10, 6))\n",
    "plt.barh(odds_df['Feature'], odds_df['Odds Ratio'])\n",
    "plt.xlabel('Odds Ratio')\n",
    "plt.title('Einfluss der Merkmale auf die Wahrscheinlichkeit von Lungenkrebs')\n",
    "plt.axvline(x=1, color='red', linestyle='--')\n",
    "plt.show()"
   ]
  },
  {
   "cell_type": "markdown",
   "id": "edfa0bfa",
   "metadata": {},
   "source": [
    "Signifikanz der Regressionskoeffizienten mit statsmodels (funktioniert gleich wie sklearn.linear_model.LogisticRegression). <br> \n",
    "Gibt Übersicht über\n",
    "- Koeffizienten\n",
    "- Standardfehler\n",
    "- z-Werte\n",
    "- p-Werte\n",
    "- Konfidenzintervalle"
   ]
  },
  {
   "cell_type": "code",
   "execution_count": 52,
   "id": "c90ff947",
   "metadata": {},
   "outputs": [
    {
     "name": "stdout",
     "output_type": "stream",
     "text": [
      "Optimization terminated successfully.\n",
      "         Current function value: 0.541439\n",
      "         Iterations 6\n",
      "                           Logit Regression Results                           \n",
      "==============================================================================\n",
      "Dep. Variable:            lung_cancer   No. Observations:                50000\n",
      "Model:                          Logit   Df Residuals:                    49988\n",
      "Method:                           MLE   Df Model:                           11\n",
      "Date:                Wed, 08 Oct 2025   Pseudo R-squ.:                  0.1285\n",
      "Time:                        20:55:52   Log-Likelihood:                -27072.\n",
      "converged:                       True   LL-Null:                       -31063.\n",
      "Covariance Type:            nonrobust   LLR p-value:                     0.000\n",
      "================================================================================================\n",
      "                                   coef    std err          z      P>|z|      [0.025      0.975]\n",
      "------------------------------------------------------------------------------------------------\n",
      "const                           -1.4020      0.046    -30.159      0.000      -1.493      -1.311\n",
      "age                              0.0129      0.000     29.058      0.000       0.012       0.014\n",
      "pack_years                       0.0181      0.000     48.165      0.000       0.017       0.019\n",
      "asbestos_exposure                0.8004      0.021     37.548      0.000       0.759       0.842\n",
      "secondhand_smoke_exposure        0.4902      0.021     23.241      0.000       0.449       0.532\n",
      "copd_diagnosis                   0.7781      0.021     36.591      0.000       0.736       0.820\n",
      "family_history                   0.5485      0.021     25.952      0.000       0.507       0.590\n",
      "gender_Male                      0.0057      0.021      0.273      0.785      -0.035       0.047\n",
      "radon_exposure_Low              -0.7339      0.027    -27.634      0.000      -0.786      -0.682\n",
      "radon_exposure_Medium           -0.7620      0.027    -28.725      0.000      -0.814      -0.710\n",
      "alcohol_consumption_Moderate    -0.1857      0.026     -7.183      0.000      -0.236      -0.135\n",
      "alcohol_consumption_None        -0.1989      0.026     -7.721      0.000      -0.249      -0.148\n",
      "================================================================================================\n"
     ]
    }
   ],
   "source": [
    "import statsmodels.api as sm\n",
    "\n",
    "# One-Hot-Encoding manuell für statsmodels\n",
    "X_prep = pd.get_dummies(data, drop_first=True)\n",
    "X_prep = X_prep.astype(float)\n",
    "X_prep = sm.add_constant(X_prep)\n",
    "\n",
    "model_sm = sm.Logit(target, X_prep)\n",
    "result = model_sm.fit()\n",
    "\n",
    "print(result.summary())"
   ]
  },
  {
   "cell_type": "markdown",
   "id": "6dc8f933",
   "metadata": {},
   "source": [
    "Zusammenfassung der Ergebnisse"
   ]
  },
  {
   "cell_type": "code",
   "execution_count": 53,
   "id": "f774053f",
   "metadata": {},
   "outputs": [
    {
     "name": "stdout",
     "output_type": "stream",
     "text": [
      "\n",
      "--- Zusammenfassung ---\n",
      "Testgenauigkeit: 0.72\n",
      "AUC-Score: 0.74\n",
      "Top 5 einflussreichste Variablen:\n",
      "                              Feature  Koeffizient  Odds Ratio\n",
      "2          numeric__asbestos_exposure     0.796309    2.217342\n",
      "4             numeric__copd_diagnosis     0.767490    2.154353\n",
      "5             numeric__family_history     0.556126    1.743903\n",
      "3  numeric__secondhand_smoke_exposure     0.474194    1.606718\n",
      "1                 numeric__pack_years     0.018370    1.018539\n"
     ]
    }
   ],
   "source": [
    "print(\"\\n--- Zusammenfassung ---\")\n",
    "print(f\"Testgenauigkeit: {accuracy:.2f}\")\n",
    "print(f\"AUC-Score: {auc:.2f}\")\n",
    "print(\"Top 5 einflussreichste Variablen:\")\n",
    "print(odds_df.head(5))"
   ]
  }
 ],
 "metadata": {
  "kernelspec": {
   "display_name": "ai-basics (3.12.11)",
   "language": "python",
   "name": "python3"
  },
  "language_info": {
   "codemirror_mode": {
    "name": "ipython",
    "version": 3
   },
   "file_extension": ".py",
   "mimetype": "text/x-python",
   "name": "python",
   "nbconvert_exporter": "python",
   "pygments_lexer": "ipython3",
   "version": "3.12.11"
  }
 },
 "nbformat": 4,
 "nbformat_minor": 5
}
