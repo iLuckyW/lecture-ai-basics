{
 "cells": [
  {
   "cell_type": "code",
   "execution_count": 1,
   "id": "0d2cff1b",
   "metadata": {},
   "outputs": [],
   "source": [
    "import pandas as pd\n",
    "from sklearn.model_selection import train_test_split\n",
    "from sklearn.compose import ColumnTransformer\n",
    "from sklearn.preprocessing import OneHotEncoder\n",
    "\n",
    "dataset = pd.read_csv(\"lung_cancer_dataset.csv\")\n",
    "\n",
    "# Convert text to categorical data\n",
    "dataset['gender'] = dataset['gender'].astype('category')\n",
    "dataset['radon_exposure'] = dataset['radon_exposure'].astype('category')\n",
    "dataset['alcohol_consumption'] = dataset['alcohol_consumption'].fillna('None').astype('category')\n",
    "\n",
    "dataset['asbestos_exposure'] = dataset['asbestos_exposure'].map({'Yes': True, 'No': False})\n",
    "dataset['secondhand_smoke_exposure'] = dataset['secondhand_smoke_exposure'].map({'Yes': True, 'No': False})\n",
    "dataset['copd_diagnosis'] = dataset['copd_diagnosis'].map({'Yes': True, 'No': False})\n",
    "dataset['family_history'] = dataset['family_history'].map({'Yes': True, 'No': False})\n",
    "dataset['lung_cancer'] = dataset['lung_cancer'].map({'Yes': True, 'No': False})\n",
    "\n",
    "# get the data and target from the data frame \n",
    "data = dataset.loc[:, 'age':'family_history']\n",
    "target = dataset['lung_cancer']\n",
    "\n",
    "train_data, test_data, train_label, test_label = train_test_split(data, target, test_size=0.3, random_state=0)\n",
    "\n",
    "# Spaltennamen nach Typ trennen\n",
    "categorical_cols = data.select_dtypes(include=['category']).columns.tolist()\n",
    "numeric_cols = data.select_dtypes(include=['number', 'bool']).columns.tolist()\n",
    "\n",
    "# Preprocessing-Transformer (numerisch: RobustScaler, kategorisch: OneHotEncoder)\n",
    "preprocessor = ColumnTransformer([\n",
    "    (\"num\", \"passthrough\", numeric_cols), # RobustScaler() hat keine/kaum Auswirkung\n",
    "    (\"cat\", OneHotEncoder(drop='first'), categorical_cols)\n",
    "])\n",
    "\n",
    "X_processed = preprocessor.fit_transform(train_data)"
   ]
  },
  {
   "cell_type": "code",
   "execution_count": null,
   "id": "b4c673bd",
   "metadata": {},
   "outputs": [],
   "source": [
    "import matplotlib.pyplot as plt\n",
    "\n",
    "plt.figure(figsize=(12, 5))\n",
    "\n",
    "plt.subplot(1, 2, 1)\n",
    "plt.hist(dataset['age'], bins=20, edgecolor='black', alpha=0.7)\n",
    "plt.title('Verteilung des Alters')\n",
    "plt.xlabel('Alter')\n",
    "plt.ylabel('Anzahl Personen')\n",
    "\n",
    "plt.subplot(1, 2, 2)\n",
    "plt.hist(dataset['pack_years'], bins=20, edgecolor='black', alpha=0.7, color='orange')\n",
    "plt.title('Verteilung der Pack Years')\n",
    "plt.xlabel('Pack Years')\n",
    "plt.ylabel('Anzahl Personen')\n",
    "\n",
    "plt.tight_layout()\n",
    "plt.show()"
   ]
  }
 ],
 "metadata": {
  "kernelspec": {
   "display_name": "ai-basics",
   "language": "python",
   "name": "python3"
  },
  "language_info": {
   "codemirror_mode": {
    "name": "ipython",
    "version": 3
   },
   "file_extension": ".py",
   "mimetype": "text/x-python",
   "name": "python",
   "nbconvert_exporter": "python",
   "pygments_lexer": "ipython3",
   "version": "3.12.12"
  }
 },
 "nbformat": 4,
 "nbformat_minor": 5
}
