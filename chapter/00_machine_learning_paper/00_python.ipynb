{
 "cells": [
  {
   "cell_type": "markdown",
   "id": "a3f51800",
   "metadata": {},
   "source": [
    "https://www.kaggle.com/datasets/mikeytracegod/lung-cancer-risk-dataset\n",
    "\n",
    "Vorgehen:\n",
    "(x) RandomForest\n",
    "- Cross-Validation: Jannes\n",
    "\n",
    "Andere Aufgaben:\n",
    "- Gemeinsames Worddokument mit Paper Vorlage: Leni\n",
    "- Problemstellung definieren / Forschungsfrage / BusinessCase: Jakob\n",
    "- Datensatz erklären (Spalten): Lena\n",
    "\n",
    "\n",
    "\n",
    "Paper: (10-12 Seiten)\n",
    "    - Survery Paper with implementation\n",
    "    - Comparison of varoius machine learning algorithms\n",
    "    - Appliying ML algorithms for predictin or classification\n",
    "        ○ Rein Implementierungsbezogener Ansatz\n",
    "            i. Problemstellung definiert\n",
    "            ii. Den dafür geeigneten DS auswählen\n",
    "            iii. Daten in einen Trainings- und einen Testsatz aufteilen\n",
    "            iv. Zielvariable im Falle des überwachten Lernen zuweisen\n",
    "            v. Entsprechendes ML-Modell trainieren \n",
    "            vi. Ergebnis evaluieren \n",
    "        a. Comparison of Varous ML Algorithms\n",
    "            i. Umfasst einen Problembereich\n",
    "            ii. Alle Implementierungen die bereits zu diesem Problembereich durchgeüfhrt wruden mit entsprechenden Zitaten zitieren \n",
    "            iii. …\n",
    "Survey paper"
   ]
  },
  {
   "cell_type": "code",
   "execution_count": 2,
   "id": "3e8896db",
   "metadata": {},
   "outputs": [
    {
     "data": {
      "application/vnd.microsoft.datawrangler.viewer.v0+json": {
       "columns": [
        {
         "name": "index",
         "rawType": "int64",
         "type": "integer"
        },
        {
         "name": "patient_id",
         "rawType": "int64",
         "type": "integer"
        },
        {
         "name": "age",
         "rawType": "int64",
         "type": "integer"
        },
        {
         "name": "gender",
         "rawType": "category",
         "type": "unknown"
        },
        {
         "name": "pack_years",
         "rawType": "float64",
         "type": "float"
        },
        {
         "name": "radon_exposure",
         "rawType": "category",
         "type": "unknown"
        },
        {
         "name": "asbestos_exposure",
         "rawType": "bool",
         "type": "boolean"
        },
        {
         "name": "secondhand_smoke_exposure",
         "rawType": "bool",
         "type": "boolean"
        },
        {
         "name": "copd_diagnosis",
         "rawType": "bool",
         "type": "boolean"
        },
        {
         "name": "alcohol_consumption",
         "rawType": "category",
         "type": "unknown"
        },
        {
         "name": "family_history",
         "rawType": "bool",
         "type": "boolean"
        },
        {
         "name": "lung_cancer",
         "rawType": "bool",
         "type": "boolean"
        }
       ],
       "ref": "5b59103f-b5f4-4079-afb8-ae572a820cb2",
       "rows": [
        [
         "0",
         "100000",
         "69",
         "Male",
         "66.02524418183087",
         "High",
         "False",
         "False",
         "True",
         "Moderate",
         "False",
         "False"
        ],
        [
         "1",
         "100001",
         "32",
         "Female",
         "12.78080001832259",
         "High",
         "False",
         "True",
         "True",
         "Moderate",
         "True",
         "True"
        ],
        [
         "2",
         "100002",
         "89",
         "Female",
         "0.4082780991943702",
         "Medium",
         "True",
         "True",
         "True",
         "None",
         "False",
         "True"
        ],
        [
         "3",
         "100003",
         "78",
         "Female",
         "44.06523180717622",
         "Low",
         "False",
         "True",
         "False",
         "Moderate",
         "False",
         "True"
        ],
        [
         "4",
         "100004",
         "38",
         "Female",
         "44.43244048453104",
         "Medium",
         "True",
         "False",
         "True",
         "None",
         "True",
         "True"
        ]
       ],
       "shape": {
        "columns": 11,
        "rows": 5
       }
      },
      "text/html": [
       "<div>\n",
       "<style scoped>\n",
       "    .dataframe tbody tr th:only-of-type {\n",
       "        vertical-align: middle;\n",
       "    }\n",
       "\n",
       "    .dataframe tbody tr th {\n",
       "        vertical-align: top;\n",
       "    }\n",
       "\n",
       "    .dataframe thead th {\n",
       "        text-align: right;\n",
       "    }\n",
       "</style>\n",
       "<table border=\"1\" class=\"dataframe\">\n",
       "  <thead>\n",
       "    <tr style=\"text-align: right;\">\n",
       "      <th></th>\n",
       "      <th>patient_id</th>\n",
       "      <th>age</th>\n",
       "      <th>gender</th>\n",
       "      <th>pack_years</th>\n",
       "      <th>radon_exposure</th>\n",
       "      <th>asbestos_exposure</th>\n",
       "      <th>secondhand_smoke_exposure</th>\n",
       "      <th>copd_diagnosis</th>\n",
       "      <th>alcohol_consumption</th>\n",
       "      <th>family_history</th>\n",
       "      <th>lung_cancer</th>\n",
       "    </tr>\n",
       "  </thead>\n",
       "  <tbody>\n",
       "    <tr>\n",
       "      <th>0</th>\n",
       "      <td>100000</td>\n",
       "      <td>69</td>\n",
       "      <td>Male</td>\n",
       "      <td>66.025244</td>\n",
       "      <td>High</td>\n",
       "      <td>False</td>\n",
       "      <td>False</td>\n",
       "      <td>True</td>\n",
       "      <td>Moderate</td>\n",
       "      <td>False</td>\n",
       "      <td>False</td>\n",
       "    </tr>\n",
       "    <tr>\n",
       "      <th>1</th>\n",
       "      <td>100001</td>\n",
       "      <td>32</td>\n",
       "      <td>Female</td>\n",
       "      <td>12.780800</td>\n",
       "      <td>High</td>\n",
       "      <td>False</td>\n",
       "      <td>True</td>\n",
       "      <td>True</td>\n",
       "      <td>Moderate</td>\n",
       "      <td>True</td>\n",
       "      <td>True</td>\n",
       "    </tr>\n",
       "    <tr>\n",
       "      <th>2</th>\n",
       "      <td>100002</td>\n",
       "      <td>89</td>\n",
       "      <td>Female</td>\n",
       "      <td>0.408278</td>\n",
       "      <td>Medium</td>\n",
       "      <td>True</td>\n",
       "      <td>True</td>\n",
       "      <td>True</td>\n",
       "      <td>None</td>\n",
       "      <td>False</td>\n",
       "      <td>True</td>\n",
       "    </tr>\n",
       "    <tr>\n",
       "      <th>3</th>\n",
       "      <td>100003</td>\n",
       "      <td>78</td>\n",
       "      <td>Female</td>\n",
       "      <td>44.065232</td>\n",
       "      <td>Low</td>\n",
       "      <td>False</td>\n",
       "      <td>True</td>\n",
       "      <td>False</td>\n",
       "      <td>Moderate</td>\n",
       "      <td>False</td>\n",
       "      <td>True</td>\n",
       "    </tr>\n",
       "    <tr>\n",
       "      <th>4</th>\n",
       "      <td>100004</td>\n",
       "      <td>38</td>\n",
       "      <td>Female</td>\n",
       "      <td>44.432440</td>\n",
       "      <td>Medium</td>\n",
       "      <td>True</td>\n",
       "      <td>False</td>\n",
       "      <td>True</td>\n",
       "      <td>None</td>\n",
       "      <td>True</td>\n",
       "      <td>True</td>\n",
       "    </tr>\n",
       "  </tbody>\n",
       "</table>\n",
       "</div>"
      ],
      "text/plain": [
       "   patient_id  age  gender  pack_years radon_exposure  asbestos_exposure  \\\n",
       "0      100000   69    Male   66.025244           High              False   \n",
       "1      100001   32  Female   12.780800           High              False   \n",
       "2      100002   89  Female    0.408278         Medium               True   \n",
       "3      100003   78  Female   44.065232            Low              False   \n",
       "4      100004   38  Female   44.432440         Medium               True   \n",
       "\n",
       "   secondhand_smoke_exposure  copd_diagnosis alcohol_consumption  \\\n",
       "0                      False            True            Moderate   \n",
       "1                       True            True            Moderate   \n",
       "2                       True            True                None   \n",
       "3                       True           False            Moderate   \n",
       "4                      False            True                None   \n",
       "\n",
       "   family_history  lung_cancer  \n",
       "0           False        False  \n",
       "1            True         True  \n",
       "2           False         True  \n",
       "3           False         True  \n",
       "4            True         True  "
      ]
     },
     "execution_count": 2,
     "metadata": {},
     "output_type": "execute_result"
    }
   ],
   "source": [
    "import pandas as pd\n",
    "\n",
    "dataset = pd.read_csv(\"lung_cancer_dataset.csv\")\n",
    "\n",
    "# Convert text to categorical data\n",
    "dataset['gender'] = dataset['gender'].astype('category')\n",
    "dataset['radon_exposure'] = dataset['radon_exposure'].astype('category')\n",
    "dataset['alcohol_consumption'] = dataset['alcohol_consumption'].fillna('None').astype('category')\n",
    "\n",
    "dataset['asbestos_exposure'] = dataset['asbestos_exposure'].map({'Yes': True, 'No': False})\n",
    "dataset['secondhand_smoke_exposure'] = dataset['secondhand_smoke_exposure'].map({'Yes': True, 'No': False})\n",
    "dataset['copd_diagnosis'] = dataset['copd_diagnosis'].map({'Yes': True, 'No': False})\n",
    "dataset['family_history'] = dataset['family_history'].map({'Yes': True, 'No': False})\n",
    "dataset['lung_cancer'] = dataset['lung_cancer'].map({'Yes': True, 'No': False})\n",
    "\n",
    "# no duplicate rows\n",
    "dataset.duplicated().sum()\n",
    "\n",
    "# show data\n",
    "dataset.head()"
   ]
  },
  {
   "cell_type": "code",
   "execution_count": 3,
   "id": "a301c946",
   "metadata": {},
   "outputs": [
    {
     "data": {
      "image/png": "[encoded data removed]",
      "text/plain": [
       "<Figure size 1200x500 with 2 Axes>"
      ]
     },
     "metadata": {},
     "output_type": "display_data"
    }
   ],
   "source": [
    "import matplotlib.pyplot as plt\n",
    "\n",
    "# gleicherverteilt: gender, radon_exposure, asbestos_exposure, secondhand_smoke_exposure, copd_diagnosis, alcohol_consumption, family_history\n",
    "\n",
    "fig, axes = plt.subplots(1, 2, figsize=(12, 5))\n",
    "dataset['pack_years'].hist(ax=axes[0], bins=20, color='skyblue')\n",
    "axes[0].set_title('Pack Years')\n",
    "axes[0].set_xlabel('Pack Years')\n",
    "axes[0].set_ylabel('Count')\n",
    "\n",
    "dataset['age'].hist(ax=axes[1], bins=20, color='orange')\n",
    "axes[1].set_title('Age')\n",
    "axes[1].set_xlabel('Age')\n",
    "axes[1].set_ylabel('Count')\n",
    "\n",
    "plt.tight_layout()\n",
    "plt.show()"
   ]
  }
 ],
 "metadata": {
  "kernelspec": {
   "display_name": "ai-basics",
   "language": "python",
   "name": "python3"
  },
  "language_info": {
   "codemirror_mode": {
    "name": "ipython",
    "version": 3
   },
   "file_extension": ".py",
   "mimetype": "text/x-python",
   "name": "python",
   "nbconvert_exporter": "python",
   "pygments_lexer": "ipython3",
   "version": "3.12.11"
  }
 },
 "nbformat": 4,
 "nbformat_minor": 5
}
