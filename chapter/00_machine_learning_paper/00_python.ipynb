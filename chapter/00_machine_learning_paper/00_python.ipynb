{
 "cells": [
  {
   "cell_type": "markdown",
   "id": "a3f51800",
   "metadata": {},
   "source": [
    "Paper: \n",
    "Paper: (10-12 Seiten)\n",
    "    - Survery Paper with implementation\n",
    "    - Comparison of varoius machine learning algorithms\n",
    "    - Appliying ML algorithms for predictin or classification\n",
    "        ○ Rein Implementierungsbezogener Ansatz\n",
    "            i. Problemstellung definiert\n",
    "            ii. Den dafür geeigneten DS auswählen\n",
    "            iii. Daten in einen Trainings- und einen Testsatz aufteilen\n",
    "            iv. Zielvariable im Falle des überwachten Lernen zuweisen\n",
    "            v. Entsprechendes ML-Modell trainieren \n",
    "            vi. Ergebnis evaluieren \n",
    "        a. Comparison of Varous ML Algorithms\n",
    "            i. Umfasst einen Problembereich\n",
    "            ii. Alle Implementierungen die bereits zu diesem Problembereich durchgeüfhrt wruden mit entsprechenden Zitaten zitieren \n",
    "            iii. …\n",
    "Survey paper"
   ]
  },
  {
   "cell_type": "code",
   "execution_count": null,
   "id": "3e8896db",
   "metadata": {},
   "outputs": [],
   "source": [
    "import pandas as pd\n",
    "\n",
    "dataset = pd.read_csv(\"lung_cancer_dataset.csv\")\n",
    "\n",
    "# Convert text to categorical data\n",
    "dataset['gender'] = dataset['gender'].astype('category')\n",
    "dataset['radon_exposure'] = dataset['radon_exposure'].astype('category')\n",
    "dataset['alcohol_consumption'] = dataset['alcohol_consumption'].fillna('None').astype('category')\n",
    "\n",
    "dataset['asbestos_exposure'] = dataset['asbestos_exposure'].map({'Yes': True, 'No': False})\n",
    "dataset['secondhand_smoke_exposure'] = dataset['secondhand_smoke_exposure'].map({'Yes': True, 'No': False})\n",
    "dataset['copd_diagnosis'] = dataset['copd_diagnosis'].map({'Yes': True, 'No': False})\n",
    "dataset['family_history'] = dataset['family_history'].map({'Yes': True, 'No': False})\n",
    "dataset['lung_cancer'] = dataset['lung_cancer'].map({'Yes': True, 'No': False})\n",
    "\n"
   ]
  }
 ],
 "metadata": {
  "kernelspec": {
   "display_name": "ai-basics (3.12.11)",
   "language": "python",
   "name": "python3"
  },
  "language_info": {
   "codemirror_mode": {
    "name": "ipython",
    "version": 3
   },
   "file_extension": ".py",
   "mimetype": "text/x-python",
   "name": "python",
   "nbconvert_exporter": "python",
   "pygments_lexer": "ipython3",
   "version": "3.12.11"
  }
 },
 "nbformat": 4,
 "nbformat_minor": 5
}
