{
 "cells": [
  {
   "cell_type": "code",
   "execution_count": 1,
   "id": "3e8896db",
   "metadata": {},
   "outputs": [
    {
     "data": {
      "application/vnd.microsoft.datawrangler.viewer.v0+json": {
       "columns": [
        {
         "name": "index",
         "rawType": "int64",
         "type": "integer"
        },
        {
         "name": "patient_id",
         "rawType": "int64",
         "type": "integer"
        },
        {
         "name": "age",
         "rawType": "int64",
         "type": "integer"
        },
        {
         "name": "gender",
         "rawType": "object",
         "type": "string"
        },
        {
         "name": "pack_years",
         "rawType": "float64",
         "type": "float"
        },
        {
         "name": "radon_exposure",
         "rawType": "object",
         "type": "string"
        },
        {
         "name": "asbestos_exposure",
         "rawType": "object",
         "type": "string"
        },
        {
         "name": "secondhand_smoke_exposure",
         "rawType": "object",
         "type": "string"
        },
        {
         "name": "copd_diagnosis",
         "rawType": "object",
         "type": "string"
        },
        {
         "name": "alcohol_consumption",
         "rawType": "object",
         "type": "unknown"
        },
        {
         "name": "family_history",
         "rawType": "object",
         "type": "string"
        },
        {
         "name": "lung_cancer",
         "rawType": "object",
         "type": "string"
        }
       ],
       "ref": "6f8e78f2-dfa9-497c-a52a-eeb6b0a49e01",
       "rows": [
        [
         "0",
         "100000",
         "69",
         "Male",
         "66.02524418183087",
         "High",
         "No",
         "No",
         "Yes",
         "Moderate",
         "No",
         "No"
        ],
        [
         "1",
         "100001",
         "32",
         "Female",
         "12.78080001832259",
         "High",
         "No",
         "Yes",
         "Yes",
         "Moderate",
         "Yes",
         "Yes"
        ],
        [
         "2",
         "100002",
         "89",
         "Female",
         "0.4082780991943702",
         "Medium",
         "Yes",
         "Yes",
         "Yes",
         null,
         "No",
         "Yes"
        ],
        [
         "3",
         "100003",
         "78",
         "Female",
         "44.06523180717622",
         "Low",
         "No",
         "Yes",
         "No",
         "Moderate",
         "No",
         "Yes"
        ],
        [
         "4",
         "100004",
         "38",
         "Female",
         "44.43244048453104",
         "Medium",
         "Yes",
         "No",
         "Yes",
         null,
         "Yes",
         "Yes"
        ]
       ],
       "shape": {
        "columns": 11,
        "rows": 5
       }
      },
      "text/html": [
       "<div>\n",
       "<style scoped>\n",
       "    .dataframe tbody tr th:only-of-type {\n",
       "        vertical-align: middle;\n",
       "    }\n",
       "\n",
       "    .dataframe tbody tr th {\n",
       "        vertical-align: top;\n",
       "    }\n",
       "\n",
       "    .dataframe thead th {\n",
       "        text-align: right;\n",
       "    }\n",
       "</style>\n",
       "<table border=\"1\" class=\"dataframe\">\n",
       "  <thead>\n",
       "    <tr style=\"text-align: right;\">\n",
       "      <th></th>\n",
       "      <th>patient_id</th>\n",
       "      <th>age</th>\n",
       "      <th>gender</th>\n",
       "      <th>pack_years</th>\n",
       "      <th>radon_exposure</th>\n",
       "      <th>asbestos_exposure</th>\n",
       "      <th>secondhand_smoke_exposure</th>\n",
       "      <th>copd_diagnosis</th>\n",
       "      <th>alcohol_consumption</th>\n",
       "      <th>family_history</th>\n",
       "      <th>lung_cancer</th>\n",
       "    </tr>\n",
       "  </thead>\n",
       "  <tbody>\n",
       "    <tr>\n",
       "      <th>0</th>\n",
       "      <td>100000</td>\n",
       "      <td>69</td>\n",
       "      <td>Male</td>\n",
       "      <td>66.025244</td>\n",
       "      <td>High</td>\n",
       "      <td>No</td>\n",
       "      <td>No</td>\n",
       "      <td>Yes</td>\n",
       "      <td>Moderate</td>\n",
       "      <td>No</td>\n",
       "      <td>No</td>\n",
       "    </tr>\n",
       "    <tr>\n",
       "      <th>1</th>\n",
       "      <td>100001</td>\n",
       "      <td>32</td>\n",
       "      <td>Female</td>\n",
       "      <td>12.780800</td>\n",
       "      <td>High</td>\n",
       "      <td>No</td>\n",
       "      <td>Yes</td>\n",
       "      <td>Yes</td>\n",
       "      <td>Moderate</td>\n",
       "      <td>Yes</td>\n",
       "      <td>Yes</td>\n",
       "    </tr>\n",
       "    <tr>\n",
       "      <th>2</th>\n",
       "      <td>100002</td>\n",
       "      <td>89</td>\n",
       "      <td>Female</td>\n",
       "      <td>0.408278</td>\n",
       "      <td>Medium</td>\n",
       "      <td>Yes</td>\n",
       "      <td>Yes</td>\n",
       "      <td>Yes</td>\n",
       "      <td>NaN</td>\n",
       "      <td>No</td>\n",
       "      <td>Yes</td>\n",
       "    </tr>\n",
       "    <tr>\n",
       "      <th>3</th>\n",
       "      <td>100003</td>\n",
       "      <td>78</td>\n",
       "      <td>Female</td>\n",
       "      <td>44.065232</td>\n",
       "      <td>Low</td>\n",
       "      <td>No</td>\n",
       "      <td>Yes</td>\n",
       "      <td>No</td>\n",
       "      <td>Moderate</td>\n",
       "      <td>No</td>\n",
       "      <td>Yes</td>\n",
       "    </tr>\n",
       "    <tr>\n",
       "      <th>4</th>\n",
       "      <td>100004</td>\n",
       "      <td>38</td>\n",
       "      <td>Female</td>\n",
       "      <td>44.432440</td>\n",
       "      <td>Medium</td>\n",
       "      <td>Yes</td>\n",
       "      <td>No</td>\n",
       "      <td>Yes</td>\n",
       "      <td>NaN</td>\n",
       "      <td>Yes</td>\n",
       "      <td>Yes</td>\n",
       "    </tr>\n",
       "  </tbody>\n",
       "</table>\n",
       "</div>"
      ],
      "text/plain": [
       "   patient_id  age  gender  pack_years radon_exposure asbestos_exposure  \\\n",
       "0      100000   69    Male   66.025244           High                No   \n",
       "1      100001   32  Female   12.780800           High                No   \n",
       "2      100002   89  Female    0.408278         Medium               Yes   \n",
       "3      100003   78  Female   44.065232            Low                No   \n",
       "4      100004   38  Female   44.432440         Medium               Yes   \n",
       "\n",
       "  secondhand_smoke_exposure copd_diagnosis alcohol_consumption family_history  \\\n",
       "0                        No            Yes            Moderate             No   \n",
       "1                       Yes            Yes            Moderate            Yes   \n",
       "2                       Yes            Yes                 NaN             No   \n",
       "3                       Yes             No            Moderate             No   \n",
       "4                        No            Yes                 NaN            Yes   \n",
       "\n",
       "  lung_cancer  \n",
       "0          No  \n",
       "1         Yes  \n",
       "2         Yes  \n",
       "3         Yes  \n",
       "4         Yes  "
      ]
     },
     "execution_count": 1,
     "metadata": {},
     "output_type": "execute_result"
    }
   ],
   "source": [
    "import pandas as pd\n",
    "\n",
    "dataset = pd.read_csv(\"lung_cancer_dataset.csv\")\n",
    "dataset.head()"
   ]
  }
 ],
 "metadata": {
  "kernelspec": {
   "display_name": "ai-basics",
   "language": "python",
   "name": "python3"
  },
  "language_info": {
   "codemirror_mode": {
    "name": "ipython",
    "version": 3
   },
   "file_extension": ".py",
   "mimetype": "text/x-python",
   "name": "python",
   "nbconvert_exporter": "python",
   "pygments_lexer": "ipython3",
   "version": "3.12.11"
  }
 },
 "nbformat": 4,
 "nbformat_minor": 5
}
