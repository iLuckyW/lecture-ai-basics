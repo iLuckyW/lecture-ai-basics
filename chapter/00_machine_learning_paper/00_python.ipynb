{
 "cells": [
  {
   "cell_type": "markdown",
   "id": "7da8d268",
   "metadata": {},
   "source": [
    "https://www.kaggle.com/datasets/mikeytracegod/lung-cancer-risk-dataset"
   ]
  },
  {
   "cell_type": "code",
   "execution_count": null,
   "id": "3e8896db",
   "metadata": {},
   "outputs": [
    {
     "data": {
      "text/plain": [
       "np.int64(0)"
      ]
     },
     "execution_count": 16,
     "metadata": {},
     "output_type": "execute_result"
    }
   ],
   "source": [
    "import pandas as pd\n",
    "\n",
    "dataset = pd.read_csv(\"lung_cancer_dataset.csv\")\n",
    "\n",
    "# Convert text to categorical data\n",
    "dataset['gender'] = dataset['gender'].astype('category')\n",
    "dataset['radon_exposure'] = dataset['radon_exposure'].astype('category')\n",
    "dataset['alcohol_consumption'] = dataset['alcohol_consumption'].fillna('None').astype('category')\n",
    "\n",
    "dataset['asbestos_exposure'] = dataset['asbestos_exposure'].map({'Yes': True, 'No': False})\n",
    "dataset['secondhand_smoke_exposure'] = dataset['secondhand_smoke_exposure'].map({'Yes': True, 'No': False})\n",
    "dataset['copd_diagnosis'] = dataset['copd_diagnosis'].map({'Yes': True, 'No': False})\n",
    "dataset['family_history'] = dataset['family_history'].map({'Yes': True, 'No': False})\n",
    "dataset['lung_cancer'] = dataset['lung_cancer'].map({'Yes': True, 'No': False})\n",
    "\n",
    "# show data\n",
    "dataset.head()\n",
    "\n",
    "# no duplicate rows\n",
    "dataset.duplicated().sum()\n",
    "\n",
    "\n"
   ]
  }
 ],
 "metadata": {
  "kernelspec": {
   "display_name": "ai-basics",
   "language": "python",
   "name": "python3"
  },
  "language_info": {
   "codemirror_mode": {
    "name": "ipython",
    "version": 3
   },
   "file_extension": ".py",
   "mimetype": "text/x-python",
   "name": "python",
   "nbconvert_exporter": "python",
   "pygments_lexer": "ipython3",
   "version": "3.12.11"
  }
 },
 "nbformat": 4,
 "nbformat_minor": 5
}
