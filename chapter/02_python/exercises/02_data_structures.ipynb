{
 "cells": [
  {
   "cell_type": "markdown",
   "id": "7bc6d8dc",
   "metadata": {},
   "source": [
    "Lecture: AI I - Basics \n",
    "\n",
    "Previous:\n",
    "[**Chapter 2.2: Data Structures**](../02_data_structures.ipynb)\n",
    "\n",
    "---"
   ]
  },
  {
   "cell_type": "markdown",
   "id": "8e560b93",
   "metadata": {},
   "source": [
    "# Exercise 2.2: Data Structures\n",
    "\n",
    "- [Task 1: List Slicing](#task-1-list-slicing)\n",
    "- [Task 2: Set Comparisons](#task-2-set-comparisons)\n",
    "- [Task 3: Dictionary Operations](#task-3-dictionary-operations)\n",
    "- [Task 4: Datetime](#task-4-datetime)"
   ]
  },
  {
   "cell_type": "markdown",
   "id": "e98d645b",
   "metadata": {},
   "source": [
    "> Hint: When doing the exercises put your solution in the designated \"Solution\" section:\n",
    "> ```python\n",
    "> # Solution (put your code here)\n",
    "> ```"
   ]
  },
  {
   "cell_type": "markdown",
   "id": "88b2484f",
   "metadata": {},
   "source": [
    "## Task 1: List Slicing\n",
    "\n",
    "Practice extracting all even numbers under ten from a list using slicing."
   ]
  },
  {
   "cell_type": "code",
   "execution_count": 1,
   "id": "5fa024a3",
   "metadata": {},
   "outputs": [],
   "source": [
    "# prerequisites (don't edit this block)\n",
    "nums = list(range(1, 11))\n",
    "even_nums_under_ten = []"
   ]
  },
  {
   "cell_type": "code",
   "execution_count": 11,
   "id": "a06f88b6",
   "metadata": {},
   "outputs": [],
   "source": [
    "# Solution (put your code here)\n",
    "even_nums_under_ten = nums[1:9:2]"
   ]
  },
  {
   "cell_type": "code",
   "execution_count": 12,
   "id": "8a7a82c2",
   "metadata": {},
   "outputs": [],
   "source": [
    "# Test case (don't edit this block)\n",
    "assert even_nums_under_ten == [2, 4, 6, 8]"
   ]
  },
  {
   "cell_type": "markdown",
   "id": "441b12e2",
   "metadata": {},
   "source": [
    "## Task 2: Set Comparisons\n",
    "\n",
    "Given:\n",
    "```python\n",
    "a = {1, 2, 3, 4}\n",
    "b = {3, 4, 5, 6}\n",
    "```\n",
    "\n",
    "Find the symmetric difference between `a` and `b`. Store the result in `c`"
   ]
  },
  {
   "cell_type": "code",
   "execution_count": null,
   "id": "19f945aa",
   "metadata": {},
   "outputs": [],
   "source": [
    "# prerequisites (don't edit this block)\n",
    "a = {1, 2, 3, 4}\n",
    "b = {3, 4, 5, 6}\n",
    "c = {}"
   ]
  },
  {
   "cell_type": "code",
   "execution_count": 14,
   "id": "51be68c8",
   "metadata": {},
   "outputs": [],
   "source": [
    "# Solution (put your code here)\n",
    "c = a ^ b"
   ]
  },
  {
   "cell_type": "code",
   "execution_count": 15,
   "id": "71d328ba",
   "metadata": {},
   "outputs": [],
   "source": [
    "# Test case (don't edit this block)\n",
    "assert c == {1, 2, 5, 6}"
   ]
  },
  {
   "cell_type": "markdown",
   "id": "bcd4e0b7",
   "metadata": {},
   "source": [
    "## Task 3: Dictionary Operations\n",
    "\n",
    "Practice adding, updating, and retrieving dictionary values.\n",
    "Add `\"Charlie\"` with a score of `78`."
   ]
  },
  {
   "cell_type": "code",
   "execution_count": 17,
   "id": "8090dab8",
   "metadata": {},
   "outputs": [],
   "source": [
    "# prerequisites (don't edit this block)\n",
    "grades = {\n",
    "    \"Alice\": 85, \n",
    "    \"Bob\": 90\n",
    "}"
   ]
  },
  {
   "cell_type": "code",
   "execution_count": 18,
   "id": "2ed999a8",
   "metadata": {},
   "outputs": [],
   "source": [
    "# Solution (put your code here)\n",
    "grades[\"Charlie\"] = 78"
   ]
  },
  {
   "cell_type": "code",
   "execution_count": 19,
   "id": "eb7db3db",
   "metadata": {},
   "outputs": [],
   "source": [
    "# Test case (don't edit this block)\n",
    "assert grades.get(\"Charlie\") == 78, \"Expected Charlie's score to be 78\""
   ]
  },
  {
   "cell_type": "markdown",
   "id": "5751499f",
   "metadata": {},
   "source": [
    "## Task 4: Datetime\n",
    "\n",
    "Work with datetime and timedelta.\n",
    "Given today's date, substract a timedelta to get the first of january of 2025."
   ]
  },
  {
   "cell_type": "code",
   "execution_count": 27,
   "id": "5dbe2b79",
   "metadata": {},
   "outputs": [],
   "source": [
    "# prerequisites (don't edit this block)\n",
    "\n",
    "from datetime import datetime, timedelta\n",
    "\n",
    "today_date = datetime.today()\n",
    "date = datetime.now()"
   ]
  },
  {
   "cell_type": "code",
   "execution_count": 30,
   "id": "15411cba",
   "metadata": {},
   "outputs": [],
   "source": [
    "# Solution (put your code here)\n",
    "date = datetime.now() - timedelta(days = 245)"
   ]
  },
  {
   "cell_type": "code",
   "execution_count": 31,
   "id": "bd15ad10",
   "metadata": {},
   "outputs": [],
   "source": [
    "# Test case (don't edit this block)\n",
    "assert date.strftime(\"%Y-%m-%d\") == \"2025-01-01\""
   ]
  },
  {
   "cell_type": "markdown",
   "id": "fb2dbb7c",
   "metadata": {},
   "source": [
    "---\n",
    "\n",
    "Lecture: AI I - Basics \n",
    "\n",
    "Next: [**Chapter 2.3: Control Flow**](../02_python/03_control_flow.ipynb)"
   ]
  }
 ],
 "metadata": {
  "kernelspec": {
   "display_name": "ai-basics",
   "language": "python",
   "name": "python3"
  },
  "language_info": {
   "codemirror_mode": {
    "name": "ipython",
    "version": 3
   },
   "file_extension": ".py",
   "mimetype": "text/x-python",
   "name": "python",
   "nbconvert_exporter": "python",
   "pygments_lexer": "ipython3",
   "version": "3.12.11"
  }
 },
 "nbformat": 4,
 "nbformat_minor": 5
}
