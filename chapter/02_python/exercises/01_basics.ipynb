{
 "cells": [
  {
   "cell_type": "markdown",
   "id": "85b9dd3c",
   "metadata": {},
   "source": [
    "Lecture: AI I - Basics \n",
    "\n",
    "Previous:\n",
    "[**Chapter 2.1: Python Basics**](../01_basics.ipynb)\n",
    "\n",
    "---"
   ]
  },
  {
   "cell_type": "markdown",
   "id": "519c7fe0",
   "metadata": {},
   "source": [
    "# Exercise 2.1: Python Basics\n",
    "\n",
    "* [Task 1: Variables & Data Types](#task-1-variables--data-types)\n",
    "* [Task 2: Numeric Operations](#task-2-numeric-operations)\n",
    "* [Task 3: String Methods](#task-3-string-methods)\n",
    "* [Task 4: String Formatting](#task-4-string-formatting)\n",
    "* [Task 5: Built-in Functions](#task-5-built-in-functions)"
   ]
  },
  {
   "cell_type": "markdown",
   "id": "786ea8fd",
   "metadata": {},
   "source": [
    "> Hint: When doing the exercises put your solution in the designated \"Solution\" section:\n",
    "> ```python\n",
    "> # Solution (put your code here)\n",
    "> ```"
   ]
  },
  {
   "cell_type": "markdown",
   "id": "21aad877",
   "metadata": {},
   "source": [
    "## Task 1: Variables & Data Types\n",
    "\n",
    "Practice creating variables of different types and checking their types.\n",
    "\n",
    "Create variables of the following types:\n",
    "- An integer variable with value 42\n",
    "- A float variable with value 3.14\n",
    "- A string variable with value \"Python\"\n",
    "- A boolean variable with value True"
   ]
  },
  {
   "cell_type": "code",
   "execution_count": 4,
   "id": "272369aa",
   "metadata": {},
   "outputs": [],
   "source": [
    "# prerequisites (don't edit this block)\n",
    "num_int = None\n",
    "num_float = None\n",
    "text = None\n",
    "boolean = None"
   ]
  },
  {
   "cell_type": "code",
   "execution_count": 5,
   "id": "7002705e",
   "metadata": {},
   "outputs": [],
   "source": [
    "# Solution (put your code here)\n",
    "num_int = 42\n",
    "num_float = 3.14\n",
    "text = \"Python\"\n",
    "boolean = True"
   ]
  },
  {
   "cell_type": "code",
   "execution_count": 6,
   "id": "221f0568",
   "metadata": {},
   "outputs": [],
   "source": [
    "# Test case (don't edit this block)\n",
    "assert num_int == 42, \"num_int should be 42\"\n",
    "assert num_float == 3.14, \"num_float should be 3.14\"\n",
    "assert text == \"Python\", \"text should be 'Python'\"\n",
    "assert boolean is True, \"boolean should be True\""
   ]
  },
  {
   "cell_type": "markdown",
   "id": "8d86c72a",
   "metadata": {},
   "source": [
    "## Task 2: Numeric Operations\n",
    "\n",
    "Given a = 15, b = 4 and c = 3.14 calculate d: \n",
    "\n",
    "$d = a ^ b - c$"
   ]
  },
  {
   "cell_type": "code",
   "execution_count": 9,
   "id": "faff9145",
   "metadata": {},
   "outputs": [],
   "source": [
    "# prerequisites (don't edit this block)\n",
    "a = 15\n",
    "b = 4\n",
    "c = 3.14\n",
    "d = 0"
   ]
  },
  {
   "cell_type": "code",
   "execution_count": 10,
   "id": "96b54c8c",
   "metadata": {},
   "outputs": [],
   "source": [
    "# Solution (put your code here)\n",
    "d = a ** b - c"
   ]
  },
  {
   "cell_type": "code",
   "execution_count": 11,
   "id": "68d0cbae",
   "metadata": {},
   "outputs": [],
   "source": [
    "# Test case (don't edit this block)\n",
    "assert d == 50621.86, \"d should be 50621.86 after the calculation\""
   ]
  },
  {
   "cell_type": "markdown",
   "id": "35a4b813",
   "metadata": {},
   "source": [
    "## Task 3: String Methods\n",
    "\n",
    "Work with string searching and manipulation.\n",
    "\n",
    "Given `s = \"Hello, Python!\"`:\n",
    "1. Replace `\"Python\"` with `\"World\"`\n",
    "1. Convert it to uppercase"
   ]
  },
  {
   "cell_type": "code",
   "execution_count": 20,
   "id": "d2ffebd8",
   "metadata": {},
   "outputs": [],
   "source": [
    "# prerequisites (don't edit this block)\n",
    "s = \"Hello, Python!\""
   ]
  },
  {
   "cell_type": "code",
   "execution_count": 21,
   "id": "de03114f",
   "metadata": {},
   "outputs": [],
   "source": [
    "# Solution (put your code here)\n",
    "s = s.replace(\"Python\", \"World\").upper()"
   ]
  },
  {
   "cell_type": "code",
   "execution_count": 22,
   "id": "fa3d8cce",
   "metadata": {},
   "outputs": [],
   "source": [
    "# Test case (don't edit this block)\n",
    "assert s == \"HELLO, WORLD!\", \"s should be 'HELLO, WORLD!'\""
   ]
  },
  {
   "cell_type": "markdown",
   "id": "77e2f2e8",
   "metadata": {},
   "source": [
    "## Task 4: String Formatting\n",
    "\n",
    "Format strings using f-strings.\n",
    "\n",
    "Given\n",
    "```python\n",
    "name = \"Alice\"\n",
    "age = 31.41\n",
    "```\n",
    "\n",
    "The result should be:\n",
    "`greeting = \"Hello, my name is Alice and I am 31 years old.\"`"
   ]
  },
  {
   "cell_type": "code",
   "execution_count": 24,
   "id": "16a0af2b",
   "metadata": {},
   "outputs": [],
   "source": [
    "# prerequisites (don't edit this block)\n",
    "name = \"Alice\"\n",
    "age = 31.41\n",
    "greeting = \"\""
   ]
  },
  {
   "cell_type": "code",
   "execution_count": 29,
   "id": "af3dde5d",
   "metadata": {},
   "outputs": [],
   "source": [
    "# Solution (put your code here)\n",
    "greeting = \"Hello, my name is {} and I am {} years old.\".format(name, round(age))"
   ]
  },
  {
   "cell_type": "code",
   "execution_count": 30,
   "id": "19760c13",
   "metadata": {},
   "outputs": [],
   "source": [
    "# Test case (don't edit this block)\n",
    "assert greeting == \"Hello, my name is Alice and I am 31 years old.\""
   ]
  },
  {
   "cell_type": "markdown",
   "id": "dc197061",
   "metadata": {},
   "source": [
    "## Task 5: Built-in Functions\n",
    "\n",
    "Use built-in functions to convert `\"A\"` to a numeric value and store it in the variable `a_numeric`."
   ]
  },
  {
   "cell_type": "code",
   "execution_count": 32,
   "id": "5dd3bd65",
   "metadata": {},
   "outputs": [],
   "source": [
    "# prerequisites (don't edit this block)\n",
    "a = \"A\"\n",
    "a_numeric = 0"
   ]
  },
  {
   "cell_type": "code",
   "execution_count": 34,
   "id": "ed1de55f",
   "metadata": {},
   "outputs": [],
   "source": [
    "# Solution (put your code here)\n",
    "a_numeric = ord(a)"
   ]
  },
  {
   "cell_type": "code",
   "execution_count": 35,
   "id": "a752d4d3",
   "metadata": {},
   "outputs": [],
   "source": [
    "# Test case (don't edit this block)\n",
    "assert a_numeric == 65, f\"Expected 65 but got {a_numeric}\""
   ]
  },
  {
   "cell_type": "markdown",
   "id": "3464ff25",
   "metadata": {},
   "source": [
    "---\n",
    "\n",
    "Lecture: AI I - Basics \n",
    "\n",
    "Next: [**Chapter 2.2: Data Structures**](../02_python/02_data_structures.ipynb)"
   ]
  }
 ],
 "metadata": {
  "kernelspec": {
   "display_name": "ai-basics",
   "language": "python",
   "name": "python3"
  },
  "language_info": {
   "codemirror_mode": {
    "name": "ipython",
    "version": 3
   },
   "file_extension": ".py",
   "mimetype": "text/x-python",
   "name": "python",
   "nbconvert_exporter": "python",
   "pygments_lexer": "ipython3",
   "version": "3.12.11"
  }
 },
 "nbformat": 4,
 "nbformat_minor": 5
}
