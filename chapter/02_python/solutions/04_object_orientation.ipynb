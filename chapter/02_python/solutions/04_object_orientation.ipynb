{
 "cells": [
  {
   "cell_type": "markdown",
   "id": "959dd81c",
   "metadata": {},
   "source": [
    "Lecture: AI I - Basics \n",
    "\n",
    "Previous:\n",
    "[**Chapter 2.4: Object Orientation**](../04_object_orientation.ipynb)\n",
    "\n",
    "---"
   ]
  },
  {
   "cell_type": "markdown",
   "id": "4d9ecdd5",
   "metadata": {},
   "source": [
    "# Solution 2.4: Object Orientation\n",
    "\n",
    "- [Task 1: FizzBuzz](#task-1-fizzbuzz)\n",
    "- [Task 2: Check for Prime](#task-2-check-for-prime)\n",
    "- [Task 3: Factorial](#task-3-factorial)"
   ]
  },
  {
   "cell_type": "markdown",
   "id": "d738505e",
   "metadata": {},
   "source": [
    "> Hint: When doing the exercises put your solution in the designated \"Solution\" section:\n",
    "> ```python\n",
    "> # Solution (put your code here)\n",
    "> ```"
   ]
  },
  {
   "cell_type": "markdown",
   "id": "a3d0ac3f",
   "metadata": {},
   "source": [
    "## Task 1: FizzBuzz\n",
    "\n",
    "Implement the FizzBuzz problem using a for loop. The program should return a list of the numbers from 1 to N, but for multiples of three, it should return \"Fizz\" instead of the number, and for the multiples of five, it should return \"Buzz\". For numbers that are multiples of both three and five, it should return \"FizzBuzz\"."
   ]
  },
  {
   "cell_type": "code",
   "execution_count": 1,
   "id": "8eca0a30",
   "metadata": {},
   "outputs": [],
   "source": [
    "# prerequisites (don't edit this block)\n",
    "def fizzbuzz(n):\n",
    "    pass"
   ]
  },
  {
   "cell_type": "code",
   "execution_count": null,
   "id": "df721bd6",
   "metadata": {},
   "outputs": [],
   "source": [
    "# Solution (put your code here)\n",
    "def fizzbuzz(n):  # noqa: F811\n",
    "    result = []\n",
    "    for i in range(1, n + 1):\n",
    "        if i % 3 == 0 and i % 5 == 0:\n",
    "            result.append(\"FizzBuzz\")\n",
    "        elif i % 3 == 0:\n",
    "            result.append(\"Fizz\")\n",
    "        elif i % 5 == 0:\n",
    "            result.append(\"Buzz\")\n",
    "        else:\n",
    "            result.append(i)\n",
    "    return result"
   ]
  },
  {
   "cell_type": "code",
   "execution_count": 3,
   "id": "e3aa8219",
   "metadata": {},
   "outputs": [],
   "source": [
    "# Test case (don't edit this block)\n",
    "assert fizzbuzz(1) == [1], \"Test case failed for n=1\"\n",
    "assert fizzbuzz(3) == [1, 2, \"Fizz\"], \"Test case failed for n=3\"\n",
    "assert fizzbuzz(5) == [1, 2, \"Fizz\", 4, \"Buzz\"], \"Test case failed for n=5\"\n",
    "assert fizzbuzz(15) == [1, 2, \"Fizz\", 4, \"Buzz\", \"Fizz\", 7, 8, \"Fizz\", \"Buzz\", 11, \"Fizz\", 13, 14, \"FizzBuzz\"], \"Test case failed for n=15\""
   ]
  },
  {
   "cell_type": "markdown",
   "id": "88390647",
   "metadata": {},
   "source": [
    "## Task 2: Check for Prime\n",
    "\n",
    "Implement a function that checks if a number is prime. A prime number is a number greater than 1 that has no positive divisors other than 1 and itself."
   ]
  },
  {
   "cell_type": "code",
   "execution_count": 4,
   "id": "2cdcf432",
   "metadata": {},
   "outputs": [],
   "source": [
    "# prerequisites (don't edit this block)\n",
    "def is_prime(n):\n",
    "    pass"
   ]
  },
  {
   "cell_type": "code",
   "execution_count": null,
   "id": "813afb38",
   "metadata": {},
   "outputs": [],
   "source": [
    "# Solution (put your code here)\n",
    "def is_prime(n):  # noqa: F811\n",
    "    if n <= 1:\n",
    "        return False\n",
    "    for i in range(2, int(n ** 0.5) + 1):\n",
    "        if n % i == 0:\n",
    "            return False\n",
    "    return True"
   ]
  },
  {
   "cell_type": "code",
   "execution_count": 7,
   "id": "8a028018",
   "metadata": {},
   "outputs": [],
   "source": [
    "# Test case (don't edit this block)\n",
    "assert is_prime(1) is False, \"Test case failed for n=1\"\n",
    "assert is_prime(2) is True, \"Test case failed for n=2\"\n",
    "assert is_prime(3) is True, \"Test case failed for n=3\"\n",
    "assert is_prime(4) is False, \"Test case failed for n=4\"\n",
    "assert is_prime(5) is True, \"Test case failed for n=5\"\n",
    "assert is_prime(17) is True, \"Test case failed for n=17\"\n",
    "assert is_prime(0) is False, \"Test case failed for n=0\"\n",
    "assert is_prime(-1) is False, \"Test case failed for n=-1\""
   ]
  },
  {
   "cell_type": "markdown",
   "id": "bed4a0c9",
   "metadata": {},
   "source": [
    "## Task 3: Factorial\n",
    "\n",
    "Implement a lambda function called `factorial` that takes a positive integer `n` and returns the factorial of `n`. The factorial of a number is the product of all positive integers less than or equal to that number. For example, the factorial of 5 (denoted as 5!) is 5 * 4 * 3 * 2 * 1 = 120."
   ]
  },
  {
   "cell_type": "code",
   "execution_count": null,
   "id": "da7b49e0",
   "metadata": {},
   "outputs": [],
   "source": [
    "# prerequisites (don't edit this block)\n",
    "\n",
    "factorial = lambda n: n  # noqa: E731"
   ]
  },
  {
   "cell_type": "code",
   "execution_count": null,
   "id": "ec4f85bc",
   "metadata": {},
   "outputs": [],
   "source": [
    "# Solution (put your code here)\n",
    "factorial = lambda n: 1 if n == 0 else n * factorial(n - 1)  # noqa: E731"
   ]
  },
  {
   "cell_type": "code",
   "execution_count": 9,
   "id": "3dfa3b8b",
   "metadata": {},
   "outputs": [],
   "source": [
    "# Test case (don't edit this block)\n",
    "assert factorial(1) == 1, \"Test case failed for n=1\"\n",
    "assert factorial(5) == 120, \"Test case failed for n=5\"\n",
    "assert factorial(0) == 1, \"Test case failed for n=0\""
   ]
  },
  {
   "cell_type": "markdown",
   "id": "823f1f8a",
   "metadata": {},
   "source": [
    "---\n",
    "\n",
    "Lecture: AI I - Basics \n",
    "\n",
    "Next: [**Chapter 2.5: Additionals**](../02_python/05_additionals.ipynb)"
   ]
  }
 ],
 "metadata": {
  "kernelspec": {
   "display_name": "ai-lecture",
   "language": "python",
   "name": "python3"
  },
  "language_info": {
   "codemirror_mode": {
    "name": "ipython",
    "version": 3
   },
   "file_extension": ".py",
   "mimetype": "text/x-python",
   "name": "python",
   "nbconvert_exporter": "python",
   "pygments_lexer": "ipython3",
   "version": "3.12.11"
  }
 },
 "nbformat": 4,
 "nbformat_minor": 5
}
