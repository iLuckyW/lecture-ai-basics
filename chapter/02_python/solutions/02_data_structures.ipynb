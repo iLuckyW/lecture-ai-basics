{
 "cells": [
  {
   "cell_type": "markdown",
   "id": "7bc6d8dc",
   "metadata": {},
   "source": [
    "Lecture: AI I - Basics \n",
    "\n",
    "Previous:\n",
    "[**Chapter 2.2: Data Structures**](../02_data_structures.ipynb)\n",
    "\n",
    "---"
   ]
  },
  {
   "cell_type": "markdown",
   "id": "5dbebbb0",
   "metadata": {},
   "source": [
    "# Solution 2.2: Data Structures\n",
    "\n",
    "- [Task 1: List Slicing](#task-1-list-slicing)\n",
    "- [Task 2: Set Comparisons](#task-2-set-comparisons)\n",
    "- [Task 3: Dictionary Operations](#task-3-dictionary-operations)\n",
    "- [Task 4: Datetime](#task-4-datetime)"
   ]
  },
  {
   "cell_type": "markdown",
   "id": "9f50a3fc",
   "metadata": {},
   "source": [
    "> Hint: When doing the exercises put your solution in the designated \"Solution\" section:\n",
    "> ```python\n",
    "> # Solution (put your code here)\n",
    "> ```"
   ]
  },
  {
   "cell_type": "markdown",
   "id": "a5a7db54",
   "metadata": {},
   "source": [
    "## Task 1: List Slicing\n",
    "\n",
    "Practice extracting all even numbers under ten from a list using slicing."
   ]
  },
  {
   "cell_type": "code",
   "execution_count": 1,
   "id": "7173b612",
   "metadata": {},
   "outputs": [],
   "source": [
    "# prerequisites (don't edit this block)\n",
    "nums = list(range(1, 11))\n",
    "even_nums_under_ten = []"
   ]
  },
  {
   "cell_type": "code",
   "execution_count": 2,
   "id": "fd0991ce",
   "metadata": {},
   "outputs": [],
   "source": [
    "# Solution (put your code here)\n",
    "even_nums_under_ten = nums[1:8:2]"
   ]
  },
  {
   "cell_type": "code",
   "execution_count": 3,
   "id": "56872cfe",
   "metadata": {},
   "outputs": [],
   "source": [
    "# Test case (don't edit this block)\n",
    "assert even_nums_under_ten == [2, 4, 6, 8]"
   ]
  },
  {
   "cell_type": "markdown",
   "id": "351a524c",
   "metadata": {},
   "source": [
    "## Task 2: Set Comparisons\n",
    "\n",
    "Given:\n",
    "```python\n",
    "a = {1, 2, 3, 4}\n",
    "b = {3, 4, 5, 6}\n",
    "```\n",
    "\n",
    "Find the symmetric difference between `a` and `b`. Store the result in `c`"
   ]
  },
  {
   "cell_type": "code",
   "execution_count": null,
   "id": "1bfd4307",
   "metadata": {},
   "outputs": [],
   "source": [
    "# prerequisites (don't edit this block)\n",
    "a = {1, 2, 3, 4}\n",
    "b = {3, 4, 5, 6}\n",
    "c = {}"
   ]
  },
  {
   "cell_type": "code",
   "execution_count": null,
   "id": "ea3eb354",
   "metadata": {},
   "outputs": [],
   "source": [
    "# Solution (put your code here)\n",
    "c = a ^ b"
   ]
  },
  {
   "cell_type": "code",
   "execution_count": null,
   "id": "2f079a09",
   "metadata": {},
   "outputs": [],
   "source": [
    "# Test case (don't edit this block)\n",
    "assert c == {1, 2, 5, 6}"
   ]
  },
  {
   "cell_type": "markdown",
   "id": "acd47928",
   "metadata": {},
   "source": [
    "## Task 3: Dictionary Operations\n",
    "\n",
    "Practice adding, updating, and retrieving dictionary values.\n",
    "Add `\"Charlie\"` with a score of `78`."
   ]
  },
  {
   "cell_type": "code",
   "execution_count": null,
   "id": "221a6644",
   "metadata": {},
   "outputs": [],
   "source": [
    "# prerequisites (don't edit this block)\n",
    "grades = {\n",
    "    \"Alice\": 85, \n",
    "    \"Bob\": 90\n",
    "}"
   ]
  },
  {
   "cell_type": "code",
   "execution_count": null,
   "id": "ab6ed5ff",
   "metadata": {},
   "outputs": [],
   "source": [
    "# Solution (put your code here)\n",
    "grades[\"Charlie\"] = 78"
   ]
  },
  {
   "cell_type": "code",
   "execution_count": null,
   "id": "23e8baa7",
   "metadata": {},
   "outputs": [],
   "source": [
    "# Test case (don't edit this block)\n",
    "assert grades.get(\"Charlie\") == 78, \"Expected Charlie's score to be 78\""
   ]
  },
  {
   "cell_type": "markdown",
   "id": "74c6dc97",
   "metadata": {},
   "source": [
    "## Task 4: Datetime\n",
    "\n",
    "Work with datetime and timedelta.\n",
    "Given today's date, substract a timedelta to get the first of january of 2025."
   ]
  },
  {
   "cell_type": "code",
   "execution_count": null,
   "id": "95761f26",
   "metadata": {},
   "outputs": [],
   "source": [
    "# prerequisites (don't edit this block)\n",
    "\n",
    "from datetime import datetime\n",
    "\n",
    "today_date = datetime.today()\n",
    "date = datetime.now()"
   ]
  },
  {
   "cell_type": "code",
   "execution_count": 9,
   "id": "20cee23b",
   "metadata": {},
   "outputs": [],
   "source": [
    "# Solution (put your code here)\n",
    "time_delta = datetime.today() - datetime(2025, 1, 2)\n",
    "date = today_date - time_delta"
   ]
  },
  {
   "cell_type": "code",
   "execution_count": 10,
   "id": "b0a505e9",
   "metadata": {},
   "outputs": [],
   "source": [
    "# Test case (don't edit this block)\n",
    "assert date.strftime(\"%Y-%m-%d\") == \"2025-01-01\""
   ]
  },
  {
   "cell_type": "markdown",
   "id": "fb2dbb7c",
   "metadata": {},
   "source": [
    "---\n",
    "\n",
    "Lecture: AI I - Basics \n",
    "\n",
    "Next: [**Chapter 2.3: Control Flow**](../02_python/03_control_flow.ipynb)"
   ]
  }
 ],
 "metadata": {
  "kernelspec": {
   "display_name": "ai-lecture",
   "language": "python",
   "name": "python3"
  },
  "language_info": {
   "codemirror_mode": {
    "name": "ipython",
    "version": 3
   },
   "file_extension": ".py",
   "mimetype": "text/x-python",
   "name": "python",
   "nbconvert_exporter": "python",
   "pygments_lexer": "ipython3",
   "version": "3.12.11"
  }
 },
 "nbformat": 4,
 "nbformat_minor": 5
}
