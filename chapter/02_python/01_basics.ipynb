{
 "cells": [
  {
   "cell_type": "markdown",
   "id": "85b9dd3c",
   "metadata": {},
   "source": [
    "Lecture: AI I - Basics \n",
    "\n",
    "Previous:\n",
    "[**Chapter 1.1: Jupyter Notebook Basics**](../01_prerequisites/01_basics.ipynb)\n",
    "\n",
    "---"
   ]
  },
  {
   "cell_type": "markdown",
   "id": "519c7fe0",
   "metadata": {},
   "source": [
    "# Chapter 2.1: Python Basics\n",
    "\n",
    "- [Python](#Python)\n",
    "- [Variables](#Variables)\n",
    "- [Basic data types](#Basic-data-types)\n",
    "    - [Numeric types and operators](#numeric-type-and-operators)\n",
    "    - [Boolean type and operators](#boolean-types-and-operators)\n",
    "    - [String type and operators](#String-type-and-operators)\n",
    "- [String formatting](#String-formatting)\n",
    "- [Built-in functions](#Built-in-functions)"
   ]
  },
  {
   "cell_type": "markdown",
   "id": "56b243d2",
   "metadata": {},
   "source": [
    "## Python\n",
    "### The Zem of Python\n",
    "\n",
    "The Zen of Python, authored by Tim Peters, is a collection of guiding principles that influence Python’s design philosophy and programming style. It emphasises simplicity, readability, and clarity. These principles encourage developers to write clean, understandable, and maintainable code rather than overly clever or complicated solutions. You can view the full Zen by running import this in a Python interpreter, reminding yourself of these best practices whenever writing Python code for data analysis, AI, or general software development."
   ]
  },
  {
   "cell_type": "code",
   "execution_count": null,
   "id": "787a3967",
   "metadata": {},
   "outputs": [
    {
     "name": "stdout",
     "output_type": "stream",
     "text": [
      "The Zen of Python, by Tim Peters\n",
      "\n",
      "Beautiful is better than ugly.\n",
      "Explicit is better than implicit.\n",
      "Simple is better than complex.\n",
      "Complex is better than complicated.\n",
      "Flat is better than nested.\n",
      "Sparse is better than dense.\n",
      "Readability counts.\n",
      "Special cases aren't special enough to break the rules.\n",
      "Although practicality beats purity.\n",
      "Errors should never pass silently.\n",
      "Unless explicitly silenced.\n",
      "In the face of ambiguity, refuse the temptation to guess.\n",
      "There should be one-- and preferably only one --obvious way to do it.\n",
      "Although that way may not be obvious at first unless you're Dutch.\n",
      "Now is better than never.\n",
      "Although never is often better than *right* now.\n",
      "If the implementation is hard to explain, it's a bad idea.\n",
      "If the implementation is easy to explain, it may be a good idea.\n",
      "Namespaces are one honking great idea -- let's do more of those!\n"
     ]
    }
   ],
   "source": [
    "import this  # noqa: F401"
   ]
  },
  {
   "cell_type": "markdown",
   "id": "feed1c38",
   "metadata": {},
   "source": [
    "### Python version\n",
    "\n",
    "Python is a versatile, high-level programming language widely used in data analysis, AI, and software development. It has evolved significantly since its first official release, Python 1.0 in 1994, which established its core features. In 2000, Python 2.0 was released. The last version of the Python 2.x series, was Python 2.7 with a end of life support until January 1, 2020. Python 3.0, released in December 2008, which brought backward-incompatible changes to improve consistency, such as treating print as a function and supporting Unicode by default. The current version of Python is 3.13 released in 2024.\n",
    "\n",
    "For this module, ensure your environment uses Python 3.12 to remain compatible with all examples and exercises."
   ]
  },
  {
   "cell_type": "code",
   "execution_count": 118,
   "id": "c8f59197",
   "metadata": {},
   "outputs": [
    {
     "name": "stdout",
     "output_type": "stream",
     "text": [
      "Python 3.12.11\n"
     ]
    }
   ],
   "source": [
    "!python --version"
   ]
  },
  {
   "cell_type": "markdown",
   "id": "34ef627a",
   "metadata": {},
   "source": [
    "## Variables\n",
    "\n",
    "In Python, variables are names that store data values. You can assign any value to a variable using the equals sign (`=`), and the type is determined automatically based on what you assign (this is called _dynamic typing_):"
   ]
  },
  {
   "cell_type": "code",
   "execution_count": 119,
   "id": "b44fa29e",
   "metadata": {},
   "outputs": [
    {
     "name": "stdout",
     "output_type": "stream",
     "text": [
      "1 3.141 Hello, World! True\n"
     ]
    }
   ],
   "source": [
    "a = 1\n",
    "b = 3.141\n",
    "c = \"Hello, World!\"\n",
    "d = True\n",
    "\n",
    "print(a, b, c, d)"
   ]
  },
  {
   "cell_type": "markdown",
   "id": "4d7b5eaf",
   "metadata": {},
   "source": [
    "You can assign multiple variables at the same time, for example:"
   ]
  },
  {
   "cell_type": "code",
   "execution_count": 120,
   "id": "9e7a4477",
   "metadata": {},
   "outputs": [
    {
     "name": "stdout",
     "output_type": "stream",
     "text": [
      "10 20\n"
     ]
    }
   ],
   "source": [
    "a = b = 10\n",
    "# Or\n",
    "a, b = 10, 20\n",
    "\n",
    "print(a, b)"
   ]
  },
  {
   "cell_type": "markdown",
   "id": "15f78c62",
   "metadata": {},
   "source": [
    "## Basic data types"
   ]
  },
  {
   "cell_type": "markdown",
   "id": "2e3636ce",
   "metadata": {},
   "source": [
    "### Numeric type and operators\n",
    "\n",
    "Python has three main [numeric types](https://docs.python.org/3/library/stdtypes.html#numeric-types-int-float-complex): \n",
    "- integers (int), which represent whole numbers like 5 or -3\n",
    "- floating-point numbers (float), which represent real numbers with decimals like 3.14 or -0.01\n",
    "- complex numbers (complex), used for calculations involving imaginary numbers, written in the form a + bj, such as 2 + 3j \n",
    "\n",
    "These types allow you to perform a wide range of mathematical operations easily in Python."
   ]
  },
  {
   "cell_type": "code",
   "execution_count": 121,
   "id": "4a5a8217",
   "metadata": {},
   "outputs": [
    {
     "data": {
      "text/plain": [
       "int"
      ]
     },
     "execution_count": 121,
     "metadata": {},
     "output_type": "execute_result"
    }
   ],
   "source": [
    "type(1)"
   ]
  },
  {
   "cell_type": "code",
   "execution_count": 122,
   "id": "96c12878",
   "metadata": {},
   "outputs": [
    {
     "data": {
      "text/plain": [
       "float"
      ]
     },
     "execution_count": 122,
     "metadata": {},
     "output_type": "execute_result"
    }
   ],
   "source": [
    "type(1.1)"
   ]
  },
  {
   "cell_type": "code",
   "execution_count": 123,
   "id": "60d85ed6",
   "metadata": {},
   "outputs": [
    {
     "data": {
      "text/plain": [
       "complex"
      ]
     },
     "execution_count": 123,
     "metadata": {},
     "output_type": "execute_result"
    }
   ],
   "source": [
    "type(1j)"
   ]
  },
  {
   "cell_type": "markdown",
   "id": "2633bd7c",
   "metadata": {},
   "source": [
    "#### Operation\n",
    "\n",
    "These symbols are Python’s basic arithmetic operators, allowing you to perform addition, subtraction, multiplication, division, modulo operations, integer division, and exponentiation in your calculations.\n",
    "\n",
    "| Operation | Meaning |\n",
    "|-----------|---------|\n",
    "| `x + y`       | Addition |\n",
    "| `x - y`       | Subtraction |\n",
    "| `x * y`       | Multiplication |\n",
    "| `x / y`       | Division (returns a float) |\n",
    "| `x // y`      | Floor division (returns the largest integer less than or equal to the result) |\n",
    "| `x % y`       | Modulus (returns the remainder of the division) |\n",
    "| `x ** y`      | Exponentiation (x raised to the power of y\n",
    "| `-x`          | Negation (changes the sign of x) |"
   ]
  },
  {
   "cell_type": "code",
   "execution_count": 124,
   "id": "25a9429f",
   "metadata": {},
   "outputs": [
    {
     "data": {
      "text/plain": [
       "45.14"
      ]
     },
     "execution_count": 124,
     "metadata": {},
     "output_type": "execute_result"
    }
   ],
   "source": [
    "x = 42\n",
    "y = 3.14\n",
    "\n",
    "x + y  # Addition"
   ]
  },
  {
   "cell_type": "code",
   "execution_count": 125,
   "id": "da4a7657",
   "metadata": {},
   "outputs": [
    {
     "data": {
      "text/plain": [
       "38.86"
      ]
     },
     "execution_count": 125,
     "metadata": {},
     "output_type": "execute_result"
    }
   ],
   "source": [
    "x - y  # Subtraction"
   ]
  },
  {
   "cell_type": "code",
   "execution_count": 126,
   "id": "92edd706",
   "metadata": {},
   "outputs": [
    {
     "data": {
      "text/plain": [
       "13.375796178343949"
      ]
     },
     "execution_count": 126,
     "metadata": {},
     "output_type": "execute_result"
    }
   ],
   "source": [
    "x / y  # Division"
   ]
  },
  {
   "cell_type": "code",
   "execution_count": 127,
   "id": "929b4b4f",
   "metadata": {},
   "outputs": [
    {
     "data": {
      "text/plain": [
       "13.0"
      ]
     },
     "execution_count": 127,
     "metadata": {},
     "output_type": "execute_result"
    }
   ],
   "source": [
    "x // y  # Floor division"
   ]
  },
  {
   "cell_type": "code",
   "execution_count": 128,
   "id": "cdf8166b",
   "metadata": {},
   "outputs": [
    {
     "data": {
      "text/plain": [
       "1.1799999999999984"
      ]
     },
     "execution_count": 128,
     "metadata": {},
     "output_type": "execute_result"
    }
   ],
   "source": [
    "x % y   # Modulus"
   ]
  },
  {
   "cell_type": "code",
   "execution_count": 129,
   "id": "c1d88b60",
   "metadata": {},
   "outputs": [
    {
     "name": "stdout",
     "output_type": "stream",
     "text": [
      "1764 1764\n"
     ]
    }
   ],
   "source": [
    "print(x ** 2, pow(x, 2))  # Exponentiation"
   ]
  },
  {
   "cell_type": "code",
   "execution_count": 130,
   "id": "4898c0ae",
   "metadata": {},
   "outputs": [
    {
     "data": {
      "text/plain": [
       "6.48074069840786"
      ]
     },
     "execution_count": 130,
     "metadata": {},
     "output_type": "execute_result"
    }
   ],
   "source": [
    "x ** 0.5  # Square root"
   ]
  },
  {
   "cell_type": "code",
   "execution_count": 131,
   "id": "cbf0e10f",
   "metadata": {},
   "outputs": [
    {
     "data": {
      "text/plain": [
       "43"
      ]
     },
     "execution_count": 131,
     "metadata": {},
     "output_type": "execute_result"
    }
   ],
   "source": [
    "x += 1  # Increment x by 1 equals x = x + 1\n",
    "x"
   ]
  },
  {
   "cell_type": "markdown",
   "id": "d90010f4",
   "metadata": {},
   "source": [
    "#### Bitwise operations \n",
    "[Bitwise operations](https://docs.python.org/3/library/stdtypes.html#bitwise-operations-on-integer-types) in Python allow you to manipulate individual bits of integers, which can be useful for low-level programming tasks. The following table lists the bitwise operators available in Python:\n",
    "\n",
    "| Operator | Meaning |\n",
    "|----------|---------|\n",
    "| `x \\| y`       | Bitwise OR (sets each bit to 1 if either bit is 1) |\n",
    "| `x & y`       | Bitwise AND (sets each bit to 1 if both bits are 1) |\n",
    "| `x ^ y`       | Bitwise XOR (sets each bit to 1 if only one of the bits is 1) |\n",
    "| `~x`       | Bitwise NOT (inverts all bits) |\n",
    "| `x << y`       | Left shift (shifts bits of x to the left by y positions, filling with zeros) |\n",
    "| `x >> y`       | Right shift (shifts bits of x to the right by y positions, filling with the sign bit for signed integers) |"
   ]
  },
  {
   "cell_type": "code",
   "execution_count": 132,
   "id": "da9fa9d7",
   "metadata": {},
   "outputs": [
    {
     "data": {
      "text/plain": [
       "'0b11'"
      ]
     },
     "execution_count": 132,
     "metadata": {},
     "output_type": "execute_result"
    }
   ],
   "source": [
    "a = 0b10\n",
    "b = 0b11\n",
    "\n",
    "bin(a | b)"
   ]
  },
  {
   "cell_type": "code",
   "execution_count": 133,
   "id": "e5f20436",
   "metadata": {},
   "outputs": [
    {
     "data": {
      "text/plain": [
       "'0b10'"
      ]
     },
     "execution_count": 133,
     "metadata": {},
     "output_type": "execute_result"
    }
   ],
   "source": [
    "bin(a & b)"
   ]
  },
  {
   "cell_type": "code",
   "execution_count": 134,
   "id": "a0b117db",
   "metadata": {},
   "outputs": [
    {
     "data": {
      "text/plain": [
       "'0b1'"
      ]
     },
     "execution_count": 134,
     "metadata": {},
     "output_type": "execute_result"
    }
   ],
   "source": [
    "bin(a ^ b)"
   ]
  },
  {
   "cell_type": "code",
   "execution_count": 135,
   "id": "927ae643",
   "metadata": {},
   "outputs": [
    {
     "data": {
      "text/plain": [
       "'-0b11'"
      ]
     },
     "execution_count": 135,
     "metadata": {},
     "output_type": "execute_result"
    }
   ],
   "source": [
    "bin(~a)"
   ]
  },
  {
   "cell_type": "code",
   "execution_count": 136,
   "id": "c75a426c",
   "metadata": {},
   "outputs": [
    {
     "data": {
      "text/plain": [
       "'0b100'"
      ]
     },
     "execution_count": 136,
     "metadata": {},
     "output_type": "execute_result"
    }
   ],
   "source": [
    "bin(a << 1)"
   ]
  },
  {
   "cell_type": "code",
   "execution_count": 137,
   "id": "ebcc883e",
   "metadata": {},
   "outputs": [
    {
     "data": {
      "text/plain": [
       "'0b1'"
      ]
     },
     "execution_count": 137,
     "metadata": {},
     "output_type": "execute_result"
    }
   ],
   "source": [
    "bin(a >> 1)"
   ]
  },
  {
   "cell_type": "markdown",
   "id": "c72e50a9",
   "metadata": {},
   "source": [
    "You can convert a float to an int and convert an int to a float:"
   ]
  },
  {
   "cell_type": "code",
   "execution_count": 138,
   "id": "8e20503d",
   "metadata": {},
   "outputs": [
    {
     "data": {
      "text/plain": [
       "3"
      ]
     },
     "execution_count": 138,
     "metadata": {},
     "output_type": "execute_result"
    }
   ],
   "source": [
    "int(y)"
   ]
  },
  {
   "cell_type": "code",
   "execution_count": 139,
   "id": "b531e7d7",
   "metadata": {},
   "outputs": [
    {
     "data": {
      "text/plain": [
       "43.0"
      ]
     },
     "execution_count": 139,
     "metadata": {},
     "output_type": "execute_result"
    }
   ],
   "source": [
    "float(x)"
   ]
  },
  {
   "cell_type": "markdown",
   "id": "4810b1e9",
   "metadata": {},
   "source": [
    "Python provides many built-in or math functions in the built-in [math](https://docs.python.org/3/library/math.html) module, such as math.sqrt(16) for square roots and math.sin(0) for trigonometric calculations:"
   ]
  },
  {
   "cell_type": "code",
   "execution_count": 140,
   "id": "fcbea4e4",
   "metadata": {},
   "outputs": [
    {
     "name": "stdout",
     "output_type": "stream",
     "text": [
      "4\n",
      "3\n",
      "43\n",
      "43.01162633521314\n",
      "3.14\n",
      "2\n"
     ]
    }
   ],
   "source": [
    "from math import ceil, floor\n",
    "\n",
    "print(ceil(y))  # Round up\n",
    "print(floor(y))  # Round down\n",
    "\n",
    "print(abs(-x))\n",
    "print(abs(-x + 1j))\n",
    "print(round(y, 2))  # Round to 2 decimal places\n",
    "print(pow(3, 3, 5))  # 3^3 % 5"
   ]
  },
  {
   "cell_type": "markdown",
   "id": "ffbeafe1",
   "metadata": {},
   "source": [
    "#### Notation for binary, octal, and hexadecimal numbers\n",
    "\n",
    "In Python, you can write numbers in different bases using specific prefixes: \n",
    "- binary with 0b (e.g. 0b1010 for 10)\n",
    "- octal with 0o (e.g. 0o12 for 10)\n",
    "- hexadecimal with 0x (e.g. 0xA for 10)\n",
    "\n",
    "These notations are useful when working with low-level programming, bitwise operations, or interpreting data in various numeric systems."
   ]
  },
  {
   "cell_type": "code",
   "execution_count": 141,
   "id": "8452b066",
   "metadata": {},
   "outputs": [
    {
     "name": "stdout",
     "output_type": "stream",
     "text": [
      "170 170 0b10101010\n"
     ]
    }
   ],
   "source": [
    "print(0b10101010, int(\"0b10101010\", 2), bin(170))"
   ]
  },
  {
   "cell_type": "code",
   "execution_count": 142,
   "id": "8f1ad1d5",
   "metadata": {},
   "outputs": [
    {
     "name": "stdout",
     "output_type": "stream",
     "text": [
      "170 170 0o252\n"
     ]
    }
   ],
   "source": [
    "print(0o252, int(\"0o252\", 8), oct(170))"
   ]
  },
  {
   "cell_type": "code",
   "execution_count": 143,
   "id": "cee6b0f5",
   "metadata": {},
   "outputs": [
    {
     "name": "stdout",
     "output_type": "stream",
     "text": [
      "170 170 0xaa\n"
     ]
    }
   ],
   "source": [
    "print(0xAA, int(\"0xAA\", 16), hex(170))"
   ]
  },
  {
   "cell_type": "markdown",
   "id": "04a0a4c7",
   "metadata": {},
   "source": [
    "# Decimal as additional numeric type\n",
    "\n",
    "The decimal module in Python provides the [Decimal](https://docs.python.org/3/library/decimal.html) data type for decimal floating-point arithmetic with high precision, which is especially useful for financial calculations where accuracy is critical. Unlike regular float numbers that can have small rounding errors due to binary representation, Decimal ensures precise decimal calculations."
   ]
  },
  {
   "cell_type": "code",
   "execution_count": 144,
   "id": "f330f7fd",
   "metadata": {},
   "outputs": [
    {
     "data": {
      "text/plain": [
       "0.30000000000000004"
      ]
     },
     "execution_count": 144,
     "metadata": {},
     "output_type": "execute_result"
    }
   ],
   "source": [
    "0.1 + 0.2"
   ]
  },
  {
   "cell_type": "code",
   "execution_count": 145,
   "id": "8575861a",
   "metadata": {},
   "outputs": [
    {
     "data": {
      "text/plain": [
       "Decimal('0.3')"
      ]
     },
     "execution_count": 145,
     "metadata": {},
     "output_type": "execute_result"
    }
   ],
   "source": [
    "from decimal import Decimal\n",
    "\n",
    "Decimal(\"0.1\") + Decimal(\"0.2\")"
   ]
  },
  {
   "cell_type": "markdown",
   "id": "2c6c7841",
   "metadata": {},
   "source": [
    "### Boolean types and operators\n",
    "\n",
    "Boolean values in Python represent truth values and can be either `True` or `False`. They are often used in conditional statements and logical operations."
   ]
  },
  {
   "cell_type": "code",
   "execution_count": 146,
   "id": "0adf9fc0",
   "metadata": {},
   "outputs": [
    {
     "data": {
      "text/plain": [
       "bool"
      ]
     },
     "execution_count": 146,
     "metadata": {},
     "output_type": "execute_result"
    }
   ],
   "source": [
    "type(True)"
   ]
  },
  {
   "cell_type": "markdown",
   "id": "81b0af1a",
   "metadata": {},
   "source": [
    "Python provides several [operators](https://docs.python.org/3/library/stdtypes.html#boolean-operations-and-or-not) for working with boolean values:\n",
    "\n",
    "| Operation | Meaning |\n",
    "|----|---|\n",
    "| `and`  | Logical AND (conjunction)|\n",
    "| `or`  | Logical OR (disjunction) |\n",
    "| `not`  | \tLogical NOT (negation) |"
   ]
  },
  {
   "cell_type": "code",
   "execution_count": 147,
   "id": "4cd61871",
   "metadata": {},
   "outputs": [
    {
     "data": {
      "text/plain": [
       "True"
      ]
     },
     "execution_count": 147,
     "metadata": {},
     "output_type": "execute_result"
    }
   ],
   "source": [
    "True and True"
   ]
  },
  {
   "cell_type": "code",
   "execution_count": 148,
   "id": "4c4c4225",
   "metadata": {},
   "outputs": [
    {
     "data": {
      "text/plain": [
       "True"
      ]
     },
     "execution_count": 148,
     "metadata": {},
     "output_type": "execute_result"
    }
   ],
   "source": [
    "True or False"
   ]
  },
  {
   "cell_type": "code",
   "execution_count": 149,
   "id": "144db415",
   "metadata": {},
   "outputs": [
    {
     "data": {
      "text/plain": [
       "True"
      ]
     },
     "execution_count": 149,
     "metadata": {},
     "output_type": "execute_result"
    }
   ],
   "source": [
    "not False"
   ]
  },
  {
   "cell_type": "markdown",
   "id": "624af943",
   "metadata": {},
   "source": [
    "in addition to these logical operators, Python also supports [comparison operators](https://docs.python.org/3/library/stdtypes.html#comparisons) that return boolean values based on the comparison of two values:\n",
    "\n",
    "| Operation | Meaning |\n",
    "|----|---|\n",
    "| `<`  | strictly less than |\n",
    "| `<=`  | less than or equal |\n",
    "| `>`  | strictly greater than |\n",
    "| `>=`  | greater than or equal |\n",
    "| `==`  | equal |\n",
    "| `!=`  | not equal |\n",
    "| `is`  | object identity |\n",
    "| `is not`  | negated object identity |\n",
    "| `in`  | membership test (checks if a value is in a collection) |\n",
    "| `not in`  | negated membership test (checks if a value is not in a collection) |\n",
    "\n"
   ]
  },
  {
   "cell_type": "code",
   "execution_count": 150,
   "id": "a578223b",
   "metadata": {},
   "outputs": [
    {
     "data": {
      "text/plain": [
       "True"
      ]
     },
     "execution_count": 150,
     "metadata": {},
     "output_type": "execute_result"
    }
   ],
   "source": [
    "1 < 2"
   ]
  },
  {
   "cell_type": "code",
   "execution_count": 151,
   "id": "60c21246",
   "metadata": {},
   "outputs": [
    {
     "data": {
      "text/plain": [
       "True"
      ]
     },
     "execution_count": 151,
     "metadata": {},
     "output_type": "execute_result"
    }
   ],
   "source": [
    "1 <= 1"
   ]
  },
  {
   "cell_type": "code",
   "execution_count": 152,
   "id": "be89e5eb",
   "metadata": {},
   "outputs": [
    {
     "data": {
      "text/plain": [
       "True"
      ]
     },
     "execution_count": 152,
     "metadata": {},
     "output_type": "execute_result"
    }
   ],
   "source": [
    "1 > 0"
   ]
  },
  {
   "cell_type": "code",
   "execution_count": 153,
   "id": "20da8312",
   "metadata": {},
   "outputs": [
    {
     "data": {
      "text/plain": [
       "True"
      ]
     },
     "execution_count": 153,
     "metadata": {},
     "output_type": "execute_result"
    }
   ],
   "source": [
    "1 >= 1"
   ]
  },
  {
   "cell_type": "code",
   "execution_count": 154,
   "id": "73e04a1c",
   "metadata": {},
   "outputs": [
    {
     "data": {
      "text/plain": [
       "True"
      ]
     },
     "execution_count": 154,
     "metadata": {},
     "output_type": "execute_result"
    }
   ],
   "source": [
    "1 == 1"
   ]
  },
  {
   "cell_type": "code",
   "execution_count": 155,
   "id": "d79fa57a",
   "metadata": {},
   "outputs": [
    {
     "data": {
      "text/plain": [
       "True"
      ]
     },
     "execution_count": 155,
     "metadata": {},
     "output_type": "execute_result"
    }
   ],
   "source": [
    "1 != 2"
   ]
  },
  {
   "cell_type": "markdown",
   "id": "d2f3804b",
   "metadata": {},
   "source": [
    "The following is a chained comparison example, which allows multiple comparisons to be combined in a single, readable expression, just like in mathematics:"
   ]
  },
  {
   "cell_type": "code",
   "execution_count": 156,
   "id": "6e794e94",
   "metadata": {},
   "outputs": [
    {
     "data": {
      "text/plain": [
       "True"
      ]
     },
     "execution_count": 156,
     "metadata": {},
     "output_type": "execute_result"
    }
   ],
   "source": [
    "3 > 2 > 1 and 1 < 2 < 3"
   ]
  },
  {
   "cell_type": "markdown",
   "id": "a97da626",
   "metadata": {},
   "source": [
    "### String type and operators\n",
    "\n",
    "In Python, strings are sequences of characters used to store and manipulate text data. you can create them with:\n",
    "- single quotes ('Hello')\n",
    "- double quotes (\"World\")\n",
    "- triple quotes (\"\"\"This is a multiline string\"\"\") for multiline text."
   ]
  },
  {
   "cell_type": "code",
   "execution_count": 157,
   "id": "42a1fc57",
   "metadata": {},
   "outputs": [
    {
     "data": {
      "text/plain": [
       "str"
      ]
     },
     "execution_count": 157,
     "metadata": {},
     "output_type": "execute_result"
    }
   ],
   "source": [
    "type(\"Hello, World!\")"
   ]
  },
  {
   "cell_type": "code",
   "execution_count": 158,
   "id": "0b6b2294",
   "metadata": {},
   "outputs": [
    {
     "name": "stdout",
     "output_type": "stream",
     "text": [
      "Hello, World!\n"
     ]
    }
   ],
   "source": [
    "print(\"Hello, World!\")  # double quotes"
   ]
  },
  {
   "cell_type": "code",
   "execution_count": 159,
   "id": "984478e3",
   "metadata": {},
   "outputs": [
    {
     "name": "stdout",
     "output_type": "stream",
     "text": [
      "Hello, World!\n"
     ]
    }
   ],
   "source": [
    "print('Hello, World!')  # single quotes"
   ]
  },
  {
   "cell_type": "code",
   "execution_count": 160,
   "id": "033390e3",
   "metadata": {},
   "outputs": [
    {
     "name": "stdout",
     "output_type": "stream",
     "text": [
      "Hello,\n",
      "World!\n"
     ]
    }
   ],
   "source": [
    "print(\"\"\"Hello,\n",
    "World!\"\"\")  # Triple quotes for multi-line strings"
   ]
  },
  {
   "cell_type": "code",
   "execution_count": 161,
   "id": "47d03ecf",
   "metadata": {},
   "outputs": [
    {
     "name": "stdout",
     "output_type": "stream",
     "text": [
      "Hello, World!\n"
     ]
    }
   ],
   "source": [
    "print((\"Hello, \" \"World!\"))  # Concatenation of strings"
   ]
  },
  {
   "cell_type": "markdown",
   "id": "ab5facc7",
   "metadata": {},
   "source": [
    "#### String methods\n",
    "\n",
    "**Search**\n",
    "\n",
    "You can use [methods](https://docs.python.org/3/library/stdtypes.html#string-methods) like .find() and .index() keyword to search for substrings within a string and determine their positions.\n",
    "\n",
    "| Method | Description |\n",
    "|--------|-------------|\n",
    "| `str.count(sub[, start[, end]])` | Counts the occurrences of a substring in the string, optionally within a specified range |\n",
    "| `str.endswith(suffix[, start[, end]])` | Checks if the string ends with the specified suffix, optionally within a specified range |\n",
    "| `str.find(sub[, start[, end]])` | Returns the lowest index of the substring if found, otherwise -1, optionally within a specified range |\n",
    "| `str.index(sub[, start[, end]])` | Returns the lowest index of the substring if found, otherwise raises a ValueError, optionally within a specified range |\n",
    "| `str.rfind(sub[, start[, end]])` | Returns the highest index of the substring if found, otherwise -1, optionally within a specified range |\n",
    "| `str.rindex(sub[, start[, end]])` | Returns the highest index of the substring if found, otherwise raises a ValueError, optionally within a specified range |\n",
    "| `str.startswith(prefix[, start[, end]])` | Checks if the string starts with the specified prefix, optionally within a specified range |"
   ]
  },
  {
   "cell_type": "code",
   "execution_count": 162,
   "id": "28ab7810",
   "metadata": {},
   "outputs": [
    {
     "name": "stdout",
     "output_type": "stream",
     "text": [
      "7\n",
      "True\n"
     ]
    }
   ],
   "source": [
    "s = \"Hello, World!\"\n",
    "\n",
    "print(s.find(\"World\"))\n",
    "print(s.endswith(\"!\"))"
   ]
  },
  {
   "cell_type": "markdown",
   "id": "fc3fcf7a",
   "metadata": {},
   "source": [
    "**Checks**\n",
    "\n",
    "Python strings have check [methods](https://docs.python.org/3/library/stdtypes.html#string-methods) like .isalpha(), .isdigit(), and .isalnum() to test whether a string contains only letters, only digits, or a combination of letters and numbers.\n",
    "\n",
    "| Method | Description |\n",
    "|--------|-------------|\n",
    "| `str.isalnum()` | Checks if all characters in the string are alphanumeric (letters and digits) |\n",
    "| `str.isalpha()` | Checks if all characters in the string are alphabetic (letters) |\n",
    "| `str.isascii()` | Checks if all characters in the string are ASCII characters |\n",
    "| `str.isdecimal()` | Checks if all characters in the string are decimal characters (0-9) |\n",
    "| `str.isdigit()` | Checks if all characters in the string are digits (0-9) |\n",
    "| `str.isidentifier()` | Checks if the string is a valid Python identifier (variable name) |\n",
    "| `str.islower()` | Checks if all characters in the string are lowercase |\n",
    "| `str.isnumeric()` | Checks if all characters in the string are numeric characters (0-9) |\n",
    "| `str.isprintable()` | Checks if all characters in the string are printable (not control characters) |\n",
    "| `str.isspace()` | Checks if all characters in the string are whitespace characters (spaces, tabs, newlines) |\n",
    "| `str.istitle()` | Checks if the string is in title case (first character of each word is uppercase, others are lowercase) |\n",
    "| `str.isupper()` | Checks if all characters in the string are uppercase |"
   ]
  },
  {
   "cell_type": "code",
   "execution_count": 163,
   "id": "4a84f5fc",
   "metadata": {},
   "outputs": [
    {
     "name": "stdout",
     "output_type": "stream",
     "text": [
      "True\n",
      "True\n",
      "True\n"
     ]
    }
   ],
   "source": [
    "print(\"1\".isnumeric())\n",
    "print(\"Hello\".isalpha())\n",
    "print(\"HELLO\".isupper())"
   ]
  },
  {
   "cell_type": "markdown",
   "id": "2ba1b7d7",
   "metadata": {},
   "source": [
    "**Manipulation methods**\n",
    "\n",
    "Python provides string [methods](https://docs.python.org/3/library/stdtypes.html#string-methods) like .upper(), .lower(), .replace(), and .strip() to modify and clean text easily.\n",
    "\n",
    "| Method | Description |\n",
    "|--------|-------------|\n",
    "| `str.capitalize()` | Capitalizes the first character of the string |\n",
    "| `str.casefold()` | Returns a case-insensitive version of the string |\n",
    "| `str.center(width[, fillchar])` | Centers the string within a specified width, optionally filling with a specified character |\n",
    "| `str.expandtabs(tabsize=8)` | Replaces tabs in the string with spaces, using the specified tab size (default is 8) |\n",
    "| `str.format(*args, **kwargs)` | Formats the string using the specified arguments and keyword arguments |\n",
    "| `str.ljust(width[, fillchar])` | Left-justifies the string within a specified width, optionally filling with a specified character |\n",
    "| `str.lower()` | Converts all characters in the string to lowercase |\n",
    "| `str.lstrip([chars])` | Removes leading whitespace or specified characters from the string |\n",
    "| `str.partition(sep)` | Splits the string at the first occurrence of the specified separator and returns a tuple containing the part before the separator, the separator itself, and the part after it |\n",
    "| `str.removeprefix(prefix)` | Removes the specified prefix from the string if it exists |\n",
    "| `str.removesuffix(suffix)` | Removes the specified suffix from the string if it exists |\n",
    "| `str.replace(old, new, count=1)` | Replaces occurrences of a substring with another substring, optionally limiting the number of replacements |\n",
    "| `str.rjust(width[, fillchar])` | Right-justifies the string within a specified width, optionally filling with a specified character |\n",
    "| `str.rpartition(sep)` | Splits the string at the last occurrence of the specified separator and returns a tuple containing the part before the separator, the separator itself, and the part after it |\n",
    "| `str.rsplit(sep=None, maxsplit=-1)` | Splits the string into a list of substrings, starting from the right, using the specified separator and maximum number of splits |\n",
    "| `str.rstrip([chars])` | Removes trailing whitespace or specified characters from the string |\n",
    "| `str.split(sep=None, maxsplit=-1)` | Splits the string into a list of substrings using the specified separator and maximum number of splits |\n",
    "| `str.splitlines(keepends=False)` | Splits the string into a list of lines, optionally keeping the line endings |\n",
    "| `str.strip([chars])` | Removes leading and trailing whitespace or specified characters from the string |\n",
    "| `str.swapcase()` | Swaps the case of all characters in the string (uppercase to lowercase and vice versa) |\n",
    "| `str.title()` | Converts the string to title case (first character of each word is uppercase, others are lowercase) |\n",
    "| `str.upper()` | Converts all characters in the string to uppercase |\n",
    "| `str.zfill(width)` | Pads the string with zeros on the left to reach the specified width |"
   ]
  },
  {
   "cell_type": "code",
   "execution_count": 164,
   "id": "6fa179a3",
   "metadata": {},
   "outputs": [
    {
     "name": "stdout",
     "output_type": "stream",
     "text": [
      "hello, world!\n",
      "HELLO, WORLD!\n"
     ]
    }
   ],
   "source": [
    "print(s.lower())\n",
    "print(s.upper())"
   ]
  },
  {
   "cell_type": "code",
   "execution_count": 165,
   "id": "a013d3c4",
   "metadata": {},
   "outputs": [
    {
     "name": "stdout",
     "output_type": "stream",
     "text": [
      "----------------------------Hello, World!-----------------------------\n",
      "---------------------------------------------------------Hello, World!\n",
      "Hello, World!---------------------------------------------------------\n"
     ]
    }
   ],
   "source": [
    "print(s.center(70,'-'))\n",
    "print(s.rjust(70,'-'))\n",
    "print(s.ljust(70,'-'))"
   ]
  },
  {
   "cell_type": "markdown",
   "id": "214e9c30",
   "metadata": {},
   "source": [
    "**Additional methods**\n",
    "\n",
    "| Method | Description |\n",
    "|--------|-------------|\n",
    "| `str.encode(encoding=\"utf-8\", errors=\"strict\")` | Encodes the string into bytes using the specified encoding (default is UTF-8) and error handling scheme |\n",
    "| `str.join(iterable)` | Joins the elements of an iterable (e.g., list, tuple) into a single string, using the string as a separator |\n",
    "| `str.maketrans(x[, y[, z]])` | Creates a translation table for character mapping, used with `str.translate()` |\n",
    "| `str.translate(table)` | Translates characters in the string using a translation table created with `str.maketrans()` |\n",
    "\n",
    "The [textwrap](https://docs.python.org/3/library/textwrap.html) module in Python is used to format and wrap long strings into neatly formatted paragraphs, making it easier to display text with a specific width in outputs or console applications."
   ]
  },
  {
   "cell_type": "markdown",
   "id": "df391eea",
   "metadata": {},
   "source": [
    "## String formatting\n",
    "\n",
    "In Python, there are three main ways to format strings. The oldest is C-style formatting using the % operator, which is concise but can become hard to read with complex formats. The second is the .format() method, which offers clearer syntax and more flexibility for various formatting tasks. The most modern and recommended approach is f-strings, introduced in Python 3.6, which allow expressions to be embedded directly within strings, making the code more readable and concise."
   ]
  },
  {
   "cell_type": "code",
   "execution_count": 166,
   "id": "7752e159",
   "metadata": {},
   "outputs": [],
   "source": [
    "world = \"World!\""
   ]
  },
  {
   "cell_type": "markdown",
   "id": "6cabe3d4",
   "metadata": {},
   "source": [
    "**Option 1: F-Strings:**\n",
    "\n",
    "F-strings in Python provide a concise and readable way to embed expressions directly within strings, making formatting easier and more intuitive."
   ]
  },
  {
   "cell_type": "code",
   "execution_count": 167,
   "id": "18d376fd",
   "metadata": {},
   "outputs": [
    {
     "name": "stdout",
     "output_type": "stream",
     "text": [
      "Hello, World!\n"
     ]
    }
   ],
   "source": [
    "print(f\"Hello, {world}\")"
   ]
  },
  {
   "cell_type": "markdown",
   "id": "d3dbd1a9",
   "metadata": {},
   "source": [
    "**Option 2: `str.format()` method:**\n",
    "\n",
    "The .format() method in Python allows you to insert values into strings using placeholders."
   ]
  },
  {
   "cell_type": "code",
   "execution_count": 168,
   "id": "db7e10a8",
   "metadata": {},
   "outputs": [
    {
     "name": "stdout",
     "output_type": "stream",
     "text": [
      "Hello, World!\n",
      "Hello, World!\n"
     ]
    }
   ],
   "source": [
    "print(\"Hello, {}\".format(world))\n",
    "print(\"Hello, {world}\".format(world=world))"
   ]
  },
  {
   "cell_type": "markdown",
   "id": "c565aac4",
   "metadata": {},
   "source": [
    "**Option 1: C-Style string formatting:**\n",
    "\n",
    "C-style (%) formatting in Python is an older method for inserting values into strings and is generally avoided in new code, but it is still useful in modules like [logging](https://docs.python.org/3/library/logging.html), where it defers string interpolation until needed for efficiency."
   ]
  },
  {
   "cell_type": "code",
   "execution_count": 169,
   "id": "7c1de6ca",
   "metadata": {},
   "outputs": [
    {
     "name": "stdout",
     "output_type": "stream",
     "text": [
      "Hello, World!\n",
      "Hello, World!\n"
     ]
    }
   ],
   "source": [
    "print(\"Hello, %s\" % world)\n",
    "print(\"Hello, %(world)s\" % {\"world\": world})"
   ]
  },
  {
   "cell_type": "markdown",
   "id": "8cdefb0b",
   "metadata": {},
   "source": [
    "### Formating notation\n",
    "\n",
    "In Python, you can use various [formatting notations](https://docs.python.org/3/library/string.html#format-specification-mini-language) to control how values are displayed in strings. The most common notations include:\n",
    "\n",
    "In string formatting, alignment options control how text or numbers are positioned within the available space, such as left-aligned, right-aligned, or centered.\n",
    "\n",
    "| Option | Description |\n",
    "|--------|-------------|\n",
    "| `<` | Left-aligns the value within the specified width |\n",
    "| `>` | Right-aligns the value within the specified width |\n",
    "| `=` | Places the sign to the left of the value, useful for numeric values |\n",
    "| `^` | Centers the value within the specified width |\n",
    "\n",
    "In string formatting, sign options determine whether positive numbers display a plus sign and how negative numbers are represented.\n",
    "\n",
    "| Sign | Description |\n",
    "|------|-------------|\n",
    "| `+` | Always shows the sign (positive or negative) |\n",
    "| `-` | Shows the sign only for negative values |\n",
    "| ` ` | Shows a space for positive values and a minus sign for negative values |\n",
    "\n",
    "Grouping options allow you to include separators, such as commas, to make large numbers easier to read.\n",
    "\n",
    "| Grouping | Description |\n",
    "|----------|-------------|\n",
    "| `_` | Uses underscores as the thousands separator |\n",
    "| `,` | Uses commas as the thousands separator |\n",
    "\n",
    "Type options specify how a value is formatted, such as displaying it as an integer, floating-point number, or string.\n",
    "\n",
    "| Option | Type | Description |\n",
    "|--------|------|-------------|\n",
    "| `s` | String | Formats the value as a string |\n",
    "| `b` | Integer  | Formats the value as a binary number |\n",
    "| `c` | Integer | Formats the value as a character |\n",
    "| `d` | Integer | Formats the value as a decimal integer |\n",
    "| `o` | Integer | Formats the value as an octal number |\n",
    "| `x` | Integer | Formats the value as a hexadecimal number (lowercase) |\n",
    "| `X` | Integer | Formats the value as a hexadecimal number (uppercase) |\n",
    "| `n` | Integer | Formats the value as a number with locale-specific thousands separator |\n",
    "| `e` | Float | Formats the value in scientific notation (lowercase) |\n",
    "| `E` | Float | Formats the value in scientific notation (uppercase) |\n",
    "| `f` | Float | Formats the value as a fixed-point number |\n",
    "| `F` | Float | Formats the value as a fixed-point number (uppercase) |\n",
    "| `g` | Float | Formats the value in either fixed-point or scientific notation, depending on the value |\n",
    "| `G` | Float | Formats the value in either fixed-point or scientific notation, depending on the value (uppercase) |\n",
    "| `n` | Float | Formats the value as a number with locale-specific thousands separator |\n",
    "| `%` | Float | Formats the value as a percentage (multiplies by 100 and adds a percent sign) |\n",
    "\n",
    "In string formatting, type options specify how a value is displayed (e.g. as an integer or float), and if no type option is provided, the default formatting for that data type is used.\n",
    "\n",
    "| Type | Description |\n",
    "|------|-------------|\n",
    "| String | Same as `s`, formats the value as a string |\n",
    "| Integer | Same as `d`, formats the value as a decimal integer |\n",
    "| Float | Same as `g`, formats the value in either fixed-point or scientific notation, depending on the value |\n",
    "\n",
    "In Python, format strings use curly braces {} as placeholders within a string, which are replaced by values provided to the .format() method or embedded directly using f-strings. Inside the braces, you can include optional format specifiers after a colon :, defining details such as alignment, width, precision, type, and other formatting options to control how the value is displayed.\n",
    "- fill: specifies the character used to fill the space (default is a space)\n",
    "- width: specifies the minimum width of the formatted value\n",
    "- precision: specifies the number of digits after the decimal point for floating-point numbers\n",
    "\n",
    "**Syntax:**\n",
    "```\n",
    "f\"{value:[fill][align][sign][#][width][.precision][type]}\"\n",
    "```"
   ]
  },
  {
   "cell_type": "code",
   "execution_count": 170,
   "id": "db03de33",
   "metadata": {},
   "outputs": [
    {
     "data": {
      "text/plain": [
       "'          3_141_592.65359'"
      ]
     },
     "execution_count": 170,
     "metadata": {},
     "output_type": "execute_result"
    }
   ],
   "source": [
    "from math import pi, e\n",
    "\n",
    "x = pi * 1_000_000\n",
    "y = e / 1_000_000\n",
    "z = 97\n",
    "\n",
    "f\"{x: >25_.5f}\""
   ]
  },
  {
   "cell_type": "code",
   "execution_count": 171,
   "id": "87a9098f",
   "metadata": {},
   "outputs": [
    {
     "data": {
      "text/plain": [
       "'+0002.7182818285e-06'"
      ]
     },
     "execution_count": 171,
     "metadata": {},
     "output_type": "execute_result"
    }
   ],
   "source": [
    "f\"{y:0=+20.10e}\""
   ]
  },
  {
   "cell_type": "code",
   "execution_count": 172,
   "id": "729f6724",
   "metadata": {},
   "outputs": [
    {
     "data": {
      "text/plain": [
       "'a'"
      ]
     },
     "execution_count": 172,
     "metadata": {},
     "output_type": "execute_result"
    }
   ],
   "source": [
    "f\"{z:c}\""
   ]
  },
  {
   "cell_type": "code",
   "execution_count": 173,
   "id": "f8f55d32",
   "metadata": {},
   "outputs": [
    {
     "data": {
      "text/plain": [
       "'0x61'"
      ]
     },
     "execution_count": 173,
     "metadata": {},
     "output_type": "execute_result"
    }
   ],
   "source": [
    "f\"{z:#x}\""
   ]
  },
  {
   "cell_type": "markdown",
   "id": "6274a5a9",
   "metadata": {},
   "source": [
    "### F-String expressions\n",
    "\n",
    "In Python f-strings, you can use [shortcuts](https://docs.python.org/3/reference/lexical_analysis.html#formatted-string-literals) to control how expressions are displayed. The `=` specifier shows both the expression and its value, which is useful for debugging. The conversion flags `!s`, `!r`, and `!a` force the value to be formatted using str(), repr(), or ascii(), respectively, allowing you to choose how the object is represented in the output for readability, debugging, or ensuring ASCII-safe text."
   ]
  },
  {
   "cell_type": "code",
   "execution_count": 174,
   "id": "053e5a61",
   "metadata": {},
   "outputs": [
    {
     "name": "stdout",
     "output_type": "stream",
     "text": [
      "Hello, 'Alice'\n",
      "Hello, 'Alice'\n"
     ]
    }
   ],
   "source": [
    "name = \"Alice\"\n",
    "\n",
    "print(f\"Hello, {name!r}\")\n",
    "print(f\"Hello, {repr(name)}\")"
   ]
  },
  {
   "cell_type": "code",
   "execution_count": 175,
   "id": "56253081",
   "metadata": {},
   "outputs": [
    {
     "data": {
      "text/plain": [
       "\"name = 'Alice'\""
      ]
     },
     "execution_count": 175,
     "metadata": {},
     "output_type": "execute_result"
    }
   ],
   "source": [
    "f\"{name = }\""
   ]
  },
  {
   "cell_type": "markdown",
   "id": "f75032c2",
   "metadata": {},
   "source": [
    "Hint: For time and date formatting, you can use the : format specifier with datetime objects to display them in custom formats directly within f-strings."
   ]
  },
  {
   "cell_type": "markdown",
   "id": "055c8ef7",
   "metadata": {},
   "source": [
    "## Built-in functions\n",
    "\n",
    "Python provides many [built-in functions](https://docs.python.org/3/library/functions.html) that you can use without importing any modules, making it easy to perform common tasks like type conversion, mathematical operations, and working with sequences. These functions help simplify your code and improve readability. A subset of these built-in functions is shown below to introduce the most commonly used ones in this course.\n",
    "\n",
    "The `print()` function in Python outputs text or values to the console, making it useful for displaying results and debugging your code."
   ]
  },
  {
   "cell_type": "code",
   "execution_count": 188,
   "id": "f7204902",
   "metadata": {},
   "outputs": [
    {
     "name": "stdout",
     "output_type": "stream",
     "text": [
      "Hello, [sep] world! [end]"
     ]
    }
   ],
   "source": [
    "print(\"Hello\" \",\", \"world!\", sep=\" [sep] \", end=\" [end]\")"
   ]
  },
  {
   "cell_type": "markdown",
   "id": "09032c07",
   "metadata": {},
   "source": [
    "The `chr()` function converts an integer Unicode code point to its character, while `ord()` does the reverse, converting a character to its integer code point."
   ]
  },
  {
   "cell_type": "code",
   "execution_count": 186,
   "id": "ba558b99",
   "metadata": {},
   "outputs": [
    {
     "data": {
      "text/plain": [
       "'a'"
      ]
     },
     "execution_count": 186,
     "metadata": {},
     "output_type": "execute_result"
    }
   ],
   "source": [
    "chr(97)"
   ]
  },
  {
   "cell_type": "code",
   "execution_count": 187,
   "id": "46020c97",
   "metadata": {},
   "outputs": [
    {
     "data": {
      "text/plain": [
       "97"
      ]
     },
     "execution_count": 187,
     "metadata": {},
     "output_type": "execute_result"
    }
   ],
   "source": [
    "ord(\"a\")"
   ]
  },
  {
   "cell_type": "markdown",
   "id": "5f398ad1",
   "metadata": {},
   "source": [
    "The `ascii()` function returns a string containing a printable ASCII representation of an object (escaping non-ASCII characters), while `repr()` returns a string that shows the official string representation of an object."
   ]
  },
  {
   "cell_type": "code",
   "execution_count": 189,
   "id": "462b8f41",
   "metadata": {},
   "outputs": [
    {
     "data": {
      "text/plain": [
       "\"'M\\\\xfcller'\""
      ]
     },
     "execution_count": 189,
     "metadata": {},
     "output_type": "execute_result"
    }
   ],
   "source": [
    "ascii(\"Müller\")"
   ]
  },
  {
   "cell_type": "code",
   "execution_count": 193,
   "id": "cd116ddb",
   "metadata": {},
   "outputs": [
    {
     "data": {
      "text/plain": [
       "\"<class 'int'>\""
      ]
     },
     "execution_count": 193,
     "metadata": {},
     "output_type": "execute_result"
    }
   ],
   "source": [
    "repr(int)"
   ]
  },
  {
   "cell_type": "markdown",
   "id": "c094b10e",
   "metadata": {},
   "source": [
    "The `help()` function displays the documentation for objects, modules, or functions, while `dir()` lists the attributes and methods available for an object."
   ]
  },
  {
   "cell_type": "code",
   "execution_count": 196,
   "id": "253f0a46",
   "metadata": {},
   "outputs": [
    {
     "name": "stdout",
     "output_type": "stream",
     "text": [
      "['__abs__', '__add__', '__and__', '__bool__', '__ceil__', '__class__', '__delattr__', '__dir__', '__divmod__', '__doc__', '__eq__', '__float__', '__floor__', '__floordiv__', '__format__', '__ge__', '__getattribute__', '__getnewargs__', '__getstate__', '__gt__', '__hash__', '__index__', '__init__', '__init_subclass__', '__int__', '__invert__', '__le__', '__lshift__', '__lt__', '__mod__', '__mul__', '__ne__', '__neg__', '__new__', '__or__', '__pos__', '__pow__', '__radd__', '__rand__', '__rdivmod__', '__reduce__', '__reduce_ex__', '__repr__', '__rfloordiv__', '__rlshift__', '__rmod__', '__rmul__', '__ror__', '__round__', '__rpow__', '__rrshift__', '__rshift__', '__rsub__', '__rtruediv__', '__rxor__', '__setattr__', '__sizeof__', '__str__', '__sub__', '__subclasshook__', '__truediv__', '__trunc__', '__xor__', 'as_integer_ratio', 'bit_count', 'bit_length', 'conjugate', 'denominator', 'from_bytes', 'imag', 'is_integer', 'numerator', 'real', 'to_bytes']\n"
     ]
    }
   ],
   "source": [
    "print(dir(int))"
   ]
  },
  {
   "cell_type": "code",
   "execution_count": 198,
   "id": "78947c5a",
   "metadata": {},
   "outputs": [
    {
     "name": "stdout",
     "output_type": "stream",
     "text": [
      "Help on class int in module builtins:\n",
      "\n",
      "class int(object)\n",
      " |  int([x]) -> integer\n",
      " |  int(x, base=10) -> integer\n",
      " |\n",
      " |  Convert a number or string to an integer, or return 0 if no arguments\n",
      " |  are given.  If x is a number, return x.__int__().  For floating-point\n",
      " |  numbers, this truncates towards zero.\n",
      " |\n",
      " |  If x is not a number or if base is given, then x must be a string,\n",
      " |  bytes, or bytearray instance representing an integer literal in the\n",
      " |  given base.  The literal can be preceded by '+' or '-' and be surrounded\n",
      " |  by whitespace.  The base defaults to 10.  Valid bases are 0 and 2-36.\n",
      " |  Base 0 means to interpret the base from the string as an integer literal.\n",
      " |  >>> int('0b100', base=0)\n",
      " |  4\n",
      " |\n",
      " |  Built-in subclasses:\n",
      " |      bool\n",
      " |\n",
      " |  Methods defined here:\n",
      " |\n",
      " |  __abs__(self, /)\n",
      " |      abs(self)\n",
      " |\n",
      " |  __add__(self, value, /)\n",
      " |      Return self+value.\n",
      " |\n",
      " |  __and__(self, value, /)\n",
      " |      Return self&value.\n",
      " |\n",
      " |  __bool__(self, /)\n",
      " |      True if self else False\n",
      " |\n",
      " |  __ceil__(...)\n",
      " |      Ceiling of an Integral returns itself.\n",
      " |\n",
      " |  __divmod__(self, value, /)\n",
      " |      Return divmod(self, value).\n",
      " |\n",
      " |  __eq__(self, value, /)\n",
      " |      Return self==value.\n",
      " |\n",
      " |  __float__(self, /)\n",
      " |      float(self)\n",
      " |\n",
      " |  __floor__(...)\n",
      " |      Flooring an Integral returns itself.\n",
      " |\n",
      " |  __floordiv__(self, value, /)\n",
      " |      Return self//value.\n",
      " |\n",
      " |  __format__(self, format_spec, /)\n",
      " |      Convert to a string according to format_spec.\n",
      " |\n",
      " |  __ge__(self, value, /)\n",
      " |      Return self>=value.\n",
      " |\n",
      " |  __getattribute__(self, name, /)\n",
      " |      Return getattr(self, name).\n",
      " |\n",
      " |  __getnewargs__(self, /)\n",
      " |\n",
      " |  __gt__(self, value, /)\n",
      " |      Return self>value.\n",
      " |\n",
      " |  __hash__(self, /)\n",
      " |      Return hash(self).\n",
      " |\n",
      " |  __index__(self, /)\n",
      " |      Return self converted to an integer, if self is suitable for use as an index into a list.\n",
      " |\n",
      " |  __int__(self, /)\n",
      " |      int(self)\n",
      " |\n",
      " |  __invert__(self, /)\n",
      " |      ~self\n",
      " |\n",
      " |  __le__(self, value, /)\n",
      " |      Return self<=value.\n",
      " |\n",
      " |  __lshift__(self, value, /)\n",
      " |      Return self<<value.\n",
      " |\n",
      " |  __lt__(self, value, /)\n",
      " |      Return self<value.\n",
      " |\n",
      " |  __mod__(self, value, /)\n",
      " |      Return self%value.\n",
      " |\n",
      " |  __mul__(self, value, /)\n",
      " |      Return self*value.\n",
      " |\n",
      " |  __ne__(self, value, /)\n",
      " |      Return self!=value.\n",
      " |\n",
      " |  __neg__(self, /)\n",
      " |      -self\n",
      " |\n",
      " |  __or__(self, value, /)\n",
      " |      Return self|value.\n",
      " |\n",
      " |  __pos__(self, /)\n",
      " |      +self\n",
      " |\n",
      " |  __pow__(self, value, mod=None, /)\n",
      " |      Return pow(self, value, mod).\n",
      " |\n",
      " |  __radd__(self, value, /)\n",
      " |      Return value+self.\n",
      " |\n",
      " |  __rand__(self, value, /)\n",
      " |      Return value&self.\n",
      " |\n",
      " |  __rdivmod__(self, value, /)\n",
      " |      Return divmod(value, self).\n",
      " |\n",
      " |  __repr__(self, /)\n",
      " |      Return repr(self).\n",
      " |\n",
      " |  __rfloordiv__(self, value, /)\n",
      " |      Return value//self.\n",
      " |\n",
      " |  __rlshift__(self, value, /)\n",
      " |      Return value<<self.\n",
      " |\n",
      " |  __rmod__(self, value, /)\n",
      " |      Return value%self.\n",
      " |\n",
      " |  __rmul__(self, value, /)\n",
      " |      Return value*self.\n",
      " |\n",
      " |  __ror__(self, value, /)\n",
      " |      Return value|self.\n",
      " |\n",
      " |  __round__(...)\n",
      " |      Rounding an Integral returns itself.\n",
      " |\n",
      " |      Rounding with an ndigits argument also returns an integer.\n",
      " |\n",
      " |  __rpow__(self, value, mod=None, /)\n",
      " |      Return pow(value, self, mod).\n",
      " |\n",
      " |  __rrshift__(self, value, /)\n",
      " |      Return value>>self.\n",
      " |\n",
      " |  __rshift__(self, value, /)\n",
      " |      Return self>>value.\n",
      " |\n",
      " |  __rsub__(self, value, /)\n",
      " |      Return value-self.\n",
      " |\n",
      " |  __rtruediv__(self, value, /)\n",
      " |      Return value/self.\n",
      " |\n",
      " |  __rxor__(self, value, /)\n",
      " |      Return value^self.\n",
      " |\n",
      " |  __sizeof__(self, /)\n",
      " |      Returns size in memory, in bytes.\n",
      " |\n",
      " |  __sub__(self, value, /)\n",
      " |      Return self-value.\n",
      " |\n",
      " |  __truediv__(self, value, /)\n",
      " |      Return self/value.\n",
      " |\n",
      " |  __trunc__(...)\n",
      " |      Truncating an Integral returns itself.\n",
      " |\n",
      " |  __xor__(self, value, /)\n",
      " |      Return self^value.\n",
      " |\n",
      " |  as_integer_ratio(self, /)\n",
      " |      Return a pair of integers, whose ratio is equal to the original int.\n",
      " |\n",
      " |      The ratio is in lowest terms and has a positive denominator.\n",
      " |\n",
      " |      >>> (10).as_integer_ratio()\n",
      " |      (10, 1)\n",
      " |      >>> (-10).as_integer_ratio()\n",
      " |      (-10, 1)\n",
      " |      >>> (0).as_integer_ratio()\n",
      " |      (0, 1)\n",
      " |\n",
      " |  bit_count(self, /)\n",
      " |      Number of ones in the binary representation of the absolute value of self.\n",
      " |\n",
      " |      Also known as the population count.\n",
      " |\n",
      " |      >>> bin(13)\n",
      " |      '0b1101'\n",
      " |      >>> (13).bit_count()\n",
      " |      3\n",
      " |\n",
      " |  bit_length(self, /)\n",
      " |      Number of bits necessary to represent self in binary.\n",
      " |\n",
      " |      >>> bin(37)\n",
      " |      '0b100101'\n",
      " |      >>> (37).bit_length()\n",
      " |      6\n",
      " |\n",
      " |  conjugate(...)\n",
      " |      Returns self, the complex conjugate of any int.\n",
      " |\n",
      " |  is_integer(self, /)\n",
      " |      Returns True. Exists for duck type compatibility with float.is_integer.\n",
      " |\n",
      " |  to_bytes(self, /, length=1, byteorder='big', *, signed=False)\n",
      " |      Return an array of bytes representing an integer.\n",
      " |\n",
      " |      length\n",
      " |        Length of bytes object to use.  An OverflowError is raised if the\n",
      " |        integer is not representable with the given number of bytes.  Default\n",
      " |        is length 1.\n",
      " |      byteorder\n",
      " |        The byte order used to represent the integer.  If byteorder is 'big',\n",
      " |        the most significant byte is at the beginning of the byte array.  If\n",
      " |        byteorder is 'little', the most significant byte is at the end of the\n",
      " |        byte array.  To request the native byte order of the host system, use\n",
      " |        `sys.byteorder' as the byte order value.  Default is to use 'big'.\n",
      " |      signed\n",
      " |        Determines whether two's complement is used to represent the integer.\n",
      " |        If signed is False and a negative integer is given, an OverflowError\n",
      " |        is raised.\n",
      " |\n",
      " |  ----------------------------------------------------------------------\n",
      " |  Class methods defined here:\n",
      " |\n",
      " |  from_bytes(bytes, byteorder='big', *, signed=False)\n",
      " |      Return the integer represented by the given array of bytes.\n",
      " |\n",
      " |      bytes\n",
      " |        Holds the array of bytes to convert.  The argument must either\n",
      " |        support the buffer protocol or be an iterable object producing bytes.\n",
      " |        Bytes and bytearray are examples of built-in objects that support the\n",
      " |        buffer protocol.\n",
      " |      byteorder\n",
      " |        The byte order used to represent the integer.  If byteorder is 'big',\n",
      " |        the most significant byte is at the beginning of the byte array.  If\n",
      " |        byteorder is 'little', the most significant byte is at the end of the\n",
      " |        byte array.  To request the native byte order of the host system, use\n",
      " |        `sys.byteorder' as the byte order value.  Default is to use 'big'.\n",
      " |      signed\n",
      " |        Indicates whether two's complement is used to represent the integer.\n",
      " |\n",
      " |  ----------------------------------------------------------------------\n",
      " |  Static methods defined here:\n",
      " |\n",
      " |  __new__(*args, **kwargs)\n",
      " |      Create and return a new object.  See help(type) for accurate signature.\n",
      " |\n",
      " |  ----------------------------------------------------------------------\n",
      " |  Data descriptors defined here:\n",
      " |\n",
      " |  denominator\n",
      " |      the denominator of a rational number in lowest terms\n",
      " |\n",
      " |  imag\n",
      " |      the imaginary part of a complex number\n",
      " |\n",
      " |  numerator\n",
      " |      the numerator of a rational number in lowest terms\n",
      " |\n",
      " |  real\n",
      " |      the real part of a complex number\n",
      "\n"
     ]
    }
   ],
   "source": [
    "help(int)"
   ]
  },
  {
   "cell_type": "markdown",
   "id": "72056bce",
   "metadata": {},
   "source": [
    "The `input()` function in Python reads a line of text entered by the user and returns it as a string."
   ]
  },
  {
   "cell_type": "code",
   "execution_count": 199,
   "id": "6ee6ce9b",
   "metadata": {},
   "outputs": [
    {
     "data": {
      "text/plain": [
       "'Max'"
      ]
     },
     "execution_count": 199,
     "metadata": {},
     "output_type": "execute_result"
    }
   ],
   "source": [
    "input(\"Enter your name: \")"
   ]
  },
  {
   "cell_type": "markdown",
   "id": "d1b23436",
   "metadata": {},
   "source": [
    "The `isinstance()` function checks if an object is an instance of a specified class or a tuple of classes, returning True or False accordingly."
   ]
  },
  {
   "cell_type": "code",
   "execution_count": 200,
   "id": "7ec731eb",
   "metadata": {},
   "outputs": [
    {
     "data": {
      "text/plain": [
       "True"
      ]
     },
     "execution_count": 200,
     "metadata": {},
     "output_type": "execute_result"
    }
   ],
   "source": [
    "isinstance(1, int)"
   ]
  },
  {
   "cell_type": "code",
   "execution_count": 201,
   "id": "eddfbd6c",
   "metadata": {},
   "outputs": [
    {
     "data": {
      "text/plain": [
       "True"
      ]
     },
     "execution_count": 201,
     "metadata": {},
     "output_type": "execute_result"
    }
   ],
   "source": [
    "isinstance(1.1, (int, float))"
   ]
  },
  {
   "cell_type": "markdown",
   "id": "3464ff25",
   "metadata": {},
   "source": [
    "---\n",
    "\n",
    "Lecture: AI I - Basics \n",
    "\n",
    "Exercise: [**Exercise 2.1: Python Basics**](../02_python/exercises/01_basics.ipynb)\n",
    "\n",
    "Next: [**Chapter 2.2: Data Structures**](../02_python/02_data_structures.ipynb)"
   ]
  }
 ],
 "metadata": {
  "kernelspec": {
   "display_name": "ai-lecture",
   "language": "python",
   "name": "python3"
  },
  "language_info": {
   "codemirror_mode": {
    "name": "ipython",
    "version": 3
   },
   "file_extension": ".py",
   "mimetype": "text/x-python",
   "name": "python",
   "nbconvert_exporter": "python",
   "pygments_lexer": "ipython3",
   "version": "3.12.11"
  }
 },
 "nbformat": 4,
 "nbformat_minor": 5
}
