{
 "cells": [
  {
   "cell_type": "markdown",
   "id": "victorian-discharge",
   "metadata": {},
   "source": [
    "Wahlpflichtfach Künstliche Intelligenz I: Testat\n",
    "\n",
    "---"
   ]
  },
  {
   "cell_type": "markdown",
   "id": "announced-array",
   "metadata": {},
   "source": [
    "# 01 - Testat zu den Modulen NumPy, matplotlib und pandas\n",
    "__Gruppennummer:__ #\n",
    "\n",
    "__Mitglieder:__\n",
    "- Person A\n",
    "- Person B\n",
    "- ..."
   ]
  },
  {
   "cell_type": "code",
   "execution_count": null,
   "id": "coupled-cache",
   "metadata": {},
   "outputs": [],
   "source": [
    "%matplotlib inline\n",
    "\n",
    "import numpy as np\n",
    "import pandas as pd\n",
    "from matplotlib import pyplot as plt"
   ]
  },
  {
   "cell_type": "markdown",
   "id": "adjusted-hazard",
   "metadata": {},
   "source": [
    "Seit dem letzten Testat haben Sie die drei Module NumPy, matplotlib und pandas kennengelernt. In diesem Testat werden Sie diese Module zum Lösen von unterschiedlichen Aufgaben verwenden. Sie werden Daten aufbereiten und visualisiern sowie mit NumPy Berechnungen durchführen um ein Klassifikationsproblem zu lösen."
   ]
  },
  {
   "cell_type": "markdown",
   "id": "crude-furniture",
   "metadata": {},
   "source": [
    "## Aufgabe 1: Daten aufbereiten und visualisieren (5 Punkte)\n",
    "In der ersten Aufgabe werden Sie das Ebola-Datenset, das Ihnen aus der Vorlesung bereits bekannt ist, aufbereiten und anschließend visualisieren. Dabei gibt es die folgenden Teilaufgaben:\n",
    "- a) Auswahl der Strategie(n) zum Ersetzen der fehlenden Werte\n",
    "- b) Implementierung der Ersetzungsstrategie(n)\n",
    "- c) Überprüfen, ob alle fehlenden Werte ersetzt wurden\n",
    "- d) Schnelle Visualisierung mit pandas\n",
    "- e) Visualisierung mit matplotlib"
   ]
  },
  {
   "cell_type": "markdown",
   "id": "embedded-hamilton",
   "metadata": {},
   "source": [
    "#### a) Auswahl der Strategie(n) zum Ersetzen der fehleden Werte\n",
    "_Punkte: 1,5_\n",
    "\n",
    "In der nachfolgenden Codezeile wird das Ebola-Datenset als pandas.DataFrame importiert."
   ]
  },
  {
   "cell_type": "code",
   "execution_count": null,
   "id": "environmental-edinburgh",
   "metadata": {},
   "outputs": [],
   "source": [
    "ebola = pd.read_csv('ebola.csv')\n",
    "ebola"
   ]
  },
  {
   "cell_type": "markdown",
   "id": "peaceful-architect",
   "metadata": {},
   "source": [
    "Überlegen Sie sich eine Strategie, wie die fehlenden Werte sinnvoll ersetzt werden können. Beschreiben Sie ihre Strategie in der folgenden Markdown-Zeile und begründen Sie, warum Sie diese Strategie(n) gewählt haben.\n",
    "\n",
    "_Tipps:_\n",
    "- Wenn Sie nicht mehr wissen, wie das Dataset aufgebaut ist, machen Sie sich wieder damit vertraut (z.B. `describe()`, sich einzelne Zeilen angucken).\n",
    "- Verschaffen Sie sich ein Überblick über die Möglichkeiten zum Ersetzen von fehlenden Werten, die es in pandas gibt (z.B. `fillna`, `interpolate`)."
   ]
  },
  {
   "cell_type": "markdown",
   "id": "atmospheric-twins",
   "metadata": {},
   "source": [
    "__Ihre Antwort:__\n",
    " "
   ]
  },
  {
   "cell_type": "markdown",
   "id": "external-classics",
   "metadata": {},
   "source": [
    "#### b) Implementierung der Ersetzungsstrategie(n)\n",
    "_Punkte: 1_\n",
    "\n",
    "Implementieren Sie die von Ihnen ausgewählte Strategie(n) zum Ersetzen der fehlenden Werte. Speichern Sie das DataFrame ohne fehlende Werte in der Variable `ebola_without_nans`."
   ]
  },
  {
   "cell_type": "code",
   "execution_count": null,
   "id": "alpha-confirmation",
   "metadata": {},
   "outputs": [],
   "source": [
    "# IHRE Lösung HIER\n",
    "ebola_without_nans = ebola"
   ]
  },
  {
   "cell_type": "markdown",
   "id": "employed-article",
   "metadata": {},
   "source": [
    "#### c) Überprüfen, ob alle fehlenden Werte ersetzt wurden\n",
    "_Punkte: 0,5_\n",
    "\n",
    "Nachdem die fehlenden Werte ersetzt wurden, ist es sinnvoll zu prüfen, ob auch wirklich alle fehlenden Werte ersetzt wurden. Nutzen Sie dafür bitte den folgenden Methodenrumpf:\n",
    "```python\n",
    "def has_no_nans(df):\n",
    "    \n",
    "    return False\n",
    "```\n",
    "\n",
    "Der Input-Parameter `df` ist das DataFrame, dass überprüft werden soll. Der Rückgabewert ist `True`, wenn das DataFrame keine fehlenden Werte mehr enthält. Andernfalls wird `False`zurückgegeben."
   ]
  },
  {
   "cell_type": "code",
   "execution_count": null,
   "id": "canadian-heritage",
   "metadata": {},
   "outputs": [],
   "source": [
    "def has_no_nans(df):\n",
    "    # IHRE Lösung HIER\n",
    "    return False"
   ]
  },
  {
   "cell_type": "code",
   "execution_count": null,
   "id": "closing-smooth",
   "metadata": {},
   "outputs": [],
   "source": [
    "if has_no_nans(ebola_without_nans):  # \n",
    "    print('Sehr gut! Wir können mit den Daten jetzt weiterarbeiten.')\n",
    "else: \n",
    "    print('Die von Ihnen ausgewählte Strategie hat nicht geklappt. Versuchen Sie es nochmal.')"
   ]
  },
  {
   "cell_type": "markdown",
   "id": "suitable-recipe",
   "metadata": {},
   "source": [
    "#### d) Schnelle Visualisierung mit pandas\n",
    "_Punkte: 0,5_\n",
    "\n",
    "Häufig können mit pandas erste schnelle Graphen erstellt werden, um einen guten, ersten Eindruck über die Datenverteilung zu erhalten. Erstellen Sie mit Hilfe von pandas einen Graphen, der die Fälle und Todesfälle in Guinea im Laufe der Zeit visualisiert. Vergessen Sie nicht, die Achsen zu beschriften."
   ]
  },
  {
   "cell_type": "code",
   "execution_count": null,
   "id": "parliamentary-young",
   "metadata": {},
   "outputs": [],
   "source": [
    "# IHRE Lösung HIER"
   ]
  },
  {
   "cell_type": "markdown",
   "id": "competent-avatar",
   "metadata": {},
   "source": [
    "#### e) Visualisierung mit matplotlib\n",
    "_Punkte: 1,5_\n",
    "\n",
    "Auch wenn pandas und andere Plotting-Module viele Graphen von sich aus erstellen können, gibt es Fälle, wo diese Graphen mittels matplotlib indivdualisiert werden sollen oder wo die \"Standard\"-Graphen nicht ausreichen. Daher ist es immer noch ein wichtiger Skill, Graphen nur mit matplotlib erstellen zu können. In dieser Teilaufgabe werden Sie genau dies tun. Dazu gibt es die folgende Beschreibung:\n",
    "- Für die Todesfälle und Fälle soll es jeweils einen eigenen Graphen geben\n",
    "- In beiden Graphen sollen die Informationen der Länder Guinea, Liberia und Sierra Leone enthalten sein\n",
    "- Außerdem sollen die kumulierten Fälle bzw. Tode in jedem Graph enthalten sein\n",
    "- Achten Sie darauf, dass alles beschriftet ist"
   ]
  },
  {
   "cell_type": "code",
   "execution_count": null,
   "id": "looking-wedding",
   "metadata": {},
   "outputs": [],
   "source": [
    "# IHRE Lösung HIER"
   ]
  },
  {
   "cell_type": "markdown",
   "id": "usual-jackson",
   "metadata": {},
   "source": [
    "## Aufagbe 2: Arbeiten mit DataFrames (3 Punkte)\n",
    "In dieser Aufgabe werden Sie verschiedene Methoden von pandas bzw. pandas.DataFrame verwenden um Anforderungen zu lösen. Als Daten verwenden wir hier ein Datenset, das Informationen über alle Länder der Welt enthält. Sie können das Datenset [hier](https://www.kaggle.com/fernandol/countries-of-the-world) finden. Die Teilaufgaben sind:\n",
    "- a) Speicheroptimierung\n",
    "- b) Änderung von Datenskalen\n",
    "- c) Finden der Länder mit dem höchsten BIP pro Region"
   ]
  },
  {
   "cell_type": "code",
   "execution_count": null,
   "id": "advisory-zealand",
   "metadata": {},
   "outputs": [],
   "source": [
    "countries = pd.read_csv('countries.csv')\n",
    "countries"
   ]
  },
  {
   "cell_type": "markdown",
   "id": "threatened-beginning",
   "metadata": {},
   "source": [
    "#### a) Speicheroptimierung\n",
    "_Punkte: 1_\n",
    "\n",
    "Inspizieren Sie die Daten. Welche Daten lassen sich effektiver speichern? Schreiben Sie die von Ihnen gefundene(n) Spalte(n) in die nachfolgende Markdown-Zeile und begründen Sie kurz, warum sich diese Spalte effektiver speichern lässt."
   ]
  },
  {
   "cell_type": "markdown",
   "id": "gothic-sally",
   "metadata": {},
   "source": [
    "__Ihre Antwort:__"
   ]
  },
  {
   "cell_type": "markdown",
   "id": "bright-continuity",
   "metadata": {},
   "source": [
    "Wandeln Sie die von Ihnen gefundene(n) Spalte(n) in der folgenden Codezeile um."
   ]
  },
  {
   "cell_type": "code",
   "execution_count": null,
   "id": "gross-victor",
   "metadata": {},
   "outputs": [],
   "source": [
    "# IHRE Lösung HIER"
   ]
  },
  {
   "cell_type": "markdown",
   "id": "pediatric-subscriber",
   "metadata": {},
   "source": [
    "#### b) Änderung von Datenskalen\n",
    "_Punkte: 1_\n",
    "\n",
    "Die Skalen der Spalten _Area (sq. mi.)_ und _Pop. Density (per sq. mi.)_ verwenden Quadratmeilen. Da dies für uns Europäer eine komische Skala ist, sollen Sie den Wert in Quadratkilometer umrechnen (1 Quadratkilometer = 0,386102 Quadratmeilen). Implementieren Sie den folgenden Methodenrumpf:\n",
    "```python\n",
    "def sq_mi_in_sq_km(series):\n",
    "    \n",
    "    return series\n",
    "```\n",
    "Der Input-Parameter `series` ist ein pandas.Series-Objekt, das die umzurechenden Werte enthält. Der Rückgabewert ist auch ein pandas.Series-Objekt, das die Werte in Quadratkilometer enthält. \n",
    "\n",
    "Wenden Sie anschließend die Methode auf die Spalten an und ändern Sie den Namen der betroffenden Spalten."
   ]
  },
  {
   "cell_type": "code",
   "execution_count": null,
   "id": "official-amazon",
   "metadata": {},
   "outputs": [],
   "source": [
    "# IHRE Lösung HIER"
   ]
  },
  {
   "cell_type": "markdown",
   "id": "atomic-location",
   "metadata": {},
   "source": [
    "#### c) Finden der Länder mit dem höchsten BIP (GDP) pro Region\n",
    "Geben Sie ein DataFrame aus, das das Land einer jeden Region enthält, welches den höchsten BIP aufweist. Das DataFrame soll die spalten Region, Land und BIP enthalten. "
   ]
  },
  {
   "cell_type": "code",
   "execution_count": null,
   "id": "pressed-logic",
   "metadata": {},
   "outputs": [],
   "source": [
    "# IHRE Lösung HIER"
   ]
  },
  {
   "cell_type": "markdown",
   "id": "sitting-playing",
   "metadata": {},
   "source": [
    "## Aufgabe 3: Baue ein Klassifikator mit NumPy (2 Punkte)\n",
    "In der letzten Aufgabe werden Sie einen Klassifikator bauen. Betrachten Sie sich zunächst den folgenden Graphen:"
   ]
  },
  {
   "cell_type": "code",
   "execution_count": null,
   "id": "01b64647",
   "metadata": {},
   "outputs": [],
   "source": [
    "import seaborn as sns\n",
    "\n",
    "sns.set_theme()"
   ]
  },
  {
   "cell_type": "code",
   "execution_count": null,
   "id": "featured-affair",
   "metadata": {},
   "outputs": [],
   "source": [
    "importclassification_data = pd.read_csv('classification_data.csv', index_col=0)\n",
    "\n",
    "fig = plt.figure(figsize=(10, 8))\n",
    "fig.suptitle('Ausgangslage')\n",
    "sns.scatterplot(x=classification_data.x, y=classification_data.y, hue=classification_data.label)  # noqa: F821\n",
    "plt.show()"
   ]
  },
  {
   "cell_type": "markdown",
   "id": "imperial-logging",
   "metadata": {},
   "source": [
    "Der Graph zeigt zwei Punktewolken - eine für das Label _A_ und eine für das Label _B_ - die linear separierbar sind. Allerdings ist noch nicht jedem Datenpunkt ein Label zugewiesen. Dies ist Ihre Aufgabe. Dafür führen Sie bitte die folgenden Schritte durch:\n",
    "- a) Bestimmen Sie die Trennlinie\n",
    "- b) Implementieren Sie den Klassifikator\n",
    "\n",
    "#### a) Bestimmen Sie die Trennlinie\n",
    "_Punkte: 0,5_\n",
    "\n",
    "Da die Daten durch eine einfache gerade Linie trennbar sind, kann man diese Eigenschaft nutzen, um einen Klassifikator zu bauen. Dabei wird jedem Wert der größer ist als die Linie ein Label zugewiesen und jedem Wert der kleiner ist als die Linie das andere Label. Daher ist Ihre erste Aufgabe diese Linie zu bestimmen. Geben Sie dafür in der nachfolgenden Zeile die nötigen x- und y-Koordinaten von zwei Punkten am jeweiligen Ende dieser Linie an, die benötigt werden, um die Linie zu ploten."
   ]
  },
  {
   "cell_type": "code",
   "execution_count": null,
   "id": "perceived-moderator",
   "metadata": {},
   "outputs": [],
   "source": [
    "x = [] # IHRE Lösung HIER\n",
    "y = [] # IHRE Lösung HIER\n",
    "\n",
    "fig = plt.figure(figsize=(10, 8))\n",
    "fig.suptitle('Ausgangslage + Trennlinie')\n",
    "sns.scatterplot(x=classification_data.x, y=classification_data.y, hue=classification_data.label)  # noqa: F821\n",
    "plt.plot(x, y)\n",
    "plt.show()"
   ]
  },
  {
   "cell_type": "markdown",
   "id": "close-updating",
   "metadata": {},
   "source": [
    "#### b) Implementieren Sie den Klassifikator\n",
    "_Punkte: 1,5_\n",
    "\n",
    "Nun können Sie den Klassifikator implementieren. Nutzen Sie dafür den folgenden Methodenrumpf und NumPy-Methoden:\n",
    "```python\n",
    "def classify(data):\n",
    "    \n",
    "    return labels\n",
    "```\n",
    "Der Input-Parameter ist ein NumPy 2d-Array mit 2 Spalten und beliebig vielen Zeilen. Der Rückgabewert ist ein NumPy 1d-Array in der Länge des Input Arrays, dass für jeden Datenpunkt, das entsprechende Label enthält."
   ]
  },
  {
   "cell_type": "code",
   "execution_count": null,
   "id": "innovative-annex",
   "metadata": {},
   "outputs": [],
   "source": [
    "def classify(data):\n",
    "    labels = None\n",
    "    # IHRE Lösung HIER\n",
    "    return labels"
   ]
  },
  {
   "cell_type": "code",
   "execution_count": null,
   "id": "reasonable-elizabeth",
   "metadata": {},
   "outputs": [],
   "source": [
    "known_data = classification_data.loc[classification_data.label != 'unknown']  # noqa: F821\n",
    "unknown_data_points = classification_data.loc[classification_data.label == 'unknown', 'x':'y'].values  # noqa: F821\n",
    "labels_for_unknown_data = classify(unknown_data_points)\n",
    "\n",
    "fig = plt.figure(figsize=(10, 8))\n",
    "fig.suptitle('Nach Klassifikation')\n",
    "sns.scatterplot(x=np.append(known_data.x.values, unknown_data_points[:, 0]), \n",
    "                y=np.append(known_data.y.values, unknown_data_points[:, 1]),\n",
    "                hue=np.append(known_data.label.values, labels_for_unknown_data))\n",
    "plt.plot(x, y)\n",
    "plt.show()"
   ]
  },
  {
   "cell_type": "markdown",
   "id": "assumed-opening",
   "metadata": {},
   "source": [
    "---\n",
    "\n",
    "Wahlpflichtfach Künstliche Intelligenz I: Testat"
   ]
  }
 ],
 "metadata": {
  "kernelspec": {
   "display_name": "Python 3.11.4 ('venv': venv)",
   "language": "python",
   "name": "python3"
  },
  "language_info": {
   "codemirror_mode": {
    "name": "ipython",
    "version": 3
   },
   "file_extension": ".py",
   "mimetype": "text/x-python",
   "name": "python",
   "nbconvert_exporter": "python",
   "pygments_lexer": "ipython3",
   "version": "3.11.4"
  },
  "vscode": {
   "interpreter": {
    "hash": "90426636d83e24cdadcd62d77212f0f01714dea61fbf228ca5d2a0125536a635"
   }
  }
 },
 "nbformat": 4,
 "nbformat_minor": 5
}
