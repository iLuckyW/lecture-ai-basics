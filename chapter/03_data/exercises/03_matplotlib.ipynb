{
 "cells": [
  {
   "cell_type": "markdown",
   "id": "f7360f2d",
   "metadata": {},
   "source": [
    "Lecture: AI I - Basics \n",
    "\n",
    "Previous:\n",
    "[**Chapter 3.3: Visualisation with Matplotlib**](../03_matplotlib.ipynb)\n",
    "\n",
    "---"
   ]
  },
  {
   "cell_type": "markdown",
   "id": "8bf4ad77",
   "metadata": {},
   "source": [
    "# Exercise 3.3: Visualisation with Matplotlib\n",
    "\n",
    "- [Task 1: Full temperature time series](#task-1-full-temperature-time-series)\n",
    "- [Task 2: Combined yearly temperature scatter](#task-2-combined-yearly-temperature-scatter)\n",
    "- [Task 3: Normalized histogram function](#task-3-normalized-histogram-function)\n",
    "- [Task 4: Monthly temperature comparison function](#task-4-monthly-temperature-comparison-function)\n",
    "- [Task 5: Bar plot of rainfall with mean coloring](#task-5-bar-plot-of-rainfall-with-mean-coloring)\n",
    "- [Task 6: Inferno colormap image](#task-6-inferno-colormap-image)"
   ]
  },
  {
   "cell_type": "markdown",
   "id": "627b653d",
   "metadata": {},
   "source": [
    "> Hint: When doing the exercises put your solution in the designated \"Solution\" section:\n",
    "> ```python\n",
    "> # Solution (put your code here)\n",
    "> ```"
   ]
  },
  {
   "cell_type": "code",
   "execution_count": null,
   "id": "e7855a6b",
   "metadata": {},
   "outputs": [],
   "source": [
    "%matplotlib inline"
   ]
  },
  {
   "cell_type": "code",
   "execution_count": null,
   "id": "7c46f8c6",
   "metadata": {},
   "outputs": [],
   "source": [
    "import numpy as np\n",
    "import matplotlib.pyplot as plt\n",
    "\n",
    "data = np.loadtxt('../data/matplotlib/temperatures.txt')\n",
    "date, T = data[np.abs(data[:,1]) != 99,:].transpose()"
   ]
  },
  {
   "cell_type": "markdown",
   "id": "e45580d7",
   "metadata": {},
   "source": [
    "## Task 1: Full temperature time series\n",
    "Plot the temperature evolution over the entire time span using a line plot.\n",
    "Requirements:\n",
    "- Line plot of `T` vs `date`.\n",
    "- Title, x/y axis labels (include unit °C), legend.\n",
    "- Set x-limits to the min/max of `date`.\n",
    "Hint: Degree symbol: `°C` or in math text `$[^\\circ\\\\mathrm{C}]$`."
   ]
  },
  {
   "cell_type": "code",
   "execution_count": null,
   "id": "d58104d0",
   "metadata": {},
   "outputs": [],
   "source": [
    "# Solution (put your code here)"
   ]
  },
  {
   "cell_type": "markdown",
   "id": "e630794c",
   "metadata": {},
   "source": [
    "Check: Does your result look like this?\n",
    "\n",
    "![](../data/matplotlib/task1.png)"
   ]
  },
  {
   "cell_type": "markdown",
   "id": "43efb95f",
   "metadata": {},
   "source": [
    "## Task 2: Combined yearly temperature scatter\n",
    "Create a scatter plot of all temperature measurements folded into a single year.\n",
    "Requirements:\n",
    "- x-axis: `date % 1` (fractional part → position within the year).\n",
    "- Scatter points only (no connecting line), use a small marker like `'.'`.\n",
    "- Title, x/y axis labels (unit), legend.\n",
    "- x-limits: 0 to 1.\n",
    "Hint: You can later experiment with transparency (`alpha`) if points overplot."
   ]
  },
  {
   "cell_type": "code",
   "execution_count": null,
   "id": "f3478170",
   "metadata": {},
   "outputs": [],
   "source": [
    "# Solution (put your code here)"
   ]
  },
  {
   "cell_type": "markdown",
   "id": "4cbd1faa",
   "metadata": {},
   "source": [
    "Check: Does your result look like this?\n",
    "\n",
    "![](../data/matplotlib/task2.png)"
   ]
  },
  {
   "cell_type": "markdown",
   "id": "99160654",
   "metadata": {},
   "source": [
    "## Task 3: Normalized histogram function\n",
    "Write a function `make_histogram(data)` that returns a Figure containing a normalized histogram (probability density) of a 1D NumPy array.\n",
    "Requirements:\n",
    "- Use `density=True`.\n",
    "- Reasonable automatic binning (`bins='auto'` is fine).\n",
    "- Label x-axis (`random data`) and y-axis (`density`).\n",
    "- Return the Figure object at the end of the function."
   ]
  },
  {
   "cell_type": "code",
   "execution_count": null,
   "id": "55d3234f",
   "metadata": {},
   "outputs": [],
   "source": [
    "# prerequisites (don't edit this block)\n",
    "np.random.seed(1)\n",
    "hist_data = np.random.normal(loc=0, scale=1, size=1000)"
   ]
  },
  {
   "cell_type": "code",
   "execution_count": null,
   "id": "41407186",
   "metadata": {},
   "outputs": [],
   "source": [
    "# Solution (put your code here)"
   ]
  },
  {
   "cell_type": "markdown",
   "id": "98910897",
   "metadata": {},
   "source": [
    "Check: Does your result look like this?\n",
    "\n",
    "![](../data/matplotlib/task3.png)"
   ]
  },
  {
   "cell_type": "markdown",
   "id": "909e5f07",
   "metadata": {},
   "source": [
    "## Task 4: Monthly temperature comparison function\n",
    "Write a function `make_temperature_plot(city_data)` where `city_data` is a dict mapping city name → (12×2) array: column 0 = monthly lows, column 1 = monthly highs.\n",
    "Requirements:\n",
    "- Create a Figure with two stacked subplots (shared x optional): top = lows, bottom = highs.\n",
    "- Plot both cities in each subplot with markers (e.g. `'o'`) and legend.\n",
    "- y-limits: -5 to 30 on both subplots (for comparability).\n",
    "- Bottom subplot: x-axis label `Month` (1–12).\n",
    "- Add a suptitle: `Average temperatures in <cities>`.\n",
    "- Return the Figure.\n",
    "Hint: Use `figure, (ax_low, ax_high) = plt.subplots(2, 1, sharex=True)`."
   ]
  },
  {
   "cell_type": "code",
   "execution_count": null,
   "id": "2a1eb21f",
   "metadata": {},
   "outputs": [],
   "source": [
    "# prerequisites (don't edit this block)\n",
    "temperature_data = {\n",
    "    'Osnabrueck': np.array([[ 0,  4], [-1,  4], [ 2,  8], [ 4, 12], [ 8, 17], [11, 20],\n",
    "                             [13, 22], [13, 22], [11, 18], [ 7, 13], [ 3,  8], [ 1,  5]]),\n",
    "    'Trento':      np.array([[ 4,  8], [ 3,  8], [ 5, 10], [ 8, 13], [12, 18], [16, 22],\n",
    "                             [18, 25], [18, 24], [15, 21], [12, 16], [ 7, 12], [ 5,  9]])\n",
    "}"
   ]
  },
  {
   "cell_type": "code",
   "execution_count": null,
   "id": "de3952d4",
   "metadata": {},
   "outputs": [],
   "source": [
    "# Solution (put your code here)"
   ]
  },
  {
   "cell_type": "markdown",
   "id": "8741f216",
   "metadata": {},
   "source": [
    "Check: Does your result look like this?\n",
    "\n",
    "![](../data/matplotlib/task4.png)"
   ]
  },
  {
   "cell_type": "markdown",
   "id": "495dd098",
   "metadata": {},
   "source": [
    "## Task 5: Bar plot of rainfall with mean coloring\n",
    "Write a function `make_barplot(data)` where `data` maps city → annual rainfall value.\n",
    "Requirements:\n",
    "- Sort cities descending by rainfall.\n",
    "- Plot bars.\n",
    "- Compute mean rainfall; draw horizontal dashed gray line at the mean.\n",
    "- Color bars: below mean = `rgb(255, 99, 71)` (Tomato), above mean = `#4682B4` (SteelBlue).\n",
    "- Rotate x tick labels 25° and right-align (`ha='right'`).\n",
    "- y-axis label with unit (e.g. `Rainfall in 2004 [L/m^2]`).\n",
    "- Add legend entry for the mean line.\n",
    "- Return the Figure.\n",
    "Hint: Convert the RGB tuple to 0–1 floats or use the hex form for consistency."
   ]
  },
  {
   "cell_type": "code",
   "execution_count": null,
   "id": "b34f9804",
   "metadata": {},
   "outputs": [],
   "source": [
    "# prerequisites (don't edit this block)\n",
    "rain_data = {\n",
    "    'Bielefeld': 906,\n",
    "    'Köln': 886,\n",
    "    'Hamburg': 806,\n",
    "    'Karlsruhe': 658,\n",
    "    'Hannover': 675,\n",
    "    'Darmstadt': 656,\n",
    "    'Stuttgart': 616,\n",
    "    'Berlin': 563,\n",
    "    'Frankfurt': 555,\n",
    "    'Weimar': 508,\n",
    "}"
   ]
  },
  {
   "cell_type": "code",
   "execution_count": null,
   "id": "d0d2f880",
   "metadata": {},
   "outputs": [],
   "source": [
    "# Solution (put your code here)"
   ]
  },
  {
   "cell_type": "markdown",
   "id": "a9db1cbd",
   "metadata": {},
   "source": [
    "Check: Does your result look like this?\n",
    "\n",
    "![](../data/matplotlib/task5.png)"
   ]
  },
  {
   "cell_type": "markdown",
   "id": "2f232f9a",
   "metadata": {},
   "source": [
    "## Task 6: Inferno colormap image\n",
    "Write a function `make_inferno_image(img_data)` that displays a 2D array (or one channel of an image) using the `inferno` colormap.\n",
    "Requirements:\n",
    "- Use `imshow` with `cmap='inferno'`.\n",
    "- Fix value range with `vmin=0`, `vmax=1` (assume normalized data).\n",
    "- Hide axes (`ax.axis('off')`).\n",
    "- Add a colorbar spanning 0→1.\n",
    "- Return the Figure.\n",
    "If the loaded image is RGB uint8 (0–255), normalize a channel: `channel = img_data[...,0]/255`."
   ]
  },
  {
   "cell_type": "code",
   "execution_count": null,
   "id": "5cc491ad",
   "metadata": {},
   "outputs": [],
   "source": [
    "# prerequisites (don't edit this block)\n",
    "kitty_data = plt.imread('../data/matplotlib/stinkbug.png')  # Adjust path if needed."
   ]
  },
  {
   "cell_type": "code",
   "execution_count": null,
   "id": "f35040e9",
   "metadata": {},
   "outputs": [],
   "source": [
    "# Solution (put your code here)"
   ]
  },
  {
   "cell_type": "markdown",
   "id": "6bb92449",
   "metadata": {},
   "source": [
    "Check: Does your result look like this?\n",
    "\n",
    "![](../data/matplotlib/task6.png)"
   ]
  },
  {
   "cell_type": "markdown",
   "id": "f8f5d51b",
   "metadata": {},
   "source": [
    "---\n",
    "\n",
    "Lecture: AI I - Basics \n",
    "\n",
    "Next: [**Chapter 3.4: Visualisation with Seaborn**]()"
   ]
  }
 ],
 "metadata": {
  "kernelspec": {
   "display_name": "ai-lecture",
   "language": "python",
   "name": "python3"
  },
  "language_info": {
   "name": "python",
   "version": "3.12.11"
  }
 },
 "nbformat": 4,
 "nbformat_minor": 5
}
