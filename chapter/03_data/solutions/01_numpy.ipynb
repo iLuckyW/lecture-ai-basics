{
 "cells": [
  {
   "cell_type": "markdown",
   "id": "303936bb",
   "metadata": {},
   "source": [
    "Lecture: AI I - Basics \n",
    "\n",
    "Previous:\n",
    "[**Chapter 3.1: Numpy**](../01_numpy.ipynb)\n",
    "\n",
    "---"
   ]
  },
  {
   "cell_type": "markdown",
   "id": "80c34a6f",
   "metadata": {},
   "source": [
    "# Solution 3.1: Numpy\n",
    "\n",
    "- [Task 1 - Gaussian](#task-1---gaussian)\n",
    "- [Task 2 - Numpy Arrays](#task-2---numpy-arrays)\n",
    "- [Task 3 - Indexing](#task-3---indexing)\n",
    "- [Task 4 - Masking](#task-4---masking)\n",
    "- [Task 5 - Pairwise Distances](#task-5---pairwise-distances)\n",
    "- [Task 6 - Moving Average](#task-6---moving-average)\n",
    "- [Task 7 - Practice Makes Perfect: Masks & Slicing](#task-7---practice-makes-perfect:-masks-&-slicing)\n",
    "- [Task 8 - Temperatures in Heidelberg](#task-8---temperatures-in-heidelberg)\n",
    "- [Task 9 - Subarray](#task-9---subarray)"
   ]
  },
  {
   "cell_type": "markdown",
   "id": "a7989910",
   "metadata": {},
   "source": [
    "> Hint: When doing the exercises put your solution in the designated \"Solution\" section:\n",
    "> ```python\n",
    "> # Solution (put your code here)\n",
    "> ```"
   ]
  },
  {
   "cell_type": "markdown",
   "id": "c4d50c6a",
   "metadata": {},
   "source": [
    "## Task 1 - Gaussian\n",
    "\n",
    "Import the `exp` function from `numpy` or `math`.\n",
    "\n",
    "Define a **one-line** (`lambda`) function named `gaussian` which takes the arguments `x`, `mu`, `sigma`, and `A` and returns the value $$A\\,\\mathrm{exp}\\!\\left(\\frac{(x-\\mu)^2}{2\\sigma^2}\\right)$$"
   ]
  },
  {
   "cell_type": "code",
   "execution_count": 1,
   "id": "9a4375c4",
   "metadata": {},
   "outputs": [],
   "source": [
    "# prerequisites (don't edit this block)\n",
    "from numpy import exp"
   ]
  },
  {
   "cell_type": "code",
   "execution_count": 2,
   "id": "fe24be21",
   "metadata": {},
   "outputs": [],
   "source": [
    "# Solution (put your code here)\n",
    "gaussian = lambda x, mu, sigma, A: A * exp((x-mu) ** 2 / 2 / sigma ** 2)  # noqa: E731"
   ]
  },
  {
   "cell_type": "code",
   "execution_count": 3,
   "id": "3af068be",
   "metadata": {},
   "outputs": [
    {
     "name": "stdout",
     "output_type": "stream",
     "text": [
      "👍 Correct.\n"
     ]
    }
   ],
   "source": [
    "# Test case (don't edit this block)\n",
    "from numpy.testing import assert_almost_equal\n",
    "\n",
    "try:\n",
    "    exp\n",
    "except NameError:\n",
    "    raise NameError(\"No function named 'exp' exists. Did you import the function with the `from module import function_name` syntax?\")\n",
    "\n",
    "try:\n",
    "    gaussian\n",
    "except NameError:\n",
    "    raise NameError(\"No function named 'gaussian' exists. Make sure your function is named accordingly.\")\n",
    "\n",
    "assert gaussian(x=0, mu=0, sigma=1, A=1) == 1, \"gaussian(x=0, mu=0, sigma=1, A=1) should return 1. Check your function code.\"\n",
    "\n",
    "assert_almost_equal(gaussian(x=0, mu=1, sigma=2, A=3), 3.4, 1, \"gaussian(x=0, mu=1, sigma=2, A=3) should return approximately 3.4. Check your function code.\")\n",
    "print(\"👍 Correct.\")"
   ]
  },
  {
   "cell_type": "markdown",
   "id": "4bcfe09b",
   "metadata": {},
   "source": [
    "## Task 2 - Numpy Arrays\n",
    "\n",
    "a) Create an array `a` containing 11 values between $10^{-20}$ and $10^{-10}$ in logarithmic spacing"
   ]
  },
  {
   "cell_type": "code",
   "execution_count": 4,
   "id": "ee9679ac",
   "metadata": {},
   "outputs": [],
   "source": [
    "# prerequisites (don't edit this block)\n",
    "import numpy as np"
   ]
  },
  {
   "cell_type": "code",
   "execution_count": 5,
   "id": "ccd95242",
   "metadata": {},
   "outputs": [],
   "source": [
    "# Solution (put your code here)\n",
    "a = np.logspace(-20, -10, 11)"
   ]
  },
  {
   "cell_type": "code",
   "execution_count": 6,
   "id": "6d0962b6",
   "metadata": {},
   "outputs": [
    {
     "name": "stdout",
     "output_type": "stream",
     "text": [
      "a: Correct.\n"
     ]
    }
   ],
   "source": [
    "# Test case (don't edit this block)\n",
    "from numpy.testing import assert_allclose, assert_array_equal, assert_array_almost_equal\n",
    "\n",
    "# Test a\n",
    "try:\n",
    "    a\n",
    "except NameError:\n",
    "    raise NameError(\"No variable 'a' exists. Assign the array to a variable with this name.\")\n",
    "\n",
    "assert_allclose(a, [1e-20, 1e-19, 1e-18, 1e-17, 1e-16, 1e-15, 1e-14, 1e-13, 1e-12, 1e-11, 1e-10])\n",
    "print(\"a: Correct.\")\n"
   ]
  },
  {
   "cell_type": "markdown",
   "id": "00524ab3",
   "metadata": {},
   "source": [
    "b) Create an array `b` containing 2x10 zeros"
   ]
  },
  {
   "cell_type": "code",
   "execution_count": 7,
   "id": "14265d60",
   "metadata": {},
   "outputs": [],
   "source": [
    "# Solution (put your code here)\n",
    "b = np.zeros((2, 10))"
   ]
  },
  {
   "cell_type": "code",
   "execution_count": 8,
   "id": "975c45d6",
   "metadata": {},
   "outputs": [
    {
     "name": "stdout",
     "output_type": "stream",
     "text": [
      "b: Correct.\n"
     ]
    }
   ],
   "source": [
    "# Test case (don't edit this block)\n",
    "try:\n",
    "    b\n",
    "except NameError:\n",
    "    raise NameError(\"No variable 'b' exists. Assign the array to a variable with this name.\")\n",
    "\n",
    "assert_array_equal(b, [[0, 0, 0, 0, 0, 0, 0, 0, 0, 0], [0, 0, 0, 0, 0, 0, 0, 0, 0, 0]])\n",
    "print(\"b: Correct.\")"
   ]
  },
  {
   "cell_type": "markdown",
   "id": "2d162fe6",
   "metadata": {},
   "source": [
    "c) Create an array `c` that corresponds to the identity matrix in 3 dimensions"
   ]
  },
  {
   "cell_type": "code",
   "execution_count": 9,
   "id": "c1e4b6ae",
   "metadata": {},
   "outputs": [],
   "source": [
    "# Solution (put your code here)\n",
    "c = np.identity(3)"
   ]
  },
  {
   "cell_type": "code",
   "execution_count": 10,
   "id": "a65654c1",
   "metadata": {},
   "outputs": [
    {
     "name": "stdout",
     "output_type": "stream",
     "text": [
      "c: Correct.\n"
     ]
    }
   ],
   "source": [
    "# Test case (don't edit this block)\n",
    "try:\n",
    "    c\n",
    "except NameError:\n",
    "    raise NameError(\"No variable 'c' exists. Assign the array to a variable with this name.\")\n",
    "\n",
    "assert_array_equal(c, [[1, 0, 0], [0, 1, 0], [0, 0, 1]])\n",
    "print(\"c: Correct.\")"
   ]
  },
  {
   "cell_type": "markdown",
   "id": "20929f8b",
   "metadata": {},
   "source": [
    "d) Create an array `d` containing 100 values between -5 and 5 in linear spacing"
   ]
  },
  {
   "cell_type": "code",
   "execution_count": 11,
   "id": "11bad4e9",
   "metadata": {},
   "outputs": [],
   "source": [
    "# Solution (put your code here)\n",
    "d = np.linspace(-5, 5, 100)"
   ]
  },
  {
   "cell_type": "code",
   "execution_count": 12,
   "id": "596ebf2b",
   "metadata": {},
   "outputs": [
    {
     "name": "stdout",
     "output_type": "stream",
     "text": [
      "d: Correct.\n"
     ]
    }
   ],
   "source": [
    "# Test case (don't edit this block)\n",
    "try:\n",
    "    d\n",
    "except NameError:\n",
    "    raise NameError(\"No variable 'd' exists. Assign the array to a variable with this name.\")\n",
    "\n",
    "assert_array_almost_equal(d[:5], [-5., -4.8989899, -4.7979798, -4.6969697, -4.5959596], 4)\n",
    "print(\"d: Correct.\")"
   ]
  },
  {
   "cell_type": "markdown",
   "id": "d08d363a",
   "metadata": {},
   "source": [
    "e) Create two 2D arrays `x` and `y` using meshgrid"
   ]
  },
  {
   "cell_type": "code",
   "execution_count": 13,
   "id": "7bb37f72",
   "metadata": {},
   "outputs": [],
   "source": [
    "# Solution (put your code here)\n",
    "x, y = np.meshgrid(d, d)"
   ]
  },
  {
   "cell_type": "code",
   "execution_count": 14,
   "id": "1c5608a7",
   "metadata": {},
   "outputs": [
    {
     "name": "stdout",
     "output_type": "stream",
     "text": [
      "x, y: All clear? 😉\n"
     ]
    }
   ],
   "source": [
    "# Test case (don't edit this block)\n",
    "try:\n",
    "    x, y\n",
    "except NameError:\n",
    "    raise NameError(\"No variable 'x' or 'y' exists. Assign the arrays to variables with these names.\")\n",
    "\n",
    "assert_array_almost_equal(x[:5,0], [-5, -5, -5, -5, -5], 4)\n",
    "assert_array_almost_equal(x[0,:5], [-5., -4.8989899, -4.7979798, -4.6969697, -4.5959596], 4)\n",
    "assert_array_almost_equal(y[0,:5], [-5, -5, -5, -5, -5], 4)\n",
    "assert_array_almost_equal(y[:5,0], [-5., -4.8989899, -4.7979798, -4.6969697, -4.5959596], 4)\n",
    "print(\"x, y: All clear? 😉\")"
   ]
  },
  {
   "cell_type": "markdown",
   "id": "057fd0c2",
   "metadata": {},
   "source": [
    "f) Calculate array `r` with distance to origin"
   ]
  },
  {
   "cell_type": "code",
   "execution_count": 15,
   "id": "579c3e77",
   "metadata": {},
   "outputs": [],
   "source": [
    "# Solution (put your code here)\n",
    "r = np.sqrt(x ** 2 + y ** 2)"
   ]
  },
  {
   "cell_type": "code",
   "execution_count": 16,
   "id": "cab6ef38",
   "metadata": {},
   "outputs": [
    {
     "name": "stdout",
     "output_type": "stream",
     "text": [
      "r: 👍\n"
     ]
    }
   ],
   "source": [
    "# Test case (don't edit this block)\n",
    "try:\n",
    "    r\n",
    "except NameError:\n",
    "    raise NameError(\"No variable 'r' exists. Assign the array to a variable with this name.\")\n",
    "\n",
    "assert_array_almost_equal(r[0,:3], [ 7.07106781, 7.00000729, 6.92969048], 4)\n",
    "print(\"r: 👍\")"
   ]
  },
  {
   "cell_type": "markdown",
   "id": "24e5681a",
   "metadata": {},
   "source": [
    "g) Calculate E = (x/r) * sin(π*r)"
   ]
  },
  {
   "cell_type": "code",
   "execution_count": 17,
   "id": "ea075c15",
   "metadata": {},
   "outputs": [],
   "source": [
    "# Solution (put your code here)\n",
    "E = x / r * np.sin(r * np.pi)"
   ]
  },
  {
   "cell_type": "code",
   "execution_count": 18,
   "id": "073c7972",
   "metadata": {},
   "outputs": [
    {
     "name": "stdout",
     "output_type": "stream",
     "text": [
      "E: Very good! 👏\n"
     ]
    }
   ],
   "source": [
    "# Test case (don't edit this block)\n",
    "try:\n",
    "    E\n",
    "except NameError:\n",
    "    raise NameError(\"No variable 'E' exists. Assign the array to a variable with this name.\")\n",
    "\n",
    "assert_array_almost_equal(E[0,:3], [ 1.56564647e-01, 1.60235697e-05, -1.51695015e-01 ], 4)\n",
    "print(\"E: Very good! 👏\")"
   ]
  },
  {
   "cell_type": "markdown",
   "id": "cfe97439",
   "metadata": {},
   "source": [
    "## Task 3 - Indexing\n",
    "\n",
    "Write a function `checkerboard(shape)` that takes a shape tuple `(rows, cols)` and returns a 2D numpy array with a checkerboard pattern consisting of `0`s and `1`s. It should start with a `0` in the upper left corner."
   ]
  },
  {
   "cell_type": "code",
   "execution_count": 19,
   "id": "8353c221",
   "metadata": {},
   "outputs": [],
   "source": [
    "# Solution (put your code here)\n",
    "def checkerboard(shape):\n",
    "    checkerboard_array = np.zeros(shape=shape)\n",
    "    checkerboard_array[1::2, 0::2] = 1\n",
    "    checkerboard_array[0::2, 1::2] = 1\n",
    "    return checkerboard_array"
   ]
  },
  {
   "cell_type": "code",
   "execution_count": 20,
   "id": "ece7a966",
   "metadata": {},
   "outputs": [
    {
     "name": "stdout",
     "output_type": "stream",
     "text": [
      "Checkerboard tests passed!\n"
     ]
    }
   ],
   "source": [
    "# Test case (don't edit this block)\n",
    "assert checkerboard((3, 3)).tolist() == [\n",
    "    [0, 1, 0],\n",
    "    [1, 0, 1],\n",
    "    [0, 1, 0]\n",
    "]\n",
    "\n",
    "assert checkerboard((4, 4)).tolist() == [\n",
    "    [0, 1, 0, 1],\n",
    "    [1, 0, 1, 0],\n",
    "    [0, 1, 0, 1],\n",
    "    [1, 0, 1, 0]\n",
    "]\n",
    "\n",
    "assert checkerboard((8, 8)).tolist() == [\n",
    "    [0, 1, 0, 1, 0, 1, 0, 1],\n",
    "    [1, 0, 1, 0, 1, 0, 1, 0],\n",
    "    [0, 1, 0, 1, 0, 1, 0, 1],\n",
    "    [1, 0, 1, 0, 1, 0, 1, 0],\n",
    "    [0, 1, 0, 1, 0, 1, 0, 1],\n",
    "    [1, 0, 1, 0, 1, 0, 1, 0],\n",
    "    [0, 1, 0, 1, 0, 1, 0, 1],\n",
    "    [1, 0, 1, 0, 1, 0, 1, 0]\n",
    "]\n",
    "\n",
    "print(\"Checkerboard tests passed!\")"
   ]
  },
  {
   "cell_type": "markdown",
   "id": "17742ca1",
   "metadata": {},
   "source": [
    "## Task 4 - Masking\n",
    "\n",
    "Write a function `make_positive(array)` that shows a numpy array its positive side by replacing all negative values (< 0) with the mean of the positive values (> 0). Make sure to leave the original array unchanged. Your implementation should work for arrays with arbitrary dimensionality."
   ]
  },
  {
   "cell_type": "code",
   "execution_count": 21,
   "id": "2fd7c9c7",
   "metadata": {},
   "outputs": [],
   "source": [
    "# Solution (put your code here)\n",
    "def make_positive(array):\n",
    "    positive_array = np.copy(array)\n",
    "    positive_array[positive_array < 0] = positive_array[positive_array > 0].mean()\n",
    "    \n",
    "    return positive_array"
   ]
  },
  {
   "cell_type": "code",
   "execution_count": 22,
   "id": "abaa7ab6",
   "metadata": {},
   "outputs": [
    {
     "name": "stdout",
     "output_type": "stream",
     "text": [
      "Make positive tests passed!\n"
     ]
    }
   ],
   "source": [
    "# Test case (don't edit this block)\n",
    "input_array_1 = np.array([[-2, 2], [2, 4], [1, 1]])\n",
    "expected_1 = np.array([[2, 2], [2, 4], [1, 1]])\n",
    "array_before = np.copy(input_array_1)\n",
    "\n",
    "assert np.allclose(make_positive(input_array_1), expected_1)\n",
    "assert np.array_equal(array_before, input_array_1)\n",
    "\n",
    "input_array_2 = np.array([[[-1, -2, -4, 2], [-1, 4, 0, 3]], [[4, 0, 2, 1], [2, 2, 3, 0]], [[-4, 3, -4, -5], [0, 3, -2, 1]]])\n",
    "expected_2 = np.array([\n",
    "    [[2, 2, 2, 2], [2, 4, 0, 3]],\n",
    "    [[4, 0, 2, 1], [2, 2, 3, 0]],\n",
    "    [[2, 3, 2, 2], [0, 3, 2, 1]],\n",
    "])\n",
    "expected_2_float = np.array([\n",
    "    [[2.5, 2.5, 2.5, 2.], [2.5, 4., 0., 3.]],\n",
    "    [[4., 0., 2., 1.], [2. , 2. , 3. , 0. ]],\n",
    "    [[2.5, 3. , 2.5, 2.5],[0. , 3. , 2.5, 1. ]],\n",
    "])\n",
    "\n",
    "array_before = np.copy(input_array_2)\n",
    "assert (\n",
    "    np.allclose(make_positive(input_array_2), expected_2)\n",
    "    or np.allclose(make_positive(input_array_2), expected_2_float)\n",
    ")\n",
    "assert np.array_equal(array_before, input_array_2)\n",
    "\n",
    "input_array_3 = np.array([[0.9397899554879413, -1.2772317651031768], [-0.8951136762742923, -1.7484346071066659], [-2.258031974906138, 2.433197056837755]])\n",
    "expected_3 = np.array([\n",
    "    [0.9397899554879413, 1.686493506162848],\n",
    "    [1.686493506162848, 1.686493506162848],\n",
    "    [1.686493506162848, 2.433197056837755]\n",
    "])\n",
    "array_before = np.copy(input_array_3)\n",
    "\n",
    "assert np.allclose(make_positive(input_array_3), expected_3)\n",
    "assert np.array_equal(array_before, input_array_3)\n",
    "\n",
    "print(\"Make positive tests passed!\")"
   ]
  },
  {
   "cell_type": "markdown",
   "id": "f9b184b8",
   "metadata": {},
   "source": [
    "## Task 5 - Pairwise Distances\n",
    "\n",
    "Write a function `pairwise_distances(coords)` with the following behavior. In an `n x 2` array where each row can be considered as a 2D vector, calculate the `n x n` matrix containing the pairwise distances between all vectors. This means that the entry in the distance matrix `[i, j]` should correspond to the distance from vector `i` to vector `j`. The distance should be the [Euclidean distance](https://en.wikipedia.org/wiki/Euclidean_distance) between the respective vectors."
   ]
  },
  {
   "cell_type": "code",
   "execution_count": 23,
   "id": "b4777c05",
   "metadata": {},
   "outputs": [],
   "source": [
    "# Solution (put your code here)\n",
    "def pairwise_distances(coords):\n",
    "    diff = coords[:, np.newaxis, :] - coords[np.newaxis, :, :]\n",
    "    distances = np.sqrt(np.sum(diff**2, axis=2))\n",
    "    \n",
    "    return distances"
   ]
  },
  {
   "cell_type": "code",
   "execution_count": 24,
   "id": "9da4d1f2",
   "metadata": {},
   "outputs": [
    {
     "name": "stdout",
     "output_type": "stream",
     "text": [
      "Pairwise distances tests passed!\n"
     ]
    }
   ],
   "source": [
    "# Test case (don't edit this block)\n",
    "input_array_1 = np.array([\n",
    "    [0.2398088073272696, 0.5226281228092247], \n",
    "    [0.755564158494803, 0.7127951710848355],\n",
    "    [0.3652256521465531, 0.012569140456776928], \n",
    "    [0.505393607258859, 0.9595478799929672]\n",
    "])\n",
    "expected_1 = np.array([\n",
    "    [0.0, 0.5496972698747958, 0.5252518923743529, 0.5113063271388326], \n",
    "    [0.5496972698747958, 0.0, 0.8016736514987314, 0.35138611819364357],\n",
    "    [0.5252518923743529, 0.8016736514987314, 0.0, 0.9572960820842823], \n",
    "    [0.5113063271388326, 0.35138611819364357, 0.9572960820842823, 0.0]\n",
    "])\n",
    "assert np.allclose(pairwise_distances(input_array_1), expected_1)\n",
    "\n",
    "input_array_2 = np.array([[0.17314547482155107, 0.38900068389742826], [0.010261033578648271, 0.6171436839357264]])\n",
    "expected_2 = np.array([[0.0, 0.28032226038166774], [0.28032226038166774, 0.0]])\n",
    "assert np.allclose(pairwise_distances(input_array_2), expected_2)\n",
    "\n",
    "input_array_3 = np.array([[0.40884954895322, 0.9964806111736711], [0.7140964329398977, 0.5799675045043642], [0.9564778142801861, 0.2600879564515638]])\n",
    "expected_3 = np.array([[0.0, 0.5163901898863821, 0.9176986754451021], [0.5163901898863821, 0.0, 0.40133733851074727], [0.9176986754451021, 0.40133733851074727, 0.0]])\n",
    "assert np.allclose(pairwise_distances(input_array_3), expected_3)\n",
    "\n",
    "print(\"Pairwise distances tests passed!\")"
   ]
  },
  {
   "cell_type": "markdown",
   "id": "dae1ab62",
   "metadata": {},
   "source": [
    "## Task 6 - Moving Average\n",
    "\n",
    "Write a function `moving_average(array1d, windowsize)`. It should calculate from a 1D array an array containing the averages of a moving window with size `windowsize`. The averages should be calculated based on all values in the current window, then the window should move one step to the right until it hits the edge of the original array. The resulting array should be smaller than the original since the average can only be calculated where the window fits completely."
   ]
  },
  {
   "cell_type": "code",
   "execution_count": 25,
   "id": "3d2934c8",
   "metadata": {},
   "outputs": [],
   "source": [
    "# Solution (put your code here)\n",
    "def moving_average(array1d, windowsize):\n",
    "    n_windows = len(array1d) - windowsize + 1\n",
    "    result = np.zeros(n_windows)\n",
    "    \n",
    "    for i in range(windowsize):\n",
    "        result += array1d[i:i + n_windows]\n",
    "    \n",
    "    return result / windowsize"
   ]
  },
  {
   "cell_type": "code",
   "execution_count": 26,
   "id": "15868e75",
   "metadata": {},
   "outputs": [
    {
     "name": "stdout",
     "output_type": "stream",
     "text": [
      "Moving average tests passed!\n"
     ]
    }
   ],
   "source": [
    "# Test case (don't edit this block)\n",
    "input_array_1 = np.array([0, 1, 2, 3, 4, 5, 6, 7, 8, 9, 10, 11, 12, 13, 14, 15, 16, 17, 18, 19])\n",
    "expected_1 = np.array([1.0, 2.0, 3.0, 4.0, 5.0, 6.0, 7.0, 8.0, 9.0, 10.0, 11.0, 12.0, 13.0, 14.0, 15.0, 16.0, 17.0, 18.0])\n",
    "array_before = np.copy(input_array_1)\n",
    "assert np.allclose(moving_average(input_array_1, 3), expected_1)\n",
    "assert np.array_equal(array_before, input_array_1)\n",
    "\n",
    "input_array_2 = np.array([8.713907215201782, 9.85947180188376, 7.330418199299023, 3.453566577518857, 3.7872276336671797, 4.353726132720289, 2.5996543651602613, 8.894726500483136, 7.337019440947192, 1.1937980431375805])\n",
    "expected_2 = np.array([8.63459907212819, 6.881152192900547, 4.85707080349502, 3.8648401146354416, 3.5802027105159104, 5.282702332787896, 6.277133435530199, 5.808514661522639])\n",
    "array_before = np.copy(input_array_2)\n",
    "assert np.allclose(moving_average(input_array_2, 3), expected_2)\n",
    "assert np.array_equal(array_before, input_array_2)\n",
    "\n",
    "input_array_3 = np.array([0, 1, 2, 3, 4, 5, 6, 7, 8, 9, -10, -9, -8, -7, -6, -5, -4, -3, -2, -1])\n",
    "expected_3 = np.array([1.0, 2.0, 3.0, 4.0, 5.0, 6.0, 7.0, 8.0, 2.3333333333333335, -3.3333333333333335, -9.0, -8.0, -7.0, -6.0, -5.0, -4.0, -3.0, -2.0])\n",
    "array_before = np.copy(input_array_3)\n",
    "assert np.allclose(moving_average(input_array_3, 3), expected_3)\n",
    "assert np.array_equal(array_before, input_array_3)\n",
    "\n",
    "expected_4 = np.array([ 1.5,  2.5,  3.5,  4.5,  5.5,  6.5,  7.5,  8.5,  9.5, 10.5, 11.5, 12.5, 13.5, 14.5, 15.5, 16.5, 17.5])\n",
    "array_before = np.copy(input_array_1)\n",
    "assert np.allclose(moving_average(input_array_1, 4), expected_4)\n",
    "assert np.array_equal(array_before, input_array_1)\n",
    "\n",
    "expected_5 = np.array([ 2.,  3.,  4.,  5.,  6.,  7.,  8.,  9., 10., 11., 12., 13., 14., 15., 16., 17.])\n",
    "array_before = np.copy(input_array_1)\n",
    "assert np.allclose(moving_average(input_array_1, 5), expected_5)\n",
    "assert np.array_equal(array_before, input_array_1)\n",
    "print(\"Moving average tests passed!\")"
   ]
  },
  {
   "cell_type": "markdown",
   "id": "b38c1bd4",
   "metadata": {},
   "source": [
    "## Task 7 - Practice Makes Perfect: Masks & Slicing\n",
    "\n",
    "a) Given an array `x` of length `n`, calculate the array `dx` of length `n-1` with values `dx[i] = x[i+1] - x[i]`. Don't use loops but slicing!\n",
    "\n",
    "**Hint:** You need to subtract two arrays, where one is the shifted rear part and the other is the front part of `x`.\n",
    "\n",
    "**Reminder:** With negative numbers in the subscript you select indices from the end of a sequence.\n",
    "\n",
    "\n"
   ]
  },
  {
   "cell_type": "code",
   "execution_count": 27,
   "id": "ffab9f0d",
   "metadata": {},
   "outputs": [],
   "source": [
    "# prerequisites (don't edit this block)\n",
    "x = np.array([ 1, 1, 2, 3, 5, 8 ])\n",
    "x_mesh, y_mesh = np.meshgrid(np.arange(-5, 6), np.arange(-5, 6))\n",
    "r = np.sqrt(x_mesh**2 + y_mesh**2)\n",
    "z = x_mesh + y_mesh"
   ]
  },
  {
   "cell_type": "code",
   "execution_count": 28,
   "id": "a37029bb",
   "metadata": {},
   "outputs": [],
   "source": [
    "# Solution (put your code here)\n",
    "dx = x[1:] - x[:-1]"
   ]
  },
  {
   "cell_type": "code",
   "execution_count": 29,
   "id": "69babf1c",
   "metadata": {},
   "outputs": [
    {
     "name": "stdout",
     "output_type": "stream",
     "text": [
      "dx: EZ 😉\n"
     ]
    }
   ],
   "source": [
    "# Test case (don't edit this block)\n",
    "from numpy.testing import assert_array_equal\n",
    "\n",
    "try:\n",
    "    dx\n",
    "except NameError:\n",
    "    raise NameError(\"No variable 'dx' exists. Assign the array to a variable with this name.\")\n",
    "\n",
    "assert_array_equal(dx, [0, 1, 1, 2, 3])\n",
    "print(\"dx: EZ 😉\")"
   ]
  },
  {
   "cell_type": "markdown",
   "id": "d563e3eb",
   "metadata": {},
   "source": [
    "b) Create a mask `binary_donut` that is only `True` for values of `r` between 5 and 2, and `False` otherwise.\n"
   ]
  },
  {
   "cell_type": "code",
   "execution_count": 30,
   "id": "6d4e68e6",
   "metadata": {},
   "outputs": [],
   "source": [
    "# Solution (put your code here)\n",
    "binary_donut = (r > 2) & (r < 5)"
   ]
  },
  {
   "cell_type": "code",
   "execution_count": 31,
   "id": "ee99d42b",
   "metadata": {},
   "outputs": [
    {
     "name": "stdout",
     "output_type": "stream",
     "text": [
      "binary_donut: mhm 🍩!\n"
     ]
    }
   ],
   "source": [
    "# Test case (don't edit this block)\n",
    "try:\n",
    "    binary_donut\n",
    "except NameError:\n",
    "    raise NameError(\"No variable 'binary_donut' exists. Assign the array to a variable with this name.\")\n",
    "\n",
    "assert_array_equal(binary_donut[1,:], [False, False, False, True, True, True, True, True, False, False, False])\n",
    "print(\"binary_donut: mhm 🍩!\")"
   ]
  },
  {
   "cell_type": "markdown",
   "id": "4ceadd79",
   "metadata": {},
   "source": [
    "c) Select from `z` those values that correspond to the mask `binary_donut` and assign them to variable `n`."
   ]
  },
  {
   "cell_type": "code",
   "execution_count": 32,
   "id": "523f6a65",
   "metadata": {},
   "outputs": [],
   "source": [
    "# Solution (put your code here)\n",
    "n = z[binary_donut]"
   ]
  },
  {
   "cell_type": "code",
   "execution_count": 33,
   "id": "332c7bd7",
   "metadata": {},
   "outputs": [
    {
     "name": "stdout",
     "output_type": "stream",
     "text": [
      "n: 👌\n"
     ]
    }
   ],
   "source": [
    "# Test case (don't edit this block)\n",
    "try:\n",
    "    n\n",
    "except NameError:\n",
    "    raise NameError(\"No variable 'n' exists. Assign the array to a variable with this name.\")\n",
    "\n",
    "assert_array_equal(n[:10], [-6, -5, -4, -3, -2, -6, -5, -4, -3, -2])\n",
    "print(\"n: 👌\")"
   ]
  },
  {
   "cell_type": "markdown",
   "id": "6668c1dd",
   "metadata": {},
   "source": [
    "## Task 8 - Temperatures in Heidelberg\n",
    "\n",
    "The file `data/temperatures.txt` contains temperature data from Heidelberg from 1995 to 2012 inclusive.\n",
    "\n",
    "a) Read the data using the `numpy.loadtxt` function and assign the two columns to two variables `date` and `T`.\n",
    "\n",
    "\n"
   ]
  },
  {
   "cell_type": "code",
   "execution_count": 34,
   "id": "98afc41f",
   "metadata": {},
   "outputs": [],
   "source": [
    "# Solution (put your code here)\n",
    "date, T = np.loadtxt('../data/matplotlib/temperatures.txt', unpack=True)"
   ]
  },
  {
   "cell_type": "code",
   "execution_count": 35,
   "id": "0606d744",
   "metadata": {},
   "outputs": [
    {
     "name": "stdout",
     "output_type": "stream",
     "text": [
      "Data loaded!\n"
     ]
    }
   ],
   "source": [
    "# Test case (don't edit this block)\n",
    "from numpy.testing import assert_array_almost_equal\n",
    "\n",
    "try:\n",
    "    date\n",
    "except NameError:\n",
    "    raise NameError(\"No variable 'date' exists. Assign the array to a variable with this name.\")\n",
    "try:\n",
    "    T\n",
    "except NameError:\n",
    "    raise NameError(\"No variable 'T' exists. Assign the array to a variable with this name.\")\n",
    "\n",
    "assert_array_almost_equal(date[:3], [ 1995.00274, 1995.00548, 1995.00821], 4, \"Array 'date' doesn't contain the correct data. Use the 'unpack=True' function of 'numpy.loadtxt' as in the hint above.\")\n",
    "assert_array_almost_equal(T[:3], [ 0.944444, -1.61111, -3.55556], 4, \"Array 'T' doesn't contain the correct data. Use the 'unpack=True' function of 'numpy.loadtxt' as in the hint above.\")\n",
    "print(\"Data loaded!\")"
   ]
  },
  {
   "cell_type": "markdown",
   "id": "99d1a571",
   "metadata": {},
   "source": [
    "b) Calculate for each year from 1995 to 2012 inclusive the average temperature, minimum and maximum temperature. Add to the list `yearly_temperatures` for each year a row with the year and these three values.\n",
    "\n",
    "The file contains erroneous data marked by the value `+/-99` which must not be included in the calculation.\n",
    "\n",
    "**Hint:** Go through the years in a for loop and use a mask for the array `T` so that you only get the temperature data of the corresponding year as a slice. You can then apply the numpy functions for mean, minimum and maximum to this.\n",
    "\n",
    "**Reminder:** You can combine multiple masks with the `&` operator.\n"
   ]
  },
  {
   "cell_type": "code",
   "execution_count": 36,
   "id": "32a2a493",
   "metadata": {},
   "outputs": [],
   "source": [
    "# Solution (put your code here)\n",
    "yearly_temperatures = []\n",
    "for year in range(1995, 2013):\n",
    "    temperatures = T[(date >= year) & (date < year + 1) & (np.abs(T) != 99)]\n",
    "    yearly_temperatures.append([year, np.mean(temperatures), np.min(temperatures), np.max(temperatures)])"
   ]
  },
  {
   "cell_type": "code",
   "execution_count": 37,
   "id": "42535d03",
   "metadata": {},
   "outputs": [
    {
     "name": "stdout",
     "output_type": "stream",
     "text": [
      "Yearly temperatures: Pretty warm, isn't it? ☀️🌴😅\n"
     ]
    }
   ],
   "source": [
    "# Test case (don't edit this block)\n",
    "assert_array_almost_equal(yearly_temperatures[0], [ 1995, 8.7656, -13.2778, 25.9444 ], 4, \"The data is not correct. Check if each element of the list 'yearly_temperatures' is again a list with values year, average temperature, minimum and maximum and you have filtered out the erroneous values +/-99.\")\n",
    "print(\"Yearly temperatures: Pretty warm, isn't it? ☀️🌴😅\")"
   ]
  },
  {
   "cell_type": "markdown",
   "id": "6c892dbd",
   "metadata": {},
   "source": [
    "c) Calculate this data analogously divided into months instead of years, e.g. the average temperature in January over the entire measured period.\n",
    "\n",
    "**Hint:** The time within a year, where `0` corresponds to the beginning of the year and `1` to the end of the year, you get with the modulo operator: `date % 1`"
   ]
  },
  {
   "cell_type": "code",
   "execution_count": 38,
   "id": "7bf3c9b9",
   "metadata": {},
   "outputs": [],
   "source": [
    "# Solution (put your code here)\n",
    "monthly_temperatures = []\n",
    "for month in range(0, 12):\n",
    "    temperatures = T[(date % 1 >= month / 12) & (date % 1 < (month + 1) / 12) & (np.abs(T) != 99)]\n",
    "    monthly_temperatures.append([month, np.mean(temperatures), np.min(temperatures), np.max(temperatures)])"
   ]
  },
  {
   "cell_type": "code",
   "execution_count": 39,
   "id": "63afca69",
   "metadata": {},
   "outputs": [
    {
     "name": "stdout",
     "output_type": "stream",
     "text": [
      "Monthly temperatures: 👍 Looks correct.\n"
     ]
    }
   ],
   "source": [
    "# Test case (don't edit this block)\n",
    "assert_array_almost_equal(monthly_temperatures[0][1:], [ -0.8494, -16.7778, 12.2222 ], 4, \"The data is not correct. Check if each element of the list 'monthly_temperatures' is again a list with values month, average temperature, minimum and maximum and you have filtered out the erroneous values +/-99.\")\n",
    "print(\"Monthly temperatures: 👍 Looks correct.\")"
   ]
  },
  {
   "cell_type": "markdown",
   "id": "0684854d",
   "metadata": {},
   "source": [
    "## Task 9 - Subarray\n",
    "\n",
    "For this task you need to understand the `shape` and slicing access of numpy arrays.\n",
    "\n",
    "Your task is to create a function `subarray()` that returns a subarray of a given array. You can specify the shape of the new subarray (how many rows and columns) and the point where it is centered. If the subarray overlaps with the edge of the original array, a fill value can be specified, otherwise the overlap should be omitted. The function signature should be as follows:\n",
    "\n",
    "```python\n",
    "import numpy as np\n",
    "\n",
    "def subarray(array, shape, center, fill=None):\n",
    "    # ... your code here\n",
    "```\n",
    "\n",
    "You can assume that the input array is a numpy array with arbitrary values. The `shape` parameter will be a tuple with `(rows, cols)`, the `center` a tuple with coordinates `(row, col)` and `fill` is set to `None` by default, but can be assigned any value to be used for filling the overlap. The function should return the corresponding subarray as a numpy array.\n",
    "\n",
    "**Example 1:** Input array has shape (5, 6). Sub-array center is (2, 2), sub-array (red) has shape (3, 3). The result is a 3x3 sub-patch.  \n",
    "\n",
    "**Example 2:** Input array has shape (5, 6). Sub-array center is (2, 2), sub-array (red) has shape (4, 3). The result is a 4x3 sub-patch. Note the position of the center for an even number of rows or columns.  \n",
    "\n",
    "**Example 3:** Input array has shape (5, 6). Sub-array center is (3, 2), sub-array (red) has shape (4, 5). Here `fill=None`. The result is a 3x5 sub-patch.  \n",
    "\n",
    "**Example 4:** Input array has shape (5, 6). Sub-array center is (3, 4), sub-array (red) has shape (5, 5). Here `fill=1`. The result is a 5x5 sub-patch.  \n"
   ]
  },
  {
   "cell_type": "code",
   "execution_count": 40,
   "id": "5be95a37",
   "metadata": {},
   "outputs": [],
   "source": [
    "# Solution (put your code here)\n",
    "def subarray(array, shape, center, fill=None):\n",
    "    rows, cols = shape\n",
    "    cr, cc = center\n",
    "    \n",
    "    # Calculate start positions (handle even dimensions)\n",
    "    start_r = cr - rows // 2 + (0 if rows % 2 == 1 else 1)\n",
    "    start_c = cc - cols // 2 + (0 if cols % 2 == 1 else 1)\n",
    "    \n",
    "    # Calculate bounds\n",
    "    r1, r2 = max(0, start_r), min(array.shape[0], start_r + rows)\n",
    "    c1, c2 = max(0, start_c), min(array.shape[1], start_c + cols)\n",
    "    \n",
    "    # Extract valid region\n",
    "    valid_data = array[r1:r2, c1:c2]\n",
    "    \n",
    "    if fill is None:\n",
    "        return valid_data\n",
    "    else:\n",
    "        # Create output array and place valid data\n",
    "        result = np.full(shape, fill, dtype=array.dtype)\n",
    "        r_offset = max(0, -start_r)\n",
    "        c_offset = max(0, -start_c)\n",
    "        result[r_offset:r_offset + valid_data.shape[0], \n",
    "               c_offset:c_offset + valid_data.shape[1]] = valid_data\n",
    "        return result"
   ]
  },
  {
   "cell_type": "code",
   "execution_count": 41,
   "id": "62dd2055",
   "metadata": {},
   "outputs": [
    {
     "name": "stdout",
     "output_type": "stream",
     "text": [
      "All subarray tests passed!\n"
     ]
    }
   ],
   "source": [
    "# Test case (don't edit this block)\n",
    "def dummy_array():\n",
    "    return np.arange(1, 31).reshape((5, 6))\n",
    "\n",
    "def test_simple_case(dummy_array):\n",
    "    arg_sets = [\n",
    "        dict(shape=(3, 3), center=(2, 2), fill=None),\n",
    "    ]\n",
    "    targets = [\n",
    "        [[8, 9, 10], [14, 15, 16], [20, 21, 22]]\n",
    "    ]\n",
    "    for args, target in zip(arg_sets, targets):\n",
    "        result = subarray(array=dummy_array, **args)\n",
    "        assert isinstance(result, np.ndarray)\n",
    "        assert result.tolist() == target, 'Test run returned wrong result!'\n",
    "\n",
    "def test_even_number_of_rows_or_cols(dummy_array):\n",
    "    arg_sets = [\n",
    "        dict(shape=(4, 3), center=(2, 2), fill=None),\n",
    "        dict(shape=(3, 4), center=(2, 2), fill=None),\n",
    "        dict(shape=(4, 4), center=(2, 2), fill=None),\n",
    "    ]\n",
    "    targets = [\n",
    "        [[8, 9, 10], [14, 15, 16], [20, 21, 22], [26, 27, 28]],\n",
    "        [[8, 9, 10, 11], [14, 15, 16, 17], [20, 21, 22, 23]],\n",
    "        [[8, 9, 10, 11], [14, 15, 16, 17], [20, 21, 22, 23], [26, 27, 28, 29]],\n",
    "    ]\n",
    "    for args, target in zip(arg_sets, targets):\n",
    "        result = subarray(array=dummy_array, **args)\n",
    "        assert isinstance(result, np.ndarray)\n",
    "        assert result.tolist() == target, 'Test run returned wrong result!'\n",
    "\n",
    "def test_fill_without_overlap(dummy_array):\n",
    "    arg_sets = [\n",
    "        dict(shape=(3, 3), center=(2, 2), fill=0),\n",
    "    ]\n",
    "    targets = [\n",
    "        [[8, 9, 10], [14, 15, 16], [20, 21, 22]],\n",
    "    ]\n",
    "    for args, target in zip(arg_sets, targets):\n",
    "        result = subarray(array=dummy_array, **args)\n",
    "        assert isinstance(result, np.ndarray)\n",
    "        assert result.tolist() == target, 'Test run returned wrong result!'\n",
    "\n",
    "def test_overlaps_without_fill(dummy_array):\n",
    "    arg_sets = [\n",
    "        dict(shape=(3, 5), center=(2, 0), fill=None),\n",
    "        dict(shape=(3, 5), center=(2, 5), fill=None),\n",
    "        dict(shape=(5, 3), center=(0, 2), fill=None),\n",
    "        dict(shape=(5, 3), center=(4, 2), fill=None),\n",
    "        dict(shape=(9, 9), center=(2, 2), fill=None),\n",
    "    ]\n",
    "    targets = [\n",
    "        [[7, 8, 9], [13, 14, 15], [19, 20, 21]],\n",
    "        [[10, 11, 12], [16, 17, 18], [22, 23, 24]],\n",
    "        [[2, 3, 4], [8, 9, 10], [14, 15, 16]],\n",
    "        [[14, 15, 16], [20, 21, 22], [26, 27, 28]],\n",
    "        [[1, 2, 3, 4, 5, 6], [7, 8, 9, 10, 11, 12], [13, 14, 15, 16, 17, 18], [19, 20, 21, 22, 23, 24], [25, 26, 27, 28, 29, 30]],\n",
    "    ]\n",
    "    for args, target in zip(arg_sets, targets):\n",
    "        result = subarray(array=dummy_array, **args)\n",
    "        assert isinstance(result, np.ndarray)\n",
    "        assert result.tolist() == target, 'Test run returned wrong result!'\n",
    "\n",
    "def test_overlaps_with_fill(dummy_array):\n",
    "    arg_sets = [\n",
    "        dict(shape=(3, 5), center=(2, 0), fill=0),\n",
    "        dict(shape=(3, 5), center=(2, 5), fill=0),\n",
    "        dict(shape=(5, 3), center=(0, 2), fill=0),\n",
    "        dict(shape=(5, 3), center=(4, 2), fill=0),\n",
    "        dict(shape=(9, 9), center=(2, 2), fill=0),\n",
    "    ]\n",
    "    targets = [\n",
    "        [[0, 0, 7, 8, 9], [0, 0, 13, 14, 15], [0, 0, 19, 20, 21]],\n",
    "        [[10, 11, 12, 0, 0], [16, 17, 18, 0, 0], [22, 23, 24, 0, 0]],\n",
    "        [[0, 0, 0], [0, 0, 0], [2, 3, 4], [8, 9, 10], [14, 15, 16]],\n",
    "        [[14, 15, 16], [20, 21, 22], [26, 27, 28], [0, 0, 0], [0, 0, 0]],\n",
    "        [[0, 0, 0, 0, 0, 0, 0, 0, 0], [0, 0, 0, 0, 0, 0, 0, 0, 0], [0, 0, 1, 2, 3, 4, 5, 6, 0], [0, 0, 7, 8, 9, 10, 11, 12, 0], [0, 0, 13, 14, 15, 16, 17, 18, 0], [0, 0, 19, 20, 21, 22, 23, 24, 0], [0, 0, 25, 26, 27, 28, 29, 30, 0], [0, 0, 0, 0, 0, 0, 0, 0, 0], [0, 0, 0, 0, 0, 0, 0, 0, 0]]\n",
    "    ]\n",
    "    for args, target in zip(arg_sets, targets):\n",
    "        result = subarray(array=dummy_array, **args)\n",
    "        assert isinstance(result, np.ndarray)\n",
    "        assert result.tolist() == target, 'Test run returned wrong result!'\n",
    "        \n",
    "test_simple_case(dummy_array())\n",
    "test_even_number_of_rows_or_cols(dummy_array())\n",
    "test_fill_without_overlap(dummy_array())\n",
    "test_overlaps_without_fill(dummy_array())\n",
    "test_overlaps_with_fill(dummy_array())\n",
    "print(\"All subarray tests passed!\")"
   ]
  },
  {
   "cell_type": "markdown",
   "id": "23192867",
   "metadata": {},
   "source": [
    "---\n",
    "\n",
    "Lecture: AI I - Basics \n",
    "\n",
    "Next: [**Chapter 3.2: Pandas**](../03_data/02_pandas.ipynb)"
   ]
  }
 ],
 "metadata": {
  "kernelspec": {
   "display_name": "ai-lecture",
   "language": "python",
   "name": "python3"
  },
  "language_info": {
   "codemirror_mode": {
    "name": "ipython",
    "version": 3
   },
   "file_extension": ".py",
   "mimetype": "text/x-python",
   "name": "python",
   "nbconvert_exporter": "python",
   "pygments_lexer": "ipython3",
   "version": "3.12.11"
  }
 },
 "nbformat": 4,
 "nbformat_minor": 5
}
