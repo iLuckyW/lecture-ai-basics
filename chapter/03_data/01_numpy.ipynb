{
 "cells": [
  {
   "cell_type": "markdown",
   "id": "303936bb",
   "metadata": {},
   "source": [
    "Lecture: AI I - Basics \n",
    "\n",
    "Previous:\n",
    "[**Chapter 2.5: Additionals**](../02_python/05_additionals.ipynb)\n",
    "\n",
    "---"
   ]
  },
  {
   "cell_type": "markdown",
   "id": "80c34a6f",
   "metadata": {},
   "source": [
    "# Chapter 3.1: Numpy\n",
    "\n",
    "- [Create Numpy Arrays](#creating-numpy-arrays)\n",
    "- [Data Types](#data-types)\n",
    "- [Working with Arrays](#working-with-arrays)\n",
    "- [Applying Functions to Arrays](#applying-functions-to-arrays)\n",
    "- [Numpy Arrays as Sequences](#numpy-arrays-as-sequences)\n",
    "- [Broadcasting](#broadcasting)\n",
    "- [Aggregation Functions](#aggregation-functions)\n",
    "- [Reading and Saving Data](#reading-and-saving-data)\n",
    "- [Advanced Indexing](#advanced-indexing)\n",
    "- [Expanding, Reducing, Combining Arrays](#expanding-reducing-combining-arrays)\n",
    "- [Numpy Print Options](#numpy-print-options)\n"
   ]
  },
  {
   "cell_type": "markdown",
   "id": "b2ea84ad",
   "metadata": {},
   "source": [
    "## The Modul Numpy\n",
    "\n",
    "Python lists are very flexible since they can hold values of different data types and can easily be modified (e.g., with `append`).  \n",
    "However, this flexibility comes at the cost of performance, making lists less suitable for numerical computations.\n",
    "\n",
    "The **NumPy** [module](https://numpy.org/doc/stable/user/index.html) therefore defines the n-dimensional **array** data type `numpy.ndarray`, which relies on highly optimized C and Fortran code for efficient numerical calculations.\n",
    "\n",
    "Arrays can only store values of a single numerical data type (e.g., floating-point values) and are much more rigid than lists.  \n",
    "Nevertheless, this is exactly what we need for many scientific applications, such as working with datasets!\n",
    "\n",
    "By convention, we import the NumPy module under the abbreviation `np`:\n"
   ]
  },
  {
   "cell_type": "code",
   "execution_count": 1,
   "id": "e8e87f1d",
   "metadata": {},
   "outputs": [],
   "source": [
    "import numpy as np"
   ]
  },
  {
   "cell_type": "markdown",
   "id": "a1331224",
   "metadata": {},
   "source": [
    "### Introductory Example\n",
    "\n",
    "Built-in Python containers such as `list` provide a flexible way to store and manage data.  \n",
    "As mentioned earlier, collections usually store only references to objects. While this is very convenient when writing code, it comes with memory performance costs.  \n",
    "\n",
    "Let’s look at an example. Suppose we conducted an experiment with one million measurements and now want to calculate their average.  \n",
    "We could do this as follows:"
   ]
  },
  {
   "cell_type": "code",
   "execution_count": 2,
   "id": "26e5af78",
   "metadata": {},
   "outputs": [
    {
     "name": "stdout",
     "output_type": "stream",
     "text": [
      "[187, 168, 165, 163, 163, 154, 161, 176, 200, 183]\n"
     ]
    }
   ],
   "source": [
    "import random \n",
    "measurements = [random.randint(150, 200) for _ in range(1_000_000)]\n",
    "print(measurements[:10])"
   ]
  },
  {
   "cell_type": "markdown",
   "id": "dac02c08",
   "metadata": {},
   "source": [
    "That’s quite slow because, in each loop iteration, Python has to bind a new variable and then check whether the `+` operation is supported between the `accumulator` and the current `measurement`.  \n",
    "This prevents attempts to add objects that aren’t addable—but in our case we’re confident we’re dealing only with integers.  \n",
    "If we could tell the interpreter that we’re only adding integers, it could skip all that type checking and speed things up.  \n",
    "This is exactly the use case `numpy` was created for.\n"
   ]
  },
  {
   "cell_type": "code",
   "execution_count": 3,
   "id": "d155f493",
   "metadata": {},
   "outputs": [
    {
     "name": "stdout",
     "output_type": "stream",
     "text": [
      "17 ms ± 486 μs per loop (mean ± std. dev. of 7 runs, 100 loops each)\n"
     ]
    }
   ],
   "source": [
    "def mean(values):\n",
    "    accumulator = 0\n",
    "    for value in values:\n",
    "        accumulator += value\n",
    "    mean_value = accumulator / len(values)\n",
    "    return mean_value\n",
    "\n",
    "%timeit mean(measurements)"
   ]
  },
  {
   "cell_type": "markdown",
   "id": "46faf869",
   "metadata": {},
   "source": [
    "We can already achieve faster computations by making use of as many of Python’s built-in functions as possible, such as `sum`."
   ]
  },
  {
   "cell_type": "code",
   "execution_count": 4,
   "id": "4c655eba",
   "metadata": {},
   "outputs": [
    {
     "name": "stdout",
     "output_type": "stream",
     "text": [
      "3.55 ms ± 21.8 μs per loop (mean ± std. dev. of 7 runs, 100 loops each)\n"
     ]
    }
   ],
   "source": [
    "%timeit sum(measurements) / len(measurements)"
   ]
  },
  {
   "cell_type": "markdown",
   "id": "f4347c0e",
   "metadata": {},
   "source": [
    "The standard data type in NumPy is the `ndarray` (short for n-dimensional array). In the simplest case, a NumPy array can be created from a Python list."
   ]
  },
  {
   "cell_type": "code",
   "execution_count": 5,
   "id": "919aa252",
   "metadata": {},
   "outputs": [
    {
     "data": {
      "text/plain": [
       "array([187, 168, 165, ..., 170, 164, 158])"
      ]
     },
     "execution_count": 5,
     "metadata": {},
     "output_type": "execute_result"
    }
   ],
   "source": [
    "measurements_array = np.array(measurements)\n",
    "measurements_array"
   ]
  },
  {
   "cell_type": "code",
   "execution_count": 6,
   "id": "9014a0b3",
   "metadata": {},
   "outputs": [
    {
     "data": {
      "text/plain": [
       "numpy.ndarray"
      ]
     },
     "execution_count": 6,
     "metadata": {},
     "output_type": "execute_result"
    }
   ],
   "source": [
    "type(measurements_array)"
   ]
  },
  {
   "cell_type": "markdown",
   "id": "d72053bd",
   "metadata": {},
   "source": [
    "They behave very similarly to lists but have a fixed underlying data type. NumPy automatically detects that all our values are integers and chooses the appropriate data type: a 64-bit integer. For more details, see the documentation: https://docs.scipy.org/doc/numpy-1.13.0/user/basics.types.html"
   ]
  },
  {
   "cell_type": "code",
   "execution_count": 7,
   "id": "612d04e0",
   "metadata": {},
   "outputs": [
    {
     "data": {
      "text/plain": [
       "dtype('int64')"
      ]
     },
     "execution_count": 7,
     "metadata": {},
     "output_type": "execute_result"
    }
   ],
   "source": [
    "measurements_array.dtype"
   ]
  },
  {
   "cell_type": "markdown",
   "id": "adac6c61",
   "metadata": {},
   "source": [
    "In addition, NumPy provides a wide range of routines for performing mathematical operations on arrays. Let’s see whether using NumPy actually gives us a performance advantage."
   ]
  },
  {
   "cell_type": "code",
   "execution_count": 8,
   "id": "67eed5c5",
   "metadata": {},
   "outputs": [
    {
     "name": "stdout",
     "output_type": "stream",
     "text": [
      "370 μs ± 4.96 μs per loop (mean ± std. dev. of 7 runs, 1,000 loops each)\n"
     ]
    }
   ],
   "source": [
    "%timeit np.mean(measurements_array)"
   ]
  },
  {
   "cell_type": "markdown",
   "id": "420e5237",
   "metadata": {},
   "source": [
    "A clear speedup compared to pure Python implementations! Now that we’ve seen the usefulness of NumPy, let’s take a closer look at the NumPy array."
   ]
  },
  {
   "cell_type": "markdown",
   "id": "9e42c741",
   "metadata": {},
   "source": [
    "## Creating NumPy Arrays\n",
    "\n",
    "The simplest way to create NumPy arrays is from Python lists, using the `numpy.array` function:\n"
   ]
  },
  {
   "cell_type": "code",
   "execution_count": 9,
   "id": "91b18ae2",
   "metadata": {},
   "outputs": [
    {
     "name": "stdout",
     "output_type": "stream",
     "text": [
      "<class 'numpy.ndarray'>\n"
     ]
    }
   ],
   "source": [
    "a = np.array([1, 2, 3])   # Create a rank 1 array\n",
    "print(type(a))            # Prints \"<class 'numpy.ndarray'>\""
   ]
  },
  {
   "cell_type": "code",
   "execution_count": 10,
   "id": "004ad1fd",
   "metadata": {},
   "outputs": [
    {
     "data": {
      "text/plain": [
       "array([ 1,  2,  3,  5,  8, 13])"
      ]
     },
     "execution_count": 10,
     "metadata": {},
     "output_type": "execute_result"
    }
   ],
   "source": [
    "a = np.array([ 1, 2, 3, 5, 8, 13])\n",
    "a"
   ]
  },
  {
   "cell_type": "code",
   "execution_count": 11,
   "id": "f1d02065",
   "metadata": {},
   "outputs": [
    {
     "data": {
      "text/plain": [
       "array([[1.5, 2.2, 3.1],\n",
       "       [4. , 5.2, 6.7]])"
      ]
     },
     "execution_count": 11,
     "metadata": {},
     "output_type": "execute_result"
    }
   ],
   "source": [
    "b = np.array([[  1.5, 2.2, 3.1 ], [ 4.0, 5.2, 6.7 ]])\n",
    "b"
   ]
  },
  {
   "cell_type": "markdown",
   "id": "0e910195",
   "metadata": {},
   "source": [
    "NumPy arrays have several **attributes** that provide useful information about the array.\n",
    "\n",
    "The number of dimensions of the array:"
   ]
  },
  {
   "cell_type": "code",
   "execution_count": 12,
   "id": "e413ef88",
   "metadata": {},
   "outputs": [
    {
     "data": {
      "text/plain": [
       "(1, 2)"
      ]
     },
     "execution_count": 12,
     "metadata": {},
     "output_type": "execute_result"
    }
   ],
   "source": [
    "a.ndim, b.ndim"
   ]
  },
  {
   "cell_type": "markdown",
   "id": "6a011720",
   "metadata": {},
   "source": [
    "The length of the array in each dimension:"
   ]
  },
  {
   "cell_type": "code",
   "execution_count": 13,
   "id": "e4528239",
   "metadata": {},
   "outputs": [
    {
     "data": {
      "text/plain": [
       "((6,), (2, 3))"
      ]
     },
     "execution_count": 13,
     "metadata": {},
     "output_type": "execute_result"
    }
   ],
   "source": [
    "a.shape, b.shape"
   ]
  },
  {
   "cell_type": "markdown",
   "id": "aba7a1b1",
   "metadata": {},
   "source": [
    "The data type of the array:"
   ]
  },
  {
   "cell_type": "code",
   "execution_count": 14,
   "id": "6fcb3a3d",
   "metadata": {},
   "outputs": [
    {
     "data": {
      "text/plain": [
       "(dtype('int64'), dtype('float64'))"
      ]
     },
     "execution_count": 14,
     "metadata": {},
     "output_type": "execute_result"
    }
   ],
   "source": [
    "a.dtype, b.dtype"
   ]
  },
  {
   "cell_type": "markdown",
   "id": "0f34b83d",
   "metadata": {},
   "source": [
    "> **Reminder:** Use `<TAB>` autocompletion and the `?` documentation in Jupyter Notebook if you’re unsure which functions exist or what they do!"
   ]
  },
  {
   "cell_type": "code",
   "execution_count": 15,
   "id": "9501ce01",
   "metadata": {},
   "outputs": [
    {
     "data": {
      "text/plain": [
       "array([[0, 1, 2, 3, 4],\n",
       "       [0, 1, 2, 3, 4],\n",
       "       [0, 1, 2, 3, 4]])"
      ]
     },
     "execution_count": 15,
     "metadata": {},
     "output_type": "execute_result"
    }
   ],
   "source": [
    "values = [[0, 1, 2, 3, 4]] * 3\n",
    "two_dim_arr = np.array(values)\n",
    "two_dim_arr"
   ]
  },
  {
   "cell_type": "code",
   "execution_count": 16,
   "id": "a9c139b3",
   "metadata": {},
   "outputs": [
    {
     "data": {
      "text/plain": [
       "(3, 5)"
      ]
     },
     "execution_count": 16,
     "metadata": {},
     "output_type": "execute_result"
    }
   ],
   "source": [
    "two_dim_arr.shape"
   ]
  },
  {
   "cell_type": "code",
   "execution_count": 17,
   "id": "72dc7ac5",
   "metadata": {},
   "outputs": [
    {
     "data": {
      "text/plain": [
       "2"
      ]
     },
     "execution_count": 17,
     "metadata": {},
     "output_type": "execute_result"
    }
   ],
   "source": [
    "two_dim_arr.ndim"
   ]
  },
  {
   "cell_type": "code",
   "execution_count": 18,
   "id": "9a567424",
   "metadata": {},
   "outputs": [
    {
     "data": {
      "text/plain": [
       "array([[[0, 1, 2, 3, 4],\n",
       "        [0, 1, 2, 3, 4],\n",
       "        [0, 1, 2, 3, 4]],\n",
       "\n",
       "       [[0, 1, 2, 3, 4],\n",
       "        [0, 1, 2, 3, 4],\n",
       "        [0, 1, 2, 3, 4]],\n",
       "\n",
       "       [[0, 1, 2, 3, 4],\n",
       "        [0, 1, 2, 3, 4],\n",
       "        [0, 1, 2, 3, 4]],\n",
       "\n",
       "       [[0, 1, 2, 3, 4],\n",
       "        [0, 1, 2, 3, 4],\n",
       "        [0, 1, 2, 3, 4]],\n",
       "\n",
       "       [[0, 1, 2, 3, 4],\n",
       "        [0, 1, 2, 3, 4],\n",
       "        [0, 1, 2, 3, 4]],\n",
       "\n",
       "       [[0, 1, 2, 3, 4],\n",
       "        [0, 1, 2, 3, 4],\n",
       "        [0, 1, 2, 3, 4]]])"
      ]
     },
     "execution_count": 18,
     "metadata": {},
     "output_type": "execute_result"
    }
   ],
   "source": [
    "values = [[[0, 1, 2, 3, 4]] * 3] * 6\n",
    "three_dim_arr = np.array(values)\n",
    "three_dim_arr"
   ]
  },
  {
   "cell_type": "code",
   "execution_count": 19,
   "id": "aaf19fee",
   "metadata": {},
   "outputs": [
    {
     "data": {
      "text/plain": [
       "(6, 3, 5)"
      ]
     },
     "execution_count": 19,
     "metadata": {},
     "output_type": "execute_result"
    }
   ],
   "source": [
    "three_dim_arr.shape"
   ]
  },
  {
   "cell_type": "code",
   "execution_count": 20,
   "id": "cb21cf12",
   "metadata": {},
   "outputs": [
    {
     "data": {
      "text/plain": [
       "3"
      ]
     },
     "execution_count": 20,
     "metadata": {},
     "output_type": "execute_result"
    }
   ],
   "source": [
    "three_dim_arr.ndim"
   ]
  },
  {
   "cell_type": "markdown",
   "id": "6f4cef54",
   "metadata": {},
   "source": [
    "#### There are many ways to create arrays\n",
    "\n",
    "- The `numpy.arange` function works similarly to Python’s `range` function, but it can also accept floating-point arguments:\n"
   ]
  },
  {
   "cell_type": "code",
   "execution_count": 21,
   "id": "85592e12",
   "metadata": {},
   "outputs": [
    {
     "data": {
      "text/plain": [
       "array([0, 1, 2, 3, 4, 5, 6, 7, 8, 9])"
      ]
     },
     "execution_count": 21,
     "metadata": {},
     "output_type": "execute_result"
    }
   ],
   "source": [
    "np.arange(10)"
   ]
  },
  {
   "cell_type": "code",
   "execution_count": 22,
   "id": "399b6812",
   "metadata": {},
   "outputs": [
    {
     "data": {
      "text/plain": [
       "array([1.5, 1.6, 1.7, 1.8, 1.9])"
      ]
     },
     "execution_count": 22,
     "metadata": {},
     "output_type": "execute_result"
    }
   ],
   "source": [
    "np.arange(1.5, 2, 0.1)"
   ]
  },
  {
   "cell_type": "markdown",
   "id": "fc3a5f4a",
   "metadata": {},
   "source": [
    "- Also very useful are `numpy.linspace` and `numpy.logspace`, which generate a sequence of values spaced linearly or logarithmically between two numbers:\n"
   ]
  },
  {
   "cell_type": "code",
   "execution_count": 23,
   "id": "0d4f0c03",
   "metadata": {},
   "outputs": [
    {
     "data": {
      "text/plain": [
       "array([10.        , 13.33333333, 16.66666667, 20.        ])"
      ]
     },
     "execution_count": 23,
     "metadata": {},
     "output_type": "execute_result"
    }
   ],
   "source": [
    "np.linspace(10, 20, 4)"
   ]
  },
  {
   "cell_type": "code",
   "execution_count": 24,
   "id": "3b42a0bc",
   "metadata": {},
   "outputs": [
    {
     "data": {
      "text/plain": [
       "array([  10.        ,   46.41588834,  215.443469  , 1000.        ])"
      ]
     },
     "execution_count": 24,
     "metadata": {},
     "output_type": "execute_result"
    }
   ],
   "source": [
    "np.logspace(1, 3, 4)"
   ]
  },
  {
   "cell_type": "markdown",
   "id": "8b06f048",
   "metadata": {},
   "source": [
    "- We can create arrays filled with zeros or ones using `numpy.zeros` and `numpy.ones`. By passing a tuple to the `shape` argument instead of a single integer, we can also generate multidimensional arrays:"
   ]
  },
  {
   "cell_type": "code",
   "execution_count": 25,
   "id": "479a5c5a",
   "metadata": {},
   "outputs": [
    {
     "data": {
      "text/plain": [
       "array([0., 0., 0., 0., 0.])"
      ]
     },
     "execution_count": 25,
     "metadata": {},
     "output_type": "execute_result"
    }
   ],
   "source": [
    "np.zeros(5)"
   ]
  },
  {
   "cell_type": "code",
   "execution_count": 26,
   "id": "3e5c2b03",
   "metadata": {},
   "outputs": [
    {
     "data": {
      "text/plain": [
       "array([[[1., 1., 1.],\n",
       "        [1., 1., 1.]],\n",
       "\n",
       "       [[1., 1., 1.],\n",
       "        [1., 1., 1.]],\n",
       "\n",
       "       [[1., 1., 1.],\n",
       "        [1., 1., 1.]],\n",
       "\n",
       "       [[1., 1., 1.],\n",
       "        [1., 1., 1.]],\n",
       "\n",
       "       [[1., 1., 1.],\n",
       "        [1., 1., 1.]]])"
      ]
     },
     "execution_count": 26,
     "metadata": {},
     "output_type": "execute_result"
    }
   ],
   "source": [
    "np.ones((5, 2, 3))"
   ]
  },
  {
   "cell_type": "code",
   "execution_count": 27,
   "id": "7cb09df0",
   "metadata": {},
   "outputs": [
    {
     "name": "stdout",
     "output_type": "stream",
     "text": [
      "[[[[4 4]\n",
      "   [4 4]]\n",
      "\n",
      "  [[4 4]\n",
      "   [4 4]]]\n",
      "\n",
      "\n",
      " [[[4 4]\n",
      "   [4 4]]\n",
      "\n",
      "  [[4 4]\n",
      "   [4 4]]]]\n"
     ]
    }
   ],
   "source": [
    "c = np.full((2,2,2,2), 4)  # Create a constant array\n",
    "print(c)               # Prints \"[[ 7.  7.]\n",
    "                       #          [ 7.  7.]]\""
   ]
  },
  {
   "cell_type": "code",
   "execution_count": 28,
   "id": "08a3e2c8",
   "metadata": {},
   "outputs": [
    {
     "data": {
      "text/plain": [
       "array([[[ 4.68293136e-310,  0.00000000e+000],\n",
       "        [ 5.83665407e-315,  0.00000000e+000],\n",
       "        [ 1.30077963e-258,  2.10966031e-321]],\n",
       "\n",
       "       [[-1.11190339e-262,  5.28614192e-308],\n",
       "        [ 1.40406108e-309,  3.73305803e-301],\n",
       "        [ 1.34164568e-301,  6.72812621e-310]]])"
      ]
     },
     "execution_count": 28,
     "metadata": {},
     "output_type": "execute_result"
    }
   ],
   "source": [
    "# Corresponds to whatever was left in memory. Using zeros for initialising arrays is usually saver.\n",
    "np.empty(shape=(2, 3, 2))"
   ]
  },
  {
   "cell_type": "code",
   "execution_count": 29,
   "id": "962038ec",
   "metadata": {},
   "outputs": [
    {
     "name": "stdout",
     "output_type": "stream",
     "text": [
      "141 ns ± 1.34 ns per loop (mean ± std. dev. of 7 runs, 10,000,000 loops each)\n",
      "12.5 μs ± 33.8 ns per loop (mean ± std. dev. of 7 runs, 100,000 loops each)\n"
     ]
    }
   ],
   "source": [
    "# empty is faster than initialized arrays but usually doesn't make a difference\n",
    "%timeit np.empty(shape=100_000)\n",
    "%timeit np.ones(shape=100_000)"
   ]
  },
  {
   "cell_type": "code",
   "execution_count": 30,
   "id": "83b61dcd",
   "metadata": {},
   "outputs": [
    {
     "name": "stdout",
     "output_type": "stream",
     "text": [
      "[[1. 0. 0.]\n",
      " [0. 1. 0.]\n",
      " [0. 0. 1.]]\n"
     ]
    }
   ],
   "source": [
    "d = np.eye(3)         # Create a 2x2 identity matrix\n",
    "print(d)              # Prints \"[[ 1.  0.]\n",
    "                      #          [ 0.  1.]]\""
   ]
  },
  {
   "cell_type": "code",
   "execution_count": 31,
   "id": "90b644c0",
   "metadata": {},
   "outputs": [
    {
     "name": "stdout",
     "output_type": "stream",
     "text": [
      "[[[[0.66813678 0.51223623]\n",
      "   [0.99186461 0.10947994]]\n",
      "\n",
      "  [[0.73995002 0.53591944]\n",
      "   [0.03925507 0.30572672]]]\n",
      "\n",
      "\n",
      " [[[0.29953368 0.05070483]\n",
      "   [0.77964292 0.1909645 ]]\n",
      "\n",
      "  [[0.48108779 0.87617989]\n",
      "   [0.56279217 0.5683731 ]]]]\n"
     ]
    }
   ],
   "source": [
    "e = np.random.random((2,2,2,2))     # Create an array filled with random values\n",
    "print(e)                            # Might print \"[[ 0.91940167  0.08143941]\n",
    "                                    #               [ 0.68744134  0.87236687]]\""
   ]
  },
  {
   "cell_type": "markdown",
   "id": "0c055ef5",
   "metadata": {},
   "source": [
    "You can read about other methods of creating arrays in the [documentation](http://docs.scipy.org/doc/numpy/user/basics.creation.html#arrays-creation).\n"
   ]
  },
  {
   "cell_type": "markdown",
   "id": "acd84eb5",
   "metadata": {},
   "source": [
    "## Data Types\n",
    "\n",
    "Every NumPy array is a grid of elements of the same type.  \n",
    "NumPy provides a wide range of numerical data types that you can use to construct arrays.  \n",
    "When you create an array, NumPy tries to infer the data type automatically, but functions that construct arrays usually also include an optional argument to explicitly specify the data type.  \n",
    "\n",
    "Here’s an example:\n"
   ]
  },
  {
   "cell_type": "code",
   "execution_count": 32,
   "id": "2a732ca1",
   "metadata": {},
   "outputs": [
    {
     "name": "stdout",
     "output_type": "stream",
     "text": [
      "int64\n"
     ]
    }
   ],
   "source": [
    "x = np.array([1, 2])   # Let numpy choose the datatype\n",
    "print(x.dtype)         # Prints \"int64\""
   ]
  },
  {
   "cell_type": "code",
   "execution_count": 33,
   "id": "fd47a1c6",
   "metadata": {},
   "outputs": [
    {
     "name": "stdout",
     "output_type": "stream",
     "text": [
      "float64\n"
     ]
    }
   ],
   "source": [
    "x = np.array([1.0, 2.0])   # Let numpy choose the datatype\n",
    "print(x.dtype)             # Prints \"float64\""
   ]
  },
  {
   "cell_type": "code",
   "execution_count": 34,
   "id": "856a30f9",
   "metadata": {},
   "outputs": [
    {
     "name": "stdout",
     "output_type": "stream",
     "text": [
      "int64\n"
     ]
    }
   ],
   "source": [
    "x = np.array([1, 2], dtype=np.int64)   # Force a particular datatype\n",
    "print(x.dtype)"
   ]
  },
  {
   "cell_type": "markdown",
   "id": "b477f7aa",
   "metadata": {},
   "source": [
    "### dtype\n",
    "\n",
    "`dtype` provides information about the data type.  \n",
    "Arrays can contain bools, ints, unsigned ints, floats, or complex numbers of various byte sizes.  \n",
    "They can also store strings or Python objects, but this has very few practical use cases.\n"
   ]
  },
  {
   "cell_type": "code",
   "execution_count": 35,
   "id": "a8010572",
   "metadata": {},
   "outputs": [
    {
     "data": {
      "text/plain": [
       "(array([0, 1, 2, 3, 4]), dtype('int64'))"
      ]
     },
     "execution_count": 35,
     "metadata": {},
     "output_type": "execute_result"
    }
   ],
   "source": [
    "values = [0, 1, 2, 3, 4]\n",
    "int_arr = np.array(values, dtype='int')\n",
    "int_arr, int_arr.dtype"
   ]
  },
  {
   "cell_type": "markdown",
   "id": "469f1105",
   "metadata": {},
   "source": [
    "If the specified `dtype` does not match the given values, NumPy will cast everything to that data type.\n"
   ]
  },
  {
   "cell_type": "code",
   "execution_count": 36,
   "id": "c53c17c7",
   "metadata": {},
   "outputs": [
    {
     "data": {
      "text/plain": [
       "(array([False,  True,  True,  True,  True]), dtype('bool'))"
      ]
     },
     "execution_count": 36,
     "metadata": {},
     "output_type": "execute_result"
    }
   ],
   "source": [
    "bool_arr = np.array(values, dtype='bool')\n",
    "bool_arr, bool_arr.dtype"
   ]
  },
  {
   "cell_type": "markdown",
   "id": "909b05a4",
   "metadata": {},
   "source": [
    "If no explicit data type is specified, NumPy chooses the “smallest common denominator.”  \n",
    "In the following example, everything is converted to a float, since integers can be represented as floats, but not the other way around.\n"
   ]
  },
  {
   "cell_type": "code",
   "execution_count": 37,
   "id": "53cd32ce",
   "metadata": {},
   "outputs": [
    {
     "data": {
      "text/plain": [
       "(array([0. , 1. , 2.5, 3. , 4. ]), dtype('float64'))"
      ]
     },
     "execution_count": 37,
     "metadata": {},
     "output_type": "execute_result"
    }
   ],
   "source": [
    "values = [0, 1, 2.5, 3, 4]\n",
    "float_arr = np.array(values)\n",
    "float_arr, float_arr.dtype"
   ]
  },
  {
   "cell_type": "markdown",
   "id": "cb43d7b8",
   "metadata": {},
   "source": [
    "Once the data type has been defined, all values are strictly enforced to match that type.\n"
   ]
  },
  {
   "cell_type": "code",
   "execution_count": 38,
   "id": "4f0a3671",
   "metadata": {},
   "outputs": [
    {
     "data": {
      "text/plain": [
       "(array([0, 2, 2, 3, 4]), dtype('int64'))"
      ]
     },
     "execution_count": 38,
     "metadata": {},
     "output_type": "execute_result"
    }
   ],
   "source": [
    "int_arr[1] = 2.5\n",
    "int_arr, int_arr.dtype"
   ]
  },
  {
   "cell_type": "markdown",
   "id": "e62386bb",
   "metadata": {},
   "source": [
    "These non-Python data types force us to once again consider issues such as overflow and similar limitations.\n"
   ]
  },
  {
   "cell_type": "code",
   "execution_count": 39,
   "id": "cfb27026",
   "metadata": {},
   "outputs": [
    {
     "data": {
      "text/plain": [
       "(array([0, 1, 2, 3, 4], dtype=uint8), dtype('uint8'))"
      ]
     },
     "execution_count": 39,
     "metadata": {},
     "output_type": "execute_result"
    }
   ],
   "source": [
    "values = [0, 1, 2, 3, 4]\n",
    "uint_arr = np.array(values, dtype='uint8')\n",
    "uint_arr, uint_arr.dtype"
   ]
  },
  {
   "cell_type": "code",
   "execution_count": 40,
   "id": "e3f25c76",
   "metadata": {},
   "outputs": [
    {
     "name": "stderr",
     "output_type": "stream",
     "text": [
      "/tmp/ipykernel_1367/609316087.py:1: RuntimeWarning: overflow encountered in scalar add\n",
      "  uint_arr[1] += 255\n"
     ]
    },
    {
     "data": {
      "text/plain": [
       "array([0, 0, 2, 3, 4], dtype=uint8)"
      ]
     },
     "execution_count": 40,
     "metadata": {},
     "output_type": "execute_result"
    }
   ],
   "source": [
    "uint_arr[1] += 255\n",
    "uint_arr"
   ]
  },
  {
   "cell_type": "markdown",
   "id": "3ae7b59e",
   "metadata": {},
   "source": [
    "...and this can lead to certain issues when comparing them with standard Python types.\n"
   ]
  },
  {
   "cell_type": "code",
   "execution_count": 41,
   "id": "c00cf075",
   "metadata": {},
   "outputs": [
    {
     "name": "stdout",
     "output_type": "stream",
     "text": [
      "<class 'numpy.uint8'> <class 'int'>\n"
     ]
    }
   ],
   "source": [
    "print(type(uint_arr[0]), type(183))"
   ]
  },
  {
   "cell_type": "code",
   "execution_count": 42,
   "id": "9bda8cfb",
   "metadata": {},
   "outputs": [
    {
     "name": "stdout",
     "output_type": "stream",
     "text": [
      "0.19999999999999996 == 0.20000000298023224 -> True\n"
     ]
    }
   ],
   "source": [
    "val = 1.2 - 1.0\n",
    "arr = np.array([val], dtype=np.float32)\n",
    "print(f'{val} == {arr[0]} -> {val == arr[0]}')"
   ]
  },
  {
   "cell_type": "markdown",
   "id": "42d3092e",
   "metadata": {},
   "source": [
    "For a more reliable comparison, you can use an epsilon value:\n"
   ]
  },
  {
   "cell_type": "code",
   "execution_count": 43,
   "id": "76bba752",
   "metadata": {},
   "outputs": [
    {
     "data": {
      "text/plain": [
       "np.True_"
      ]
     },
     "execution_count": 43,
     "metadata": {},
     "output_type": "execute_result"
    }
   ],
   "source": [
    "epsilon = 1e-6  # 1*10^(-6); 0.000001\n",
    "abs(arr[0] - val) < epsilon"
   ]
  },
  {
   "cell_type": "markdown",
   "id": "4fa357ac",
   "metadata": {},
   "source": [
    "For a deeper dive into why floating-point calculations can be inaccurate, see the [Python documentation](https://docs.python.org/3/tutorial/floatingpoint.html).\n",
    "\n",
    "You can read all about NumPy data types in the [documentation](https://numpy.org/doc/stable/reference/arrays.dtypes.html).  \n"
   ]
  },
  {
   "cell_type": "markdown",
   "id": "986e7de3",
   "metadata": {},
   "source": [
    "## Working with Arrays\n",
    "\n",
    "Arrays can be combined **element-wise** using the standard operators `+-*/**`:\n"
   ]
  },
  {
   "cell_type": "code",
   "execution_count": 44,
   "id": "ba1c8f1b",
   "metadata": {},
   "outputs": [
    {
     "name": "stdout",
     "output_type": "stream",
     "text": [
      "[[1. 2.]\n",
      " [3. 4.]]\n",
      "[[5. 6.]\n",
      " [7. 8.]]\n"
     ]
    }
   ],
   "source": [
    "x = np.array([[1,2],[3,4]], dtype=np.float64)\n",
    "y = np.array([[5,6],[7,8]], dtype=np.float64)\n",
    "print(x)\n",
    "print(y)"
   ]
  },
  {
   "cell_type": "code",
   "execution_count": 45,
   "id": "f927615f",
   "metadata": {},
   "outputs": [
    {
     "name": "stdout",
     "output_type": "stream",
     "text": [
      "[[ 6.  8.]\n",
      " [10. 12.]]\n",
      "[[ 6.  8.]\n",
      " [10. 12.]]\n"
     ]
    }
   ],
   "source": [
    "# Elementwise sum; both produce the array\n",
    "# [[ 6.0  8.0]\n",
    "#  [10.0 12.0]]\n",
    "print(x + y)\n",
    "print(np.add(x, y))"
   ]
  },
  {
   "cell_type": "code",
   "execution_count": 46,
   "id": "8171ac5b",
   "metadata": {},
   "outputs": [
    {
     "name": "stdout",
     "output_type": "stream",
     "text": [
      "[[-4. -4.]\n",
      " [-4. -4.]]\n",
      "[[-4. -4.]\n",
      " [-4. -4.]]\n"
     ]
    }
   ],
   "source": [
    "# Elementwise difference; both produce the array\n",
    "# [[-4.0 -4.0]\n",
    "#  [-4.0 -4.0]]\n",
    "print(x - y)\n",
    "print(np.subtract(x, y))"
   ]
  },
  {
   "cell_type": "code",
   "execution_count": 47,
   "id": "09e5ac11",
   "metadata": {},
   "outputs": [
    {
     "name": "stdout",
     "output_type": "stream",
     "text": [
      "[[ 5. 12.]\n",
      " [21. 32.]]\n",
      "[[ 5. 12.]\n",
      " [21. 32.]]\n"
     ]
    }
   ],
   "source": [
    "# Elementwise product; both produce the array\n",
    "# [[ 5.0 12.0]\n",
    "#  [21.0 32.0]]\n",
    "print(x * y)\n",
    "print(np.multiply(x, y))"
   ]
  },
  {
   "cell_type": "code",
   "execution_count": 48,
   "id": "a1e7caca",
   "metadata": {},
   "outputs": [
    {
     "name": "stdout",
     "output_type": "stream",
     "text": [
      "[[0.2        0.33333333]\n",
      " [0.42857143 0.5       ]]\n",
      "[[0.2        0.33333333]\n",
      " [0.42857143 0.5       ]]\n"
     ]
    }
   ],
   "source": [
    "# Elementwise division; both produce the array\n",
    "# [[ 0.2         0.33333333]\n",
    "#  [ 0.42857143  0.5       ]]\n",
    "print(x / y)\n",
    "print(np.divide(x, y))"
   ]
  },
  {
   "cell_type": "code",
   "execution_count": 49,
   "id": "a50deb1a",
   "metadata": {},
   "outputs": [
    {
     "name": "stdout",
     "output_type": "stream",
     "text": [
      "[[1.         1.41421356]\n",
      " [1.73205081 2.        ]]\n"
     ]
    }
   ],
   "source": [
    "# Elementwise square root; produces the array\n",
    "# [[ 1.          1.41421356]\n",
    "#  [ 1.73205081  2.        ]]\n",
    "print(np.sqrt(x))"
   ]
  },
  {
   "cell_type": "code",
   "execution_count": 50,
   "id": "203c3f3f",
   "metadata": {},
   "outputs": [
    {
     "name": "stdout",
     "output_type": "stream",
     "text": [
      "[1 2 3]\n",
      "[4 5 6]\n"
     ]
    }
   ],
   "source": [
    "x = np.array([1,2,3])\n",
    "y = np.array([4,5,6])\n",
    "print(x)\n",
    "print(y)"
   ]
  },
  {
   "cell_type": "code",
   "execution_count": 51,
   "id": "133a2120",
   "metadata": {},
   "outputs": [
    {
     "data": {
      "text/plain": [
       "array([ 9, 12, 15])"
      ]
     },
     "execution_count": 51,
     "metadata": {},
     "output_type": "execute_result"
    }
   ],
   "source": [
    "x + 2 * y"
   ]
  },
  {
   "cell_type": "code",
   "execution_count": 52,
   "id": "dccec0aa",
   "metadata": {},
   "outputs": [
    {
     "data": {
      "text/plain": [
       "array([  1,  32, 729])"
      ]
     },
     "execution_count": 52,
     "metadata": {},
     "output_type": "execute_result"
    }
   ],
   "source": [
    "x ** y"
   ]
  },
  {
   "cell_type": "markdown",
   "id": "336a74f2",
   "metadata": {},
   "source": [
    "With `@` you can even perform matrix multiplication.  \n",
    "In the case of 1D arrays, this corresponds to the inner product between two vectors.\n"
   ]
  },
  {
   "cell_type": "code",
   "execution_count": 53,
   "id": "52d7ae18",
   "metadata": {},
   "outputs": [
    {
     "data": {
      "text/plain": [
       "np.int64(32)"
      ]
     },
     "execution_count": 53,
     "metadata": {},
     "output_type": "execute_result"
    }
   ],
   "source": [
    "x @ y"
   ]
  },
  {
   "cell_type": "code",
   "execution_count": 54,
   "id": "4a504e32",
   "metadata": {},
   "outputs": [
    {
     "data": {
      "text/plain": [
       "np.int64(32)"
      ]
     },
     "execution_count": 54,
     "metadata": {},
     "output_type": "execute_result"
    }
   ],
   "source": [
    "# That's the same as\n",
    "np.sum(x * y)"
   ]
  },
  {
   "cell_type": "code",
   "execution_count": 55,
   "id": "6ca354b2",
   "metadata": {},
   "outputs": [
    {
     "data": {
      "text/plain": [
       "np.int64(32)"
      ]
     },
     "execution_count": 55,
     "metadata": {},
     "output_type": "execute_result"
    }
   ],
   "source": [
    "x.dot(y)"
   ]
  },
  {
   "cell_type": "markdown",
   "id": "c8433e37",
   "metadata": {},
   "source": [
    "> **Note:** For Python lists, these operators are defined completely differently!\n"
   ]
  },
  {
   "cell_type": "markdown",
   "id": "dcc9dfda",
   "metadata": {},
   "source": [
    "Note that in contrast to MATLAB, `*` performs element-wise multiplication rather than matrix multiplication.  \n",
    "Instead, we use the `dot` function to compute inner products of vectors, multiply a vector by a matrix, and multiply matrices.  \n",
    "\n",
    "`dot` is available both as a function in the NumPy module and as an instance method of array objects:\n"
   ]
  },
  {
   "cell_type": "code",
   "execution_count": 56,
   "id": "dbea8001",
   "metadata": {},
   "outputs": [],
   "source": [
    "x = np.array([[1,2],[3,4]])\n",
    "y = np.array([[5,6],[7,8]])\n",
    "\n",
    "v = np.array([9,10])\n",
    "w = np.array([11, 12])"
   ]
  },
  {
   "cell_type": "code",
   "execution_count": 57,
   "id": "63263854",
   "metadata": {},
   "outputs": [
    {
     "name": "stdout",
     "output_type": "stream",
     "text": [
      "219\n",
      "219\n"
     ]
    }
   ],
   "source": [
    "# Inner product of vectors; both produce 219\n",
    "print(v.dot(w))\n",
    "print(np.dot(v, w))"
   ]
  },
  {
   "cell_type": "code",
   "execution_count": 58,
   "id": "9609b464",
   "metadata": {},
   "outputs": [
    {
     "name": "stdout",
     "output_type": "stream",
     "text": [
      "219\n",
      "219\n"
     ]
    }
   ],
   "source": [
    "# Inner product of vectors; both produce 219\n",
    "print(v.dot(w))\n",
    "print(np.dot(v, w))"
   ]
  },
  {
   "cell_type": "code",
   "execution_count": 59,
   "id": "35bff0d0",
   "metadata": {},
   "outputs": [
    {
     "name": "stdout",
     "output_type": "stream",
     "text": [
      "[[19 22]\n",
      " [43 50]]\n",
      "[[19 22]\n",
      " [43 50]]\n"
     ]
    }
   ],
   "source": [
    "# Matrix / matrix product; both produce the rank 2 array\n",
    "# [[19 22]\n",
    "#  [43 50]]\n",
    "print(x.dot(y))\n",
    "print(np.dot(x, y))"
   ]
  },
  {
   "cell_type": "markdown",
   "id": "b2714d99",
   "metadata": {},
   "source": [
    "## Applying Functions to Arrays\n",
    "\n",
    "While functions from the `math` module such as `sin` or `exp` can be applied to single numbers, the corresponding functions from the `numpy` module can be applied directly to arrays.  \n",
    "**The function is applied to every element of the array** and i\n"
   ]
  },
  {
   "cell_type": "code",
   "execution_count": 60,
   "id": "71d34d5d",
   "metadata": {},
   "outputs": [
    {
     "data": {
      "text/plain": [
       "array([ 0.00000000e+00,  6.42787610e-01,  9.84807753e-01,  8.66025404e-01,\n",
       "        3.42020143e-01, -3.42020143e-01, -8.66025404e-01, -9.84807753e-01,\n",
       "       -6.42787610e-01, -2.44929360e-16])"
      ]
     },
     "execution_count": 60,
     "metadata": {},
     "output_type": "execute_result"
    }
   ],
   "source": [
    "phi = np.linspace(0, 2 * np.pi, 10) # 10 values between 0 and 2π\n",
    "np.sin(phi) # The sine of each of these values"
   ]
  },
  {
   "cell_type": "code",
   "execution_count": 61,
   "id": "1a738f6e",
   "metadata": {},
   "outputs": [
    {
     "data": {
      "text/plain": [
       "array([-9, -8, -7, -6, -5, -4, -3, -2, -1,  0,  1,  2,  3,  4,  5,  6,  7,\n",
       "        8])"
      ]
     },
     "execution_count": 61,
     "metadata": {},
     "output_type": "execute_result"
    }
   ],
   "source": [
    "arr = np.arange(-9, 9)\n",
    "arr"
   ]
  },
  {
   "cell_type": "code",
   "execution_count": 62,
   "id": "62f9b99a",
   "metadata": {},
   "outputs": [
    {
     "name": "stderr",
     "output_type": "stream",
     "text": [
      "/tmp/ipykernel_1367/3120950136.py:1: RuntimeWarning: divide by zero encountered in log\n",
      "  np.log(arr)\n",
      "/tmp/ipykernel_1367/3120950136.py:1: RuntimeWarning: invalid value encountered in log\n",
      "  np.log(arr)\n"
     ]
    },
    {
     "data": {
      "text/plain": [
       "array([       nan,        nan,        nan,        nan,        nan,\n",
       "              nan,        nan,        nan,        nan,       -inf,\n",
       "       0.        , 0.69314718, 1.09861229, 1.38629436, 1.60943791,\n",
       "       1.79175947, 1.94591015, 2.07944154])"
      ]
     },
     "execution_count": 62,
     "metadata": {},
     "output_type": "execute_result"
    }
   ],
   "source": [
    "np.log(arr)"
   ]
  },
  {
   "cell_type": "code",
   "execution_count": 63,
   "id": "3d2d0d66",
   "metadata": {},
   "outputs": [
    {
     "data": {
      "text/plain": [
       "array([1.23409804e-04, 3.35462628e-04, 9.11881966e-04, 2.47875218e-03,\n",
       "       6.73794700e-03, 1.83156389e-02, 4.97870684e-02, 1.35335283e-01,\n",
       "       3.67879441e-01, 1.00000000e+00, 2.71828183e+00, 7.38905610e+00,\n",
       "       2.00855369e+01, 5.45981500e+01, 1.48413159e+02, 4.03428793e+02,\n",
       "       1.09663316e+03, 2.98095799e+03])"
      ]
     },
     "execution_count": 63,
     "metadata": {},
     "output_type": "execute_result"
    }
   ],
   "source": [
    "np.exp(arr)"
   ]
  },
  {
   "cell_type": "code",
   "execution_count": 64,
   "id": "b9006df5",
   "metadata": {},
   "outputs": [
    {
     "data": {
      "text/plain": [
       "array([-0.41211849, -0.98935825, -0.6569866 ,  0.2794155 ,  0.95892427,\n",
       "        0.7568025 , -0.14112001, -0.90929743, -0.84147098,  0.        ,\n",
       "        0.84147098,  0.90929743,  0.14112001, -0.7568025 , -0.95892427,\n",
       "       -0.2794155 ,  0.6569866 ,  0.98935825])"
      ]
     },
     "execution_count": 64,
     "metadata": {},
     "output_type": "execute_result"
    }
   ],
   "source": [
    "np.sin(arr)"
   ]
  },
  {
   "cell_type": "markdown",
   "id": "d0135583",
   "metadata": {},
   "source": [
    "`np.sign` returns -1 for negative values, +1 for positive values, and 0 for zero:"
   ]
  },
  {
   "cell_type": "code",
   "execution_count": 65,
   "id": "42c71e16",
   "metadata": {},
   "outputs": [
    {
     "data": {
      "text/plain": [
       "array([-1, -1, -1, -1, -1, -1, -1, -1, -1,  0,  1,  1,  1,  1,  1,  1,  1,\n",
       "        1])"
      ]
     },
     "execution_count": 65,
     "metadata": {},
     "output_type": "execute_result"
    }
   ],
   "source": [
    "np.sign(arr)"
   ]
  },
  {
   "cell_type": "markdown",
   "id": "424a70ec",
   "metadata": {},
   "source": [
    "NumPy provides many useful functions for performing computations on arrays; one of the most useful is `sum`:\n"
   ]
  },
  {
   "cell_type": "code",
   "execution_count": 66,
   "id": "bf286c10",
   "metadata": {},
   "outputs": [
    {
     "name": "stdout",
     "output_type": "stream",
     "text": [
      "10\n",
      "[4 6]\n",
      "[3 7]\n"
     ]
    }
   ],
   "source": [
    "x = np.array([[1,2],[3,4]])\n",
    "\n",
    "print(np.sum(x))  # Compute sum of all elements; prints \"10\"\n",
    "print(np.sum(x, axis=0))  # Compute sum of each column; prints \"[4 6]\"\n",
    "print(np.sum(x, axis=1))  # Compute sum of each row; prints \"[3 7]\""
   ]
  },
  {
   "cell_type": "markdown",
   "id": "ac9cfb3f",
   "metadata": {},
   "source": [
    "In addition, there are other functions that compute properties of an array:\n"
   ]
  },
  {
   "cell_type": "code",
   "execution_count": 67,
   "id": "9efb11fb",
   "metadata": {},
   "outputs": [
    {
     "data": {
      "text/plain": [
       "(np.float64(500.0), np.float64(5.0), np.float64(2.9157646512850626))"
      ]
     },
     "execution_count": 67,
     "metadata": {},
     "output_type": "execute_result"
    }
   ],
   "source": [
    "x = np.linspace(0, 10, 100)\n",
    "np.sum(x), np.mean(x), np.std(x)"
   ]
  },
  {
   "cell_type": "markdown",
   "id": "ec34c5cc",
   "metadata": {},
   "source": [
    "These functions generalize to multiple dimensions by specifying the axis along which the computation should be performed:\n"
   ]
  },
  {
   "cell_type": "code",
   "execution_count": 68,
   "id": "2110645b",
   "metadata": {},
   "outputs": [
    {
     "data": {
      "text/plain": [
       "(np.int64(10), array([4, 6]), array([3, 7]))"
      ]
     },
     "execution_count": 68,
     "metadata": {},
     "output_type": "execute_result"
    }
   ],
   "source": [
    "x = np.array([[ 1, 2 ], [ 3, 4 ]])\n",
    "np.sum(x), np.sum(x, axis=0), np.sum(x, axis=1)"
   ]
  },
  {
   "cell_type": "markdown",
   "id": "c62b9973",
   "metadata": {},
   "source": [
    "Apart from computing mathematical functions with arrays, we often need to reshape or otherwise manipulate data within arrays.  \n",
    "The simplest example of this type of operation is transposing a matrix. To transpose a matrix, simply use the `T` attribute of an array object:\n"
   ]
  },
  {
   "cell_type": "code",
   "execution_count": 69,
   "id": "525f8ce4",
   "metadata": {},
   "outputs": [
    {
     "name": "stdout",
     "output_type": "stream",
     "text": [
      "[[1 2]\n",
      " [3 4]]\n",
      "[[1 3]\n",
      " [2 4]]\n"
     ]
    }
   ],
   "source": [
    "x = np.array([[1,2], [3,4]])\n",
    "print(x)    # Prints \"[[1 2]\n",
    "            #          [3 4]]\"\n",
    "print(x.T)  # Prints \"[[1 3]\n",
    "            #          [2 4]]\""
   ]
  },
  {
   "cell_type": "code",
   "execution_count": 70,
   "id": "f62f9c71",
   "metadata": {},
   "outputs": [
    {
     "name": "stdout",
     "output_type": "stream",
     "text": [
      "[1 2 3]\n",
      "[1 2 3]\n"
     ]
    }
   ],
   "source": [
    "# Note that taking the transpose of a rank 1 array does nothing:\n",
    "v = np.array([1, 2, 3])\n",
    "print(v)    # Prints \"[1 2 3]\"\n",
    "print(v.T)  # Prints \"[1 2 3]\""
   ]
  },
  {
   "cell_type": "markdown",
   "id": "e0e00c69",
   "metadata": {},
   "source": [
    "Always try to use vectorized ufuncs instead of explicit loops!  \n",
    "\n",
    "Using these operators/universal functions is generally faster than writing out the operations manually:\n"
   ]
  },
  {
   "cell_type": "code",
   "execution_count": 71,
   "id": "73a12d9e",
   "metadata": {},
   "outputs": [
    {
     "name": "stdout",
     "output_type": "stream",
     "text": [
      "[1 2 3 1 2 3 1 2 3 1 2 3 1 2 3 1 2 3 1 2 3 1 2 3 1 2 3 1 2 3 1 2 3 1 2 3 1\n",
      " 2 3 1 2 3 1 2 3 1 2 3 1 2 3 1 2 3 1 2 3 1 2 3 1 2 3 1 2 3 1 2 3 1 2 3 1 2\n",
      " 3 1 2 3 1 2 3 1 2 3 1 2 3 1 2 3]\n",
      "[1 2 3 1 2 3 1 2 3 1 2 3 1 2 3 1 2 3 1 2 3 1 2 3 1 2 3 1 2 3 1 2 3 1 2 3 1\n",
      " 2 3 1 2 3 1 2 3 1 2 3 1 2 3 1 2 3 1 2 3 1 2 3 1 2 3 1 2 3 1 2 3 1 2 3 1 2\n",
      " 3 1 2 3 1 2 3 1 2 3 1 2 3 1 2 3]\n",
      "[1 2 3 1 2 3 1 2 3 1 2 3 1 2 3 1 2 3 1 2 3 1 2 3 1 2 3 1 2 3 1 2 3 1 2 3 1\n",
      " 2 3 1 2 3 1 2 3 1 2 3 1 2 3 1 2 3 1 2 3 1 2 3 1 2 3 1 2 3 1 2 3 1 2 3 1 2\n",
      " 3 1 2 3 1 2 3 1 2 3 1 2 3 1 2 3]\n"
     ]
    },
    {
     "name": "stdout",
     "output_type": "stream",
     "text": [
      "2.04 μs ± 25.5 ns per loop (mean ± std. dev. of 7 runs, 100,000 loops each)\n",
      "1.74 μs ± 10.6 ns per loop (mean ± std. dev. of 7 runs, 1,000,000 loops each)\n",
      "6.41 μs ± 72.9 ns per loop (mean ± std. dev. of 7 runs, 100,000 loops each)\n"
     ]
    }
   ],
   "source": [
    "func1 = lambda: np.repeat(np.arange(1, 4), 30).reshape(3, -1).T.flatten()  # noqa: E731\n",
    "func2 = lambda: np.arange(3 * 30) % 3 + 1  # noqa: E731\n",
    "func3 = lambda: np.array([[1, 2, 3] for _ in range(30)]).flatten()  # noqa: E731\n",
    "\n",
    "print(func1())\n",
    "print(func2())\n",
    "print(func3())\n",
    "\n",
    "%timeit func1()\n",
    "%timeit func2()\n",
    "%timeit func3()"
   ]
  },
  {
   "cell_type": "markdown",
   "id": "ff691f59",
   "metadata": {},
   "source": [
    "### Random Values\n",
    "\n",
    "`np.random` includes a variety of functions for generating arrays filled with random values from different probability distributions.\n"
   ]
  },
  {
   "cell_type": "code",
   "execution_count": 72,
   "id": "9c9393ef",
   "metadata": {},
   "outputs": [
    {
     "data": {
      "text/plain": [
       "array([[0.59890043, 0.36160733, 0.35258061],\n",
       "       [0.4445614 , 0.6260483 , 0.50785895],\n",
       "       [0.89112932, 0.77679426, 0.86881184]])"
      ]
     },
     "execution_count": 72,
     "metadata": {},
     "output_type": "execute_result"
    }
   ],
   "source": [
    "np.random.random((3, 3))"
   ]
  },
  {
   "cell_type": "code",
   "execution_count": 73,
   "id": "acefb767",
   "metadata": {},
   "outputs": [
    {
     "data": {
      "text/plain": [
       "array([[7, 0, 5, 3, 7],\n",
       "       [5, 6, 3, 2, 1],\n",
       "       [6, 0, 1, 8, 6],\n",
       "       [9, 6, 6, 5, 9],\n",
       "       [3, 5, 8, 9, 4]])"
      ]
     },
     "execution_count": 73,
     "metadata": {},
     "output_type": "execute_result"
    }
   ],
   "source": [
    "np.random.randint(0, 10, (5, 5))"
   ]
  },
  {
   "cell_type": "markdown",
   "id": "d602620f",
   "metadata": {},
   "source": [
    "With `np.random.randint` and a boolean dtype, you can generate random boolean arrays!\n"
   ]
  },
  {
   "cell_type": "markdown",
   "id": "7951ae58",
   "metadata": {},
   "source": [
    "### Repeating Values\n",
    "\n",
    "With `np.repeat`, elements of an array are repeated:\n"
   ]
  },
  {
   "cell_type": "code",
   "execution_count": 74,
   "id": "670f85e1",
   "metadata": {},
   "outputs": [
    {
     "data": {
      "text/plain": [
       "array([3, 3, 3, 3, 3])"
      ]
     },
     "execution_count": 74,
     "metadata": {},
     "output_type": "execute_result"
    }
   ],
   "source": [
    "np.repeat(3, 5)"
   ]
  },
  {
   "cell_type": "code",
   "execution_count": 75,
   "id": "90e49af3",
   "metadata": {},
   "outputs": [
    {
     "data": {
      "text/plain": [
       "array([1, 1, 2, 2, 3, 3, 4, 4])"
      ]
     },
     "execution_count": 75,
     "metadata": {},
     "output_type": "execute_result"
    }
   ],
   "source": [
    "np.repeat([[1,2], [3,4]], 2)"
   ]
  },
  {
   "cell_type": "markdown",
   "id": "71e66262",
   "metadata": {},
   "source": [
    "`np.tile` is another way to repeat values with NumPy.\n"
   ]
  },
  {
   "cell_type": "code",
   "execution_count": 76,
   "id": "827b150a",
   "metadata": {},
   "outputs": [
    {
     "name": "stdout",
     "output_type": "stream",
     "text": [
      "Repeat: [1 1 1 2 2 2 3 3 3]\n",
      "Tile: [1 2 3 1 2 3 1 2 3]\n"
     ]
    }
   ],
   "source": [
    "print('Repeat:', np.repeat([1, 2, 3], 3))\n",
    "print('Tile:', np.tile([1, 2, 3], 3))"
   ]
  },
  {
   "cell_type": "markdown",
   "id": "534cbace",
   "metadata": {},
   "source": [
    "### Reshape"
   ]
  },
  {
   "cell_type": "code",
   "execution_count": 77,
   "id": "cfeca4c5",
   "metadata": {},
   "outputs": [
    {
     "name": "stdout",
     "output_type": "stream",
     "text": [
      "(12,)\n"
     ]
    },
    {
     "data": {
      "text/plain": [
       "array([ 2,  3,  4,  5,  6,  7,  8,  9, 10, 11, 12, 13])"
      ]
     },
     "execution_count": 77,
     "metadata": {},
     "output_type": "execute_result"
    }
   ],
   "source": [
    "a = np.arange(start=2, stop=14)\n",
    "print(a.shape)\n",
    "a"
   ]
  },
  {
   "cell_type": "code",
   "execution_count": 78,
   "id": "e43cf6d3",
   "metadata": {},
   "outputs": [
    {
     "data": {
      "text/plain": [
       "array([[ 2,  3,  4,  5],\n",
       "       [ 6,  7,  8,  9],\n",
       "       [10, 11, 12, 13]])"
      ]
     },
     "execution_count": 78,
     "metadata": {},
     "output_type": "execute_result"
    }
   ],
   "source": [
    "b = a.reshape(3, 4)\n",
    "b"
   ]
  },
  {
   "cell_type": "markdown",
   "id": "de1af405",
   "metadata": {},
   "source": [
    "-1 as the axis automatically infers the size of the corresponding dimension\n"
   ]
  },
  {
   "cell_type": "code",
   "execution_count": 79,
   "id": "f2c2c786",
   "metadata": {},
   "outputs": [
    {
     "data": {
      "text/plain": [
       "array([[ 2,  3],\n",
       "       [ 4,  5],\n",
       "       [ 6,  7],\n",
       "       [ 8,  9],\n",
       "       [10, 11],\n",
       "       [12, 13]])"
      ]
     },
     "execution_count": 79,
     "metadata": {},
     "output_type": "execute_result"
    }
   ],
   "source": [
    "a.reshape(-1, 2)"
   ]
  },
  {
   "cell_type": "markdown",
   "id": "409e8151",
   "metadata": {},
   "source": [
    "Example: We want to create a 2D array where each row is `[1, 2, 3]`, and the array should have 10 rows.\n"
   ]
  },
  {
   "cell_type": "code",
   "execution_count": 80,
   "id": "bfeb69ec",
   "metadata": {},
   "outputs": [
    {
     "name": "stdout",
     "output_type": "stream",
     "text": [
      "[[1 2 3]\n",
      " [1 2 3]\n",
      " [1 2 3]\n",
      " [1 2 3]\n",
      " [1 2 3]\n",
      " [1 2 3]\n",
      " [1 2 3]\n",
      " [1 2 3]\n",
      " [1 2 3]\n",
      " [1 2 3]] \n",
      "\n",
      "[[1 2 3]\n",
      " [1 2 3]\n",
      " [1 2 3]\n",
      " [1 2 3]\n",
      " [1 2 3]\n",
      " [1 2 3]\n",
      " [1 2 3]\n",
      " [1 2 3]\n",
      " [1 2 3]\n",
      " [1 2 3]]\n"
     ]
    }
   ],
   "source": [
    "print(np.repeat(np.arange(1, 4), 10).reshape(-1, 10).T, \"\\n\")\n",
    "print(np.tile(np.arange(1, 4), 10).reshape(10, -1))"
   ]
  },
  {
   "cell_type": "markdown",
   "id": "c29df30d",
   "metadata": {},
   "source": [
    "### Comparing Arrays\n"
   ]
  },
  {
   "cell_type": "code",
   "execution_count": 81,
   "id": "b1d39231",
   "metadata": {},
   "outputs": [
    {
     "name": "stdout",
     "output_type": "stream",
     "text": [
      "[[1.e-12 0.e+00 0.e+00]\n",
      " [0.e+00 0.e+00 0.e+00]\n",
      " [0.e+00 0.e+00 0.e+00]]\n",
      "[[0. 0. 0.]\n",
      " [0. 0. 0.]\n",
      " [0. 0. 0.]]\n"
     ]
    }
   ],
   "source": [
    "epsilon = 0.000000000001\n",
    "a = np.zeros((3, 3))\n",
    "a[0, 0] += epsilon  # a[0][0] -> list\n",
    "\n",
    "b = np.zeros((3, 3))\n",
    "print(a)\n",
    "print(b)"
   ]
  },
  {
   "cell_type": "code",
   "execution_count": 82,
   "id": "45fa2470",
   "metadata": {},
   "outputs": [
    {
     "data": {
      "text/plain": [
       "array([[False,  True,  True],\n",
       "       [ True,  True,  True],\n",
       "       [ True,  True,  True]])"
      ]
     },
     "execution_count": 82,
     "metadata": {},
     "output_type": "execute_result"
    }
   ],
   "source": [
    "a == b"
   ]
  },
  {
   "cell_type": "code",
   "execution_count": 83,
   "id": "c03b4466",
   "metadata": {},
   "outputs": [
    {
     "data": {
      "text/plain": [
       "np.False_"
      ]
     },
     "execution_count": 83,
     "metadata": {},
     "output_type": "execute_result"
    }
   ],
   "source": [
    "(a == b).all()"
   ]
  },
  {
   "cell_type": "code",
   "execution_count": 84,
   "id": "aa837584",
   "metadata": {},
   "outputs": [
    {
     "data": {
      "text/plain": [
       "np.True_"
      ]
     },
     "execution_count": 84,
     "metadata": {},
     "output_type": "execute_result"
    }
   ],
   "source": [
    "c = np.array([])\n",
    "d = np.array([1])\n",
    "(c == d).all()"
   ]
  },
  {
   "cell_type": "markdown",
   "id": "9e596eba",
   "metadata": {},
   "source": [
    "Issues with this approach:\n",
    "* If either `a` or `b` is empty and the other contains a single element, it will return `True` (the comparison `a == b` yields an empty array, for which the `all` operator returns `True`).\n",
    "* If `a` and `b` do not have the same shape and are not broadcastable, this approach will raise an error.\n",
    "\n",
    "Instead, use NumPy’s built-in functions!\n",
    "\n"
   ]
  },
  {
   "cell_type": "code",
   "execution_count": 85,
   "id": "0879e78e",
   "metadata": {},
   "outputs": [
    {
     "data": {
      "text/plain": [
       "False"
      ]
     },
     "execution_count": 85,
     "metadata": {},
     "output_type": "execute_result"
    }
   ],
   "source": [
    "np.array_equal(c, d)"
   ]
  },
  {
   "cell_type": "code",
   "execution_count": 86,
   "id": "18268384",
   "metadata": {},
   "outputs": [
    {
     "data": {
      "text/plain": [
       "True"
      ]
     },
     "execution_count": 86,
     "metadata": {},
     "output_type": "execute_result"
    }
   ],
   "source": [
    "np.allclose(a, b)"
   ]
  },
  {
   "cell_type": "code",
   "execution_count": 87,
   "id": "9b107a78",
   "metadata": {},
   "outputs": [
    {
     "data": {
      "text/plain": [
       "array([[ True,  True,  True],\n",
       "       [ True,  True,  True],\n",
       "       [ True,  True,  True]])"
      ]
     },
     "execution_count": 87,
     "metadata": {},
     "output_type": "execute_result"
    }
   ],
   "source": [
    "np.isclose(a, b)"
   ]
  },
  {
   "cell_type": "markdown",
   "id": "010a7baf",
   "metadata": {},
   "source": [
    "The complete list of mathematical functions provided by NumPy can be found in the [documentation](https://numpy.org/doc/stable/reference/routines.math.html).\n"
   ]
  },
  {
   "cell_type": "markdown",
   "id": "ff14783e",
   "metadata": {},
   "source": [
    "## NumPy Arrays as Sequences\n",
    "\n",
    "We can apply all functions to NumPy arrays that are defined for sequences.\n"
   ]
  },
  {
   "cell_type": "code",
   "execution_count": 88,
   "id": "3d2e13b4",
   "metadata": {},
   "outputs": [
    {
     "data": {
      "text/plain": [
       "3"
      ]
     },
     "execution_count": 88,
     "metadata": {},
     "output_type": "execute_result"
    }
   ],
   "source": [
    "a = np.arange(3)\n",
    "len(a)"
   ]
  },
  {
   "cell_type": "code",
   "execution_count": 89,
   "id": "655cff21",
   "metadata": {},
   "outputs": [
    {
     "name": "stdout",
     "output_type": "stream",
     "text": [
      "0\n",
      "1\n",
      "2\n"
     ]
    }
   ],
   "source": [
    "for x in a:\n",
    "    print(x)"
   ]
  },
  {
   "cell_type": "markdown",
   "id": "6ee00e51",
   "metadata": {},
   "source": [
    "We can access elements using square brackets:"
   ]
  },
  {
   "cell_type": "code",
   "execution_count": 90,
   "id": "f3a89fba",
   "metadata": {},
   "outputs": [
    {
     "data": {
      "text/plain": [
       "np.int64(0)"
      ]
     },
     "execution_count": 90,
     "metadata": {},
     "output_type": "execute_result"
    }
   ],
   "source": [
    "a[0]"
   ]
  },
  {
   "cell_type": "code",
   "execution_count": 91,
   "id": "b28f9d45",
   "metadata": {},
   "outputs": [
    {
     "name": "stdout",
     "output_type": "stream",
     "text": [
      "[5 1 2]\n"
     ]
    }
   ],
   "source": [
    "a[0] = 5                 \n",
    "print(a)                  "
   ]
  },
  {
   "cell_type": "markdown",
   "id": "1b38215a",
   "metadata": {},
   "source": [
    "#### Slicing selects parts of an array\n",
    "\n",
    "We have already seen the slicing syntax for sequences. It allows us to access individual elements or parts of a sequence:\n",
    "\n",
    "```python\n",
    "a[start:stop:step]\n",
    "```\n",
    "\n",
    "Extended to multidimensional arrays:\n",
    "```python\n",
    "b[start:stop:step, start:stop:step]\n",
    "\n",
    "```\n"
   ]
  },
  {
   "cell_type": "code",
   "execution_count": 92,
   "id": "713755d5",
   "metadata": {},
   "outputs": [
    {
     "name": "stdout",
     "output_type": "stream",
     "text": [
      "[0 1 2 3 4]\n",
      "[0 2 4 6 8]\n"
     ]
    }
   ],
   "source": [
    "x = np.arange(10)\n",
    "print(x[:5])\n",
    "print(x[::2])"
   ]
  },
  {
   "cell_type": "code",
   "execution_count": 93,
   "id": "4e3ee8e6",
   "metadata": {},
   "outputs": [
    {
     "data": {
      "text/plain": [
       "array([[ 1,  2,  3,  4],\n",
       "       [ 5,  6,  7,  8],\n",
       "       [ 9, 10, 11, 12]])"
      ]
     },
     "execution_count": 93,
     "metadata": {},
     "output_type": "execute_result"
    }
   ],
   "source": [
    "a = np.array([[1, 2, 3, 4], [5, 6, 7, 8], [9, 10, 11, 12]])\n",
    "a"
   ]
  },
  {
   "cell_type": "code",
   "execution_count": 94,
   "id": "f394aaeb",
   "metadata": {},
   "outputs": [
    {
     "data": {
      "text/plain": [
       "array([[2, 3],\n",
       "       [6, 7]])"
      ]
     },
     "execution_count": 94,
     "metadata": {},
     "output_type": "execute_result"
    }
   ],
   "source": [
    "b = a[:2, 1:3]\n",
    "b"
   ]
  },
  {
   "cell_type": "code",
   "execution_count": 95,
   "id": "261b009f",
   "metadata": {},
   "outputs": [
    {
     "name": "stdout",
     "output_type": "stream",
     "text": [
      "2\n",
      "77\n"
     ]
    }
   ],
   "source": [
    "print(a[0, 1])\n",
    "b[0, 0] = 77     # b[0, 0] is the same piece of data as a[0, 1]\n",
    "print(a[0, 1])  "
   ]
  },
  {
   "cell_type": "markdown",
   "id": "eb8ec4ce",
   "metadata": {},
   "source": [
    "Alternatively, instead of a single index we can also provide a **list of indices** (also called *fancy indexing* — we’ll revisit this in more detail later if time allows) in the subscript, which returns the corresponding elements from the array:\n"
   ]
  },
  {
   "cell_type": "code",
   "execution_count": 96,
   "id": "929bc79a",
   "metadata": {},
   "outputs": [
    {
     "data": {
      "text/plain": [
       "array([6, 1, 4, 6])"
      ]
     },
     "execution_count": 96,
     "metadata": {},
     "output_type": "execute_result"
    }
   ],
   "source": [
    "x = np.array([1, 6, 4, 7, 9])\n",
    "indices = [1, 0, 2, 1]\n",
    "x[indices]"
   ]
  },
  {
   "cell_type": "markdown",
   "id": "1eea8986",
   "metadata": {},
   "source": [
    "You can also combine integer indexing with slice indexing.  \n",
    "However, this results in an array of lower rank than the original array.  \n",
    "Note that this behavior differs from how MATLAB handles array slicing:\n"
   ]
  },
  {
   "cell_type": "code",
   "execution_count": 97,
   "id": "0d8f4743",
   "metadata": {},
   "outputs": [
    {
     "data": {
      "text/plain": [
       "array([[ 1,  2,  3,  4],\n",
       "       [ 5,  6,  7,  8],\n",
       "       [ 9, 10, 11, 12]])"
      ]
     },
     "execution_count": 97,
     "metadata": {},
     "output_type": "execute_result"
    }
   ],
   "source": [
    "a = np.array([[1, 2, 3, 4], [5, 6, 7, 8], [9, 10, 11, 12]])\n",
    "a"
   ]
  },
  {
   "cell_type": "code",
   "execution_count": 98,
   "id": "b012c09f",
   "metadata": {},
   "outputs": [
    {
     "name": "stdout",
     "output_type": "stream",
     "text": [
      "[5 6 7 8] (4,)\n",
      "[[5 6 7 8]] (1, 4)\n"
     ]
    }
   ],
   "source": [
    "row_r1 = a[1, :]    # Rank 1 view of the second row of a\n",
    "row_r2 = a[1:2, :]  # Rank 2 view of the second row of a\n",
    "print(row_r1, row_r1.shape)\n",
    "print(row_r2, row_r2.shape) "
   ]
  },
  {
   "cell_type": "code",
   "execution_count": 99,
   "id": "1044a11e",
   "metadata": {},
   "outputs": [
    {
     "name": "stdout",
     "output_type": "stream",
     "text": [
      "[ 2  6 10] (3,)\n",
      "[[ 2]\n",
      " [ 6]\n",
      " [10]] (3, 1)\n"
     ]
    }
   ],
   "source": [
    "# We can make the same distinction when accessing columns of an array:\n",
    "col_r1 = a[:, 1]\n",
    "col_r2 = a[:, 1:2]\n",
    "print(col_r1, col_r1.shape) \n",
    "print(col_r2, col_r2.shape)  "
   ]
  },
  {
   "cell_type": "markdown",
   "id": "ea0fc02a",
   "metadata": {},
   "source": [
    "**Integer Array Indexing**:  \n",
    "When you index NumPy arrays with slices, the resulting array view is always a subarray of the original array.  \n",
    "In contrast, integer array indexing allows you to construct arbitrary arrays by pulling data from another array.  \n",
    "\n",
    "Here’s an example:\n"
   ]
  },
  {
   "cell_type": "code",
   "execution_count": 100,
   "id": "7112d03f",
   "metadata": {},
   "outputs": [],
   "source": [
    "a = np.array([[1, 2], \n",
    "              [3, 4], \n",
    "              [5, 6]])"
   ]
  },
  {
   "cell_type": "code",
   "execution_count": 101,
   "id": "17748014",
   "metadata": {},
   "outputs": [
    {
     "name": "stdout",
     "output_type": "stream",
     "text": [
      "[1 4 5]\n"
     ]
    }
   ],
   "source": [
    "print(a[[0, 1, 2], [0, 1, 0]]) "
   ]
  },
  {
   "cell_type": "code",
   "execution_count": 102,
   "id": "94d2c38e",
   "metadata": {},
   "outputs": [
    {
     "name": "stdout",
     "output_type": "stream",
     "text": [
      "[1 4 5]\n"
     ]
    }
   ],
   "source": [
    "print(np.array([a[0, 0], a[1, 1], a[2, 0]]))"
   ]
  },
  {
   "cell_type": "code",
   "execution_count": 103,
   "id": "5e86a375",
   "metadata": {},
   "outputs": [
    {
     "name": "stdout",
     "output_type": "stream",
     "text": [
      "[2 2]\n"
     ]
    }
   ],
   "source": [
    "print(a[[0, 0], [1, 1]])"
   ]
  },
  {
   "cell_type": "code",
   "execution_count": 104,
   "id": "f0704160",
   "metadata": {},
   "outputs": [
    {
     "name": "stdout",
     "output_type": "stream",
     "text": [
      "[2 2]\n"
     ]
    }
   ],
   "source": [
    "print(np.array([a[0, 1], a[0, 1]]))"
   ]
  },
  {
   "cell_type": "markdown",
   "id": "ff2474da",
   "metadata": {},
   "source": [
    "A useful trick with integer array indexing is selecting or modifying one element from each row of a matrix:\n"
   ]
  },
  {
   "cell_type": "code",
   "execution_count": 105,
   "id": "44b08b67",
   "metadata": {},
   "outputs": [
    {
     "name": "stdout",
     "output_type": "stream",
     "text": [
      "[[ 1  2  3]\n",
      " [ 4  5  6]\n",
      " [ 7  8  9]\n",
      " [10 11 12]]\n"
     ]
    }
   ],
   "source": [
    "a = np.array([[1, 2, 3], [4, 5, 6], [7, 8, 9], [10, 11, 12]])\n",
    "\n",
    "print(a)"
   ]
  },
  {
   "cell_type": "code",
   "execution_count": 106,
   "id": "9a00190d",
   "metadata": {},
   "outputs": [
    {
     "name": "stdout",
     "output_type": "stream",
     "text": [
      "[ 1  6  7 11]\n"
     ]
    }
   ],
   "source": [
    "# Create an array of indices\n",
    "b = np.array([0, 2, 0, 1])\n",
    "\n",
    "# Select one element from each row of a using the indices in b\n",
    "print(a[np.arange(4), b])"
   ]
  },
  {
   "cell_type": "code",
   "execution_count": 107,
   "id": "fb84877b",
   "metadata": {},
   "outputs": [
    {
     "name": "stdout",
     "output_type": "stream",
     "text": [
      "[[11  2  3]\n",
      " [ 4  5 16]\n",
      " [17  8  9]\n",
      " [10 21 12]]\n"
     ]
    }
   ],
   "source": [
    "# Mutate one element from each row of a using the indices in b\n",
    "a[np.arange(4), b] += 10\n",
    "\n",
    "print(a)"
   ]
  },
  {
   "cell_type": "markdown",
   "id": "84b91748",
   "metadata": {},
   "source": [
    "#### Masking filters an array\n",
    "\n",
    "NumPy also extends this syntax with **masking** functionality.  \n",
    "Here, we provide an **array of booleans** in the subscript (with the same length), and only the elements corresponding to `True` are returned:\n"
   ]
  },
  {
   "cell_type": "code",
   "execution_count": 108,
   "id": "3e001638",
   "metadata": {},
   "outputs": [
    {
     "data": {
      "text/plain": [
       "array([1, 6, 9])"
      ]
     },
     "execution_count": 108,
     "metadata": {},
     "output_type": "execute_result"
    }
   ],
   "source": [
    "x = np.array([1, 6, 4, 7, 9])\n",
    "mask = np.array([True, True, False, False, True])\n",
    "x[mask]"
   ]
  },
  {
   "cell_type": "markdown",
   "id": "441e8f64",
   "metadata": {},
   "source": [
    "Masking is extremely useful because **comparison operators**, when used with NumPy arrays, return boolean arrays:\n"
   ]
  },
  {
   "cell_type": "code",
   "execution_count": 109,
   "id": "71ed2023",
   "metadata": {},
   "outputs": [
    {
     "data": {
      "text/plain": [
       "array([False,  True, False,  True,  True])"
      ]
     },
     "execution_count": 109,
     "metadata": {},
     "output_type": "execute_result"
    }
   ],
   "source": [
    "x > 4"
   ]
  },
  {
   "cell_type": "markdown",
   "id": "6a665e93",
   "metadata": {},
   "source": [
    "This way, we can filter parts of an array that meet a specific **condition**:\n"
   ]
  },
  {
   "cell_type": "code",
   "execution_count": 110,
   "id": "9b8309a7",
   "metadata": {},
   "outputs": [
    {
     "data": {
      "text/plain": [
       "array([6, 7, 9])"
      ]
     },
     "execution_count": 110,
     "metadata": {},
     "output_type": "execute_result"
    }
   ],
   "source": [
    "x[x > 4]"
   ]
  },
  {
   "cell_type": "markdown",
   "id": "7697e168",
   "metadata": {},
   "source": [
    "Conditions can be combined using the `&` operator:\n"
   ]
  },
  {
   "cell_type": "code",
   "execution_count": 111,
   "id": "fcc6f50c",
   "metadata": {},
   "outputs": [
    {
     "data": {
      "text/plain": [
       "array([6, 7])"
      ]
     },
     "execution_count": 111,
     "metadata": {},
     "output_type": "execute_result"
    }
   ],
   "source": [
    "x[(x > 4) & (x < 8)]"
   ]
  },
  {
   "cell_type": "markdown",
   "id": "cec553c4",
   "metadata": {},
   "source": [
    "#### Slices or masks of an array can also be assigned to\n",
    "\n",
    "When a slice or a mask of an array appears on the left-hand side of an assignment, the corresponding part of the original array is updated:\n"
   ]
  },
  {
   "cell_type": "code",
   "execution_count": 112,
   "id": "38ab9260",
   "metadata": {},
   "outputs": [
    {
     "data": {
      "text/plain": [
       "array([1, 0, 4, 0, 0])"
      ]
     },
     "execution_count": 112,
     "metadata": {},
     "output_type": "execute_result"
    }
   ],
   "source": [
    "x = np.array([1, 6, 4, 7, 9])\n",
    "x[x > 4] = 0\n",
    "x"
   ]
  },
  {
   "cell_type": "markdown",
   "id": "3762fb7d",
   "metadata": {},
   "source": [
    "For the sake of brevity, we have omitted many details about additional indexing options in NumPy arrays.  \n",
    "If you’d like to learn more, check out the [documentation](http://docs.scipy.org/doc/numpy/reference/arrays.indexing.html).\n"
   ]
  },
  {
   "cell_type": "markdown",
   "id": "e606efb1",
   "metadata": {},
   "source": [
    "## Broadcasting\n",
    "\n",
    "Broadcasting is a powerful mechanism that allows NumPy to work with arrays of different shapes when performing arithmetic operations.  \n",
    "Often, we have a smaller array and a larger array, and we want to use the smaller array multiple times to apply an operation to the larger array.\n",
    "\n",
    "NumPy attempts to expand the arrays according to three rules so that their shapes match, allowing the operation to be applied element-wise.\n",
    "\n",
    "**Rule 1** If the arrays have a different number of dimensions, the shape of the smaller array is padded with ones on the left.  \n",
    "&nbsp;&nbsp;&nbsp;&nbsp;Example: (5 × 3) + (3) → (5 × 3) + (**1** × 3)  \n",
    "\n",
    "**Rule 2** If the arrays have the same number of dimensions, but the size of one dimension differs, the dimension with size 1 is stretched to match.  \n",
    "&nbsp;&nbsp;&nbsp;&nbsp;Example: (5 × 3) + (1 × 3) → (5 × 3) + (**5** × 3)  \n",
    "\n",
    "**Rule 3** If the shapes still do not align after applying Rules 1 and 2, a broadcasting error is raised.\n",
    "\n",
    "![](https://jakevdp.github.io/PythonDataScienceHandbook/figures/02.05-broadcasting.png)\n",
    "\n",
    "The [NumPy documentation](https://numpy.org/doc/stable/user/basics.broadcasting.html) provides more insights.\n",
    "\n",
    "For example, suppose we want to add a constant vector to every row of a matrix. We could do it like this:\n"
   ]
  },
  {
   "cell_type": "code",
   "execution_count": 113,
   "id": "6ea3c2db",
   "metadata": {},
   "outputs": [
    {
     "name": "stdout",
     "output_type": "stream",
     "text": [
      "[[ 2  2  4]\n",
      " [ 5  5  7]\n",
      " [ 8  8 10]\n",
      " [11 11 13]]\n"
     ]
    }
   ],
   "source": [
    "x = np.array([[1, 2, 3], \n",
    "              [4, 5, 6], \n",
    "              [7, 8, 9], \n",
    "              [10, 11, 12]])\n",
    "\n",
    "v = np.array([1, 0, 1])\n",
    "y = np.empty_like(x)   \n",
    "\n",
    "for i in range(4):\n",
    "    y[i, :] = x[i, :] + v\n",
    "    \n",
    "print(y)"
   ]
  },
  {
   "cell_type": "markdown",
   "id": "1fd86ddc",
   "metadata": {},
   "source": [
    "This works; however, if the matrix `x` is very large, running an explicit loop in Python can be slow.  \n",
    "Note that adding the vector `v` to each row of the matrix `x` is equivalent to constructing a matrix `vv` by vertically stacking multiple copies of `v`, and then performing an element-wise sum of `x` and `vv`.  \n",
    "We could implement this approach as follows:\n"
   ]
  },
  {
   "cell_type": "code",
   "execution_count": 114,
   "id": "757742cb",
   "metadata": {},
   "outputs": [
    {
     "name": "stdout",
     "output_type": "stream",
     "text": [
      "[[1 0 1]\n",
      " [1 0 1]\n",
      " [1 0 1]\n",
      " [1 0 1]]\n"
     ]
    }
   ],
   "source": [
    "x = np.array([[1, 2, 3], \n",
    "              [4, 5, 6], \n",
    "              [7, 8, 9], \n",
    "              [10, 11, 12]])\n",
    "\n",
    "v = np.array([1, 0, 1])\n",
    "vv = np.tile(v, (4, 1))   \n",
    "print(vv)                 "
   ]
  },
  {
   "cell_type": "code",
   "execution_count": 115,
   "id": "017122cb",
   "metadata": {},
   "outputs": [
    {
     "name": "stdout",
     "output_type": "stream",
     "text": [
      "[[ 2  2  4]\n",
      " [ 5  5  7]\n",
      " [ 8  8 10]\n",
      " [11 11 13]]\n"
     ]
    }
   ],
   "source": [
    "y = x + vv\n",
    "print(y)"
   ]
  },
  {
   "cell_type": "markdown",
   "id": "20e7daad",
   "metadata": {},
   "source": [
    "With NumPy broadcasting, we can perform this computation without actually creating multiple copies of `v`.  \n",
    "Consider this broadcasting-based version:\n"
   ]
  },
  {
   "cell_type": "code",
   "execution_count": 116,
   "id": "bffc3fd0",
   "metadata": {},
   "outputs": [
    {
     "name": "stdout",
     "output_type": "stream",
     "text": [
      "[[ 2  2  4]\n",
      " [ 5  5  7]\n",
      " [ 8  8 10]\n",
      " [11 11 13]]\n"
     ]
    }
   ],
   "source": [
    "\n",
    "x = np.array([[1, 2, 3], \n",
    "              [4, 5, 6], \n",
    "              [7, 8, 9], \n",
    "              [10, 11, 12]])\n",
    "\n",
    "v = np.array([1, 0, 1])\n",
    "y = x + v \n",
    "\n",
    "print(y)  "
   ]
  },
  {
   "cell_type": "markdown",
   "id": "cc27d382",
   "metadata": {},
   "source": [
    "The line `y = x + v` works even though `x` has the shape `(4, 3)` and `v` has the shape `(3,)`; thanks to broadcasting, this line behaves as if `v` actually had the shape `(4, 3)`, with each row being a copy of `v`, and the sum is carried out element-wise.\n",
    "\n",
    "The rules for combining two arrays are as follows:\n",
    "\n",
    "1. If the arrays do not have the same rank, the shape of the array with the lower rank is padded with ones on the left until both shapes have the same length.  \n",
    "2. The two arrays are considered compatible in a dimension if they have the same size in that dimension or if one of them has size 1 in that dimension.  \n",
    "3. The arrays can be broadcast together if they are compatible in all dimensions.  \n",
    "4. After broadcasting, each array behaves as if it had the shape equal to the element-wise maximum of the input shapes.  \n",
    "5. In any dimension where one array has size 1 and the other has a size greater than 1, the first array behaves as if it were copied along that dimension.  \n",
    "\n",
    "If this explanation doesn’t make sense, try reading the [documentation explanation](https://numpy.org/doc/stable/user/basics.broadcasting.html) or [this alternative explanation](https://scipy.github.io/old-wiki/pages/EricsBroadcastingDoc.html).\n",
    "\n",
    "Functions that support broadcasting are called *universal functions*.  \n",
    "You can find the complete list of universal functions in the [documentation](https://numpy.org/doc/stable/reference/ufuncs.html#available-ufuncs).\n",
    "\n",
    "Here are some applications of broadcasting:\n"
   ]
  },
  {
   "cell_type": "code",
   "execution_count": 117,
   "id": "7fce8860",
   "metadata": {},
   "outputs": [
    {
     "name": "stdout",
     "output_type": "stream",
     "text": [
      "[[ 4  5]\n",
      " [ 8 10]\n",
      " [12 15]]\n"
     ]
    }
   ],
   "source": [
    "# Compute outer product of vectors\n",
    "v = np.array([1, 2, 3])  # v has shape (3,)\n",
    "w = np.array([4, 5])    # w has shape (2,)\n",
    "# To compute an outer product, we first reshape v to be a column\n",
    "# vector of shape (3, 1); we can then broadcast it against w to yield\n",
    "# an output of shape (3, 2), which is the outer product of v and w:\n",
    "# [[ 4  5]\n",
    "#  [ 8 10]\n",
    "#  [12 15]]\n",
    "print(np.reshape(v, (3, 1)) * w)"
   ]
  },
  {
   "cell_type": "code",
   "execution_count": 118,
   "id": "8bb0ec62",
   "metadata": {},
   "outputs": [
    {
     "name": "stdout",
     "output_type": "stream",
     "text": [
      "[[2 4 6]\n",
      " [5 7 9]]\n"
     ]
    }
   ],
   "source": [
    "# Add a vector to each row of a matrix\n",
    "x = np.array([[1, 2, 3], [4, 5, 6]])\n",
    "# x has shape (2, 3) and v has shape (3,) so they broadcast to (2, 3),\n",
    "# giving the following matrix:\n",
    "# [[2 4 6]\n",
    "#  [5 7 9]]\n",
    "print(x + v)"
   ]
  },
  {
   "cell_type": "code",
   "execution_count": 119,
   "id": "d23af5f1",
   "metadata": {},
   "outputs": [
    {
     "name": "stdout",
     "output_type": "stream",
     "text": [
      "[[ 5  6  7]\n",
      " [ 9 10 11]]\n"
     ]
    }
   ],
   "source": [
    "# Add a vector to each column of a matrix\n",
    "# x has shape (2, 3) and w has shape (2,).\n",
    "# If we transpose x then it has shape (3, 2) and can be broadcast\n",
    "# against w to yield a result of shape (3, 2); transposing this result\n",
    "# yields the final result of shape (2, 3) which is the matrix x with\n",
    "# the vector w added to each column. Gives the following matrix:\n",
    "# [[ 5  6  7]\n",
    "#  [ 9 10 11]]\n",
    "print((x.T + w).T)"
   ]
  },
  {
   "cell_type": "code",
   "execution_count": 120,
   "id": "a1435586",
   "metadata": {},
   "outputs": [
    {
     "name": "stdout",
     "output_type": "stream",
     "text": [
      "[[ 5  6  7]\n",
      " [ 9 10 11]]\n"
     ]
    }
   ],
   "source": [
    "# Another solution is to reshape w to be a column vector of shape (2, 1);\n",
    "# we can then broadcast it directly against x to produce the same\n",
    "# output.\n",
    "print(x + np.reshape(w, (2, 1)))"
   ]
  },
  {
   "cell_type": "code",
   "execution_count": 121,
   "id": "d2e4fb24",
   "metadata": {},
   "outputs": [
    {
     "name": "stdout",
     "output_type": "stream",
     "text": [
      "[[ 2  4  6]\n",
      " [ 8 10 12]]\n"
     ]
    }
   ],
   "source": [
    "# Multiply a matrix by a constant:\n",
    "# x has shape (2, 3). Numpy treats scalars as arrays of shape ();\n",
    "# these can be broadcast together to shape (2, 3), producing the\n",
    "# following array:\n",
    "# [[ 2  4  6]\n",
    "#  [ 8 10 12]]\n",
    "print(x * 2)"
   ]
  },
  {
   "cell_type": "markdown",
   "id": "f3ecd625",
   "metadata": {},
   "source": [
    "Broadcasting usually makes your code more concise and faster, so you should make an effort to use it whenever possible.\n"
   ]
  },
  {
   "cell_type": "markdown",
   "id": "f673a79a",
   "metadata": {},
   "source": [
    "## Aggregation Functions\n",
    "\n",
    "Aggregation functions are functions that reduce the dimensionality of an array.  \n",
    "They provide an `axis` argument to specify along which dimension the reduction should be performed.\n"
   ]
  },
  {
   "cell_type": "code",
   "execution_count": 122,
   "id": "f21e4060",
   "metadata": {},
   "outputs": [
    {
     "data": {
      "text/plain": [
       "array([[ 5, 11, 12,  8],\n",
       "       [ 9, 11,  5, 15],\n",
       "       [ 0, 16,  1, 12],\n",
       "       [ 7, 13,  6, 18]])"
      ]
     },
     "execution_count": 122,
     "metadata": {},
     "output_type": "execute_result"
    }
   ],
   "source": [
    "np.random.seed(1)\n",
    "two_dim_arr = np.random.randint(0, high=20, size=(4, 4))\n",
    "two_dim_arr"
   ]
  },
  {
   "cell_type": "markdown",
   "id": "12dfa079",
   "metadata": {},
   "source": [
    "If only the array is passed, the aggregation operation is applied over the entire array.\n"
   ]
  },
  {
   "cell_type": "code",
   "execution_count": 123,
   "id": "4f92f7d1",
   "metadata": {},
   "outputs": [
    {
     "data": {
      "text/plain": [
       "np.int64(0)"
      ]
     },
     "execution_count": 123,
     "metadata": {},
     "output_type": "execute_result"
    }
   ],
   "source": [
    "np.min(two_dim_arr)"
   ]
  },
  {
   "cell_type": "markdown",
   "id": "098695d5",
   "metadata": {},
   "source": [
    "With the optional `axis` argument, we can specify which dimension should be aggregated.  \n",
    "You can think of this as applying the operation to all entries that result when keeping the indices fixed in all dimensions except the specified `axis`.\n",
    "\n",
    "Let’s look at the result of the minimum operation with `axis=0`:\n"
   ]
  },
  {
   "cell_type": "code",
   "execution_count": 124,
   "id": "8a38ac02",
   "metadata": {},
   "outputs": [
    {
     "data": {
      "text/plain": [
       "array([ 0, 11,  1,  8])"
      ]
     },
     "execution_count": 124,
     "metadata": {},
     "output_type": "execute_result"
    }
   ],
   "source": [
    "np.min(two_dim_arr, axis=0)"
   ]
  },
  {
   "cell_type": "markdown",
   "id": "40e82e53",
   "metadata": {},
   "source": [
    "The concept of axes extends to more than one dimension.\n"
   ]
  },
  {
   "cell_type": "code",
   "execution_count": 125,
   "id": "a6e8a316",
   "metadata": {},
   "outputs": [
    {
     "data": {
      "text/plain": [
       "array([[[ 5, 11, 12,  8],\n",
       "        [ 9, 11,  5, 15],\n",
       "        [ 0, 16,  1, 12],\n",
       "        [ 7, 13,  6, 18]],\n",
       "\n",
       "       [[ 5, 18, 11, 10],\n",
       "        [14, 18,  4,  9],\n",
       "        [17,  0, 13,  9],\n",
       "        [ 9,  7,  1,  0]],\n",
       "\n",
       "       [[17,  8, 13, 19],\n",
       "        [15, 10,  8,  7],\n",
       "        [ 3,  6, 17,  3],\n",
       "        [ 4, 17, 11, 12]],\n",
       "\n",
       "       [[16, 13, 19,  9],\n",
       "        [18, 15,  0,  4],\n",
       "        [15,  2,  7,  8],\n",
       "        [ 9,  3,  7,  4]]])"
      ]
     },
     "execution_count": 125,
     "metadata": {},
     "output_type": "execute_result"
    }
   ],
   "source": [
    "np.random.seed(1)\n",
    "three_dim_arr = np.random.randint(0, high=20, size=(4, 4, 4))\n",
    "three_dim_arr"
   ]
  },
  {
   "cell_type": "code",
   "execution_count": 126,
   "id": "b79e91d2",
   "metadata": {},
   "outputs": [
    {
     "data": {
      "text/plain": [
       "array([[ 5,  8, 11,  8],\n",
       "       [ 9, 10,  0,  4],\n",
       "       [ 0,  0,  1,  3],\n",
       "       [ 4,  3,  1,  0]])"
      ]
     },
     "execution_count": 126,
     "metadata": {},
     "output_type": "execute_result"
    }
   ],
   "source": [
    "np.min(three_dim_arr, axis=0)"
   ]
  },
  {
   "cell_type": "markdown",
   "id": "6edef05e",
   "metadata": {},
   "source": [
    "Here, the entry at index `[0, 0]`, i.e. `5`, is the minimum of the following values:\n"
   ]
  },
  {
   "cell_type": "code",
   "execution_count": 127,
   "id": "224d88a0",
   "metadata": {},
   "outputs": [
    {
     "name": "stdout",
     "output_type": "stream",
     "text": [
      "5\n",
      "5\n",
      "17\n",
      "16\n"
     ]
    }
   ],
   "source": [
    "for i in range(4):\n",
    "    print(three_dim_arr[i, 0, 0])"
   ]
  },
  {
   "cell_type": "markdown",
   "id": "d35c5a1e",
   "metadata": {},
   "source": [
    "Let’s once again demonstrate all axes using another three-dimensional array:\n"
   ]
  },
  {
   "cell_type": "code",
   "execution_count": 128,
   "id": "27fd14e1",
   "metadata": {},
   "outputs": [
    {
     "data": {
      "text/plain": [
       "(array([[[2, 4],\n",
       "         [6, 9]],\n",
       " \n",
       "        [[3, 1],\n",
       "         [7, 8]],\n",
       " \n",
       "        [[4, 5],\n",
       "         [9, 0]]]),\n",
       " (3, 2, 2))"
      ]
     },
     "execution_count": 128,
     "metadata": {},
     "output_type": "execute_result"
    }
   ],
   "source": [
    "a = np.array([[[2, 4], [6, 9]], [[3, 1], [7, 8]], [[4, 5], [9, 0]]])\n",
    "a, a.shape"
   ]
  },
  {
   "cell_type": "code",
   "execution_count": 129,
   "id": "d868e32e",
   "metadata": {},
   "outputs": [
    {
     "data": {
      "text/plain": [
       "np.int64(0)"
      ]
     },
     "execution_count": 129,
     "metadata": {},
     "output_type": "execute_result"
    }
   ],
   "source": [
    "np.min(a)"
   ]
  },
  {
   "cell_type": "code",
   "execution_count": 130,
   "id": "3f547bb9",
   "metadata": {},
   "outputs": [
    {
     "data": {
      "text/plain": [
       "array([[2, 1],\n",
       "       [6, 0]])"
      ]
     },
     "execution_count": 130,
     "metadata": {},
     "output_type": "execute_result"
    }
   ],
   "source": [
    "np.min(a, axis=0)"
   ]
  },
  {
   "cell_type": "markdown",
   "id": "ca1ecd53",
   "metadata": {},
   "source": [
    "Setting the axis argument is equivalent to iterating through all other axes of the array in sequence and returning the corresponding aggregate for each combination.\n"
   ]
  },
  {
   "cell_type": "code",
   "execution_count": 131,
   "id": "be667d07",
   "metadata": {},
   "outputs": [
    {
     "name": "stdout",
     "output_type": "stream",
     "text": [
      "[2 3 4]\n",
      "[4 1 5]\n",
      "[6 7 9]\n",
      "[9 8 0]\n"
     ]
    }
   ],
   "source": [
    "for i in range(a.shape[1]):\n",
    "    for j in range(a.shape[2]):\n",
    "        print(a[:, i, j])"
   ]
  },
  {
   "cell_type": "markdown",
   "id": "3bb087f3",
   "metadata": {},
   "source": [
    "For `axis=1`, a loop is performed over axis 0 and axis 2:\n"
   ]
  },
  {
   "cell_type": "code",
   "execution_count": 132,
   "id": "7c6660c2",
   "metadata": {},
   "outputs": [
    {
     "data": {
      "text/plain": [
       "array([[[2, 4],\n",
       "        [6, 9]],\n",
       "\n",
       "       [[3, 1],\n",
       "        [7, 8]],\n",
       "\n",
       "       [[4, 5],\n",
       "        [9, 0]]])"
      ]
     },
     "execution_count": 132,
     "metadata": {},
     "output_type": "execute_result"
    }
   ],
   "source": [
    "a"
   ]
  },
  {
   "cell_type": "code",
   "execution_count": 133,
   "id": "9246dc42",
   "metadata": {},
   "outputs": [
    {
     "data": {
      "text/plain": [
       "array([[2, 4],\n",
       "       [3, 1],\n",
       "       [4, 0]])"
      ]
     },
     "execution_count": 133,
     "metadata": {},
     "output_type": "execute_result"
    }
   ],
   "source": [
    "np.min(a, axis=1)"
   ]
  },
  {
   "cell_type": "code",
   "execution_count": 134,
   "id": "50cbc326",
   "metadata": {},
   "outputs": [
    {
     "name": "stdout",
     "output_type": "stream",
     "text": [
      "[2 6]\n",
      "[4 9]\n",
      "[3 7]\n",
      "[1 8]\n",
      "[4 9]\n",
      "[5 0]\n"
     ]
    }
   ],
   "source": [
    "for i in range(a.shape[0]):\n",
    "    for j in range(a.shape[2]):\n",
    "        print(a[i, :, j])"
   ]
  },
  {
   "cell_type": "markdown",
   "id": "c8ae65ac",
   "metadata": {},
   "source": [
    "...and finally, for `axis=2`, we loop through axes 0 and 1:\n"
   ]
  },
  {
   "cell_type": "code",
   "execution_count": 135,
   "id": "68f616be",
   "metadata": {},
   "outputs": [
    {
     "data": {
      "text/plain": [
       "array([[[2, 4],\n",
       "        [6, 9]],\n",
       "\n",
       "       [[3, 1],\n",
       "        [7, 8]],\n",
       "\n",
       "       [[4, 5],\n",
       "        [9, 0]]])"
      ]
     },
     "execution_count": 135,
     "metadata": {},
     "output_type": "execute_result"
    }
   ],
   "source": [
    "a"
   ]
  },
  {
   "cell_type": "code",
   "execution_count": 136,
   "id": "59e1b22e",
   "metadata": {},
   "outputs": [
    {
     "data": {
      "text/plain": [
       "array([[2, 6],\n",
       "       [1, 7],\n",
       "       [4, 0]])"
      ]
     },
     "execution_count": 136,
     "metadata": {},
     "output_type": "execute_result"
    }
   ],
   "source": [
    "np.min(a, axis=2)"
   ]
  },
  {
   "cell_type": "code",
   "execution_count": 137,
   "id": "6fae5917",
   "metadata": {},
   "outputs": [
    {
     "name": "stdout",
     "output_type": "stream",
     "text": [
      "[2 4]\n",
      "[6 9]\n",
      "[3 1]\n",
      "[7 8]\n",
      "[4 5]\n",
      "[9 0]\n"
     ]
    }
   ],
   "source": [
    "for i in range(a.shape[0]):\n",
    "    for j in range(a.shape[1]):\n",
    "        print(a[i, j, :])"
   ]
  },
  {
   "cell_type": "markdown",
   "id": "0beb0c1f",
   "metadata": {},
   "source": [
    "The shape of the resulting array is simply the shape of the original array with the specified axis removed:\n"
   ]
  },
  {
   "cell_type": "code",
   "execution_count": 138,
   "id": "b2a44f30",
   "metadata": {},
   "outputs": [
    {
     "data": {
      "text/plain": [
       "array([[2, 6],\n",
       "       [1, 7],\n",
       "       [4, 0]])"
      ]
     },
     "execution_count": 138,
     "metadata": {},
     "output_type": "execute_result"
    }
   ],
   "source": [
    "mins = []\n",
    "for i in range(a.shape[0]):\n",
    "    for j in range(a.shape[1]):\n",
    "        mins.append(min(a[i,j,:]))\n",
    "np.array(mins).reshape([a.shape[0], a.shape[1]])"
   ]
  },
  {
   "cell_type": "markdown",
   "id": "81139b53",
   "metadata": {},
   "source": [
    "...however, using NumPy is of course much faster than looping over the array manually:\n"
   ]
  },
  {
   "cell_type": "code",
   "execution_count": 139,
   "id": "5a2bace1",
   "metadata": {},
   "outputs": [
    {
     "name": "stdout",
     "output_type": "stream",
     "text": [
      "5.95 μs ± 37.4 ns per loop (mean ± std. dev. of 7 runs, 100,000 loops each)\n",
      "1.91 μs ± 10.3 ns per loop (mean ± std. dev. of 7 runs, 1,000,000 loops each)\n"
     ]
    }
   ],
   "source": [
    "def find_min_manual(arr):\n",
    "    mins = []\n",
    "    for i in range(arr.shape[0]):\n",
    "        for j in range(arr.shape[1]):\n",
    "            mins.append(min(arr[i,j,:]))\n",
    "    np.array(mins).reshape([arr.shape[0], arr.shape[1]])\n",
    "\n",
    "%timeit find_min_manual(a)\n",
    "%timeit np.min(a, axis=2)"
   ]
  },
  {
   "cell_type": "markdown",
   "id": "41de5690",
   "metadata": {},
   "source": [
    "#### np.nan"
   ]
  },
  {
   "cell_type": "code",
   "execution_count": 140,
   "id": "945044b3",
   "metadata": {},
   "outputs": [
    {
     "data": {
      "text/plain": [
       "False"
      ]
     },
     "execution_count": 140,
     "metadata": {},
     "output_type": "execute_result"
    }
   ],
   "source": [
    "np.nan == np.nan"
   ]
  },
  {
   "cell_type": "code",
   "execution_count": 141,
   "id": "9ca3fc71",
   "metadata": {},
   "outputs": [
    {
     "data": {
      "text/plain": [
       "np.True_"
      ]
     },
     "execution_count": 141,
     "metadata": {},
     "output_type": "execute_result"
    }
   ],
   "source": [
    "np.isnan(np.nan)"
   ]
  },
  {
   "cell_type": "code",
   "execution_count": 142,
   "id": "f2559c3a",
   "metadata": {},
   "outputs": [
    {
     "data": {
      "text/plain": [
       "array([0, 1, 2, 3, 4, 0, 0, 0, 0, 0])"
      ]
     },
     "execution_count": 142,
     "metadata": {},
     "output_type": "execute_result"
    }
   ],
   "source": [
    "a = np.r_[np.arange(5), np.repeat(0, 5)]\n",
    "a"
   ]
  },
  {
   "cell_type": "code",
   "execution_count": 143,
   "id": "06767554",
   "metadata": {},
   "outputs": [
    {
     "name": "stderr",
     "output_type": "stream",
     "text": [
      "/tmp/ipykernel_1367/1505135007.py:1: RuntimeWarning: invalid value encountered in divide\n",
      "  b = a / a\n"
     ]
    },
    {
     "data": {
      "text/plain": [
       "array([nan,  1.,  1.,  1.,  1., nan, nan, nan, nan, nan])"
      ]
     },
     "execution_count": 143,
     "metadata": {},
     "output_type": "execute_result"
    }
   ],
   "source": [
    "b = a / a\n",
    "b"
   ]
  },
  {
   "cell_type": "code",
   "execution_count": 144,
   "id": "73160d1c",
   "metadata": {},
   "outputs": [
    {
     "data": {
      "text/plain": [
       "array([False,  True,  True,  True,  True, False, False, False, False,\n",
       "       False])"
      ]
     },
     "execution_count": 144,
     "metadata": {},
     "output_type": "execute_result"
    }
   ],
   "source": [
    "~np.isnan(b)"
   ]
  },
  {
   "cell_type": "code",
   "execution_count": 145,
   "id": "4816fbc8",
   "metadata": {},
   "outputs": [
    {
     "data": {
      "text/plain": [
       "array([1., 1., 1., 1.])"
      ]
     },
     "execution_count": 145,
     "metadata": {},
     "output_type": "execute_result"
    }
   ],
   "source": [
    "b[~np.isnan(b)]"
   ]
  },
  {
   "cell_type": "code",
   "execution_count": 146,
   "id": "afcc95fa",
   "metadata": {},
   "outputs": [
    {
     "data": {
      "text/plain": [
       "array([0., 1., 1., 1., 1., 0., 0., 0., 0., 0.])"
      ]
     },
     "execution_count": 146,
     "metadata": {},
     "output_type": "execute_result"
    }
   ],
   "source": [
    "np.divide(a, a, out=np.zeros(a.shape), where=(a!=0)) \n",
    "# at the positions where a!=0, make the division,\n",
    "# at other indices use what's specified as \"out\""
   ]
  },
  {
   "cell_type": "markdown",
   "id": "a8af0768",
   "metadata": {},
   "source": [
    "### More Than One Dimension\n",
    "\n",
    "Aggregation functions can also aggregate across more than one dimension at a time.\n"
   ]
  },
  {
   "cell_type": "code",
   "execution_count": 147,
   "id": "4c8333de",
   "metadata": {},
   "outputs": [
    {
     "data": {
      "text/plain": [
       "array([[[5, 9, 3],\n",
       "        [6, 8, 0]],\n",
       "\n",
       "       [[2, 7, 7],\n",
       "        [9, 7, 3]],\n",
       "\n",
       "       [[0, 8, 7],\n",
       "        [7, 1, 1]],\n",
       "\n",
       "       [[3, 0, 8],\n",
       "        [6, 4, 5]]])"
      ]
     },
     "execution_count": 147,
     "metadata": {},
     "output_type": "execute_result"
    }
   ],
   "source": [
    "three_dim_arr = np.random.randint(0, 10, (4, 2, 3))\n",
    "three_dim_arr"
   ]
  },
  {
   "cell_type": "code",
   "execution_count": 148,
   "id": "dccc9fd7",
   "metadata": {},
   "outputs": [
    {
     "data": {
      "text/plain": [
       "array([0, 2, 0, 0])"
      ]
     },
     "execution_count": 148,
     "metadata": {},
     "output_type": "execute_result"
    }
   ],
   "source": [
    "np.min(three_dim_arr, axis=(1, 2))"
   ]
  },
  {
   "cell_type": "markdown",
   "id": "7c25c233",
   "metadata": {},
   "source": [
    "### Other Aggregation Functions\n"
   ]
  },
  {
   "cell_type": "code",
   "execution_count": 149,
   "id": "4fd7b08b",
   "metadata": {},
   "outputs": [
    {
     "data": {
      "text/plain": [
       "array([[ 5, 11, 12,  8],\n",
       "       [ 9, 11,  5, 15],\n",
       "       [ 0, 16,  1, 12],\n",
       "       [ 7, 13,  6, 18]])"
      ]
     },
     "execution_count": 149,
     "metadata": {},
     "output_type": "execute_result"
    }
   ],
   "source": [
    "two_dim_arr"
   ]
  },
  {
   "cell_type": "code",
   "execution_count": 150,
   "id": "1dd60a28",
   "metadata": {},
   "outputs": [
    {
     "data": {
      "text/plain": [
       "np.int64(18)"
      ]
     },
     "execution_count": 150,
     "metadata": {},
     "output_type": "execute_result"
    }
   ],
   "source": [
    "np.max(two_dim_arr)"
   ]
  },
  {
   "cell_type": "code",
   "execution_count": 151,
   "id": "27a5c939",
   "metadata": {},
   "outputs": [
    {
     "data": {
      "text/plain": [
       "array([ 9, 16, 12, 18])"
      ]
     },
     "execution_count": 151,
     "metadata": {},
     "output_type": "execute_result"
    }
   ],
   "source": [
    "np.max(two_dim_arr, axis=0)"
   ]
  },
  {
   "cell_type": "code",
   "execution_count": 152,
   "id": "42b36f83",
   "metadata": {},
   "outputs": [
    {
     "data": {
      "text/plain": [
       "array([12, 15, 16, 18])"
      ]
     },
     "execution_count": 152,
     "metadata": {},
     "output_type": "execute_result"
    }
   ],
   "source": [
    "np.max(two_dim_arr, axis=1)"
   ]
  },
  {
   "cell_type": "code",
   "execution_count": 153,
   "id": "85f081c8",
   "metadata": {},
   "outputs": [
    {
     "data": {
      "text/plain": [
       "np.int64(149)"
      ]
     },
     "execution_count": 153,
     "metadata": {},
     "output_type": "execute_result"
    }
   ],
   "source": [
    "np.sum(two_dim_arr)"
   ]
  },
  {
   "cell_type": "code",
   "execution_count": 154,
   "id": "13b8e3ee",
   "metadata": {},
   "outputs": [
    {
     "data": {
      "text/plain": [
       "array([21, 51, 24, 53])"
      ]
     },
     "execution_count": 154,
     "metadata": {},
     "output_type": "execute_result"
    }
   ],
   "source": [
    "np.sum(two_dim_arr, axis=0)"
   ]
  },
  {
   "cell_type": "code",
   "execution_count": 155,
   "id": "29dc61ef",
   "metadata": {},
   "outputs": [
    {
     "data": {
      "text/plain": [
       "array([36, 40, 29, 44])"
      ]
     },
     "execution_count": 155,
     "metadata": {},
     "output_type": "execute_result"
    }
   ],
   "source": [
    "np.sum(two_dim_arr, axis=1)"
   ]
  },
  {
   "cell_type": "markdown",
   "id": "9cb717ec",
   "metadata": {},
   "source": [
    "Many of these functions are also available as methods on the array object itself.\n"
   ]
  },
  {
   "cell_type": "code",
   "execution_count": 156,
   "id": "7ea12bfc",
   "metadata": {},
   "outputs": [
    {
     "data": {
      "text/plain": [
       "array([21, 51, 24, 53])"
      ]
     },
     "execution_count": 156,
     "metadata": {},
     "output_type": "execute_result"
    }
   ],
   "source": [
    "two_dim_arr.sum(axis=0)"
   ]
  },
  {
   "cell_type": "markdown",
   "id": "429546c1",
   "metadata": {},
   "source": [
    "### Flatten\n",
    "\n",
    "We want to convert any array into a 1D array.\n"
   ]
  },
  {
   "cell_type": "code",
   "execution_count": 157,
   "id": "15c3d3bb",
   "metadata": {},
   "outputs": [
    {
     "data": {
      "text/plain": [
       "array([[[[[[ 0,  1],\n",
       "           [ 2,  3]],\n",
       "\n",
       "          [[ 4,  5],\n",
       "           [ 6,  7]]],\n",
       "\n",
       "\n",
       "         [[[ 8,  9],\n",
       "           [10, 11]],\n",
       "\n",
       "          [[12, 13],\n",
       "           [14, 15]]]],\n",
       "\n",
       "\n",
       "\n",
       "        [[[[16, 17],\n",
       "           [18, 19]],\n",
       "\n",
       "          [[20, 21],\n",
       "           [22, 23]]],\n",
       "\n",
       "\n",
       "         [[[24, 25],\n",
       "           [26, 27]],\n",
       "\n",
       "          [[28, 29],\n",
       "           [30, 31]]]]],\n",
       "\n",
       "\n",
       "\n",
       "\n",
       "       [[[[[32, 33],\n",
       "           [34, 35]],\n",
       "\n",
       "          [[36, 37],\n",
       "           [38, 39]]],\n",
       "\n",
       "\n",
       "         [[[40, 41],\n",
       "           [42, 43]],\n",
       "\n",
       "          [[44, 45],\n",
       "           [46, 47]]]],\n",
       "\n",
       "\n",
       "\n",
       "        [[[[48, 49],\n",
       "           [50, 51]],\n",
       "\n",
       "          [[52, 53],\n",
       "           [54, 55]]],\n",
       "\n",
       "\n",
       "         [[[56, 57],\n",
       "           [58, 59]],\n",
       "\n",
       "          [[60, 61],\n",
       "           [62, 63]]]]]])"
      ]
     },
     "execution_count": 157,
     "metadata": {},
     "output_type": "execute_result"
    }
   ],
   "source": [
    "a = np.arange(64).reshape((2, 2, 2, 2, 2, 2))\n",
    "a"
   ]
  },
  {
   "cell_type": "code",
   "execution_count": 158,
   "id": "b836c77c",
   "metadata": {},
   "outputs": [
    {
     "data": {
      "text/plain": [
       "array([ 0,  1,  2,  3,  4,  5,  6,  7,  8,  9, 10, 11, 12, 13, 14, 15, 16,\n",
       "       17, 18, 19, 20, 21, 22, 23, 24, 25, 26, 27, 28, 29, 30, 31, 32, 33,\n",
       "       34, 35, 36, 37, 38, 39, 40, 41, 42, 43, 44, 45, 46, 47, 48, 49, 50,\n",
       "       51, 52, 53, 54, 55, 56, 57, 58, 59, 60, 61, 62, 63])"
      ]
     },
     "execution_count": 158,
     "metadata": {},
     "output_type": "execute_result"
    }
   ],
   "source": [
    "a.flatten()"
   ]
  },
  {
   "cell_type": "markdown",
   "id": "38ed8932",
   "metadata": {},
   "source": [
    "## Reading and Saving Data\n",
    "\n",
    "With the `numpy.loadtxt` function, we can read data from a file into a NumPy array:\n"
   ]
  },
  {
   "cell_type": "code",
   "execution_count": 159,
   "id": "6574e452",
   "metadata": {},
   "outputs": [
    {
     "data": {
      "text/plain": [
       "(6679, 2)"
      ]
     },
     "execution_count": 159,
     "metadata": {},
     "output_type": "execute_result"
    }
   ],
   "source": [
    "data = np.loadtxt('data/matplotlib/temperatures.txt')\n",
    "data.shape"
   ]
  },
  {
   "cell_type": "markdown",
   "id": "4764b72a",
   "metadata": {},
   "source": [
    "The function returns a two-dimensional array with the _rows_ of the file that was read.  \n",
    "We can access all values of a specific _column_ through slicing:\n"
   ]
  },
  {
   "cell_type": "code",
   "execution_count": 160,
   "id": "44074457",
   "metadata": {},
   "outputs": [
    {
     "data": {
      "text/plain": [
       "(array([1995.00274, 1995.00548, 1995.00821, ..., 2013.27926, 2013.282  ,\n",
       "        2013.28474]),\n",
       " array([ 0.944444, -1.61111 , -3.55556 , ..., 10.5556  ,  8.94444 ,\n",
       "        11.1667  ]))"
      ]
     },
     "execution_count": 160,
     "metadata": {},
     "output_type": "execute_result"
    }
   ],
   "source": [
    "date = data[:,0] # All rows, first column\n",
    "T = data[:,1] # All rows, second column\n",
    "date, T"
   ]
  },
  {
   "cell_type": "markdown",
   "id": "d26da62c",
   "metadata": {},
   "source": [
    "> **Note:** The `numpy.loadtxt` function can also directly return an array for each column when the argument `unpack=True` is passed:\n",
    ">\n",
    "> ```python\n",
    "> date, T = np.loadtxt('data/04/temperatures.txt', unpack=True)\n",
    "> ```\n",
    ">\n",
    "> Additional useful options, such as skipping the first few lines, can be found in the documentation.  \n",
    "> Remove the '`#`' character in the following cell and take a look at the options:\n"
   ]
  },
  {
   "cell_type": "code",
   "execution_count": 161,
   "id": "3a85e7ab",
   "metadata": {},
   "outputs": [
    {
     "name": "stdout",
     "output_type": "stream",
     "text": [
      "\u001b[31mSignature:\u001b[39m\n",
      "np.loadtxt(\n",
      "    fname,\n",
      "    dtype=<\u001b[38;5;28;01mclass\u001b[39;00m \u001b[33m'float'\u001b[39m>,\n",
      "    comments=\u001b[33m'#'\u001b[39m,\n",
      "    delimiter=\u001b[38;5;28;01mNone\u001b[39;00m,\n",
      "    converters=\u001b[38;5;28;01mNone\u001b[39;00m,\n",
      "    skiprows=\u001b[32m0\u001b[39m,\n",
      "    usecols=\u001b[38;5;28;01mNone\u001b[39;00m,\n",
      "    unpack=\u001b[38;5;28;01mFalse\u001b[39;00m,\n",
      "    ndmin=\u001b[32m0\u001b[39m,\n",
      "    encoding=\u001b[38;5;28;01mNone\u001b[39;00m,\n",
      "    max_rows=\u001b[38;5;28;01mNone\u001b[39;00m,\n",
      "    *,\n",
      "    quotechar=\u001b[38;5;28;01mNone\u001b[39;00m,\n",
      "    like=\u001b[38;5;28;01mNone\u001b[39;00m,\n",
      ")\n",
      "\u001b[31mDocstring:\u001b[39m\n",
      "Load data from a text file.\n",
      "\n",
      "Parameters\n",
      "----------\n",
      "fname : file, str, pathlib.Path, list of str, generator\n",
      "    File, filename, list, or generator to read.  If the filename\n",
      "    extension is ``.gz`` or ``.bz2``, the file is first decompressed. Note\n",
      "    that generators must return bytes or strings. The strings\n",
      "    in a list or produced by a generator are treated as lines.\n",
      "dtype : data-type, optional\n",
      "    Data-type of the resulting array; default: float.  If this is a\n",
      "    structured data-type, the resulting array will be 1-dimensional, and\n",
      "    each row will be interpreted as an element of the array.  In this\n",
      "    case, the number of columns used must match the number of fields in\n",
      "    the data-type.\n",
      "comments : str or sequence of str or None, optional\n",
      "    The characters or list of characters used to indicate the start of a\n",
      "    comment. None implies no comments. For backwards compatibility, byte\n",
      "    strings will be decoded as 'latin1'. The default is '#'.\n",
      "delimiter : str, optional\n",
      "    The character used to separate the values. For backwards compatibility,\n",
      "    byte strings will be decoded as 'latin1'. The default is whitespace.\n",
      "\n",
      "    .. versionchanged:: 1.23.0\n",
      "       Only single character delimiters are supported. Newline characters\n",
      "       cannot be used as the delimiter.\n",
      "\n",
      "converters : dict or callable, optional\n",
      "    Converter functions to customize value parsing. If `converters` is\n",
      "    callable, the function is applied to all columns, else it must be a\n",
      "    dict that maps column number to a parser function.\n",
      "    See examples for further details.\n",
      "    Default: None.\n",
      "\n",
      "    .. versionchanged:: 1.23.0\n",
      "       The ability to pass a single callable to be applied to all columns\n",
      "       was added.\n",
      "\n",
      "skiprows : int, optional\n",
      "    Skip the first `skiprows` lines, including comments; default: 0.\n",
      "usecols : int or sequence, optional\n",
      "    Which columns to read, with 0 being the first. For example,\n",
      "    ``usecols = (1,4,5)`` will extract the 2nd, 5th and 6th columns.\n",
      "    The default, None, results in all columns being read.\n",
      "\n",
      "    .. versionchanged:: 1.11.0\n",
      "        When a single column has to be read it is possible to use\n",
      "        an integer instead of a tuple. E.g ``usecols = 3`` reads the\n",
      "        fourth column the same way as ``usecols = (3,)`` would.\n",
      "unpack : bool, optional\n",
      "    If True, the returned array is transposed, so that arguments may be\n",
      "    unpacked using ``x, y, z = loadtxt(...)``.  When used with a\n",
      "    structured data-type, arrays are returned for each field.\n",
      "    Default is False.\n",
      "ndmin : int, optional\n",
      "    The returned array will have at least `ndmin` dimensions.\n",
      "    Otherwise mono-dimensional axes will be squeezed.\n",
      "    Legal values: 0 (default), 1 or 2.\n",
      "\n",
      "    .. versionadded:: 1.6.0\n",
      "encoding : str, optional\n",
      "    Encoding used to decode the inputfile. Does not apply to input streams.\n",
      "    The special value 'bytes' enables backward compatibility workarounds\n",
      "    that ensures you receive byte arrays as results if possible and passes\n",
      "    'latin1' encoded strings to converters. Override this value to receive\n",
      "    unicode arrays and pass strings as input to converters.  If set to None\n",
      "    the system default is used. The default value is 'bytes'.\n",
      "\n",
      "    .. versionadded:: 1.14.0\n",
      "    .. versionchanged:: 2.0\n",
      "        Before NumPy 2, the default was ``'bytes'`` for Python 2\n",
      "        compatibility. The default is now ``None``.\n",
      "\n",
      "max_rows : int, optional\n",
      "    Read `max_rows` rows of content after `skiprows` lines. The default is\n",
      "    to read all the rows. Note that empty rows containing no data such as\n",
      "    empty lines and comment lines are not counted towards `max_rows`,\n",
      "    while such lines are counted in `skiprows`.\n",
      "\n",
      "    .. versionadded:: 1.16.0\n",
      "\n",
      "    .. versionchanged:: 1.23.0\n",
      "        Lines containing no data, including comment lines (e.g., lines\n",
      "        starting with '#' or as specified via `comments`) are not counted\n",
      "        towards `max_rows`.\n",
      "quotechar : unicode character or None, optional\n",
      "    The character used to denote the start and end of a quoted item.\n",
      "    Occurrences of the delimiter or comment characters are ignored within\n",
      "    a quoted item. The default value is ``quotechar=None``, which means\n",
      "    quoting support is disabled.\n",
      "\n",
      "    If two consecutive instances of `quotechar` are found within a quoted\n",
      "    field, the first is treated as an escape character. See examples.\n",
      "\n",
      "    .. versionadded:: 1.23.0\n",
      "like : array_like, optional\n",
      "    Reference object to allow the creation of arrays which are not\n",
      "    NumPy arrays. If an array-like passed in as ``like`` supports\n",
      "    the ``__array_function__`` protocol, the result will be defined\n",
      "    by it. In this case, it ensures the creation of an array object\n",
      "    compatible with that passed in via this argument.\n",
      "\n",
      "    .. versionadded:: 1.20.0\n",
      "\n",
      "Returns\n",
      "-------\n",
      "out : ndarray\n",
      "    Data read from the text file.\n",
      "\n",
      "See Also\n",
      "--------\n",
      "load, fromstring, fromregex\n",
      "genfromtxt : Load data with missing values handled as specified.\n",
      "scipy.io.loadmat : reads MATLAB data files\n",
      "\n",
      "Notes\n",
      "-----\n",
      "This function aims to be a fast reader for simply formatted files.  The\n",
      "`genfromtxt` function provides more sophisticated handling of, e.g.,\n",
      "lines with missing values.\n",
      "\n",
      "Each row in the input text file must have the same number of values to be\n",
      "able to read all values. If all rows do not have same number of values, a\n",
      "subset of up to n columns (where n is the least number of values present\n",
      "in all rows) can be read by specifying the columns via `usecols`.\n",
      "\n",
      ".. versionadded:: 1.10.0\n",
      "\n",
      "The strings produced by the Python float.hex method can be used as\n",
      "input for floats.\n",
      "\n",
      "Examples\n",
      "--------\n",
      ">>> import numpy as np\n",
      ">>> from io import StringIO   # StringIO behaves like a file object\n",
      ">>> c = StringIO(\"0 1\\n2 3\")\n",
      ">>> np.loadtxt(c)\n",
      "array([[0., 1.],\n",
      "       [2., 3.]])\n",
      "\n",
      ">>> d = StringIO(\"M 21 72\\nF 35 58\")\n",
      ">>> np.loadtxt(d, dtype={'names': ('gender', 'age', 'weight'),\n",
      "...                      'formats': ('S1', 'i4', 'f4')})\n",
      "array([(b'M', 21, 72.), (b'F', 35, 58.)],\n",
      "      dtype=[('gender', 'S1'), ('age', '<i4'), ('weight', '<f4')])\n",
      "\n",
      ">>> c = StringIO(\"1,0,2\\n3,0,4\")\n",
      ">>> x, y = np.loadtxt(c, delimiter=',', usecols=(0, 2), unpack=True)\n",
      ">>> x\n",
      "array([1., 3.])\n",
      ">>> y\n",
      "array([2., 4.])\n",
      "\n",
      "The `converters` argument is used to specify functions to preprocess the\n",
      "text prior to parsing. `converters` can be a dictionary that maps\n",
      "preprocessing functions to each column:\n",
      "\n",
      ">>> s = StringIO(\"1.618, 2.296\\n3.141, 4.669\\n\")\n",
      ">>> conv = {\n",
      "...     0: lambda x: np.floor(float(x)),  # conversion fn for column 0\n",
      "...     1: lambda x: np.ceil(float(x)),  # conversion fn for column 1\n",
      "... }\n",
      ">>> np.loadtxt(s, delimiter=\",\", converters=conv)\n",
      "array([[1., 3.],\n",
      "       [3., 5.]])\n",
      "\n",
      "`converters` can be a callable instead of a dictionary, in which case it\n",
      "is applied to all columns:\n",
      "\n",
      ">>> s = StringIO(\"0xDE 0xAD\\n0xC0 0xDE\")\n",
      ">>> import functools\n",
      ">>> conv = functools.partial(int, base=16)\n",
      ">>> np.loadtxt(s, converters=conv)\n",
      "array([[222., 173.],\n",
      "       [192., 222.]])\n",
      "\n",
      "This example shows how `converters` can be used to convert a field\n",
      "with a trailing minus sign into a negative number.\n",
      "\n",
      ">>> s = StringIO(\"10.01 31.25-\\n19.22 64.31\\n17.57- 63.94\")\n",
      ">>> def conv(fld):\n",
      "...     return -float(fld[:-1]) if fld.endswith(\"-\") else float(fld)\n",
      "...\n",
      ">>> np.loadtxt(s, converters=conv)\n",
      "array([[ 10.01, -31.25],\n",
      "       [ 19.22,  64.31],\n",
      "       [-17.57,  63.94]])\n",
      "\n",
      "Using a callable as the converter can be particularly useful for handling\n",
      "values with different formatting, e.g. floats with underscores:\n",
      "\n",
      ">>> s = StringIO(\"1 2.7 100_000\")\n",
      ">>> np.loadtxt(s, converters=float)\n",
      "array([1.e+00, 2.7e+00, 1.e+05])\n",
      "\n",
      "This idea can be extended to automatically handle values specified in\n",
      "many different formats, such as hex values:\n",
      "\n",
      ">>> def conv(val):\n",
      "...     try:\n",
      "...         return float(val)\n",
      "...     except ValueError:\n",
      "...         return float.fromhex(val)\n",
      ">>> s = StringIO(\"1, 2.5, 3_000, 0b4, 0x1.4000000000000p+2\")\n",
      ">>> np.loadtxt(s, delimiter=\",\", converters=conv)\n",
      "array([1.0e+00, 2.5e+00, 3.0e+03, 1.8e+02, 5.0e+00])\n",
      "\n",
      "Or a format where the ``-`` sign comes after the number:\n",
      "\n",
      ">>> s = StringIO(\"10.01 31.25-\\n19.22 64.31\\n17.57- 63.94\")\n",
      ">>> conv = lambda x: -float(x[:-1]) if x.endswith(\"-\") else float(x)\n",
      ">>> np.loadtxt(s, converters=conv)\n",
      "array([[ 10.01, -31.25],\n",
      "       [ 19.22,  64.31],\n",
      "       [-17.57,  63.94]])\n",
      "\n",
      "Support for quoted fields is enabled with the `quotechar` parameter.\n",
      "Comment and delimiter characters are ignored when they appear within a\n",
      "quoted item delineated by `quotechar`:\n",
      "\n",
      ">>> s = StringIO('\"alpha, #42\", 10.0\\n\"beta, #64\", 2.0\\n')\n",
      ">>> dtype = np.dtype([(\"label\", \"U12\"), (\"value\", float)])\n",
      ">>> np.loadtxt(s, dtype=dtype, delimiter=\",\", quotechar='\"')\n",
      "array([('alpha, #42', 10.), ('beta, #64',  2.)],\n",
      "      dtype=[('label', '<U12'), ('value', '<f8')])\n",
      "\n",
      "Quoted fields can be separated by multiple whitespace characters:\n",
      "\n",
      ">>> s = StringIO('\"alpha, #42\"       10.0\\n\"beta, #64\" 2.0\\n')\n",
      ">>> dtype = np.dtype([(\"label\", \"U12\"), (\"value\", float)])\n",
      ">>> np.loadtxt(s, dtype=dtype, delimiter=None, quotechar='\"')\n",
      "array([('alpha, #42', 10.), ('beta, #64',  2.)],\n",
      "      dtype=[('label', '<U12'), ('value', '<f8')])\n",
      "\n",
      "Two consecutive quote characters within a quoted field are treated as a\n",
      "single escaped character:\n",
      "\n",
      ">>> s = StringIO('\"Hello, my name is \"\"Monty\"\"!\"')\n",
      ">>> np.loadtxt(s, dtype=\"U\", delimiter=\",\", quotechar='\"')\n",
      "array('Hello, my name is \"Monty\"!', dtype='<U26')\n",
      "\n",
      "Read subset of columns when all rows do not contain equal number of values:\n",
      "\n",
      ">>> d = StringIO(\"1 2\\n2 4\\n3 9 12\\n4 16 20\")\n",
      ">>> np.loadtxt(d, usecols=(0, 1))\n",
      "array([[ 1.,  2.],\n",
      "       [ 2.,  4.],\n",
      "       [ 3.,  9.],\n",
      "       [ 4., 16.]])\n",
      "\u001b[31mFile:\u001b[39m      /workspaces/.venv/lib/python3.12/site-packages/numpy/lib/_npyio_impl.py\n",
      "\u001b[31mType:\u001b[39m      function"
     ]
    }
   ],
   "source": [
    "np.loadtxt?"
   ]
  },
  {
   "cell_type": "markdown",
   "id": "5439a713",
   "metadata": {},
   "source": [
    "With the related `np.savetxt` function, we can save data as a text file:\n"
   ]
  },
  {
   "cell_type": "code",
   "execution_count": 162,
   "id": "bdbad05c",
   "metadata": {},
   "outputs": [
    {
     "name": "stdout",
     "output_type": "stream",
     "text": [
      "\u001b[31mSignature:\u001b[39m      \n",
      "np.savetxt(\n",
      "    fname,\n",
      "    X,\n",
      "    fmt=\u001b[33m'%.18e'\u001b[39m,\n",
      "    delimiter=\u001b[33m' '\u001b[39m,\n",
      "    newline=\u001b[33m'\\n'\u001b[39m,\n",
      "    header=\u001b[33m''\u001b[39m,\n",
      "    footer=\u001b[33m''\u001b[39m,\n",
      "    comments=\u001b[33m'# '\u001b[39m,\n",
      "    encoding=\u001b[38;5;28;01mNone\u001b[39;00m,\n",
      ")\n",
      "\u001b[31mCall signature:\u001b[39m  np.savetxt(*args, **kwargs)\n",
      "\u001b[31mType:\u001b[39m            _ArrayFunctionDispatcher\n",
      "\u001b[31mString form:\u001b[39m     <function savetxt at 0x7bda88556340>\n",
      "\u001b[31mFile:\u001b[39m            /workspaces/.venv/lib/python3.12/site-packages/numpy/lib/_npyio_impl.py\n",
      "\u001b[31mDocstring:\u001b[39m      \n",
      "Save an array to a text file.\n",
      "\n",
      "Parameters\n",
      "----------\n",
      "fname : filename, file handle or pathlib.Path\n",
      "    If the filename ends in ``.gz``, the file is automatically saved in\n",
      "    compressed gzip format.  `loadtxt` understands gzipped files\n",
      "    transparently.\n",
      "X : 1D or 2D array_like\n",
      "    Data to be saved to a text file.\n",
      "fmt : str or sequence of strs, optional\n",
      "    A single format (%10.5f), a sequence of formats, or a\n",
      "    multi-format string, e.g. 'Iteration %d -- %10.5f', in which\n",
      "    case `delimiter` is ignored. For complex `X`, the legal options\n",
      "    for `fmt` are:\n",
      "\n",
      "    * a single specifier, ``fmt='%.4e'``, resulting in numbers formatted\n",
      "      like ``' (%s+%sj)' % (fmt, fmt)``\n",
      "    * a full string specifying every real and imaginary part, e.g.\n",
      "      ``' %.4e %+.4ej %.4e %+.4ej %.4e %+.4ej'`` for 3 columns\n",
      "    * a list of specifiers, one per column - in this case, the real\n",
      "      and imaginary part must have separate specifiers,\n",
      "      e.g. ``['%.3e + %.3ej', '(%.15e%+.15ej)']`` for 2 columns\n",
      "delimiter : str, optional\n",
      "    String or character separating columns.\n",
      "newline : str, optional\n",
      "    String or character separating lines.\n",
      "\n",
      "    .. versionadded:: 1.5.0\n",
      "header : str, optional\n",
      "    String that will be written at the beginning of the file.\n",
      "\n",
      "    .. versionadded:: 1.7.0\n",
      "footer : str, optional\n",
      "    String that will be written at the end of the file.\n",
      "\n",
      "    .. versionadded:: 1.7.0\n",
      "comments : str, optional\n",
      "    String that will be prepended to the ``header`` and ``footer`` strings,\n",
      "    to mark them as comments. Default: '# ',  as expected by e.g.\n",
      "    ``numpy.loadtxt``.\n",
      "\n",
      "    .. versionadded:: 1.7.0\n",
      "encoding : {None, str}, optional\n",
      "    Encoding used to encode the outputfile. Does not apply to output\n",
      "    streams. If the encoding is something other than 'bytes' or 'latin1'\n",
      "    you will not be able to load the file in NumPy versions < 1.14. Default\n",
      "    is 'latin1'.\n",
      "\n",
      "    .. versionadded:: 1.14.0\n",
      "\n",
      "\n",
      "See Also\n",
      "--------\n",
      "save : Save an array to a binary file in NumPy ``.npy`` format\n",
      "savez : Save several arrays into an uncompressed ``.npz`` archive\n",
      "savez_compressed : Save several arrays into a compressed ``.npz`` archive\n",
      "\n",
      "Notes\n",
      "-----\n",
      "Further explanation of the `fmt` parameter\n",
      "(``%[flag]width[.precision]specifier``):\n",
      "\n",
      "flags:\n",
      "    ``-`` : left justify\n",
      "\n",
      "    ``+`` : Forces to precede result with + or -.\n",
      "\n",
      "    ``0`` : Left pad the number with zeros instead of space (see width).\n",
      "\n",
      "width:\n",
      "    Minimum number of characters to be printed. The value is not truncated\n",
      "    if it has more characters.\n",
      "\n",
      "precision:\n",
      "    - For integer specifiers (eg. ``d,i,o,x``), the minimum number of\n",
      "      digits.\n",
      "    - For ``e, E`` and ``f`` specifiers, the number of digits to print\n",
      "      after the decimal point.\n",
      "    - For ``g`` and ``G``, the maximum number of significant digits.\n",
      "    - For ``s``, the maximum number of characters.\n",
      "\n",
      "specifiers:\n",
      "    ``c`` : character\n",
      "\n",
      "    ``d`` or ``i`` : signed decimal integer\n",
      "\n",
      "    ``e`` or ``E`` : scientific notation with ``e`` or ``E``.\n",
      "\n",
      "    ``f`` : decimal floating point\n",
      "\n",
      "    ``g,G`` : use the shorter of ``e,E`` or ``f``\n",
      "\n",
      "    ``o`` : signed octal\n",
      "\n",
      "    ``s`` : string of characters\n",
      "\n",
      "    ``u`` : unsigned decimal integer\n",
      "\n",
      "    ``x,X`` : unsigned hexadecimal integer\n",
      "\n",
      "This explanation of ``fmt`` is not complete, for an exhaustive\n",
      "specification see [1]_.\n",
      "\n",
      "References\n",
      "----------\n",
      ".. [1] `Format Specification Mini-Language\n",
      "       <https://docs.python.org/library/string.html#format-specification-mini-language>`_,\n",
      "       Python Documentation.\n",
      "\n",
      "Examples\n",
      "--------\n",
      ">>> import numpy as np\n",
      ">>> x = y = z = np.arange(0.0,5.0,1.0)\n",
      ">>> np.savetxt('test.out', x, delimiter=',')   # X is an array\n",
      ">>> np.savetxt('test.out', (x,y,z))   # x,y,z equal sized 1D arrays\n",
      ">>> np.savetxt('test.out', x, fmt='%1.4e')   # use exponential notation\n",
      "\u001b[31mClass docstring:\u001b[39m\n",
      "Class to wrap functions with checks for __array_function__ overrides.\n",
      "\n",
      "All arguments are required, and can only be passed by position.\n",
      "\n",
      "Parameters\n",
      "----------\n",
      "dispatcher : function or None\n",
      "    The dispatcher function that returns a single sequence-like object\n",
      "    of all arguments relevant.  It must have the same signature (except\n",
      "    the default values) as the actual implementation.\n",
      "    If ``None``, this is a ``like=`` dispatcher and the\n",
      "    ``_ArrayFunctionDispatcher`` must be called with ``like`` as the\n",
      "    first (additional and positional) argument.\n",
      "implementation : function\n",
      "    Function that implements the operation on NumPy arrays without\n",
      "    overrides.  Arguments passed calling the ``_ArrayFunctionDispatcher``\n",
      "    will be forwarded to this (and the ``dispatcher``) as if using\n",
      "    ``*args, **kwargs``.\n",
      "\n",
      "Attributes\n",
      "----------\n",
      "_implementation : function\n",
      "    The original implementation passed in."
     ]
    }
   ],
   "source": [
    "np.savetxt?"
   ]
  },
  {
   "cell_type": "markdown",
   "id": "2349cd48",
   "metadata": {},
   "source": [
    "#### Caching computations with `numpy.save`\n",
    "\n",
    "The `numpy.loadtxt` and `numpy.savetxt` functions work with text files.  \n",
    "However, if you just want to temporarily store a NumPy array—for example, the result of a long numerical computation—you can save it as a `.npy` binary file using `numpy.save`:\n"
   ]
  },
  {
   "cell_type": "code",
   "execution_count": 163,
   "id": "51f907ea",
   "metadata": {},
   "outputs": [
    {
     "name": "stdout",
     "output_type": "stream",
     "text": [
      "[0.51488911 0.94459476 0.58655504 0.90340192 0.1374747  0.13927635\n",
      " 0.80739129 0.39767684 0.1653542  0.92750858]\n"
     ]
    }
   ],
   "source": [
    "result = np.random.random(10)\n",
    "\n",
    "print(result)\n",
    "\n",
    "np.save('data/numpy/result.npy', result)"
   ]
  },
  {
   "cell_type": "markdown",
   "id": "e0f61cb2",
   "metadata": {},
   "source": [
    "Instead of having to repeat the computation each time, you can simply load the cached result with `numpy.load`:\n"
   ]
  },
  {
   "cell_type": "code",
   "execution_count": 164,
   "id": "d2b26a52",
   "metadata": {},
   "outputs": [
    {
     "name": "stdout",
     "output_type": "stream",
     "text": [
      "[0.51488911 0.94459476 0.58655504 0.90340192 0.1374747  0.13927635\n",
      " 0.80739129 0.39767684 0.1653542  0.92750858]\n"
     ]
    }
   ],
   "source": [
    "result = np.load('data/numpy/result.npy')\n",
    "print(result)"
   ]
  },
  {
   "cell_type": "markdown",
   "id": "5a6093a2",
   "metadata": {},
   "source": [
    "> **Note:** This approach can save a lot of time while working on parts of your program that do not involve the numerical computation itself, such as generating graphical output (plots).\n"
   ]
  },
  {
   "cell_type": "markdown",
   "id": "35804146",
   "metadata": {},
   "source": [
    "## Advanced Indexing\n",
    "\n",
    "NumPy provides indexing methods that go beyond the standard indexing techniques known from regular Python sequences.\n"
   ]
  },
  {
   "cell_type": "markdown",
   "id": "8f238c07",
   "metadata": {},
   "source": [
    "### Multidimensional Indexing\n",
    "\n",
    "You can use a colon to select all values from that dimension.\n"
   ]
  },
  {
   "cell_type": "code",
   "execution_count": 165,
   "id": "5eaaab7d",
   "metadata": {},
   "outputs": [
    {
     "data": {
      "text/plain": [
       "array([[ 0,  1,  2,  3,  4,  5,  6,  7,  8],\n",
       "       [ 9, 10, 11, 12, 13, 14, 15, 16, 17],\n",
       "       [18, 19, 20, 21, 22, 23, 24, 25, 26],\n",
       "       [27, 28, 29, 30, 31, 32, 33, 34, 35],\n",
       "       [36, 37, 38, 39, 40, 41, 42, 43, 44],\n",
       "       [45, 46, 47, 48, 49, 50, 51, 52, 53],\n",
       "       [54, 55, 56, 57, 58, 59, 60, 61, 62],\n",
       "       [63, 64, 65, 66, 67, 68, 69, 70, 71],\n",
       "       [72, 73, 74, 75, 76, 77, 78, 79, 80]])"
      ]
     },
     "execution_count": 165,
     "metadata": {},
     "output_type": "execute_result"
    }
   ],
   "source": [
    "large_two_dim_arr = np.arange(81).reshape((9, 9))\n",
    "large_two_dim_arr"
   ]
  },
  {
   "cell_type": "code",
   "execution_count": 166,
   "id": "23dad295",
   "metadata": {},
   "outputs": [
    {
     "data": {
      "text/plain": [
       "array([ 1, 10, 19, 28, 37, 46, 55, 64, 73])"
      ]
     },
     "execution_count": 166,
     "metadata": {},
     "output_type": "execute_result"
    }
   ],
   "source": [
    "large_two_dim_arr[:, 1]"
   ]
  },
  {
   "cell_type": "markdown",
   "id": "9061393e",
   "metadata": {},
   "source": [
    "Standard slicing with `(start, stop, step)` works as expected.\n"
   ]
  },
  {
   "cell_type": "code",
   "execution_count": 167,
   "id": "2ab717b1",
   "metadata": {},
   "outputs": [
    {
     "data": {
      "text/plain": [
       "array([[ 1,  2],\n",
       "       [10, 11],\n",
       "       [19, 20],\n",
       "       [28, 29],\n",
       "       [37, 38],\n",
       "       [46, 47],\n",
       "       [55, 56],\n",
       "       [64, 65],\n",
       "       [73, 74]])"
      ]
     },
     "execution_count": 167,
     "metadata": {},
     "output_type": "execute_result"
    }
   ],
   "source": [
    "large_two_dim_arr[:, 1:3]"
   ]
  },
  {
   "cell_type": "code",
   "execution_count": 168,
   "id": "7f919f5b",
   "metadata": {},
   "outputs": [
    {
     "data": {
      "text/plain": [
       "array([[ 2,  4,  6],\n",
       "       [11, 13, 15],\n",
       "       [20, 22, 24],\n",
       "       [29, 31, 33],\n",
       "       [38, 40, 42],\n",
       "       [47, 49, 51],\n",
       "       [56, 58, 60],\n",
       "       [65, 67, 69],\n",
       "       [74, 76, 78]])"
      ]
     },
     "execution_count": 168,
     "metadata": {},
     "output_type": "execute_result"
    }
   ],
   "source": [
    "large_two_dim_arr[:, 2:7:2]"
   ]
  },
  {
   "cell_type": "markdown",
   "id": "b920912b",
   "metadata": {},
   "source": [
    "Slices of an array are always `views`.  \n",
    "This means you are “looking at” the same part of the array from a different perspective.  \n",
    "This saves a lot of memory, but it also means that modifying the view will change the original array.\n"
   ]
  },
  {
   "cell_type": "code",
   "execution_count": 169,
   "id": "03ff6ccd",
   "metadata": {},
   "outputs": [
    {
     "data": {
      "text/plain": [
       "array([[ 0,  0,  2,  3,  4,  5,  6,  7,  8],\n",
       "       [ 9,  0, 11, 12, 13, 14, 15, 16, 17],\n",
       "       [18,  0, 20, 21, 22, 23, 24, 25, 26],\n",
       "       [27,  0, 29, 30, 31, 32, 33, 34, 35],\n",
       "       [36,  0, 38, 39, 40, 41, 42, 43, 44],\n",
       "       [45,  0, 47, 48, 49, 50, 51, 52, 53],\n",
       "       [54,  0, 56, 57, 58, 59, 60, 61, 62],\n",
       "       [63,  0, 65, 66, 67, 68, 69, 70, 71],\n",
       "       [72,  0, 74, 75, 76, 77, 78, 79, 80]])"
      ]
     },
     "execution_count": 169,
     "metadata": {},
     "output_type": "execute_result"
    }
   ],
   "source": [
    "arr_slice = large_two_dim_arr[:, 1]\n",
    "arr_slice[:] = 0\n",
    "large_two_dim_arr"
   ]
  },
  {
   "cell_type": "code",
   "execution_count": 170,
   "id": "2fee5b98",
   "metadata": {},
   "outputs": [
    {
     "data": {
      "text/plain": [
       "array([[ 0,  0,  0,  3,  4,  5,  6,  7,  8],\n",
       "       [ 9,  0,  0, 12, 13, 14, 15, 16, 17],\n",
       "       [18,  0,  0, 21, 22, 23, 24, 25, 26],\n",
       "       [27,  0,  0, 30, 31, 32, 33, 34, 35],\n",
       "       [36,  0,  0, 39, 40, 41, 42, 43, 44],\n",
       "       [45,  0,  0, 48, 49, 50, 51, 52, 53],\n",
       "       [54,  0,  0, 57, 58, 59, 60, 61, 62],\n",
       "       [63,  0,  0, 66, 67, 68, 69, 70, 71],\n",
       "       [72,  0,  0, 75, 76, 77, 78, 79, 80]])"
      ]
     },
     "execution_count": 170,
     "metadata": {},
     "output_type": "execute_result"
    }
   ],
   "source": [
    "large_two_dim_arr[:, 2] = 0\n",
    "large_two_dim_arr"
   ]
  },
  {
   "cell_type": "code",
   "execution_count": 171,
   "id": "8072d199",
   "metadata": {},
   "outputs": [
    {
     "data": {
      "text/plain": [
       "array([[ 0,  0,  0,  3,  4,  5,  6,  7,  8],\n",
       "       [ 9,  0,  0, 12, 13, 14, 15, 16, 17],\n",
       "       [18,  0,  0, 21, 22, 23, 24, 25, 26],\n",
       "       [27,  0,  0, 30, 31, 32, 33, 34, 35],\n",
       "       [36,  0,  0, 39, 40, 41, 42, 43, 44],\n",
       "       [45,  0,  0, 48, 49, 50, 51, 52, 53],\n",
       "       [54,  0,  0, 57, 58, 59, 60, 61, 62],\n",
       "       [63,  0,  0, 66, 67, 68, 69, 70, 71],\n",
       "       [72,  0,  0, 75, 76, 77, 78, 79, 80]])"
      ]
     },
     "execution_count": 171,
     "metadata": {},
     "output_type": "execute_result"
    }
   ],
   "source": [
    "l2 = np.copy(large_two_dim_arr)\n",
    "l2[:, 6] = 0\n",
    "large_two_dim_arr"
   ]
  },
  {
   "cell_type": "code",
   "execution_count": 172,
   "id": "8a359610",
   "metadata": {},
   "outputs": [
    {
     "data": {
      "text/plain": [
       "array([[ 0,  0,  0,  3,  4,  5,  0,  7,  8],\n",
       "       [ 9,  0,  0, 12, 13, 14,  0, 16, 17],\n",
       "       [18,  0,  0, 21, 22, 23,  0, 25, 26],\n",
       "       [27,  0,  0, 30, 31, 32,  0, 34, 35],\n",
       "       [36,  0,  0, 39, 40, 41,  0, 43, 44],\n",
       "       [45,  0,  0, 48, 49, 50,  0, 52, 53],\n",
       "       [54,  0,  0, 57, 58, 59,  0, 61, 62],\n",
       "       [63,  0,  0, 66, 67, 68,  0, 70, 71],\n",
       "       [72,  0,  0, 75, 76, 77,  0, 79, 80]])"
      ]
     },
     "execution_count": 172,
     "metadata": {},
     "output_type": "execute_result"
    }
   ],
   "source": [
    "l2"
   ]
  },
  {
   "cell_type": "markdown",
   "id": "49c5dc6b",
   "metadata": {},
   "source": [
    "If you need all values from several consecutive dimensions, you can use an ellipsis (`...`) as a shorthand.\n"
   ]
  },
  {
   "cell_type": "code",
   "execution_count": 173,
   "id": "69044a4e",
   "metadata": {},
   "outputs": [
    {
     "name": "stdout",
     "output_type": "stream",
     "text": [
      "Ellipsis\n"
     ]
    }
   ],
   "source": [
    "# Ellipsis is an actual Python object.\n",
    "print(...)"
   ]
  },
  {
   "cell_type": "code",
   "execution_count": 174,
   "id": "02015bc0",
   "metadata": {},
   "outputs": [
    {
     "data": {
      "text/plain": [
       "array([[[[1., 1., 1.],\n",
       "         [1., 1., 1.],\n",
       "         [1., 1., 1.]],\n",
       "\n",
       "        [[1., 1., 1.],\n",
       "         [1., 1., 1.],\n",
       "         [1., 1., 1.]],\n",
       "\n",
       "        [[1., 1., 1.],\n",
       "         [1., 1., 1.],\n",
       "         [1., 1., 1.]]],\n",
       "\n",
       "\n",
       "       [[[2., 2., 2.],\n",
       "         [2., 2., 2.],\n",
       "         [2., 2., 2.]],\n",
       "\n",
       "        [[2., 2., 2.],\n",
       "         [2., 2., 2.],\n",
       "         [2., 2., 2.]],\n",
       "\n",
       "        [[2., 2., 2.],\n",
       "         [2., 2., 2.],\n",
       "         [2., 2., 2.]]],\n",
       "\n",
       "\n",
       "       [[[3., 3., 3.],\n",
       "         [3., 3., 3.],\n",
       "         [3., 3., 3.]],\n",
       "\n",
       "        [[3., 3., 3.],\n",
       "         [3., 3., 3.],\n",
       "         [3., 3., 3.]],\n",
       "\n",
       "        [[3., 3., 3.],\n",
       "         [3., 3., 3.],\n",
       "         [3., 3., 3.]]],\n",
       "\n",
       "\n",
       "       [[[4., 4., 4.],\n",
       "         [4., 4., 4.],\n",
       "         [4., 4., 4.]],\n",
       "\n",
       "        [[4., 4., 4.],\n",
       "         [4., 4., 4.],\n",
       "         [4., 4., 4.]],\n",
       "\n",
       "        [[4., 4., 4.],\n",
       "         [4., 4., 4.],\n",
       "         [4., 4., 4.]]]])"
      ]
     },
     "execution_count": 174,
     "metadata": {},
     "output_type": "execute_result"
    }
   ],
   "source": [
    "# np.stack joins arrays along a new axis.\n",
    "four_dim_arr = np.stack((\n",
    "    np.ones((3, 3, 3)), \n",
    "    np.ones((3, 3, 3)) * 2, \n",
    "    np.ones((3, 3, 3)) * 3, \n",
    "    np.ones((3, 3, 3)) * 4\n",
    "))\n",
    "four_dim_arr"
   ]
  },
  {
   "cell_type": "code",
   "execution_count": 175,
   "id": "a36e27eb",
   "metadata": {},
   "outputs": [
    {
     "data": {
      "text/plain": [
       "(4, 3, 3, 3)"
      ]
     },
     "execution_count": 175,
     "metadata": {},
     "output_type": "execute_result"
    }
   ],
   "source": [
    "four_dim_arr.shape"
   ]
  },
  {
   "cell_type": "code",
   "execution_count": 176,
   "id": "adcb2b1f",
   "metadata": {},
   "outputs": [
    {
     "data": {
      "text/plain": [
       "array([[[4., 4., 4.],\n",
       "        [4., 4., 4.],\n",
       "        [4., 4., 4.]],\n",
       "\n",
       "       [[4., 4., 4.],\n",
       "        [4., 4., 4.],\n",
       "        [4., 4., 4.]],\n",
       "\n",
       "       [[4., 4., 4.],\n",
       "        [4., 4., 4.],\n",
       "        [4., 4., 4.]]])"
      ]
     },
     "execution_count": 176,
     "metadata": {},
     "output_type": "execute_result"
    }
   ],
   "source": [
    "four_dim_arr[3, :, :, :]"
   ]
  },
  {
   "cell_type": "code",
   "execution_count": 177,
   "id": "795bd6c6",
   "metadata": {},
   "outputs": [
    {
     "data": {
      "text/plain": [
       "array([[2., 2., 2.],\n",
       "       [2., 2., 2.],\n",
       "       [2., 2., 2.]])"
      ]
     },
     "execution_count": 177,
     "metadata": {},
     "output_type": "execute_result"
    }
   ],
   "source": [
    "four_dim_arr[1,..., 1]"
   ]
  },
  {
   "cell_type": "code",
   "execution_count": 178,
   "id": "fd093f8b",
   "metadata": {},
   "outputs": [
    {
     "data": {
      "text/plain": [
       "array([[[1., 1., 1.],\n",
       "        [1., 1., 1.],\n",
       "        [1., 1., 1.]],\n",
       "\n",
       "       [[2., 2., 2.],\n",
       "        [2., 2., 2.],\n",
       "        [2., 2., 2.]],\n",
       "\n",
       "       [[3., 3., 3.],\n",
       "        [3., 3., 3.],\n",
       "        [3., 3., 3.]],\n",
       "\n",
       "       [[4., 4., 4.],\n",
       "        [4., 4., 4.],\n",
       "        [4., 4., 4.]]])"
      ]
     },
     "execution_count": 178,
     "metadata": {},
     "output_type": "execute_result"
    }
   ],
   "source": [
    "four_dim_arr[..., 1]"
   ]
  },
  {
   "cell_type": "markdown",
   "id": "2a57f153",
   "metadata": {},
   "source": [
    "### Fancy Indexing\n",
    "\n",
    "You can pass an array of indices, which is especially useful for selecting random elements from an array.\n"
   ]
  },
  {
   "cell_type": "code",
   "execution_count": 179,
   "id": "bb371345",
   "metadata": {},
   "outputs": [
    {
     "data": {
      "text/plain": [
       "array([10, 11, 12, 13, 14, 15, 16, 17, 18])"
      ]
     },
     "execution_count": 179,
     "metadata": {},
     "output_type": "execute_result"
    }
   ],
   "source": [
    "arr = np.arange(9) + 10\n",
    "arr"
   ]
  },
  {
   "cell_type": "code",
   "execution_count": 180,
   "id": "06fd05bd",
   "metadata": {},
   "outputs": [
    {
     "data": {
      "text/plain": [
       "array([11, 14, 15])"
      ]
     },
     "execution_count": 180,
     "metadata": {},
     "output_type": "execute_result"
    }
   ],
   "source": [
    "indices = np.array([1, 4, 5])\n",
    "arr[indices]"
   ]
  },
  {
   "cell_type": "markdown",
   "id": "a85cfb13",
   "metadata": {},
   "source": [
    "The resulting array will reflect the shape of the index array.\n"
   ]
  },
  {
   "cell_type": "code",
   "execution_count": 181,
   "id": "ec476f73",
   "metadata": {},
   "outputs": [
    {
     "data": {
      "text/plain": [
       "array([[11, 14],\n",
       "       [15, 17]])"
      ]
     },
     "execution_count": 181,
     "metadata": {},
     "output_type": "execute_result"
    }
   ],
   "source": [
    "indices = np.array([[1, 4], [5, 7]])\n",
    "arr[indices]"
   ]
  },
  {
   "cell_type": "markdown",
   "id": "0f9864f1",
   "metadata": {},
   "source": [
    "You can index each dimension separately.\n"
   ]
  },
  {
   "cell_type": "code",
   "execution_count": 182,
   "id": "44667fe6",
   "metadata": {},
   "outputs": [
    {
     "data": {
      "text/plain": [
       "array([[ 0,  1,  2,  3,  4],\n",
       "       [ 5,  6,  7,  8,  9],\n",
       "       [10, 11, 12, 13, 14],\n",
       "       [15, 16, 17, 18, 19],\n",
       "       [20, 21, 22, 23, 24]])"
      ]
     },
     "execution_count": 182,
     "metadata": {},
     "output_type": "execute_result"
    }
   ],
   "source": [
    "two_dim_arr = np.arange(25).reshape(5, 5)\n",
    "two_dim_arr"
   ]
  },
  {
   "cell_type": "code",
   "execution_count": 183,
   "id": "5435dfbf",
   "metadata": {},
   "outputs": [
    {
     "data": {
      "text/plain": [
       "array([16, 22])"
      ]
     },
     "execution_count": 183,
     "metadata": {},
     "output_type": "execute_result"
    }
   ],
   "source": [
    "x_indices = np.array([3, 4])\n",
    "y_indices = np.array([1, 2])\n",
    "two_dim_arr[x_indices, y_indices] # Corresponds to indexing at [3, 1] and [4, 2]."
   ]
  },
  {
   "cell_type": "markdown",
   "id": "0840fd86",
   "metadata": {},
   "source": [
    "With `np.argsort`, you can obtain the indices that would sort an array, allowing you to sort other arrays in the same way (note that `vstack` is used here only for demonstration purposes):\n"
   ]
  },
  {
   "cell_type": "code",
   "execution_count": 184,
   "id": "d6c704e6",
   "metadata": {},
   "outputs": [
    {
     "data": {
      "text/plain": [
       "array([[ 0,  2,  0,  7,  1,  7,  9,  8,  4,  0],\n",
       "       [ 0,  4,  0, 49,  1, 49, 81, 64, 16,  0]])"
      ]
     },
     "execution_count": 184,
     "metadata": {},
     "output_type": "execute_result"
    }
   ],
   "source": [
    "a = np.random.randint(0, 10, 10)\n",
    "b = a ** 2\n",
    "np.vstack((a, b))"
   ]
  },
  {
   "cell_type": "code",
   "execution_count": 185,
   "id": "f2cc02f9",
   "metadata": {},
   "outputs": [
    {
     "data": {
      "text/plain": [
       "array([0, 2, 9, 4, 1, 8, 3, 5, 7, 6])"
      ]
     },
     "execution_count": 185,
     "metadata": {},
     "output_type": "execute_result"
    }
   ],
   "source": [
    "indices = a.argsort()\n",
    "indices"
   ]
  },
  {
   "cell_type": "code",
   "execution_count": 186,
   "id": "af003c27",
   "metadata": {},
   "outputs": [
    {
     "data": {
      "text/plain": [
       "array([[ 0,  0,  0,  1,  2,  4,  7,  7,  8,  9],\n",
       "       [ 0,  0,  0,  1,  4, 16, 49, 49, 64, 81]])"
      ]
     },
     "execution_count": 186,
     "metadata": {},
     "output_type": "execute_result"
    }
   ],
   "source": [
    "np.vstack((a[indices], b[indices]))"
   ]
  },
  {
   "cell_type": "markdown",
   "id": "ba1c93f1",
   "metadata": {},
   "source": [
    "### Advanced Masking"
   ]
  },
  {
   "cell_type": "code",
   "execution_count": 187,
   "id": "cc9f517c",
   "metadata": {},
   "outputs": [
    {
     "data": {
      "text/plain": [
       "array([1, 2, 3, 4, 5, 6])"
      ]
     },
     "execution_count": 187,
     "metadata": {},
     "output_type": "execute_result"
    }
   ],
   "source": [
    "arr = np.arange(1, 7)\n",
    "arr"
   ]
  },
  {
   "cell_type": "markdown",
   "id": "f94fa4fa",
   "metadata": {},
   "source": [
    "Different masks can be combined using bitwise logical operators.  \n",
    "These are the vectorized versions of the logical operators and should not be confused with `and`, `or`, and `not`, which evaluate the truth value of an entire object.\n"
   ]
  },
  {
   "cell_type": "code",
   "execution_count": 188,
   "id": "e15fd07f",
   "metadata": {},
   "outputs": [
    {
     "data": {
      "text/plain": [
       "array([ True,  True,  True,  True, False, False])"
      ]
     },
     "execution_count": 188,
     "metadata": {},
     "output_type": "execute_result"
    }
   ],
   "source": [
    "smaller_or_equal_four = (arr <= 4)\n",
    "smaller_or_equal_four   "
   ]
  },
  {
   "cell_type": "code",
   "execution_count": 189,
   "id": "31ded175",
   "metadata": {},
   "outputs": [
    {
     "data": {
      "text/plain": [
       "array([False, False,  True,  True,  True,  True])"
      ]
     },
     "execution_count": 189,
     "metadata": {},
     "output_type": "execute_result"
    }
   ],
   "source": [
    "greater_two = (arr > 2)\n",
    "greater_two"
   ]
  },
  {
   "cell_type": "markdown",
   "id": "d089d9fd",
   "metadata": {},
   "source": [
    "Bitwise `and` `&`.\n"
   ]
  },
  {
   "cell_type": "code",
   "execution_count": 190,
   "id": "c34bfb18",
   "metadata": {},
   "outputs": [
    {
     "data": {
      "text/plain": [
       "array([False, False,  True,  True, False, False])"
      ]
     },
     "execution_count": 190,
     "metadata": {},
     "output_type": "execute_result"
    }
   ],
   "source": [
    "greater_two & smaller_or_equal_four"
   ]
  },
  {
   "cell_type": "code",
   "execution_count": 191,
   "id": "4d2cab4c",
   "metadata": {},
   "outputs": [
    {
     "name": "stdout",
     "output_type": "stream",
     "text": [
      "ValueError: The truth value of an array with more than one element is ambiguous. Use a.any() or a.all()\n"
     ]
    }
   ],
   "source": [
    "# This does not work.\n",
    "try:\n",
    "    greater_two and smaller_or_equal_four\n",
    "except ValueError as e:\n",
    "    print(\"ValueError:\", e)"
   ]
  },
  {
   "cell_type": "code",
   "execution_count": 192,
   "id": "ebf45a3a",
   "metadata": {},
   "outputs": [
    {
     "data": {
      "text/plain": [
       "array([1, 2, 3, 4, 5, 6])"
      ]
     },
     "execution_count": 192,
     "metadata": {},
     "output_type": "execute_result"
    }
   ],
   "source": [
    "arr"
   ]
  },
  {
   "cell_type": "code",
   "execution_count": 193,
   "id": "275b93a0",
   "metadata": {},
   "outputs": [
    {
     "data": {
      "text/plain": [
       "array([3, 4])"
      ]
     },
     "execution_count": 193,
     "metadata": {},
     "output_type": "execute_result"
    }
   ],
   "source": [
    "arr[greater_two & smaller_or_equal_four]"
   ]
  },
  {
   "cell_type": "markdown",
   "id": "226f8384",
   "metadata": {},
   "source": [
    "Bitwise `or` with `|`.\n"
   ]
  },
  {
   "cell_type": "code",
   "execution_count": 194,
   "id": "c5edae36",
   "metadata": {},
   "outputs": [
    {
     "data": {
      "text/plain": [
       "array([1, 2, 3, 4, 5, 6])"
      ]
     },
     "execution_count": 194,
     "metadata": {},
     "output_type": "execute_result"
    }
   ],
   "source": [
    "arr[greater_two | smaller_or_equal_four]"
   ]
  },
  {
   "cell_type": "markdown",
   "id": "8788dfe4",
   "metadata": {},
   "source": [
    "Bitwise `xor` with `^`.\n",
    "\n"
   ]
  },
  {
   "cell_type": "code",
   "execution_count": 195,
   "id": "798edac9",
   "metadata": {},
   "outputs": [
    {
     "data": {
      "text/plain": [
       "array([1, 2, 3, 4, 5, 6])"
      ]
     },
     "execution_count": 195,
     "metadata": {},
     "output_type": "execute_result"
    }
   ],
   "source": [
    "arr"
   ]
  },
  {
   "cell_type": "code",
   "execution_count": 196,
   "id": "abc65b55",
   "metadata": {},
   "outputs": [
    {
     "data": {
      "text/plain": [
       "array([1, 2, 5, 6])"
      ]
     },
     "execution_count": 196,
     "metadata": {},
     "output_type": "execute_result"
    }
   ],
   "source": [
    "arr[greater_two ^ smaller_or_equal_four]"
   ]
  },
  {
   "cell_type": "markdown",
   "id": "9f206485",
   "metadata": {},
   "source": [
    "Bitwise negation with `~`.\n"
   ]
  },
  {
   "cell_type": "code",
   "execution_count": 197,
   "id": "94787f98",
   "metadata": {},
   "outputs": [
    {
     "data": {
      "text/plain": [
       "array([2])"
      ]
     },
     "execution_count": 197,
     "metadata": {},
     "output_type": "execute_result"
    }
   ],
   "source": [
    "arr[~((arr < 2) ^ (arr > 2))]"
   ]
  },
  {
   "cell_type": "code",
   "execution_count": 198,
   "id": "65ff7c88",
   "metadata": {},
   "outputs": [
    {
     "data": {
      "text/plain": [
       "array([1, 2])"
      ]
     },
     "execution_count": 198,
     "metadata": {},
     "output_type": "execute_result"
    }
   ],
   "source": [
    "arr[~greater_two]"
   ]
  },
  {
   "cell_type": "code",
   "execution_count": 199,
   "id": "d92ca056",
   "metadata": {},
   "outputs": [
    {
     "data": {
      "text/plain": [
       "array([2, 2, 3, 4, 5, 6])"
      ]
     },
     "execution_count": 199,
     "metadata": {},
     "output_type": "execute_result"
    }
   ],
   "source": [
    "# Gives everything smaller or equal to 2.\n",
    "arr[~greater_two] = 2\n",
    "arr"
   ]
  },
  {
   "cell_type": "markdown",
   "id": "6d0e4391",
   "metadata": {},
   "source": [
    "#### Using `np.where`\n",
    "\n",
    "Masking always modifies the original array, whereas sometimes we want the original array to remain unchanged.  \n",
    "`np.where` returns the indices of an array where the specified condition is true.\n"
   ]
  },
  {
   "cell_type": "code",
   "execution_count": 200,
   "id": "2c9ab031",
   "metadata": {},
   "outputs": [
    {
     "data": {
      "text/plain": [
       "array([[0, 1, 2],\n",
       "       [0, 4, 5],\n",
       "       [0, 7, 8]])"
      ]
     },
     "execution_count": 200,
     "metadata": {},
     "output_type": "execute_result"
    }
   ],
   "source": [
    "a = np.arange(9).reshape(3, 3)\n",
    "a[a % 3 == 0] = 0\n",
    "a"
   ]
  },
  {
   "cell_type": "code",
   "execution_count": 201,
   "id": "e3031cf6",
   "metadata": {},
   "outputs": [
    {
     "data": {
      "text/plain": [
       "(array([0, 1, 2]), array([0, 0, 0]))"
      ]
     },
     "execution_count": 201,
     "metadata": {},
     "output_type": "execute_result"
    }
   ],
   "source": [
    "a = np.arange(9).reshape(3, 3)\n",
    "indices = np.where(a % 3 == 0)\n",
    "indices"
   ]
  },
  {
   "cell_type": "code",
   "execution_count": 202,
   "id": "421da87c",
   "metadata": {},
   "outputs": [
    {
     "data": {
      "text/plain": [
       "array([[0., 1., 1.],\n",
       "       [0., 1., 1.],\n",
       "       [0., 1., 1.]])"
      ]
     },
     "execution_count": 202,
     "metadata": {},
     "output_type": "execute_result"
    }
   ],
   "source": [
    "b = np.ones((3, 3))\n",
    "b[indices] = 0\n",
    "b"
   ]
  },
  {
   "cell_type": "markdown",
   "id": "faa4f9b1",
   "metadata": {},
   "source": [
    "`where` can also be used to assign values to a new array:\n"
   ]
  },
  {
   "cell_type": "code",
   "execution_count": 203,
   "id": "52a46341",
   "metadata": {},
   "outputs": [
    {
     "data": {
      "text/plain": [
       "array([[0, 1, 2],\n",
       "       [0, 4, 5],\n",
       "       [0, 7, 8]])"
      ]
     },
     "execution_count": 203,
     "metadata": {},
     "output_type": "execute_result"
    }
   ],
   "source": [
    "np.where(a % 3 == 0, 0, a)"
   ]
  },
  {
   "cell_type": "code",
   "execution_count": 204,
   "id": "ca34c965",
   "metadata": {},
   "outputs": [
    {
     "data": {
      "text/plain": [
       "array([[0, 1, 2],\n",
       "       [3, 4, 5],\n",
       "       [6, 7, 8]])"
      ]
     },
     "execution_count": 204,
     "metadata": {},
     "output_type": "execute_result"
    }
   ],
   "source": [
    "a"
   ]
  },
  {
   "cell_type": "markdown",
   "id": "66864725",
   "metadata": {},
   "source": [
    "`np.argwhere` returns the indices grouped by element:\n"
   ]
  },
  {
   "cell_type": "code",
   "execution_count": 205,
   "id": "44f68f21",
   "metadata": {},
   "outputs": [
    {
     "data": {
      "text/plain": [
       "array([[ 0.,  0.,  0.,  0.],\n",
       "       [ 0.,  5.,  0.,  0.],\n",
       "       [ 0.,  0., 10.,  0.],\n",
       "       [ 0.,  0.,  0., 15.]])"
      ]
     },
     "execution_count": 205,
     "metadata": {},
     "output_type": "execute_result"
    }
   ],
   "source": [
    "a = np.eye(4) * np.arange(16).reshape(4,4)\n",
    "a"
   ]
  },
  {
   "cell_type": "code",
   "execution_count": 206,
   "id": "7a56cb0b",
   "metadata": {},
   "outputs": [
    {
     "data": {
      "text/plain": [
       "array([[1, 1],\n",
       "       [2, 2],\n",
       "       [3, 3]])"
      ]
     },
     "execution_count": 206,
     "metadata": {},
     "output_type": "execute_result"
    }
   ],
   "source": [
    "np.argwhere(a)"
   ]
  },
  {
   "cell_type": "code",
   "execution_count": 207,
   "id": "38045663",
   "metadata": {},
   "outputs": [
    {
     "data": {
      "text/plain": [
       "(array([1, 2, 3]), array([1, 2, 3]))"
      ]
     },
     "execution_count": 207,
     "metadata": {},
     "output_type": "execute_result"
    }
   ],
   "source": [
    "np.where(a)"
   ]
  },
  {
   "cell_type": "markdown",
   "id": "f311140c",
   "metadata": {},
   "source": [
    "## Expanding, Reducing, Combining Arrays\n",
    "\n",
    "### Adding New Dimensions with `np.newaxis`\n",
    "\n",
    "Instead of `np.newaxis`, you can also use `None`.\n"
   ]
  },
  {
   "cell_type": "code",
   "execution_count": 208,
   "id": "77f828e7",
   "metadata": {},
   "outputs": [
    {
     "data": {
      "text/plain": [
       "(array([0, 1, 2, 3, 4]), (5,))"
      ]
     },
     "execution_count": 208,
     "metadata": {},
     "output_type": "execute_result"
    }
   ],
   "source": [
    "one_dim_arr = np.arange(5)\n",
    "one_dim_arr, one_dim_arr.shape"
   ]
  },
  {
   "cell_type": "code",
   "execution_count": 209,
   "id": "cdac3b0e",
   "metadata": {},
   "outputs": [
    {
     "data": {
      "text/plain": [
       "(array([[0, 1, 2, 3, 4]]), (1, 5))"
      ]
     },
     "execution_count": 209,
     "metadata": {},
     "output_type": "execute_result"
    }
   ],
   "source": [
    "two_dim_arr = one_dim_arr[np.newaxis, :]\n",
    "two_dim_arr, two_dim_arr.shape"
   ]
  },
  {
   "cell_type": "code",
   "execution_count": 210,
   "id": "5d95a771",
   "metadata": {},
   "outputs": [
    {
     "data": {
      "text/plain": [
       "(array([[[0]],\n",
       " \n",
       "        [[1]],\n",
       " \n",
       "        [[2]],\n",
       " \n",
       "        [[3]],\n",
       " \n",
       "        [[4]]]),\n",
       " (5, 1, 1))"
      ]
     },
     "execution_count": 210,
     "metadata": {},
     "output_type": "execute_result"
    }
   ],
   "source": [
    "two_dim_arr = one_dim_arr[:, np.newaxis, None]\n",
    "two_dim_arr, two_dim_arr.shape"
   ]
  },
  {
   "cell_type": "markdown",
   "id": "3cc65cba",
   "metadata": {},
   "source": [
    "Adding new dimensions is useful, for example, when using TensorFlow for batch inputs but you want to provide a single data point for prediction:\n"
   ]
  },
  {
   "cell_type": "code",
   "execution_count": 211,
   "id": "5d55b583",
   "metadata": {},
   "outputs": [
    {
     "data": {
      "text/plain": [
       "array([[0],\n",
       "       [1],\n",
       "       [2],\n",
       "       [3],\n",
       "       [4]])"
      ]
     },
     "execution_count": 211,
     "metadata": {},
     "output_type": "execute_result"
    }
   ],
   "source": [
    "one_dim_arr[:, None]"
   ]
  },
  {
   "cell_type": "markdown",
   "id": "0c1c6060",
   "metadata": {},
   "source": [
    "### Removing Dimensions\n",
    "\n",
    "`arr.squeeze()` removes dimensions of size 1:\n"
   ]
  },
  {
   "cell_type": "code",
   "execution_count": 212,
   "id": "ac86082c",
   "metadata": {},
   "outputs": [
    {
     "data": {
      "text/plain": [
       "(array([[0, 1, 2, 3, 4]]), (1, 5))"
      ]
     },
     "execution_count": 212,
     "metadata": {},
     "output_type": "execute_result"
    }
   ],
   "source": [
    "one_dim_arr = np.arange(5)\n",
    "two_dim_arr = one_dim_arr[np.newaxis, :]\n",
    "two_dim_arr, two_dim_arr.shape"
   ]
  },
  {
   "cell_type": "code",
   "execution_count": 213,
   "id": "4bb06d50",
   "metadata": {},
   "outputs": [
    {
     "data": {
      "text/plain": [
       "(array([0, 1, 2, 3, 4]), (5,))"
      ]
     },
     "execution_count": 213,
     "metadata": {},
     "output_type": "execute_result"
    }
   ],
   "source": [
    "two_dim_arr.squeeze(), two_dim_arr.squeeze().shape"
   ]
  },
  {
   "cell_type": "code",
   "execution_count": 214,
   "id": "4288caf3",
   "metadata": {},
   "outputs": [
    {
     "data": {
      "text/plain": [
       "array([[[[0]],\n",
       "\n",
       "        [[1]],\n",
       "\n",
       "        [[2]],\n",
       "\n",
       "        [[3]],\n",
       "\n",
       "        [[4]]]])"
      ]
     },
     "execution_count": 214,
     "metadata": {},
     "output_type": "execute_result"
    }
   ],
   "source": [
    "a = np.arange(5).reshape(1, -1, 1, 1)\n",
    "a"
   ]
  },
  {
   "cell_type": "code",
   "execution_count": 215,
   "id": "216d450a",
   "metadata": {},
   "outputs": [
    {
     "data": {
      "text/plain": [
       "array([0, 1, 2, 3, 4])"
      ]
     },
     "execution_count": 215,
     "metadata": {},
     "output_type": "execute_result"
    }
   ],
   "source": [
    "a.squeeze()"
   ]
  },
  {
   "cell_type": "markdown",
   "id": "c32b5520",
   "metadata": {},
   "source": [
    "### Combining Arrays\n",
    "\n",
    "There are many ways to combine existing arrays, such as `np.append`, `np.concatenate`, and `np.stack`.  \n",
    "However, these operations always require copying the entire array.  \n",
    "Therefore, it is often more efficient to allocate an array in the required final size beforehand and then fill in only the necessary parts.\n"
   ]
  },
  {
   "cell_type": "code",
   "execution_count": 216,
   "id": "246991bc",
   "metadata": {},
   "outputs": [
    {
     "data": {
      "text/plain": [
       "array([0, 1, 2, 3, 4, 5, 6, 7, 8, 9, 9, 8, 7, 6, 5, 4, 3, 2, 1, 0])"
      ]
     },
     "execution_count": 216,
     "metadata": {},
     "output_type": "execute_result"
    }
   ],
   "source": [
    "np.concatenate((np.arange(10), np.arange(10)[::-1]))"
   ]
  },
  {
   "cell_type": "markdown",
   "id": "027c0bc1",
   "metadata": {},
   "source": [
    "A quick and easy way to combine scalars and arrays is to use `np.r_`, with the desired arrays, lists, or numbers inside square brackets:\n"
   ]
  },
  {
   "cell_type": "code",
   "execution_count": 217,
   "id": "9de42c97",
   "metadata": {},
   "outputs": [
    {
     "data": {
      "text/plain": [
       "array([2, 2, 2, 0, 1, 2, 3, 4, 5, 6, 7, 8, 9, 9, 8, 7, 6, 5, 4, 3, 2, 1,\n",
       "       0, 0, 1, 2])"
      ]
     },
     "execution_count": 217,
     "metadata": {},
     "output_type": "execute_result"
    }
   ],
   "source": [
    "np.r_[2, 2, 2, np.arange(10), np.arange(10)[::-1], [0, 1, 2]]"
   ]
  },
  {
   "cell_type": "markdown",
   "id": "2a210cc2",
   "metadata": {},
   "source": [
    "`np.append` internally uses concatenation:\n"
   ]
  },
  {
   "cell_type": "code",
   "execution_count": 218,
   "id": "d1f5171a",
   "metadata": {},
   "outputs": [
    {
     "data": {
      "text/plain": [
       "array([0, 1, 2, 3, 4, 5, 6, 7, 8, 9, 0, 1, 2, 3, 4, 5, 6, 7, 8, 9])"
      ]
     },
     "execution_count": 218,
     "metadata": {},
     "output_type": "execute_result"
    }
   ],
   "source": [
    "np.append(np.arange(10), np.arange(10))"
   ]
  },
  {
   "cell_type": "markdown",
   "id": "c6330396",
   "metadata": {},
   "source": [
    "For higher-dimensional arrays, other functions are more appropriate:"
   ]
  },
  {
   "cell_type": "code",
   "execution_count": 219,
   "id": "4c1ba44b",
   "metadata": {},
   "outputs": [
    {
     "data": {
      "text/plain": [
       "array([[0, 1, 2, 3, 4, 5, 6, 7, 8, 9],\n",
       "       [0, 1, 2, 3, 4, 5, 6, 7, 8, 9]])"
      ]
     },
     "execution_count": 219,
     "metadata": {},
     "output_type": "execute_result"
    }
   ],
   "source": [
    "np.stack((np.arange(10), np.arange(10)))"
   ]
  },
  {
   "cell_type": "markdown",
   "id": "1861b2a8",
   "metadata": {},
   "source": [
    "There are also the functions `np.vstack` (stacking by rows) and `np.hstack` (stacking by columns):  \n",
    "\n",
    "* `hstack` is equivalent to concatenation along the second axis, except for 1-D arrays, where it concatenates along the first axis.  \n",
    "* `vstack` is equivalent to concatenation along the first axis, after reshaping 1-D arrays from shape `(N,)` to `(1, N)`.\n"
   ]
  },
  {
   "cell_type": "code",
   "execution_count": 220,
   "id": "ed87aaa2",
   "metadata": {},
   "outputs": [
    {
     "data": {
      "text/plain": [
       "(array([[ 0,  1,  2,  3],\n",
       "        [ 4,  5,  6,  7],\n",
       "        [ 8,  9, 10, 11],\n",
       "        [12, 13, 14, 15]]),\n",
       " array([[16, 17, 18, 19],\n",
       "        [20, 21, 22, 23],\n",
       "        [24, 25, 26, 27],\n",
       "        [28, 29, 30, 31]]))"
      ]
     },
     "execution_count": 220,
     "metadata": {},
     "output_type": "execute_result"
    }
   ],
   "source": [
    "two_dim_arr = np.arange(16).reshape(4, -1)\n",
    "two_dim_arr_2 = np.arange(16).reshape(4, -1) + 16\n",
    "two_dim_arr, two_dim_arr_2"
   ]
  },
  {
   "cell_type": "code",
   "execution_count": 221,
   "id": "2606d3e7",
   "metadata": {},
   "outputs": [
    {
     "data": {
      "text/plain": [
       "array([[ 0,  1,  2,  3, 16, 17, 18, 19],\n",
       "       [ 4,  5,  6,  7, 20, 21, 22, 23],\n",
       "       [ 8,  9, 10, 11, 24, 25, 26, 27],\n",
       "       [12, 13, 14, 15, 28, 29, 30, 31]])"
      ]
     },
     "execution_count": 221,
     "metadata": {},
     "output_type": "execute_result"
    }
   ],
   "source": [
    "np.hstack((two_dim_arr, two_dim_arr_2))"
   ]
  },
  {
   "cell_type": "code",
   "execution_count": 222,
   "id": "e552e64e",
   "metadata": {},
   "outputs": [
    {
     "data": {
      "text/plain": [
       "array([[ 0,  1,  2,  3],\n",
       "       [ 4,  5,  6,  7],\n",
       "       [ 8,  9, 10, 11],\n",
       "       [12, 13, 14, 15],\n",
       "       [16, 17, 18, 19],\n",
       "       [20, 21, 22, 23],\n",
       "       [24, 25, 26, 27],\n",
       "       [28, 29, 30, 31]])"
      ]
     },
     "execution_count": 222,
     "metadata": {},
     "output_type": "execute_result"
    }
   ],
   "source": [
    "np.vstack((two_dim_arr, two_dim_arr_2))"
   ]
  },
  {
   "cell_type": "markdown",
   "id": "5fd1c4fc",
   "metadata": {},
   "source": [
    "### Zufallsgesteuerter Zugriff mit random.seed\n",
    "\n",
    "Wenn ein Zufalls-Seed gesetzt ist, verwendet der Zufallszahlen-Generator immer wieder die gleichen Zahlen. Dies ist sehr nützlich zum Testen, aber natürlich nimmt dies jegliche Zufälligkeit aus allem heraus, so dass es nicht im endgültigen Code verwendet werden sollte:"
   ]
  },
  {
   "cell_type": "code",
   "execution_count": 223,
   "id": "03688966",
   "metadata": {},
   "outputs": [
    {
     "name": "stdout",
     "output_type": "stream",
     "text": [
      "[0.5488135  0.71518937 0.60276338 0.54488318 0.4236548 ]\n",
      "[0.5488135  0.71518937 0.60276338 0.54488318 0.4236548 ]\n",
      "[0.5488135  0.71518937 0.60276338 0.54488318 0.4236548 ]\n",
      "[0.5488135  0.71518937 0.60276338 0.54488318 0.4236548 ]\n",
      "[0.5488135  0.71518937 0.60276338 0.54488318 0.4236548 ]\n"
     ]
    }
   ],
   "source": [
    "for _ in range(5):\n",
    "    np.random.seed(0)\n",
    "    print(np.random.random(5))"
   ]
  },
  {
   "cell_type": "markdown",
   "id": "47139afb",
   "metadata": {},
   "source": [
    "To disable it, set the random seed to `None`.  \n",
    "In this case, NumPy generates random numbers using your system’s randomness source (or the system time, …).\n"
   ]
  },
  {
   "cell_type": "code",
   "execution_count": 224,
   "id": "2cf1dbe5",
   "metadata": {},
   "outputs": [
    {
     "name": "stdout",
     "output_type": "stream",
     "text": [
      "[0.60258284 0.00743434 0.47123958 0.03191451 0.93058322]\n",
      "[0.09845678 0.54235906 0.10451891 0.90807219 0.98687735]\n",
      "[0.83357324 0.8571592  0.05444303 0.7225635  0.84661718]\n",
      "[0.28018492 0.6070292  0.01711465 0.10579684 0.66800474]\n",
      "[0.47879055 0.91306722 0.30292259 0.48621762 0.43568078]\n"
     ]
    }
   ],
   "source": [
    "for _ in range(5):\n",
    "    np.random.seed(None)\n",
    "    print(np.random.random(5))"
   ]
  },
  {
   "cell_type": "markdown",
   "id": "a0856e76",
   "metadata": {},
   "source": [
    "### Shuffling Arrays\n",
    "\n",
    "`np.random.shuffle` shuffles an array along the first dimension.  \n",
    "This means a one-dimensional array is fully shuffled, while for multidimensional arrays the subarrays from the second dimension onward remain intact.\n"
   ]
  },
  {
   "cell_type": "code",
   "execution_count": 225,
   "id": "04022571",
   "metadata": {},
   "outputs": [
    {
     "data": {
      "text/plain": [
       "array([3, 5, 8, 4, 2, 1, 6, 7, 9, 0])"
      ]
     },
     "execution_count": 225,
     "metadata": {},
     "output_type": "execute_result"
    }
   ],
   "source": [
    "a = np.arange(10)\n",
    "np.random.shuffle(a)\n",
    "a"
   ]
  },
  {
   "cell_type": "code",
   "execution_count": 226,
   "id": "8bdf0b4b",
   "metadata": {},
   "outputs": [
    {
     "data": {
      "text/plain": [
       "array([[3, 4, 5],\n",
       "       [0, 1, 2],\n",
       "       [6, 7, 8]])"
      ]
     },
     "execution_count": 226,
     "metadata": {},
     "output_type": "execute_result"
    }
   ],
   "source": [
    "a = np.arange(9).reshape(3, 3)\n",
    "np.random.shuffle(a)\n",
    "a"
   ]
  },
  {
   "cell_type": "markdown",
   "id": "a73befbc",
   "metadata": {},
   "source": [
    "To shuffle the array completely, you can flatten it and then reshape it back to its original form:\n"
   ]
  },
  {
   "cell_type": "code",
   "execution_count": 227,
   "id": "9c2ab049",
   "metadata": {},
   "outputs": [
    {
     "data": {
      "text/plain": [
       "array([[0, 1, 2],\n",
       "       [3, 4, 5],\n",
       "       [6, 7, 8]])"
      ]
     },
     "execution_count": 227,
     "metadata": {},
     "output_type": "execute_result"
    }
   ],
   "source": [
    "a = np.arange(9).reshape(3, 3)\n",
    "a"
   ]
  },
  {
   "cell_type": "code",
   "execution_count": 228,
   "id": "5bb87765",
   "metadata": {},
   "outputs": [
    {
     "data": {
      "text/plain": [
       "array([[3, 2, 8],\n",
       "       [4, 5, 0],\n",
       "       [6, 1, 7]])"
      ]
     },
     "execution_count": 228,
     "metadata": {},
     "output_type": "execute_result"
    }
   ],
   "source": [
    "b = a.flatten()\n",
    "np.random.shuffle(b)\n",
    "a = b.reshape(a.shape)\n",
    "a"
   ]
  },
  {
   "cell_type": "markdown",
   "id": "25e21e8d",
   "metadata": {},
   "source": [
    "Note that `np.shuffle` shuffles the array in place.  \n",
    "To return a permuted copy instead, you would use `np.permutation`:\n"
   ]
  },
  {
   "cell_type": "code",
   "execution_count": 229,
   "id": "3fd37b39",
   "metadata": {},
   "outputs": [
    {
     "data": {
      "text/plain": [
       "array([[0, 1, 2],\n",
       "       [3, 4, 5],\n",
       "       [6, 7, 8]])"
      ]
     },
     "execution_count": 229,
     "metadata": {},
     "output_type": "execute_result"
    }
   ],
   "source": [
    "a = np.arange(9).reshape(3, 3)\n",
    "a"
   ]
  },
  {
   "cell_type": "code",
   "execution_count": 230,
   "id": "78ca8640",
   "metadata": {},
   "outputs": [
    {
     "data": {
      "text/plain": [
       "array([[3, 4, 5],\n",
       "       [6, 7, 8],\n",
       "       [0, 1, 2]])"
      ]
     },
     "execution_count": 230,
     "metadata": {},
     "output_type": "execute_result"
    }
   ],
   "source": [
    "np.random.permutation(a)"
   ]
  },
  {
   "cell_type": "code",
   "execution_count": 231,
   "id": "dcbffe97",
   "metadata": {},
   "outputs": [
    {
     "data": {
      "text/plain": [
       "array([[0, 1, 2],\n",
       "       [3, 4, 5],\n",
       "       [6, 7, 8]])"
      ]
     },
     "execution_count": 231,
     "metadata": {},
     "output_type": "execute_result"
    }
   ],
   "source": [
    "a"
   ]
  },
  {
   "cell_type": "markdown",
   "id": "4010ece5",
   "metadata": {},
   "source": [
    "If you are working with multiple arrays that you want to shuffle without breaking their alignment, it is better to shuffle the indices instead:\n"
   ]
  },
  {
   "cell_type": "code",
   "execution_count": 232,
   "id": "6e025143",
   "metadata": {},
   "outputs": [
    {
     "data": {
      "text/plain": [
       "array([[ 1,  2,  3,  4,  5,  6,  7,  8,  9],\n",
       "       [ 1,  4,  9, 16, 25, 36, 49, 64, 81]])"
      ]
     },
     "execution_count": 232,
     "metadata": {},
     "output_type": "execute_result"
    }
   ],
   "source": [
    "a = np.arange(9) + 1\n",
    "b = a ** 2\n",
    "np.vstack((a, b))"
   ]
  },
  {
   "cell_type": "code",
   "execution_count": 233,
   "id": "971b6c37",
   "metadata": {},
   "outputs": [
    {
     "data": {
      "text/plain": [
       "array([[ 8,  9,  6,  4,  5,  2,  7,  3,  1],\n",
       "       [64, 81, 36, 16, 25,  4, 49,  9,  1]])"
      ]
     },
     "execution_count": 233,
     "metadata": {},
     "output_type": "execute_result"
    }
   ],
   "source": [
    "order = np.random.permutation(a.shape[0])\n",
    "np.vstack((a[order], b[order]))"
   ]
  },
  {
   "cell_type": "markdown",
   "id": "ce5fd437",
   "metadata": {},
   "source": [
    "### np.random.choice\n",
    "\n",
    "`np.random.choice` generates a sub-array from a given 1D array:\n"
   ]
  },
  {
   "cell_type": "code",
   "execution_count": 234,
   "id": "8168b3a3",
   "metadata": {},
   "outputs": [
    {
     "data": {
      "text/plain": [
       "array([5, 8, 9, 5, 0])"
      ]
     },
     "execution_count": 234,
     "metadata": {},
     "output_type": "execute_result"
    }
   ],
   "source": [
    "np.random.seed(1)\n",
    "a = np.arange(10)\n",
    "np.random.choice(a, size=5)"
   ]
  },
  {
   "cell_type": "code",
   "execution_count": 235,
   "id": "0c46bbc9",
   "metadata": {},
   "outputs": [
    {
     "data": {
      "text/plain": [
       "array([6, 3, 9, 2, 8])"
      ]
     },
     "execution_count": 235,
     "metadata": {},
     "output_type": "execute_result"
    }
   ],
   "source": [
    "np.random.choice(a, size=5, replace=False)"
   ]
  },
  {
   "cell_type": "code",
   "execution_count": 236,
   "id": "d4f7d6bb",
   "metadata": {},
   "outputs": [
    {
     "data": {
      "text/plain": [
       "array([9, 6, 1, 0, 8])"
      ]
     },
     "execution_count": 236,
     "metadata": {},
     "output_type": "execute_result"
    }
   ],
   "source": [
    "np.random.choice(a, size=5, replace=False)"
   ]
  },
  {
   "cell_type": "markdown",
   "id": "0c75c2a5",
   "metadata": {},
   "source": [
    "You can also specify probabilities for selecting certain elements.  \n",
    "For example, to create another array in which about one quarter of the elements are `True`, you can use:\n"
   ]
  },
  {
   "cell_type": "code",
   "execution_count": 237,
   "id": "fb27a516",
   "metadata": {},
   "outputs": [
    {
     "data": {
      "text/plain": [
       "array([[False, False, False, False, False],\n",
       "       [False, False, False, False, False],\n",
       "       [False, False, False, False, False],\n",
       "       [False, False, False, False, False],\n",
       "       [False, False, False, False, False]])"
      ]
     },
     "execution_count": 237,
     "metadata": {},
     "output_type": "execute_result"
    }
   ],
   "source": [
    "np.random.choice(np.array([True, False]), size=(5, 5), p=[0.01, 0.99])"
   ]
  },
  {
   "cell_type": "markdown",
   "id": "9baea0cd",
   "metadata": {},
   "source": [
    "## NumPy `print` Options\n",
    "\n",
    "By default, NumPy prints numbers only up to a certain precision, or summarizes the output of large arrays.  \n",
    "This behavior can be modified using `np.set_printoptions`:\n"
   ]
  },
  {
   "cell_type": "code",
   "execution_count": 238,
   "id": "943312f9",
   "metadata": {},
   "outputs": [
    {
     "data": {
      "text/plain": [
       "array([[0.98886109, 0.74816565, 0.28044399],\n",
       "       [0.78927933, 0.10322601, 0.44789353],\n",
       "       [0.9085955 , 0.29361415, 0.28777534],\n",
       "       [0.13002857, 0.01936696, 0.67883553],\n",
       "       [0.21162812, 0.26554666, 0.49157316]])"
      ]
     },
     "execution_count": 238,
     "metadata": {},
     "output_type": "execute_result"
    }
   ],
   "source": [
    "rand_arr = np.random.random((5, 3))\n",
    "rand_arr"
   ]
  },
  {
   "cell_type": "code",
   "execution_count": 239,
   "id": "36f67340",
   "metadata": {},
   "outputs": [
    {
     "data": {
      "text/plain": [
       "array([[0.989, 0.748, 0.28 ],\n",
       "       [0.789, 0.103, 0.448],\n",
       "       [0.909, 0.294, 0.288],\n",
       "       [0.13 , 0.019, 0.679],\n",
       "       [0.212, 0.266, 0.492]])"
      ]
     },
     "execution_count": 239,
     "metadata": {},
     "output_type": "execute_result"
    }
   ],
   "source": [
    "np.set_printoptions(precision=3)\n",
    "rand_arr"
   ]
  },
  {
   "cell_type": "code",
   "execution_count": 240,
   "id": "e11f43e1",
   "metadata": {},
   "outputs": [
    {
     "data": {
      "text/plain": [
       "array([[9.889e-04, 7.482e-04, 2.804e-04],\n",
       "       [7.893e-04, 1.032e-04, 4.479e-04],\n",
       "       [9.086e-04, 2.936e-04, 2.878e-04],\n",
       "       [1.300e-04, 1.937e-05, 6.788e-04],\n",
       "       [2.116e-04, 2.655e-04, 4.916e-04]])"
      ]
     },
     "execution_count": 240,
     "metadata": {},
     "output_type": "execute_result"
    }
   ],
   "source": [
    "rand_arr = rand_arr / 1e3\n",
    "rand_arr"
   ]
  },
  {
   "cell_type": "code",
   "execution_count": 241,
   "id": "2829c2f8",
   "metadata": {},
   "outputs": [
    {
     "data": {
      "text/plain": [
       "array([[0.000989, 0.000748, 0.00028 ],\n",
       "       [0.000789, 0.000103, 0.000448],\n",
       "       [0.000909, 0.000294, 0.000288],\n",
       "       [0.00013 , 0.000019, 0.000679],\n",
       "       [0.000212, 0.000266, 0.000492]])"
      ]
     },
     "execution_count": 241,
     "metadata": {},
     "output_type": "execute_result"
    }
   ],
   "source": [
    "np.set_printoptions(suppress=True, precision=6)\n",
    "rand_arr"
   ]
  },
  {
   "cell_type": "code",
   "execution_count": 242,
   "id": "7a85a105",
   "metadata": {},
   "outputs": [
    {
     "data": {
      "text/plain": [
       "array([ 0,  1,  2,  3,  4,  5,  6,  7,  8,  9, 10, 11, 12, 13, 14, 15, 16,\n",
       "       17, 18, 19, 20, 21, 22, 23, 24, 25, 26, 27, 28, 29, 30, 31, 32, 33,\n",
       "       34, 35, 36, 37, 38, 39, 40, 41, 42, 43, 44, 45, 46, 47, 48, 49, 50,\n",
       "       51, 52, 53, 54, 55, 56, 57, 58, 59, 60, 61, 62, 63, 64, 65, 66, 67,\n",
       "       68, 69, 70, 71, 72, 73, 74, 75, 76, 77, 78, 79, 80, 81, 82, 83, 84,\n",
       "       85, 86, 87, 88, 89])"
      ]
     },
     "execution_count": 242,
     "metadata": {},
     "output_type": "execute_result"
    }
   ],
   "source": [
    "arr = np.arange(90)\n",
    "arr"
   ]
  },
  {
   "cell_type": "code",
   "execution_count": 243,
   "id": "2b835b2c",
   "metadata": {},
   "outputs": [
    {
     "data": {
      "text/plain": [
       "array([ 0,  1,  2, ..., 87, 88, 89])"
      ]
     },
     "execution_count": 243,
     "metadata": {},
     "output_type": "execute_result"
    }
   ],
   "source": [
    "np.set_printoptions(threshold=10)\n",
    "arr"
   ]
  },
  {
   "cell_type": "markdown",
   "id": "e51f5169",
   "metadata": {},
   "source": [
    "## Further Reading\n",
    "\n",
    "NumPy chapter from the *Python Data Science Handbook* by Jake VanderPlas  \n",
    "https://jakevdp.github.io/PythonDataScienceHandbook/02.00-introduction-to-numpy.html  "
   ]
  },
  {
   "cell_type": "markdown",
   "id": "bc3a5132",
   "metadata": {},
   "source": [
    "### NumPy Documentation\n",
    "\n",
    "This short overview has covered many of the important things you need to know about NumPy, but it is by no means complete.  \n",
    "Take a look at the [_NumPy_ documentation](https://numpy.org/doc/stable/reference/) to learn much more about _NumPy_.\n"
   ]
  },
  {
   "cell_type": "markdown",
   "id": "23192867",
   "metadata": {},
   "source": [
    "---\n",
    "\n",
    "Lecture: AI I - Basics \n",
    "\n",
    "Excersie: [**Excersie 3.1: Numpy**](../03_data/exercises/01_numpy.ipynb)\n",
    "\n",
    "Next: [**Chapter 3.2: Pandas**](../03_data/02_pandas.ipynb)"
   ]
  }
 ],
 "metadata": {
  "kernelspec": {
   "display_name": "ai-lecture",
   "language": "python",
   "name": "python3"
  },
  "language_info": {
   "codemirror_mode": {
    "name": "ipython",
    "version": 3
   },
   "file_extension": ".py",
   "mimetype": "text/x-python",
   "name": "python",
   "nbconvert_exporter": "python",
   "pygments_lexer": "ipython3",
   "version": "3.12.11"
  }
 },
 "nbformat": 4,
 "nbformat_minor": 5
}
